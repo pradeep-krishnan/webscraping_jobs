{
 "cells": [
  {
   "cell_type": "code",
   "execution_count": 1,
   "metadata": {},
   "outputs": [
    {
     "data": {
      "text/html": [
       "<script>requirejs.config({paths: { 'plotly': ['https://cdn.plot.ly/plotly-latest.min']},});if(!window.Plotly) {{require(['plotly'],function(plotly) {window.Plotly=plotly;});}}</script>"
      ],
      "text/vnd.plotly.v1+html": [
       "<script>requirejs.config({paths: { 'plotly': ['https://cdn.plot.ly/plotly-latest.min']},});if(!window.Plotly) {{require(['plotly'],function(plotly) {window.Plotly=plotly;});}}</script>"
      ]
     },
     "metadata": {},
     "output_type": "display_data"
    }
   ],
   "source": [
    "import numpy as np\n",
    "import pandas as pd\n",
    "import os\n",
    "import re\n",
    "\n",
    "import matplotlib.pyplot as plt\n",
    "%matplotlib inline\n",
    "plt.style.use('ggplot')\n",
    "\n",
    "import seaborn as sns\n",
    "from plotly.offline import download_plotlyjs, init_notebook_mode, plot, iplot\n",
    "import plotly as py\n",
    "import plotly.graph_objs as go\n",
    "from plotly.graph_objs import *\n",
    "init_notebook_mode(connected = True)\n",
    "\n",
    "from nltk.corpus import stopwords\n",
    "from wordcloud import WordCloud\n",
    "from nltk.stem import SnowballStemmer\n",
    "from nltk import WordNetLemmatizer"
   ]
  },
  {
   "cell_type": "code",
   "execution_count": 323,
   "metadata": {
    "collapsed": true
   },
   "outputs": [],
   "source": [
    "#Get all csv files in current directory\n",
    "#get_filelist = [f for f in os.listdir(os.curdir) if f.endswith(\".csv\")]"
   ]
  },
  {
   "cell_type": "code",
   "execution_count": 324,
   "metadata": {
    "collapsed": true
   },
   "outputs": [],
   "source": [
    "#get_filelist"
   ]
  },
  {
   "cell_type": "code",
   "execution_count": 325,
   "metadata": {
    "collapsed": true
   },
   "outputs": [],
   "source": [
    "#files = get_filelist[:17]"
   ]
  },
  {
   "cell_type": "code",
   "execution_count": 326,
   "metadata": {
    "collapsed": true
   },
   "outputs": [],
   "source": [
    "#allfile_df = pd.concat([pd.read_csv(f) for f in files])"
   ]
  },
  {
   "cell_type": "code",
   "execution_count": 327,
   "metadata": {
    "collapsed": true
   },
   "outputs": [],
   "source": [
    "#allfile_df.shape"
   ]
  },
  {
   "cell_type": "code",
   "execution_count": 328,
   "metadata": {
    "collapsed": true
   },
   "outputs": [],
   "source": [
    "#allfile_df = allfile_df.drop_duplicates()"
   ]
  },
  {
   "cell_type": "code",
   "execution_count": 329,
   "metadata": {
    "collapsed": true
   },
   "outputs": [],
   "source": [
    "#allfile_df.to_csv('indeed_scraped_jobs.csv', index = False)"
   ]
  },
  {
   "cell_type": "code",
   "execution_count": 2,
   "metadata": {
    "collapsed": true
   },
   "outputs": [],
   "source": [
    "df = pd.read_csv('indeed_scraped_jobs.csv')"
   ]
  },
  {
   "cell_type": "code",
   "execution_count": 3,
   "metadata": {},
   "outputs": [
    {
     "data": {
      "text/plain": [
       "(25833, 14)"
      ]
     },
     "execution_count": 3,
     "metadata": {},
     "output_type": "execute_result"
    }
   ],
   "source": [
    "df.shape"
   ]
  },
  {
   "cell_type": "code",
   "execution_count": 332,
   "metadata": {},
   "outputs": [
    {
     "name": "stdout",
     "output_type": "stream",
     "text": [
      "Title \n",
      " uniques: 8634 \n",
      " ****************************************\n",
      "Location \n",
      " uniques: 1423 \n",
      " ****************************************\n",
      "Company \n",
      " uniques: 4076 \n",
      " ****************************************\n",
      "Salary \n",
      " uniques: 663 \n",
      " ****************************************\n",
      "Summary \n",
      " uniques: 11136 \n",
      " ****************************************\n",
      "Description \n",
      " uniques: 24154 \n",
      " ****************************************\n",
      "Review \n",
      " uniques: 2318 \n",
      " ****************************************\n",
      "benefit_rating \n",
      " uniques: 37 \n",
      " ****************************************\n",
      "comp_rating_overall \n",
      " uniques: 35 \n",
      " ****************************************\n",
      "culture_rating \n",
      " uniques: 39 \n",
      " ****************************************\n",
      "job_description \n",
      " uniques: 5764 \n",
      " ****************************************\n",
      "jsecurity_rating \n",
      " uniques: 41 \n",
      " ****************************************\n",
      "mgmt_rating \n",
      " uniques: 40 \n",
      " ****************************************\n",
      "wl_bal_rating \n",
      " uniques: 36 \n",
      " ****************************************\n"
     ]
    }
   ],
   "source": [
    "for c in df:\n",
    "    print(c, '\\n', 'uniques:', df[c].nunique(), '\\n', ('*'*40))"
   ]
  },
  {
   "cell_type": "code",
   "execution_count": 4,
   "metadata": {},
   "outputs": [
    {
     "data": {
      "text/plain": [
       "Title                      0\n",
       "Location               12233\n",
       "Company                    1\n",
       "Salary                 23533\n",
       "Summary                    1\n",
       "Description                0\n",
       "Review                  7112\n",
       "benefit_rating          7073\n",
       "comp_rating_overall     7000\n",
       "culture_rating          7074\n",
       "job_description          110\n",
       "jsecurity_rating        7074\n",
       "mgmt_rating             7073\n",
       "wl_bal_rating           7073\n",
       "dtype: int64"
      ]
     },
     "execution_count": 4,
     "metadata": {},
     "output_type": "execute_result"
    }
   ],
   "source": [
    "#Setting all 'None' strings to None obejct type\n",
    "df.replace('None', np.nan, inplace = True)\n",
    "np.sum(df.isnull())"
   ]
  },
  {
   "cell_type": "code",
   "execution_count": 5,
   "metadata": {
    "collapsed": true
   },
   "outputs": [],
   "source": [
    "#Removing rows where location is missing\n",
    "#Removing rows where job description is missing\n",
    "#Removing summary column as it is a summary of job description\n",
    "#Removing Description link column and Review link column as both contain links\n",
    "#Leaving the rest of the columns for now\n",
    "df = df.loc[df['Location'].notnull(), :]\n",
    "df = df.loc[df['job_description'].notnull(), :]\n",
    "df = df.drop(['Summary','Description','Review'] , axis = 1)"
   ]
  },
  {
   "cell_type": "code",
   "execution_count": 6,
   "metadata": {},
   "outputs": [
    {
     "data": {
      "text/plain": [
       "Title                      0\n",
       "Location                   0\n",
       "Company                    0\n",
       "Salary                 12458\n",
       "benefit_rating          3115\n",
       "comp_rating_overall     3042\n",
       "culture_rating          3116\n",
       "job_description            0\n",
       "jsecurity_rating        3116\n",
       "mgmt_rating             3115\n",
       "wl_bal_rating           3115\n",
       "dtype: int64"
      ]
     },
     "execution_count": 6,
     "metadata": {},
     "output_type": "execute_result"
    }
   ],
   "source": [
    "#finding empty values \n",
    "np.sum(df.isnull())"
   ]
  },
  {
   "cell_type": "code",
   "execution_count": 7,
   "metadata": {
    "collapsed": true,
    "scrolled": false
   },
   "outputs": [],
   "source": [
    "df.reset_index(drop = True, inplace = True)"
   ]
  },
  {
   "cell_type": "code",
   "execution_count": 8,
   "metadata": {},
   "outputs": [
    {
     "data": {
      "text/html": [
       "<div>\n",
       "<style scoped>\n",
       "    .dataframe tbody tr th:only-of-type {\n",
       "        vertical-align: middle;\n",
       "    }\n",
       "\n",
       "    .dataframe tbody tr th {\n",
       "        vertical-align: top;\n",
       "    }\n",
       "\n",
       "    .dataframe thead th {\n",
       "        text-align: right;\n",
       "    }\n",
       "</style>\n",
       "<table border=\"1\" class=\"dataframe\">\n",
       "  <thead>\n",
       "    <tr style=\"text-align: right;\">\n",
       "      <th></th>\n",
       "      <th>Title</th>\n",
       "      <th>Location</th>\n",
       "      <th>Company</th>\n",
       "      <th>Salary</th>\n",
       "      <th>benefit_rating</th>\n",
       "      <th>comp_rating_overall</th>\n",
       "      <th>culture_rating</th>\n",
       "      <th>job_description</th>\n",
       "      <th>jsecurity_rating</th>\n",
       "      <th>mgmt_rating</th>\n",
       "      <th>wl_bal_rating</th>\n",
       "    </tr>\n",
       "  </thead>\n",
       "  <tbody>\n",
       "    <tr>\n",
       "      <th>0</th>\n",
       "      <td>Data Scientist</td>\n",
       "      <td>Tampa, FL</td>\n",
       "      <td>Hillsborough County</td>\n",
       "      <td>\\r\\r\\r\\r\\n                $67,808 - $108,514 a...</td>\n",
       "      <td>3.6</td>\n",
       "      <td>3.8</td>\n",
       "      <td>3.7</td>\n",
       "      <td>Hillsborough County is looking for a Data Scie...</td>\n",
       "      <td>3.6</td>\n",
       "      <td>3.5</td>\n",
       "      <td>3.8</td>\n",
       "    </tr>\n",
       "    <tr>\n",
       "      <th>1</th>\n",
       "      <td>Data Scientist</td>\n",
       "      <td>Tampa, FL</td>\n",
       "      <td>Net2Source</td>\n",
       "      <td>NaN</td>\n",
       "      <td>3.5</td>\n",
       "      <td>3.6</td>\n",
       "      <td>4.2</td>\n",
       "      <td>Job SummaryPosition: Data ScientistLocation: T...</td>\n",
       "      <td>4.0</td>\n",
       "      <td>3.7</td>\n",
       "      <td>3.8</td>\n",
       "    </tr>\n",
       "    <tr>\n",
       "      <th>2</th>\n",
       "      <td>Data Scientist</td>\n",
       "      <td>Tampa, FL</td>\n",
       "      <td>Hillsborough County, FL</td>\n",
       "      <td>\\r\\r\\r\\r\\n                $67,808 - $108,514 a...</td>\n",
       "      <td>3.6</td>\n",
       "      <td>3.8</td>\n",
       "      <td>3.7</td>\n",
       "      <td>Desired: Machine LearningRSQLT-SQLPL/SQLMATLAB...</td>\n",
       "      <td>3.6</td>\n",
       "      <td>3.5</td>\n",
       "      <td>3.8</td>\n",
       "    </tr>\n",
       "  </tbody>\n",
       "</table>\n",
       "</div>"
      ],
      "text/plain": [
       "            Title   Location                          Company  \\\n",
       "0  Data Scientist  Tampa, FL              Hillsborough County   \n",
       "1  Data Scientist  Tampa, FL                       Net2Source   \n",
       "2  Data Scientist  Tampa, FL          Hillsborough County, FL   \n",
       "\n",
       "                                              Salary benefit_rating  \\\n",
       "0  \\r\\r\\r\\r\\n                $67,808 - $108,514 a...            3.6   \n",
       "1                                                NaN            3.5   \n",
       "2  \\r\\r\\r\\r\\n                $67,808 - $108,514 a...            3.6   \n",
       "\n",
       "   comp_rating_overall culture_rating  \\\n",
       "0                  3.8            3.7   \n",
       "1                  3.6            4.2   \n",
       "2                  3.8            3.7   \n",
       "\n",
       "                                     job_description jsecurity_rating  \\\n",
       "0  Hillsborough County is looking for a Data Scie...              3.6   \n",
       "1  Job SummaryPosition: Data ScientistLocation: T...              4.0   \n",
       "2  Desired: Machine LearningRSQLT-SQLPL/SQLMATLAB...              3.6   \n",
       "\n",
       "  mgmt_rating wl_bal_rating  \n",
       "0         3.5           3.8  \n",
       "1         3.7           3.8  \n",
       "2         3.5           3.8  "
      ]
     },
     "execution_count": 8,
     "metadata": {},
     "output_type": "execute_result"
    }
   ],
   "source": [
    "df.head(3)"
   ]
  },
  {
   "cell_type": "code",
   "execution_count": 9,
   "metadata": {},
   "outputs": [
    {
     "data": {
      "text/html": [
       "<div>\n",
       "<style scoped>\n",
       "    .dataframe tbody tr th:only-of-type {\n",
       "        vertical-align: middle;\n",
       "    }\n",
       "\n",
       "    .dataframe tbody tr th {\n",
       "        vertical-align: top;\n",
       "    }\n",
       "\n",
       "    .dataframe thead th {\n",
       "        text-align: right;\n",
       "    }\n",
       "</style>\n",
       "<table border=\"1\" class=\"dataframe\">\n",
       "  <thead>\n",
       "    <tr style=\"text-align: right;\">\n",
       "      <th></th>\n",
       "      <th>Title</th>\n",
       "      <th>Location</th>\n",
       "      <th>Company</th>\n",
       "      <th>Salary</th>\n",
       "      <th>benefit_rating</th>\n",
       "      <th>comp_rating_overall</th>\n",
       "      <th>culture_rating</th>\n",
       "      <th>job_description</th>\n",
       "      <th>jsecurity_rating</th>\n",
       "      <th>mgmt_rating</th>\n",
       "      <th>wl_bal_rating</th>\n",
       "    </tr>\n",
       "  </thead>\n",
       "  <tbody>\n",
       "    <tr>\n",
       "      <th>13575</th>\n",
       "      <td>Lab Assistant / Phlebotomist</td>\n",
       "      <td>Berkeley, CA</td>\n",
       "      <td>University of California Berkeley</td>\n",
       "      <td>\\r\\r\\r\\n                $22.62 - $25.98 an hour</td>\n",
       "      <td>3.8</td>\n",
       "      <td>4.2</td>\n",
       "      <td>4.1</td>\n",
       "      <td>About Berkeley   The University of California,...</td>\n",
       "      <td>3.6</td>\n",
       "      <td>3.8</td>\n",
       "      <td>4.0</td>\n",
       "    </tr>\n",
       "    <tr>\n",
       "      <th>13576</th>\n",
       "      <td>Senior Data Scientist</td>\n",
       "      <td>San Francisco, CA</td>\n",
       "      <td>Sano</td>\n",
       "      <td>NaN</td>\n",
       "      <td>NaN</td>\n",
       "      <td>NaN</td>\n",
       "      <td>NaN</td>\n",
       "      <td>Sano is developing a novel sensor for continuo...</td>\n",
       "      <td>NaN</td>\n",
       "      <td>NaN</td>\n",
       "      <td>NaN</td>\n",
       "    </tr>\n",
       "    <tr>\n",
       "      <th>13577</th>\n",
       "      <td>Scientist, Toxicology</td>\n",
       "      <td>San Francisco, CA</td>\n",
       "      <td>Nektar</td>\n",
       "      <td>NaN</td>\n",
       "      <td>2.7</td>\n",
       "      <td>3.0</td>\n",
       "      <td>3.3</td>\n",
       "      <td>Participates in the design, implemention and a...</td>\n",
       "      <td>2.7</td>\n",
       "      <td>3.0</td>\n",
       "      <td>3.3</td>\n",
       "    </tr>\n",
       "  </tbody>\n",
       "</table>\n",
       "</div>"
      ],
      "text/plain": [
       "                              Title           Location  \\\n",
       "13575  Lab Assistant / Phlebotomist       Berkeley, CA   \n",
       "13576         Senior Data Scientist  San Francisco, CA   \n",
       "13577         Scientist, Toxicology  San Francisco, CA   \n",
       "\n",
       "                                         Company  \\\n",
       "13575          University of California Berkeley   \n",
       "13576                                       Sano   \n",
       "13577                                     Nektar   \n",
       "\n",
       "                                                Salary benefit_rating  \\\n",
       "13575  \\r\\r\\r\\n                $22.62 - $25.98 an hour            3.8   \n",
       "13576                                              NaN            NaN   \n",
       "13577                                              NaN            2.7   \n",
       "\n",
       "       comp_rating_overall culture_rating  \\\n",
       "13575                  4.2            4.1   \n",
       "13576                  NaN            NaN   \n",
       "13577                  3.0            3.3   \n",
       "\n",
       "                                         job_description jsecurity_rating  \\\n",
       "13575  About Berkeley   The University of California,...              3.6   \n",
       "13576  Sano is developing a novel sensor for continuo...              NaN   \n",
       "13577  Participates in the design, implemention and a...              2.7   \n",
       "\n",
       "      mgmt_rating wl_bal_rating  \n",
       "13575         3.8           4.0  \n",
       "13576         NaN           NaN  \n",
       "13577         3.0           3.3  "
      ]
     },
     "execution_count": 9,
     "metadata": {},
     "output_type": "execute_result"
    }
   ],
   "source": [
    "df.tail(3)"
   ]
  },
  {
   "cell_type": "code",
   "execution_count": 10,
   "metadata": {},
   "outputs": [
    {
     "data": {
      "text/plain": [
       "(13578, 11)"
      ]
     },
     "execution_count": 10,
     "metadata": {},
     "output_type": "execute_result"
    }
   ],
   "source": [
    "df.shape"
   ]
  },
  {
   "cell_type": "code",
   "execution_count": 11,
   "metadata": {
    "collapsed": true
   },
   "outputs": [],
   "source": [
    "df1 = df.copy()\n",
    "df2 = df.copy()"
   ]
  },
  {
   "cell_type": "code",
   "execution_count": 12,
   "metadata": {},
   "outputs": [
    {
     "name": "stdout",
     "output_type": "stream",
     "text": [
      "Number of unique locations:1423\n"
     ]
    }
   ],
   "source": [
    "print(\"Number of unique locations:{}\".format(df1['Location'].nunique()))\n",
    "#replacing location by one of the 30 locations queried"
   ]
  },
  {
   "cell_type": "code",
   "execution_count": 13,
   "metadata": {},
   "outputs": [
    {
     "data": {
      "text/html": [
       "<div>\n",
       "<style scoped>\n",
       "    .dataframe tbody tr th:only-of-type {\n",
       "        vertical-align: middle;\n",
       "    }\n",
       "\n",
       "    .dataframe tbody tr th {\n",
       "        vertical-align: top;\n",
       "    }\n",
       "\n",
       "    .dataframe thead th {\n",
       "        text-align: right;\n",
       "    }\n",
       "</style>\n",
       "<table border=\"1\" class=\"dataframe\">\n",
       "  <thead>\n",
       "    <tr style=\"text-align: right;\">\n",
       "      <th></th>\n",
       "      <th>Title</th>\n",
       "      <th>Location</th>\n",
       "      <th>Company</th>\n",
       "      <th>Salary</th>\n",
       "      <th>benefit_rating</th>\n",
       "      <th>comp_rating_overall</th>\n",
       "      <th>culture_rating</th>\n",
       "      <th>job_description</th>\n",
       "      <th>jsecurity_rating</th>\n",
       "      <th>mgmt_rating</th>\n",
       "      <th>wl_bal_rating</th>\n",
       "    </tr>\n",
       "  </thead>\n",
       "  <tbody>\n",
       "    <tr>\n",
       "      <th>0</th>\n",
       "      <td>Data Scientist</td>\n",
       "      <td>Tampa, FL</td>\n",
       "      <td>Hillsborough County</td>\n",
       "      <td>\\r\\r\\r\\r\\n                $67,808 - $108,514 a...</td>\n",
       "      <td>3.6</td>\n",
       "      <td>3.8</td>\n",
       "      <td>3.7</td>\n",
       "      <td>Hillsborough County is looking for a Data Scie...</td>\n",
       "      <td>3.6</td>\n",
       "      <td>3.5</td>\n",
       "      <td>3.8</td>\n",
       "    </tr>\n",
       "    <tr>\n",
       "      <th>1</th>\n",
       "      <td>Data Scientist</td>\n",
       "      <td>Tampa, FL</td>\n",
       "      <td>Net2Source</td>\n",
       "      <td>NaN</td>\n",
       "      <td>3.5</td>\n",
       "      <td>3.6</td>\n",
       "      <td>4.2</td>\n",
       "      <td>Job SummaryPosition: Data ScientistLocation: T...</td>\n",
       "      <td>4.0</td>\n",
       "      <td>3.7</td>\n",
       "      <td>3.8</td>\n",
       "    </tr>\n",
       "    <tr>\n",
       "      <th>2</th>\n",
       "      <td>Data Scientist</td>\n",
       "      <td>Tampa, FL</td>\n",
       "      <td>Hillsborough County, FL</td>\n",
       "      <td>\\r\\r\\r\\r\\n                $67,808 - $108,514 a...</td>\n",
       "      <td>3.6</td>\n",
       "      <td>3.8</td>\n",
       "      <td>3.7</td>\n",
       "      <td>Desired: Machine LearningRSQLT-SQLPL/SQLMATLAB...</td>\n",
       "      <td>3.6</td>\n",
       "      <td>3.5</td>\n",
       "      <td>3.8</td>\n",
       "    </tr>\n",
       "  </tbody>\n",
       "</table>\n",
       "</div>"
      ],
      "text/plain": [
       "            Title   Location                          Company  \\\n",
       "0  Data Scientist  Tampa, FL              Hillsborough County   \n",
       "1  Data Scientist  Tampa, FL                       Net2Source   \n",
       "2  Data Scientist  Tampa, FL          Hillsborough County, FL   \n",
       "\n",
       "                                              Salary benefit_rating  \\\n",
       "0  \\r\\r\\r\\r\\n                $67,808 - $108,514 a...            3.6   \n",
       "1                                                NaN            3.5   \n",
       "2  \\r\\r\\r\\r\\n                $67,808 - $108,514 a...            3.6   \n",
       "\n",
       "   comp_rating_overall culture_rating  \\\n",
       "0                  3.8            3.7   \n",
       "1                  3.6            4.2   \n",
       "2                  3.8            3.7   \n",
       "\n",
       "                                     job_description jsecurity_rating  \\\n",
       "0  Hillsborough County is looking for a Data Scie...              3.6   \n",
       "1  Job SummaryPosition: Data ScientistLocation: T...              4.0   \n",
       "2  Desired: Machine LearningRSQLT-SQLPL/SQLMATLAB...              3.6   \n",
       "\n",
       "  mgmt_rating wl_bal_rating  \n",
       "0         3.5           3.8  \n",
       "1         3.7           3.8  \n",
       "2         3.5           3.8  "
      ]
     },
     "execution_count": 13,
     "metadata": {},
     "output_type": "execute_result"
    }
   ],
   "source": [
    "df1.head(3)"
   ]
  },
  {
   "cell_type": "markdown",
   "metadata": {},
   "source": [
    "# Checkpoint 1"
   ]
  },
  {
   "cell_type": "code",
   "execution_count": 14,
   "metadata": {
    "collapsed": true
   },
   "outputs": [],
   "source": [
    "df1.to_csv('checkpoint1.csv', index = False)"
   ]
  },
  {
   "cell_type": "code",
   "execution_count": 15,
   "metadata": {
    "collapsed": true
   },
   "outputs": [],
   "source": [
    "df2 = pd.read_csv('checkpoint1.csv')"
   ]
  },
  {
   "cell_type": "code",
   "execution_count": 16,
   "metadata": {
    "collapsed": true
   },
   "outputs": [],
   "source": [
    "def get_city_state(df,col):\n",
    "    df = df.join(df[col].str.split(',', 1, expand=True).rename(columns={0:'City', 1:'State'}))\n",
    "    df['City'] = df['City'].astype(str)\n",
    "    df['State'] = df['State'].astype(str)\n",
    "    df['State'] = [x[0:3] for x in df['State'] if x != None]\n",
    "    df.drop(['Location'], axis = 1, inplace = True)\n",
    "    return df"
   ]
  },
  {
   "cell_type": "code",
   "execution_count": 17,
   "metadata": {
    "collapsed": true
   },
   "outputs": [],
   "source": [
    "df2 = get_city_state(df2, 'Location')"
   ]
  },
  {
   "cell_type": "code",
   "execution_count": 18,
   "metadata": {},
   "outputs": [
    {
     "data": {
      "text/html": [
       "<div>\n",
       "<style scoped>\n",
       "    .dataframe tbody tr th:only-of-type {\n",
       "        vertical-align: middle;\n",
       "    }\n",
       "\n",
       "    .dataframe tbody tr th {\n",
       "        vertical-align: top;\n",
       "    }\n",
       "\n",
       "    .dataframe thead th {\n",
       "        text-align: right;\n",
       "    }\n",
       "</style>\n",
       "<table border=\"1\" class=\"dataframe\">\n",
       "  <thead>\n",
       "    <tr style=\"text-align: right;\">\n",
       "      <th></th>\n",
       "      <th>Title</th>\n",
       "      <th>Company</th>\n",
       "      <th>Salary</th>\n",
       "      <th>benefit_rating</th>\n",
       "      <th>comp_rating_overall</th>\n",
       "      <th>culture_rating</th>\n",
       "      <th>job_description</th>\n",
       "      <th>jsecurity_rating</th>\n",
       "      <th>mgmt_rating</th>\n",
       "      <th>wl_bal_rating</th>\n",
       "      <th>City</th>\n",
       "      <th>State</th>\n",
       "    </tr>\n",
       "  </thead>\n",
       "  <tbody>\n",
       "    <tr>\n",
       "      <th>0</th>\n",
       "      <td>Data Scientist</td>\n",
       "      <td>Hillsborough County</td>\n",
       "      <td>\\r\\r\\r\\r\\r\\n                $67,808 - $108,514...</td>\n",
       "      <td>3.6</td>\n",
       "      <td>3.8</td>\n",
       "      <td>3.7</td>\n",
       "      <td>Hillsborough County is looking for a Data Scie...</td>\n",
       "      <td>3.6</td>\n",
       "      <td>3.5</td>\n",
       "      <td>3.8</td>\n",
       "      <td>Tampa</td>\n",
       "      <td>FL</td>\n",
       "    </tr>\n",
       "    <tr>\n",
       "      <th>1</th>\n",
       "      <td>Data Scientist</td>\n",
       "      <td>Net2Source</td>\n",
       "      <td>NaN</td>\n",
       "      <td>3.5</td>\n",
       "      <td>3.6</td>\n",
       "      <td>4.2</td>\n",
       "      <td>Job SummaryPosition: Data ScientistLocation: T...</td>\n",
       "      <td>4.0</td>\n",
       "      <td>3.7</td>\n",
       "      <td>3.8</td>\n",
       "      <td>Tampa</td>\n",
       "      <td>FL</td>\n",
       "    </tr>\n",
       "    <tr>\n",
       "      <th>2</th>\n",
       "      <td>Data Scientist</td>\n",
       "      <td>Hillsborough County, FL</td>\n",
       "      <td>\\r\\r\\r\\r\\r\\n                $67,808 - $108,514...</td>\n",
       "      <td>3.6</td>\n",
       "      <td>3.8</td>\n",
       "      <td>3.7</td>\n",
       "      <td>Desired: Machine LearningRSQLT-SQLPL/SQLMATLAB...</td>\n",
       "      <td>3.6</td>\n",
       "      <td>3.5</td>\n",
       "      <td>3.8</td>\n",
       "      <td>Tampa</td>\n",
       "      <td>FL</td>\n",
       "    </tr>\n",
       "  </tbody>\n",
       "</table>\n",
       "</div>"
      ],
      "text/plain": [
       "            Title                          Company  \\\n",
       "0  Data Scientist              Hillsborough County   \n",
       "1  Data Scientist                       Net2Source   \n",
       "2  Data Scientist          Hillsborough County, FL   \n",
       "\n",
       "                                              Salary  benefit_rating  \\\n",
       "0  \\r\\r\\r\\r\\r\\n                $67,808 - $108,514...             3.6   \n",
       "1                                                NaN             3.5   \n",
       "2  \\r\\r\\r\\r\\r\\n                $67,808 - $108,514...             3.6   \n",
       "\n",
       "   comp_rating_overall  culture_rating  \\\n",
       "0                  3.8             3.7   \n",
       "1                  3.6             4.2   \n",
       "2                  3.8             3.7   \n",
       "\n",
       "                                     job_description  jsecurity_rating  \\\n",
       "0  Hillsborough County is looking for a Data Scie...               3.6   \n",
       "1  Job SummaryPosition: Data ScientistLocation: T...               4.0   \n",
       "2  Desired: Machine LearningRSQLT-SQLPL/SQLMATLAB...               3.6   \n",
       "\n",
       "   mgmt_rating  wl_bal_rating   City State  \n",
       "0          3.5            3.8  Tampa    FL  \n",
       "1          3.7            3.8  Tampa    FL  \n",
       "2          3.5            3.8  Tampa    FL  "
      ]
     },
     "execution_count": 18,
     "metadata": {},
     "output_type": "execute_result"
    }
   ],
   "source": [
    "df2.head(3)"
   ]
  },
  {
   "cell_type": "code",
   "execution_count": 348,
   "metadata": {
    "collapsed": true
   },
   "outputs": [],
   "source": [
    "#Including only the top 30 cities in the analysis\n",
    "city_list = list(df2['City'].value_counts().head(30).index)"
   ]
  },
  {
   "cell_type": "code",
   "execution_count": 28,
   "metadata": {},
   "outputs": [
    {
     "data": {
      "application/vnd.plotly.v1+json": {
       "data": [
        {
         "marker": {
          "color": "rgb(58,200,225)"
         },
         "type": "bar",
         "uid": "31a17800-bb61-11e8-b820-4c3488ea762f",
         "x": [
          " CA",
          " NY",
          " MA",
          " WA",
          " TX",
          " PA",
          " IL",
          " CO",
          " MD",
          " VA",
          " FL",
          " GA",
          " MO",
          " DC",
          " OH",
          " NJ",
          " MN",
          " AZ",
          " OR",
          " NC",
          " IN",
          " TN",
          " KS",
          " DE",
          " KY",
          " SC"
         ],
         "y": [
          3817,
          1428,
          972,
          887,
          857,
          668,
          636,
          596,
          585,
          455,
          360,
          346,
          332,
          265,
          208,
          205,
          197,
          169,
          163,
          140,
          133,
          59,
          40,
          32,
          7,
          2
         ]
        }
       ],
       "layout": {
        "barmode": "group",
        "height": 500,
        "paper_bgcolor": "rgba(0,0,0,0)",
        "plot_bgcolor": "rgba(0,0,0,0)",
        "title": "Job Listings in each state",
        "width": 800,
        "xaxis": {
         "tickangle": 0
        }
       }
      },
      "text/html": [
       "<div id=\"3affce39-5f14-499a-a3d3-d77cd84cf84b\" style=\"height: 500px; width: 800px;\" class=\"plotly-graph-div\"></div><script type=\"text/javascript\">require([\"plotly\"], function(Plotly) { window.PLOTLYENV=window.PLOTLYENV || {};window.PLOTLYENV.BASE_URL=\"https://plot.ly\";\n",
       "        Plotly.plot(\n",
       "            '3affce39-5f14-499a-a3d3-d77cd84cf84b',\n",
       "            [{\"marker\": {\"color\": \"rgb(58,200,225)\"}, \"x\": [\" CA\", \" NY\", \" MA\", \" WA\", \" TX\", \" PA\", \" IL\", \" CO\", \" MD\", \" VA\", \" FL\", \" GA\", \" MO\", \" DC\", \" OH\", \" NJ\", \" MN\", \" AZ\", \" OR\", \" NC\", \" IN\", \" TN\", \" KS\", \" DE\", \" KY\", \" SC\"], \"y\": [3817.0, 1428.0, 972.0, 887.0, 857.0, 668.0, 636.0, 596.0, 585.0, 455.0, 360.0, 346.0, 332.0, 265.0, 208.0, 205.0, 197.0, 169.0, 163.0, 140.0, 133.0, 59.0, 40.0, 32.0, 7.0, 2.0], \"type\": \"bar\", \"uid\": \"31a17800-bb61-11e8-b820-4c3488ea762f\"}],\n",
       "            {\"barmode\": \"group\", \"height\": 500, \"paper_bgcolor\": \"rgba(0,0,0,0)\", \"plot_bgcolor\": \"rgba(0,0,0,0)\", \"title\": \"Job Listings in each state\", \"width\": 800, \"xaxis\": {\"tickangle\": 0}},\n",
       "            {\"showLink\": true, \"linkText\": \"Export to plot.ly\"}\n",
       "        ).then(function () {return Plotly.addFrames('3affce39-5f14-499a-a3d3-d77cd84cf84b',{});}).then(function(){Plotly.animate('3affce39-5f14-499a-a3d3-d77cd84cf84b');})\n",
       "        });</script>"
      ],
      "text/vnd.plotly.v1+html": [
       "<div id=\"3affce39-5f14-499a-a3d3-d77cd84cf84b\" style=\"height: 500px; width: 800px;\" class=\"plotly-graph-div\"></div><script type=\"text/javascript\">require([\"plotly\"], function(Plotly) { window.PLOTLYENV=window.PLOTLYENV || {};window.PLOTLYENV.BASE_URL=\"https://plot.ly\";\n",
       "        Plotly.plot(\n",
       "            '3affce39-5f14-499a-a3d3-d77cd84cf84b',\n",
       "            [{\"marker\": {\"color\": \"rgb(58,200,225)\"}, \"x\": [\" CA\", \" NY\", \" MA\", \" WA\", \" TX\", \" PA\", \" IL\", \" CO\", \" MD\", \" VA\", \" FL\", \" GA\", \" MO\", \" DC\", \" OH\", \" NJ\", \" MN\", \" AZ\", \" OR\", \" NC\", \" IN\", \" TN\", \" KS\", \" DE\", \" KY\", \" SC\"], \"y\": [3817.0, 1428.0, 972.0, 887.0, 857.0, 668.0, 636.0, 596.0, 585.0, 455.0, 360.0, 346.0, 332.0, 265.0, 208.0, 205.0, 197.0, 169.0, 163.0, 140.0, 133.0, 59.0, 40.0, 32.0, 7.0, 2.0], \"type\": \"bar\", \"uid\": \"31a17800-bb61-11e8-b820-4c3488ea762f\"}],\n",
       "            {\"barmode\": \"group\", \"height\": 500, \"paper_bgcolor\": \"rgba(0,0,0,0)\", \"plot_bgcolor\": \"rgba(0,0,0,0)\", \"title\": \"Job Listings in each state\", \"width\": 800, \"xaxis\": {\"tickangle\": 0}},\n",
       "            {\"showLink\": true, \"linkText\": \"Export to plot.ly\"}\n",
       "        ).then(function () {return Plotly.addFrames('3affce39-5f14-499a-a3d3-d77cd84cf84b',{});}).then(function(){Plotly.animate('3affce39-5f14-499a-a3d3-d77cd84cf84b');})\n",
       "        });</script>"
      ]
     },
     "metadata": {},
     "output_type": "display_data"
    }
   ],
   "source": [
    "#Visualizing jobs in each state\n",
    "df_statewisejobs = pd.DataFrame(df2['State'].value_counts()).reset_index()\n",
    "df_statewisejobs.columns = ['State', 'Listings']\n",
    "df_statewisejobs = df_statewisejobs[~df_statewisejobs.State.str.contains('Non')]\n",
    "\n",
    "\n",
    "bar_layout = Layout(\n",
    "    barmode='group',\n",
    "    height=500,\n",
    "    width=800,\n",
    "    xaxis=dict(tickangle=0),\n",
    "    paper_bgcolor='rgba(0,0,0,0)',\n",
    "    plot_bgcolor='rgba(0,0,0,0)',\n",
    "    title = 'Job Listings in each state'\n",
    ")\n",
    "\n",
    "graph_data = []\n",
    "\n",
    "#py.offline.iplot(Figure(data=graph_data, layout=bar_layout), filename='Skillsets1')\n",
    "graph_data = [go.Bar(\n",
    "            x=df_statewisejobs['State'],\n",
    "            y=df_statewisejobs['Listings'],\n",
    "            marker=dict(\n",
    "        color='rgb(58,200,225)')\n",
    "    )]\n",
    "\n",
    "py.offline.iplot(Figure(data=graph_data, layout=bar_layout), filename='statewise_overalljobs-barplot')\n"
   ]
  },
  {
   "cell_type": "code",
   "execution_count": 30,
   "metadata": {},
   "outputs": [
    {
     "name": "stdout",
     "output_type": "stream",
     "text": [
      "                        City           city\n",
      "1215     South San Francisco  San Francisco\n",
      "1239               San Bruno  San Francisco\n",
      "1258                 Alameda  San Francisco\n",
      "1263              Burlingame  San Francisco\n",
      "1264  San Francisco Bay Area  San Francisco\n",
      "1280               San Ramon  San Francisco\n",
      "5629               Daly City  San Francisco\n"
     ]
    }
   ],
   "source": [
    "#Reading a csv of cities with distance around 50 miles\n",
    "city_df = pd.read_csv('city_list.csv')\n",
    "city_df = city_df.replace('Wasshington DC', 'Washington DC')\n",
    "city_df.head(5)\n",
    "#merging present datafrme with city list to assign jobs to nearest big city\n",
    "df3 = pd.merge(df2, city_df, how = 'left', left_on = 'City', right_on = 'City')\n",
    "df3 = df3.assign(city=df3.centre1.fillna(df3.City))\n",
    "#Visualizing jobs by nearest big city\n",
    "df3_citywise = pd.DataFrame(df3['city'].value_counts())\n",
    "df_bycity = df3[['City','city']] \n",
    "print(df_bycity.loc[df_bycity['City'] != df_bycity['city']].loc[df_bycity['city'] == 'San Francisco'].drop_duplicates())\n",
    "\n",
    "#All cities about 10 miles away from San Francisco assigned to San Francisco"
   ]
  },
  {
   "cell_type": "markdown",
   "metadata": {},
   "source": [
    "## Checkpoint 2"
   ]
  },
  {
   "cell_type": "code",
   "execution_count": 31,
   "metadata": {
    "collapsed": true
   },
   "outputs": [],
   "source": [
    "df3.to_csv('jobs_cleaned1.csv', index = False)"
   ]
  },
  {
   "cell_type": "code",
   "execution_count": 32,
   "metadata": {},
   "outputs": [
    {
     "name": "stdout",
     "output_type": "stream",
     "text": [
      "(13578, 14)\n"
     ]
    },
    {
     "data": {
      "text/plain": [
       "Index(['Title', 'Company', 'Salary', 'benefit_rating', 'comp_rating_overall',\n",
       "       'culture_rating', 'job_description', 'jsecurity_rating', 'mgmt_rating',\n",
       "       'wl_bal_rating', 'City', 'State', 'centre1', 'city'],\n",
       "      dtype='object')"
      ]
     },
     "execution_count": 32,
     "metadata": {},
     "output_type": "execute_result"
    }
   ],
   "source": [
    "df = pd.read_csv('jobs_cleaned1.csv')\n",
    "print(df.shape)\n",
    "df.columns"
   ]
  },
  {
   "cell_type": "code",
   "execution_count": 33,
   "metadata": {},
   "outputs": [
    {
     "data": {
      "text/html": [
       "<div>\n",
       "<style scoped>\n",
       "    .dataframe tbody tr th:only-of-type {\n",
       "        vertical-align: middle;\n",
       "    }\n",
       "\n",
       "    .dataframe tbody tr th {\n",
       "        vertical-align: top;\n",
       "    }\n",
       "\n",
       "    .dataframe thead th {\n",
       "        text-align: right;\n",
       "    }\n",
       "</style>\n",
       "<table border=\"1\" class=\"dataframe\">\n",
       "  <thead>\n",
       "    <tr style=\"text-align: right;\">\n",
       "      <th></th>\n",
       "      <th>Title</th>\n",
       "      <th>Company</th>\n",
       "      <th>Salary</th>\n",
       "      <th>benefit_rating</th>\n",
       "      <th>comp_rating_overall</th>\n",
       "      <th>culture_rating</th>\n",
       "      <th>job_description</th>\n",
       "      <th>jsecurity_rating</th>\n",
       "      <th>mgmt_rating</th>\n",
       "      <th>wl_bal_rating</th>\n",
       "      <th>City</th>\n",
       "      <th>State</th>\n",
       "      <th>centre1</th>\n",
       "      <th>city</th>\n",
       "    </tr>\n",
       "  </thead>\n",
       "  <tbody>\n",
       "    <tr>\n",
       "      <th>0</th>\n",
       "      <td>Data Scientist</td>\n",
       "      <td>Hillsborough County</td>\n",
       "      <td>\\r\\r\\r\\r\\r\\r\\n                $67,808 - $108,5...</td>\n",
       "      <td>3.6</td>\n",
       "      <td>3.8</td>\n",
       "      <td>3.7</td>\n",
       "      <td>Hillsborough County is looking for a Data Scie...</td>\n",
       "      <td>3.6</td>\n",
       "      <td>3.5</td>\n",
       "      <td>3.8</td>\n",
       "      <td>Tampa</td>\n",
       "      <td>FL</td>\n",
       "      <td>NaN</td>\n",
       "      <td>Tampa</td>\n",
       "    </tr>\n",
       "  </tbody>\n",
       "</table>\n",
       "</div>"
      ],
      "text/plain": [
       "            Title                      Company  \\\n",
       "0  Data Scientist          Hillsborough County   \n",
       "\n",
       "                                              Salary  benefit_rating  \\\n",
       "0  \\r\\r\\r\\r\\r\\r\\n                $67,808 - $108,5...             3.6   \n",
       "\n",
       "   comp_rating_overall  culture_rating  \\\n",
       "0                  3.8             3.7   \n",
       "\n",
       "                                     job_description  jsecurity_rating  \\\n",
       "0  Hillsborough County is looking for a Data Scie...               3.6   \n",
       "\n",
       "   mgmt_rating  wl_bal_rating   City State centre1   city  \n",
       "0          3.5            3.8  Tampa    FL     NaN  Tampa  "
      ]
     },
     "execution_count": 33,
     "metadata": {},
     "output_type": "execute_result"
    }
   ],
   "source": [
    "df.head(1)"
   ]
  },
  {
   "cell_type": "code",
   "execution_count": 34,
   "metadata": {
    "collapsed": true
   },
   "outputs": [],
   "source": [
    "cities = (pd.DataFrame(df['city'].value_counts().head(50).index)).rename(columns={0:'city'})"
   ]
  },
  {
   "cell_type": "code",
   "execution_count": 35,
   "metadata": {
    "collapsed": true
   },
   "outputs": [],
   "source": [
    "#Choosing only those values in top 50 cities\n",
    "df = df.loc[df['city'].isin(cities['city'])]"
   ]
  },
  {
   "cell_type": "code",
   "execution_count": 36,
   "metadata": {
    "collapsed": true
   },
   "outputs": [],
   "source": [
    "#saving results into csv\n",
    "df.to_csv('jobs_cleaned2.csv', index = False)"
   ]
  },
  {
   "cell_type": "code",
   "execution_count": 37,
   "metadata": {
    "collapsed": true
   },
   "outputs": [],
   "source": [
    "df = pd.read_csv('jobs_cleaned2.csv')"
   ]
  },
  {
   "cell_type": "code",
   "execution_count": 38,
   "metadata": {
    "collapsed": true
   },
   "outputs": [],
   "source": [
    "df.rename(columns={'Title':'title', 'Company':'company', 'job_description':'description','Salary':'salary',\\\n",
    "                  'wl_bal_rating' : 'worklife_rating', 'comp_rating_overall':'benefit_rating',\\\n",
    "                  'jsecurity_rating': 'jobsecurity_rating', 'mgmt_rating': 'mgmt_rating', \\\n",
    "                   'culture_rating': 'culture_rating', 'comp_rating_overall':'overall_rating'}, inplace = True)"
   ]
  },
  {
   "cell_type": "code",
   "execution_count": 39,
   "metadata": {
    "collapsed": true
   },
   "outputs": [],
   "source": [
    "df.drop(['City', 'State', 'centre1'], axis = 1, inplace = True)"
   ]
  },
  {
   "cell_type": "code",
   "execution_count": 40,
   "metadata": {
    "collapsed": true
   },
   "outputs": [],
   "source": [
    "#replace all empty spaces by one empty space\n",
    "df['description'] = df['description'].apply(lambda x: re.sub('\\s+', ' ', x))"
   ]
  },
  {
   "cell_type": "code",
   "execution_count": 41,
   "metadata": {},
   "outputs": [
    {
     "name": "stderr",
     "output_type": "stream",
     "text": [
      "C:\\Anaconda\\Anaconda3\\lib\\site-packages\\ipykernel_launcher.py:26: UserWarning:\n",
      "\n",
      "This pattern has match groups. To actually get the groups, use str.extract.\n",
      "\n"
     ]
    },
    {
     "name": "stdout",
     "output_type": "stream",
     "text": [
      "Category : Languages\n",
      "            True\n",
      "Python      4851\n",
      "R           4096\n",
      "SQL         3452\n",
      "Java        2507\n",
      "C           1999\n",
      "Scala       1990\n",
      "Javascript   829\n",
      "Perl         700\n",
      "HTML         549\n",
      "CSS          398\n",
      "Bash         209\n",
      "Ruby         188\n",
      "VBA          108\n",
      "\n",
      "\n",
      "Category : Packages\n",
      "              True\n",
      "Scikit Learn   488\n",
      "Pandas         351\n",
      "Numpy          254\n",
      "Scipy          136\n",
      "Matplotlib      92\n",
      "ggplot          71\n",
      "NLTK            65\n",
      "Plotly          40\n",
      "Seaborn         31\n",
      "dplyr           16\n",
      "Bokeh           15\n",
      "\n",
      "\n",
      "Category : Databases\n",
      "            True\n",
      "Oracle       532\n",
      "MySQL        349\n",
      "SQL Server   321\n",
      "Cassandra    245\n",
      "MongoDB      210\n",
      "PostgreSQL   187\n",
      "\n",
      "\n",
      "Category : Softwares\n",
      "            True\n",
      "BI          2264\n",
      "Excel       1881\n",
      "SAS         1393\n",
      "Matlab      1026\n",
      "Tableau      893\n",
      "TensorFlow   776\n",
      "Stata        233\n",
      "H2O          102\n",
      "\n",
      "\n",
      "Category : OS\n",
      "         True\n",
      "mac      5888\n",
      "Linux    1031\n",
      "windows   568\n",
      "\n",
      "\n",
      "Category : Bigdata\n",
      "        True\n",
      "AWS     2236\n",
      "Spark   1709\n",
      "Hadoop  1677\n",
      "Hive     995\n",
      "Pig      420\n",
      "\n",
      "\n",
      "Category : Skills\n",
      "                      True\n",
      "AI                   11917\n",
      "Machine Learning      4714\n",
      "Data Visualization    1963\n",
      "Deep Learning          924\n",
      "Predictive Modeling    923\n",
      "NLP                    825\n",
      "Clustering             663\n",
      "Decision Tree          568\n",
      "Neural Network         486\n",
      "Random Forest          281\n",
      "Web Scraping            90\n",
      "\n",
      "\n"
     ]
    }
   ],
   "source": [
    "#Searching for skillsets in job descriptions\n",
    "Languages={'R':'(?<=[\\W])R(?=[\\W])', 'Python':'python', 'Java': 'java', 'Ruby':'ruby','Bash':'bash',\\\n",
    "              'VBA':'vba', 'CSS':'css', 'Javascript':\"JAVA-?\\s?SCRIPT\", 'Scala': 'scala','C':'(?<=[\\W])C(?=[\\W])',\\\n",
    "             'HTML':'html', 'Perl':'perl', 'SQL':'sql'}\n",
    "\n",
    "Packages = {'Pandas':'pandas', 'Numpy': 'numpy', 'Scipy':'scipy', 'Scikit Learn':'[Ss]cikit|[Ss]klearn', \\\n",
    "            'Matplotlib':'matplotlib','Seaborn':'seaborn','Plotly':'plotly','Bokeh':'bokeh','NLTK': 'nltk', \\\n",
    "            'ggplot':'ggplot', 'dplyr': 'dplyr'}\n",
    "\n",
    "Databases={ 'Oracle':'oracle', 'MongoDB':'mongodb', 'MySQL':'mysql', 'PostgreSQL':'postgresql', \\\n",
    "             'SQL Server':'sql server', 'Cassandra':'cassandra'}\n",
    "\n",
    "\n",
    "Bigdata={'Hadoop': '[Hh]adoop', 'Spark':'[Ss]park', 'AWS':'AWS|[Aa]mazon [Ww]eb [Ss]ervice', 'Hive':'[Hh]ive',\\\n",
    "                    'Pig':'[Pp]ig'}\n",
    "\n",
    "Softwares={'SAS':'SAS','Matlab':'matlab', 'Tableau':'tableau','TensorFlow':'tensor( ?)flow',\\\n",
    "                          'Excel':'(?<=[\\W])Excel(?=[\\W])','Stata': 'stata','H2O':'h2o', \\\n",
    "           'BI':'BI|[Bb]usiness [Ii]ntelligence'}\n",
    "\n",
    "OS={'Linux': 'linux','windows':'windows', 'mac':'mac'}\n",
    "\n",
    "\n",
    "Skills = {'Machine Learning':'ML|[Mm]achine [lL]earning', 'Data Visualization':'[Vv]isualization',\\\n",
    "            'Deep Learning':'[Dd]eep [Ll]earning','AI':'AI|[Aa]rtificial [Ii]nteligence',\\\n",
    "            'Neural Network':'[Nn]eural ?[Nn]et','NLP':'[Nn]atural [Ll]anguage [Pp]rocessing|NLP',\\\n",
    "            'Predictive Modeling':'[Pp]redictive [Mm]odel', 'Web Scraping':'([Ww]eb)?[Ss]crap',\\\n",
    "            'Decision Tree':'[Tt]ree', 'Random Forest':'[F]orest','Clustering':'[[Cc]luster'}\n",
    "\n",
    "tool_casesensitive=['R','SAS', 'C', 'SPSS', 'BI', 'C/C++','Data Visualization','Web Scraping']\n",
    "\n",
    "combined_skillsets = {'Languages':Languages, 'Packages': Packages, 'Databases': Databases, 'Softwares':Softwares,\\\n",
    "                'OS':OS, 'Bigdata':Bigdata, 'Skills':Skills }\n",
    "\n",
    "skillset_df={}\n",
    "\n",
    "for element, skill_dict in combined_skillsets.items():\n",
    "    for skill in skill_dict:\n",
    "        df[skill]= df.description.str.contains(skill_dict[skill], case = (skill in tool_casesensitive or skill=='Skills'))\n",
    "    skillset_df[element] = (pd.DataFrame(df.loc[:,skill_dict.keys()].apply(pd.value_counts).\\\n",
    "                                           loc[True].sort_values(ascending=False)))\n",
    "\n",
    "    \n",
    "for c in combined_skillsets.keys():\n",
    "    print('Category',\":\",c)\n",
    "    print(pd.DataFrame(skillset_df[c]))\n",
    "    print('\\n')"
   ]
  },
  {
   "cell_type": "code",
   "execution_count": 42,
   "metadata": {},
   "outputs": [
    {
     "data": {
      "application/vnd.plotly.v1+json": {
       "data": [
        {
         "name": "Languages",
         "type": "bar",
         "uid": "6b925492-bb62-11e8-be77-4c3488ea762f",
         "x": [
          "Python",
          "R",
          "SQL",
          "Java",
          "C",
          "Scala",
          "Javascript",
          "Perl",
          "HTML",
          "CSS",
          "Bash",
          "Ruby",
          "VBA"
         ],
         "y": [
          4851,
          4096,
          3452,
          2507,
          1999,
          1990,
          829,
          700,
          549,
          398,
          209,
          188,
          108
         ]
        },
        {
         "name": "Bigdata",
         "type": "bar",
         "uid": "6b925493-bb62-11e8-8cc8-4c3488ea762f",
         "x": [
          "AWS",
          "Spark",
          "Hadoop",
          "Hive",
          "Pig"
         ],
         "y": [
          2236,
          1709,
          1677,
          995,
          420
         ]
        },
        {
         "name": "OS",
         "type": "bar",
         "uid": "6b925494-bb62-11e8-97b3-4c3488ea762f",
         "x": [
          "mac",
          "Linux",
          "windows"
         ],
         "y": [
          5888,
          1031,
          568
         ]
        }
       ],
       "layout": {
        "barmode": "group",
        "height": 500,
        "legend": {
         "x": 1
        },
        "paper_bgcolor": "rgba(0,0,0,0)",
        "plot_bgcolor": "rgba(0,0,0,0)",
        "width": 700,
        "xaxis": {
         "tickangle": -45
        }
       }
      },
      "text/html": [
       "<div id=\"de28c0fc-8902-4e6b-91e5-8eacb8737ed0\" style=\"height: 500px; width: 700px;\" class=\"plotly-graph-div\"></div><script type=\"text/javascript\">require([\"plotly\"], function(Plotly) { window.PLOTLYENV=window.PLOTLYENV || {};window.PLOTLYENV.BASE_URL=\"https://plot.ly\";\n",
       "        Plotly.plot(\n",
       "            'de28c0fc-8902-4e6b-91e5-8eacb8737ed0',\n",
       "            [{\"name\": \"Languages\", \"x\": [\"Python\", \"R\", \"SQL\", \"Java\", \"C\", \"Scala\", \"Javascript\", \"Perl\", \"HTML\", \"CSS\", \"Bash\", \"Ruby\", \"VBA\"], \"y\": [4851, 4096, 3452, 2507, 1999, 1990, 829, 700, 549, 398, 209, 188, 108], \"type\": \"bar\", \"uid\": \"6b925492-bb62-11e8-be77-4c3488ea762f\"}, {\"name\": \"Bigdata\", \"x\": [\"AWS\", \"Spark\", \"Hadoop\", \"Hive\", \"Pig\"], \"y\": [2236, 1709, 1677, 995, 420], \"type\": \"bar\", \"uid\": \"6b925493-bb62-11e8-8cc8-4c3488ea762f\"}, {\"name\": \"OS\", \"x\": [\"mac\", \"Linux\", \"windows\"], \"y\": [5888, 1031, 568], \"type\": \"bar\", \"uid\": \"6b925494-bb62-11e8-97b3-4c3488ea762f\"}],\n",
       "            {\"barmode\": \"group\", \"height\": 500, \"legend\": {\"x\": 1}, \"paper_bgcolor\": \"rgba(0,0,0,0)\", \"plot_bgcolor\": \"rgba(0,0,0,0)\", \"width\": 700, \"xaxis\": {\"tickangle\": -45}},\n",
       "            {\"showLink\": true, \"linkText\": \"Export to plot.ly\"}\n",
       "        ).then(function () {return Plotly.addFrames('de28c0fc-8902-4e6b-91e5-8eacb8737ed0',{});}).then(function(){Plotly.animate('de28c0fc-8902-4e6b-91e5-8eacb8737ed0');})\n",
       "        });</script>"
      ],
      "text/vnd.plotly.v1+html": [
       "<div id=\"de28c0fc-8902-4e6b-91e5-8eacb8737ed0\" style=\"height: 500px; width: 700px;\" class=\"plotly-graph-div\"></div><script type=\"text/javascript\">require([\"plotly\"], function(Plotly) { window.PLOTLYENV=window.PLOTLYENV || {};window.PLOTLYENV.BASE_URL=\"https://plot.ly\";\n",
       "        Plotly.plot(\n",
       "            'de28c0fc-8902-4e6b-91e5-8eacb8737ed0',\n",
       "            [{\"name\": \"Languages\", \"x\": [\"Python\", \"R\", \"SQL\", \"Java\", \"C\", \"Scala\", \"Javascript\", \"Perl\", \"HTML\", \"CSS\", \"Bash\", \"Ruby\", \"VBA\"], \"y\": [4851, 4096, 3452, 2507, 1999, 1990, 829, 700, 549, 398, 209, 188, 108], \"type\": \"bar\", \"uid\": \"6b925492-bb62-11e8-be77-4c3488ea762f\"}, {\"name\": \"Bigdata\", \"x\": [\"AWS\", \"Spark\", \"Hadoop\", \"Hive\", \"Pig\"], \"y\": [2236, 1709, 1677, 995, 420], \"type\": \"bar\", \"uid\": \"6b925493-bb62-11e8-8cc8-4c3488ea762f\"}, {\"name\": \"OS\", \"x\": [\"mac\", \"Linux\", \"windows\"], \"y\": [5888, 1031, 568], \"type\": \"bar\", \"uid\": \"6b925494-bb62-11e8-97b3-4c3488ea762f\"}],\n",
       "            {\"barmode\": \"group\", \"height\": 500, \"legend\": {\"x\": 1}, \"paper_bgcolor\": \"rgba(0,0,0,0)\", \"plot_bgcolor\": \"rgba(0,0,0,0)\", \"width\": 700, \"xaxis\": {\"tickangle\": -45}},\n",
       "            {\"showLink\": true, \"linkText\": \"Export to plot.ly\"}\n",
       "        ).then(function () {return Plotly.addFrames('de28c0fc-8902-4e6b-91e5-8eacb8737ed0',{});}).then(function(){Plotly.animate('de28c0fc-8902-4e6b-91e5-8eacb8737ed0');})\n",
       "        });</script>"
      ]
     },
     "metadata": {},
     "output_type": "display_data"
    }
   ],
   "source": [
    "layout = Layout(\n",
    "    paper_bgcolor='rgba(0,0,0,0)',\n",
    "    plot_bgcolor='rgba(0,0,0,0)'\n",
    ")\n",
    "\n",
    "bar_layout = Layout(\n",
    "    barmode='group',\n",
    "    height=500,\n",
    "    width=700,\n",
    "    xaxis=dict(tickangle=-45),\n",
    "    paper_bgcolor='rgba(0,0,0,0)',\n",
    "    plot_bgcolor='rgba(0,0,0,0)',\n",
    "    legend=dict(x=1)\n",
    ")\n",
    "\n",
    "graph_data = []\n",
    "\n",
    "skills1 = {'Languages':Languages, 'Bigdata': Bigdata, 'OS':OS }\n",
    "\n",
    "for a, skill_dict in skills1.items():\n",
    "    graph_data.append(go.Bar(\n",
    "        x = list(skillset_df[a].index),\n",
    "        y = list(skillset_df[a][1]),\n",
    "        name = a))\n",
    "\n",
    "py.offline.iplot(Figure(data=graph_data, layout=bar_layout), filename='Skillsets1')"
   ]
  },
  {
   "cell_type": "code",
   "execution_count": 43,
   "metadata": {},
   "outputs": [
    {
     "data": {
      "application/vnd.plotly.v1+json": {
       "data": [
        {
         "name": "Skills",
         "type": "bar",
         "uid": "6d873236-bb62-11e8-bca3-4c3488ea762f",
         "x": [
          "AI",
          "Machine Learning",
          "Data Visualization",
          "Deep Learning",
          "Predictive Modeling",
          "NLP",
          "Clustering",
          "Decision Tree",
          "Neural Network",
          "Random Forest",
          "Web Scraping"
         ],
         "y": [
          11917,
          4714,
          1963,
          924,
          923,
          825,
          663,
          568,
          486,
          281,
          90
         ]
        },
        {
         "name": "Bigdata",
         "type": "bar",
         "uid": "6d873237-bb62-11e8-ab3d-4c3488ea762f",
         "x": [
          "AWS",
          "Spark",
          "Hadoop",
          "Hive",
          "Pig"
         ],
         "y": [
          2236,
          1709,
          1677,
          995,
          420
         ]
        }
       ],
       "layout": {
        "barmode": "group",
        "height": 500,
        "legend": {
         "x": 1
        },
        "paper_bgcolor": "rgba(0,0,0,0)",
        "plot_bgcolor": "rgba(0,0,0,0)",
        "width": 700,
        "xaxis": {
         "tickangle": -30
        }
       }
      },
      "text/html": [
       "<div id=\"20f4f7f6-bbc4-48b9-9f42-e63aa276dd08\" style=\"height: 500px; width: 700px;\" class=\"plotly-graph-div\"></div><script type=\"text/javascript\">require([\"plotly\"], function(Plotly) { window.PLOTLYENV=window.PLOTLYENV || {};window.PLOTLYENV.BASE_URL=\"https://plot.ly\";\n",
       "        Plotly.plot(\n",
       "            '20f4f7f6-bbc4-48b9-9f42-e63aa276dd08',\n",
       "            [{\"name\": \"Skills\", \"x\": [\"AI\", \"Machine Learning\", \"Data Visualization\", \"Deep Learning\", \"Predictive Modeling\", \"NLP\", \"Clustering\", \"Decision Tree\", \"Neural Network\", \"Random Forest\", \"Web Scraping\"], \"y\": [11917, 4714, 1963, 924, 923, 825, 663, 568, 486, 281, 90], \"type\": \"bar\", \"uid\": \"6d873236-bb62-11e8-bca3-4c3488ea762f\"}, {\"name\": \"Bigdata\", \"x\": [\"AWS\", \"Spark\", \"Hadoop\", \"Hive\", \"Pig\"], \"y\": [2236, 1709, 1677, 995, 420], \"type\": \"bar\", \"uid\": \"6d873237-bb62-11e8-ab3d-4c3488ea762f\"}],\n",
       "            {\"barmode\": \"group\", \"height\": 500, \"legend\": {\"x\": 1}, \"paper_bgcolor\": \"rgba(0,0,0,0)\", \"plot_bgcolor\": \"rgba(0,0,0,0)\", \"width\": 700, \"xaxis\": {\"tickangle\": -30}},\n",
       "            {\"showLink\": true, \"linkText\": \"Export to plot.ly\"}\n",
       "        ).then(function () {return Plotly.addFrames('20f4f7f6-bbc4-48b9-9f42-e63aa276dd08',{});}).then(function(){Plotly.animate('20f4f7f6-bbc4-48b9-9f42-e63aa276dd08');})\n",
       "        });</script>"
      ],
      "text/vnd.plotly.v1+html": [
       "<div id=\"20f4f7f6-bbc4-48b9-9f42-e63aa276dd08\" style=\"height: 500px; width: 700px;\" class=\"plotly-graph-div\"></div><script type=\"text/javascript\">require([\"plotly\"], function(Plotly) { window.PLOTLYENV=window.PLOTLYENV || {};window.PLOTLYENV.BASE_URL=\"https://plot.ly\";\n",
       "        Plotly.plot(\n",
       "            '20f4f7f6-bbc4-48b9-9f42-e63aa276dd08',\n",
       "            [{\"name\": \"Skills\", \"x\": [\"AI\", \"Machine Learning\", \"Data Visualization\", \"Deep Learning\", \"Predictive Modeling\", \"NLP\", \"Clustering\", \"Decision Tree\", \"Neural Network\", \"Random Forest\", \"Web Scraping\"], \"y\": [11917, 4714, 1963, 924, 923, 825, 663, 568, 486, 281, 90], \"type\": \"bar\", \"uid\": \"6d873236-bb62-11e8-bca3-4c3488ea762f\"}, {\"name\": \"Bigdata\", \"x\": [\"AWS\", \"Spark\", \"Hadoop\", \"Hive\", \"Pig\"], \"y\": [2236, 1709, 1677, 995, 420], \"type\": \"bar\", \"uid\": \"6d873237-bb62-11e8-ab3d-4c3488ea762f\"}],\n",
       "            {\"barmode\": \"group\", \"height\": 500, \"legend\": {\"x\": 1}, \"paper_bgcolor\": \"rgba(0,0,0,0)\", \"plot_bgcolor\": \"rgba(0,0,0,0)\", \"width\": 700, \"xaxis\": {\"tickangle\": -30}},\n",
       "            {\"showLink\": true, \"linkText\": \"Export to plot.ly\"}\n",
       "        ).then(function () {return Plotly.addFrames('20f4f7f6-bbc4-48b9-9f42-e63aa276dd08',{});}).then(function(){Plotly.animate('20f4f7f6-bbc4-48b9-9f42-e63aa276dd08');})\n",
       "        });</script>"
      ]
     },
     "metadata": {},
     "output_type": "display_data"
    }
   ],
   "source": [
    "layout = Layout(\n",
    "    paper_bgcolor='rgba(0,0,0,0)',\n",
    "    plot_bgcolor='rgba(0,0,0,0)'\n",
    ")\n",
    "\n",
    "bar_layout = Layout(\n",
    "    barmode='group',\n",
    "    height=500,\n",
    "    width=700,\n",
    "    xaxis=dict(tickangle=-30),\n",
    "    paper_bgcolor='rgba(0,0,0,0)',\n",
    "    plot_bgcolor='rgba(0,0,0,0)',\n",
    "    legend=dict(x=1)\n",
    ")\n",
    "\n",
    "graph_data = []\n",
    "\n",
    "skills2 = {'Skills':Skills, 'Bigdata':Bigdata}\n",
    "\n",
    "for a, skill_dict in skills2.items():\n",
    "    graph_data.append(go.Bar(\n",
    "        x = list(skillset_df[a].index),\n",
    "        y = list(skillset_df[a][1]),\n",
    "        name = a))\n",
    "\n",
    "py.offline.iplot(Figure(data=graph_data, layout=bar_layout), filename='Skillsets1')"
   ]
  },
  {
   "cell_type": "code",
   "execution_count": 44,
   "metadata": {},
   "outputs": [
    {
     "data": {
      "application/vnd.plotly.v1+json": {
       "data": [
        {
         "marker": {
          "color": "rgb(204,204,204)"
         },
         "name": "Softwares",
         "type": "bar",
         "uid": "6f2b2bcc-bb62-11e8-b844-4c3488ea762f",
         "x": [
          "BI",
          "Excel",
          "SAS",
          "Matlab",
          "Tableau",
          "TensorFlow",
          "Stata",
          "H2O"
         ],
         "y": [
          2264,
          1881,
          1393,
          1026,
          893,
          776,
          233,
          102
         ]
        }
       ],
       "layout": {
        "barmode": "group",
        "height": 400,
        "paper_bgcolor": "rgba(0,0,0,0)",
        "plot_bgcolor": "rgba(0,0,0,0)",
        "title": "Softwares",
        "width": 500,
        "xaxis": {
         "tickangle": -30
        }
       }
      },
      "text/html": [
       "<div id=\"3e67e674-e0f6-4517-8c89-46c2478254c5\" style=\"height: 400px; width: 500px;\" class=\"plotly-graph-div\"></div><script type=\"text/javascript\">require([\"plotly\"], function(Plotly) { window.PLOTLYENV=window.PLOTLYENV || {};window.PLOTLYENV.BASE_URL=\"https://plot.ly\";\n",
       "        Plotly.plot(\n",
       "            '3e67e674-e0f6-4517-8c89-46c2478254c5',\n",
       "            [{\"marker\": {\"color\": \"rgb(204,204,204)\"}, \"name\": \"Softwares\", \"x\": [\"BI\", \"Excel\", \"SAS\", \"Matlab\", \"Tableau\", \"TensorFlow\", \"Stata\", \"H2O\"], \"y\": [2264, 1881, 1393, 1026, 893, 776, 233, 102], \"type\": \"bar\", \"uid\": \"6f2b2bcc-bb62-11e8-b844-4c3488ea762f\"}],\n",
       "            {\"barmode\": \"group\", \"height\": 400, \"paper_bgcolor\": \"rgba(0,0,0,0)\", \"plot_bgcolor\": \"rgba(0,0,0,0)\", \"title\": \"Softwares\", \"width\": 500, \"xaxis\": {\"tickangle\": -30}},\n",
       "            {\"showLink\": true, \"linkText\": \"Export to plot.ly\"}\n",
       "        ).then(function () {return Plotly.addFrames('3e67e674-e0f6-4517-8c89-46c2478254c5',{});}).then(function(){Plotly.animate('3e67e674-e0f6-4517-8c89-46c2478254c5');})\n",
       "        });</script>"
      ],
      "text/vnd.plotly.v1+html": [
       "<div id=\"3e67e674-e0f6-4517-8c89-46c2478254c5\" style=\"height: 400px; width: 500px;\" class=\"plotly-graph-div\"></div><script type=\"text/javascript\">require([\"plotly\"], function(Plotly) { window.PLOTLYENV=window.PLOTLYENV || {};window.PLOTLYENV.BASE_URL=\"https://plot.ly\";\n",
       "        Plotly.plot(\n",
       "            '3e67e674-e0f6-4517-8c89-46c2478254c5',\n",
       "            [{\"marker\": {\"color\": \"rgb(204,204,204)\"}, \"name\": \"Softwares\", \"x\": [\"BI\", \"Excel\", \"SAS\", \"Matlab\", \"Tableau\", \"TensorFlow\", \"Stata\", \"H2O\"], \"y\": [2264, 1881, 1393, 1026, 893, 776, 233, 102], \"type\": \"bar\", \"uid\": \"6f2b2bcc-bb62-11e8-b844-4c3488ea762f\"}],\n",
       "            {\"barmode\": \"group\", \"height\": 400, \"paper_bgcolor\": \"rgba(0,0,0,0)\", \"plot_bgcolor\": \"rgba(0,0,0,0)\", \"title\": \"Softwares\", \"width\": 500, \"xaxis\": {\"tickangle\": -30}},\n",
       "            {\"showLink\": true, \"linkText\": \"Export to plot.ly\"}\n",
       "        ).then(function () {return Plotly.addFrames('3e67e674-e0f6-4517-8c89-46c2478254c5',{});}).then(function(){Plotly.animate('3e67e674-e0f6-4517-8c89-46c2478254c5');})\n",
       "        });</script>"
      ]
     },
     "metadata": {},
     "output_type": "display_data"
    }
   ],
   "source": [
    "layout = Layout(\n",
    "    paper_bgcolor='rgba(0,0,0,0)',\n",
    "    plot_bgcolor='rgba(0,0,0,0)'\n",
    ")\n",
    "\n",
    "bar_layout = Layout(\n",
    "    barmode='group',\n",
    "    height=400,\n",
    "    width=500,\n",
    "    xaxis=dict(tickangle=-30),\n",
    "    paper_bgcolor='rgba(0,0,0,0)',\n",
    "    plot_bgcolor='rgba(0,0,0,0)',\n",
    "    title = 'Softwares'\n",
    ")\n",
    "\n",
    "graph_data = []\n",
    "\n",
    "skills3 = {'Softwares': Softwares}\n",
    "\n",
    "for a, skill_dict in skills3.items():\n",
    "    graph_data.append(go.Bar(\n",
    "        x = list(skillset_df[a].index),\n",
    "        y = list(skillset_df[a][1]),\n",
    "        name = a,\n",
    "    marker=dict(\n",
    "        color='rgb(204,204,204)')))\n",
    "\n",
    "py.offline.iplot(Figure(data=graph_data, layout=bar_layout), filename='Skillsets1')"
   ]
  },
  {
   "cell_type": "code",
   "execution_count": 46,
   "metadata": {},
   "outputs": [
    {
     "data": {
      "application/vnd.plotly.v1+json": {
       "data": [
        {
         "name": "Packages",
         "type": "bar",
         "uid": "784a59fe-bb62-11e8-bc48-4c3488ea762f",
         "x": [
          "Scikit Learn",
          "Pandas",
          "Numpy",
          "Scipy",
          "Matplotlib",
          "ggplot",
          "NLTK",
          "Plotly",
          "Seaborn",
          "dplyr",
          "Bokeh"
         ],
         "y": [
          488,
          351,
          254,
          136,
          92,
          71,
          65,
          40,
          31,
          16,
          15
         ]
        }
       ],
       "layout": {
        "barmode": "group",
        "height": 400,
        "paper_bgcolor": "rgba(0,0,0,0)",
        "plot_bgcolor": "rgba(0,0,0,0)",
        "title": "Packages",
        "width": 500,
        "xaxis": {
         "tickangle": -40
        }
       }
      },
      "text/html": [
       "<div id=\"a2b3568e-b677-4f5f-90a5-88f986668ba0\" style=\"height: 400px; width: 500px;\" class=\"plotly-graph-div\"></div><script type=\"text/javascript\">require([\"plotly\"], function(Plotly) { window.PLOTLYENV=window.PLOTLYENV || {};window.PLOTLYENV.BASE_URL=\"https://plot.ly\";\n",
       "        Plotly.plot(\n",
       "            'a2b3568e-b677-4f5f-90a5-88f986668ba0',\n",
       "            [{\"name\": \"Packages\", \"x\": [\"Scikit Learn\", \"Pandas\", \"Numpy\", \"Scipy\", \"Matplotlib\", \"ggplot\", \"NLTK\", \"Plotly\", \"Seaborn\", \"dplyr\", \"Bokeh\"], \"y\": [488, 351, 254, 136, 92, 71, 65, 40, 31, 16, 15], \"type\": \"bar\", \"uid\": \"784a59fe-bb62-11e8-bc48-4c3488ea762f\"}],\n",
       "            {\"barmode\": \"group\", \"height\": 400, \"paper_bgcolor\": \"rgba(0,0,0,0)\", \"plot_bgcolor\": \"rgba(0,0,0,0)\", \"title\": \"Packages\", \"width\": 500, \"xaxis\": {\"tickangle\": -40}},\n",
       "            {\"showLink\": true, \"linkText\": \"Export to plot.ly\"}\n",
       "        ).then(function () {return Plotly.addFrames('a2b3568e-b677-4f5f-90a5-88f986668ba0',{});}).then(function(){Plotly.animate('a2b3568e-b677-4f5f-90a5-88f986668ba0');})\n",
       "        });</script>"
      ],
      "text/vnd.plotly.v1+html": [
       "<div id=\"a2b3568e-b677-4f5f-90a5-88f986668ba0\" style=\"height: 400px; width: 500px;\" class=\"plotly-graph-div\"></div><script type=\"text/javascript\">require([\"plotly\"], function(Plotly) { window.PLOTLYENV=window.PLOTLYENV || {};window.PLOTLYENV.BASE_URL=\"https://plot.ly\";\n",
       "        Plotly.plot(\n",
       "            'a2b3568e-b677-4f5f-90a5-88f986668ba0',\n",
       "            [{\"name\": \"Packages\", \"x\": [\"Scikit Learn\", \"Pandas\", \"Numpy\", \"Scipy\", \"Matplotlib\", \"ggplot\", \"NLTK\", \"Plotly\", \"Seaborn\", \"dplyr\", \"Bokeh\"], \"y\": [488, 351, 254, 136, 92, 71, 65, 40, 31, 16, 15], \"type\": \"bar\", \"uid\": \"784a59fe-bb62-11e8-bc48-4c3488ea762f\"}],\n",
       "            {\"barmode\": \"group\", \"height\": 400, \"paper_bgcolor\": \"rgba(0,0,0,0)\", \"plot_bgcolor\": \"rgba(0,0,0,0)\", \"title\": \"Packages\", \"width\": 500, \"xaxis\": {\"tickangle\": -40}},\n",
       "            {\"showLink\": true, \"linkText\": \"Export to plot.ly\"}\n",
       "        ).then(function () {return Plotly.addFrames('a2b3568e-b677-4f5f-90a5-88f986668ba0',{});}).then(function(){Plotly.animate('a2b3568e-b677-4f5f-90a5-88f986668ba0');})\n",
       "        });</script>"
      ]
     },
     "metadata": {},
     "output_type": "display_data"
    }
   ],
   "source": [
    "layout = Layout(\n",
    "    paper_bgcolor='rgba(0,0,0,0)',\n",
    "    plot_bgcolor='rgba(0,100,15,10)'\n",
    ")\n",
    "\n",
    "bar_layout = Layout(\n",
    "    barmode='group',\n",
    "    height=400,\n",
    "    width=500,\n",
    "    xaxis=dict(tickangle=-40),\n",
    "    paper_bgcolor='rgba(0,0,0,0)',\n",
    "    plot_bgcolor='rgba(0,0,0,0)',\n",
    "    title = 'Packages'\n",
    ")\n",
    "\n",
    "graph_data = []\n",
    "\n",
    "skills4 = {'Packages': Packages}\n",
    "\n",
    "for a, skill_dict in skills4.items():\n",
    "    graph_data.append(go.Bar(\n",
    "        x = list(skillset_df[a].index),\n",
    "        y = list(skillset_df[a][1]),\n",
    "        name = a))\n",
    "\n",
    "py.offline.iplot(Figure(data=graph_data, layout=bar_layout), filename='Skillsets1')"
   ]
  },
  {
   "cell_type": "code",
   "execution_count": 366,
   "metadata": {
    "collapsed": true
   },
   "outputs": [],
   "source": [
    "#########################################################################################"
   ]
  },
  {
   "cell_type": "code",
   "execution_count": 367,
   "metadata": {
    "collapsed": true
   },
   "outputs": [],
   "source": [
    "df.to_csv('datacleaning1.csv', index = False)"
   ]
  },
  {
   "cell_type": "code",
   "execution_count": 368,
   "metadata": {
    "collapsed": true
   },
   "outputs": [],
   "source": [
    "df = pd.read_csv('datacleaning1.csv')"
   ]
  },
  {
   "cell_type": "code",
   "execution_count": 369,
   "metadata": {
    "collapsed": true
   },
   "outputs": [],
   "source": [
    "#Jobs in top 15 cities\n",
    "jobs_city = pd.DataFrame(df['city'].value_counts().sort_values(ascending=False)).reset_index().head(20)\n",
    "jobs_city.columns = ['city','count']\n",
    "jobs_city = df.loc[df['city'].isin(jobs_city.city), :]"
   ]
  },
  {
   "cell_type": "code",
   "execution_count": 370,
   "metadata": {
    "collapsed": true,
    "scrolled": false
   },
   "outputs": [],
   "source": [
    "#Skills per city\n",
    "skills_per_city={'R':'(?<=[\\W])R(?=[\\W])', 'Python':'python', 'SAS':'SAS', 'SQL':'sql', 'Tableau':'tableau',\\\n",
    "          'TensorFlow':'tensor( ?)flow', 'Java': 'java', 'Hadoop': 'hadoop',\\\n",
    "        'Scala': 'scala', 'C':'(?<=[\\W])C(?=[\\W])', 'Spark':'spark',\\\n",
    "          'AWS':'AWS|[Aa]mazon [Ww]eb [Ss]ervice', 'H2O':'h2o', 'BI':'BI',\\\n",
    "          'Hive':'hive', 'Pig':'pig', 'MongoDB':'mongodb',\\\n",
    "          'Scikit Learn':'scikit', 'Javascript':\"JAVA-?\\s?SCRIPT\"}\n",
    "\n",
    "data = pd.pivot_table(jobs_city, index=['city'], values=skills_per_city.keys(), aggfunc=[np.mean])\n",
    "data.columns = data.columns.droplevel()"
   ]
  },
  {
   "cell_type": "code",
   "execution_count": 371,
   "metadata": {
    "scrolled": false
   },
   "outputs": [
    {
     "data": {
      "application/vnd.plotly.v1+json": {
       "data": [
        {
         "colorscale": "Jet",
         "type": "heatmap",
         "uid": "edd47de2-b907-11e8-8e4f-4c3488ea762f",
         "x": [
          "AWS",
          "BI",
          "C",
          "H2O",
          "Hadoop",
          "Hive",
          "Java",
          "Javascript",
          "MongoDB",
          "Pig",
          "Python",
          "R",
          "SAS",
          "SQL",
          "Scala",
          "Scikit Learn",
          "Spark",
          "Tableau",
          "TensorFlow"
         ],
         "y": [
          "Atlanta",
          "Austin",
          "Baltimore",
          "Boston",
          "Chicago",
          "Dallas",
          "Denver",
          "Houston",
          "Los Angeles",
          "New York",
          "Oakland",
          "Philadelphia",
          "Portland",
          "San Diego",
          "San Francisco",
          "San Jose",
          "Seattle",
          "St. Louis",
          "Tampa",
          "Washington DC"
         ],
         "z": [
          [
           0.1636904761904762,
           0.39285714285714285,
           0.17857142857142858,
           0.017857142857142856,
           0.24702380952380953,
           0.15773809523809523,
           0.26785714285714285,
           0.11904761904761904,
           0.044642857142857144,
           0.06547619047619048,
           0.42857142857142855,
           0.32142857142857145,
           0.11904761904761904,
           0.4255952380952381,
           0.22321428571428573,
           0.044642857142857144,
           0.1488095238095238,
           0.12797619047619047,
           0.05357142857142857
          ],
          [
           0.33211678832116787,
           0.1897810218978102,
           0.18248175182481752,
           0.010948905109489052,
           0.10583941605839416,
           0.06204379562043796,
           0.2737226277372263,
           0.04744525547445255,
           0.021897810218978103,
           0.021897810218978103,
           0.4197080291970803,
           0.2956204379562044,
           0.058394160583941604,
           0.4197080291970803,
           0.17883211678832117,
           0.021897810218978103,
           0.1386861313868613,
           0.032846715328467155,
           0.08394160583941605
          ],
          [
           0.07344632768361582,
           0.1977401129943503,
           0.1977401129943503,
           0,
           0.05084745762711865,
           0.03389830508474576,
           0.21468926553672316,
           0.06779661016949153,
           0.03954802259887006,
           0.022598870056497175,
           0.3898305084745763,
           0.2033898305084746,
           0.1016949152542373,
           0.1864406779661017,
           0.1016949152542373,
           0.005649717514124294,
           0.062146892655367235,
           0.03389830508474576,
           0.022598870056497175
          ],
          [
           0.09007981755986318,
           0.11174458380843785,
           0.1322690992018244,
           0.005701254275940707,
           0.08209806157354618,
           0.03078677309007982,
           0.14823261117445838,
           0.052451539338654506,
           0.014823261117445839,
           0.04218928164196123,
           0.3443557582668187,
           0.314709236031927,
           0.04218928164196123,
           0.19840364880273662,
           0.12200684150513112,
           0.059293044469783354,
           0.10148232611174458,
           0.05701254275940707,
           0.09578107183580388
          ],
          [
           0.2578397212543554,
           0.18466898954703834,
           0.156794425087108,
           0.005226480836236934,
           0.1445993031358885,
           0.15331010452961671,
           0.23519163763066203,
           0.09930313588850175,
           0.027874564459930314,
           0.020905923344947737,
           0.4250871080139373,
           0.343205574912892,
           0.12195121951219512,
           0.34668989547038326,
           0.20209059233449478,
           0.06620209059233449,
           0.17770034843205576,
           0.1132404181184669,
           0.036585365853658534
          ],
          [
           0.24600638977635783,
           0.18849840255591055,
           0.09584664536741214,
           0.022364217252396165,
           0.22364217252396165,
           0.1597444089456869,
           0.31309904153354634,
           0.12779552715654952,
           0.012779552715654952,
           0.019169329073482427,
           0.3993610223642173,
           0.2971246006389776,
           0.11501597444089456,
           0.3610223642172524,
           0.3258785942492013,
           0.05750798722044728,
           0.23003194888178913,
           0.07667731629392971,
           0.08306709265175719
          ],
          [
           0.11785095320623917,
           0.09878682842287695,
           0.07279029462738301,
           0,
           0.04679376083188908,
           0.0415944540727903,
           0.10398613518197573,
           0.03986135181975736,
           0.012131715771230503,
           0.005199306759098787,
           0.17850953206239167,
           0.08145580589254767,
           0.03119584055459272,
           0.12824956672443674,
           0.08145580589254767,
           0.02079722703639515,
           0.06412478336221837,
           0.02079722703639515,
           0.029462738301559793
          ],
          [
           0.30980392156862746,
           0.28627450980392155,
           0.07058823529411765,
           0,
           0.1450980392156863,
           0.0392156862745098,
           0.16470588235294117,
           0.054901960784313725,
           0.023529411764705882,
           0.01568627450980392,
           0.25098039215686274,
           0.2627450980392157,
           0.07058823529411765,
           0.2235294117647059,
           0.1411764705882353,
           0.011764705882352941,
           0.058823529411764705,
           0.08235294117647059,
           0.03137254901960784
          ],
          [
           0.16981132075471697,
           0.2059748427672956,
           0.30345911949685533,
           0.020440251572327043,
           0.11635220125786164,
           0.07861635220125786,
           0.3333333333333333,
           0.08018867924528301,
           0.009433962264150943,
           0.01729559748427673,
           0.48427672955974843,
           0.1918238993710692,
           0.08647798742138364,
           0.24528301886792453,
           0.15251572327044025,
           0.026729559748427674,
           0.12578616352201258,
           0.08176100628930817,
           0.04716981132075472
          ],
          [
           0.14433811802232854,
           0.14035087719298245,
           0.15709728867623604,
           0.003189792663476874,
           0.145933014354067,
           0.09649122807017543,
           0.19298245614035087,
           0.04704944178628389,
           0.02711323763955343,
           0.04146730462519936,
           0.5382775119617225,
           0.4258373205741627,
           0.12599681020733652,
           0.3803827751196172,
           0.1722488038277512,
           0.044657097288676235,
           0.14513556618819776,
           0.05502392344497608,
           0.06220095693779904
          ],
          [
           0.11650485436893204,
           0.15048543689320387,
           0.09223300970873786,
           0.009708737864077669,
           0.10194174757281553,
           0.05339805825242718,
           0.08737864077669903,
           0.009708737864077669,
           0.009708737864077669,
           0,
           0.4174757281553398,
           0.4368932038834951,
           0.08737864077669903,
           0.18446601941747573,
           0.10194174757281553,
           0.06796116504854369,
           0.10194174757281553,
           0.10679611650485436,
           0.06310679611650485
          ],
          [
           0.1896551724137931,
           0.14439655172413793,
           0.1336206896551724,
           0.01939655172413793,
           0.07974137931034483,
           0.10560344827586207,
           0.10344827586206896,
           0.01293103448275862,
           0.004310344827586207,
           0.0625,
           0.2543103448275862,
           0.36853448275862066,
           0.1961206896551724,
           0.21336206896551724,
           0.1271551724137931,
           0.004310344827586207,
           0.21120689655172414,
           0.10129310344827586,
           0.01293103448275862
          ],
          [
           0.2222222222222222,
           0.08771929824561403,
           0.40350877192982454,
           0,
           0.26900584795321636,
           0.1871345029239766,
           0.36257309941520466,
           0.005847953216374269,
           0.03508771929824561,
           0.15789473684210525,
           0.4619883040935672,
           0.23391812865497075,
           0.03508771929824561,
           0.16374269005847952,
           0.15789473684210525,
           0.005847953216374269,
           0.27485380116959063,
           0.029239766081871343,
           0.017543859649122806
          ],
          [
           0.19574468085106383,
           0.32340425531914896,
           0.13617021276595745,
           0.00425531914893617,
           0.036170212765957444,
           0.027659574468085105,
           0.15319148936170213,
           0.06170212765957447,
           0.010638297872340425,
           0.06595744680851064,
           0.20638297872340425,
           0.35106382978723405,
           0.04893617021276596,
           0.11063829787234042,
           0.0574468085106383,
           0.006382978723404255,
           0.04042553191489362,
           0.01276595744680851,
           0.02553191489361702
          ],
          [
           0.1721014492753623,
           0.13134057971014493,
           0.11684782608695653,
           0.006340579710144928,
           0.12590579710144928,
           0.07518115942028986,
           0.13405797101449277,
           0.022644927536231884,
           0.0036231884057971015,
           0.019927536231884056,
           0.4936594202898551,
           0.3903985507246377,
           0.07880434782608696,
           0.328804347826087,
           0.20108695652173914,
           0.026268115942028984,
           0.14855072463768115,
           0.0806159420289855,
           0.07336956521739131
          ],
          [
           0.09212880143112702,
           0.17889087656529518,
           0.19767441860465115,
           0.013416815742397137,
           0.21288014311270126,
           0.1368515205724508,
           0.16457960644007155,
           0.04382826475849732,
           0.011627906976744186,
           0.03041144901610018,
           0.48300536672629696,
           0.3685152057245081,
           0.09570661896243292,
           0.19946332737030412,
           0.1556350626118068,
           0.11270125223613596,
           0.16368515205724507,
           0.03398926654740608,
           0.18246869409660108
          ],
          [
           0.2967818831942789,
           0.19785458879618595,
           0.19308700834326578,
           0.00834326579261025,
           0.11203814064362336,
           0.028605482717520857,
           0.3456495828367104,
           0.2026221692491061,
           0.003575685339690107,
           0.02264600715137068,
           0.2896305125148987,
           0.2169249106078665,
           0.06555423122765197,
           0.23122765196662692,
           0.24433849821215733,
           0.025029797377830752,
           0.12872467222884387,
           0.050059594755661505,
           0.050059594755661505
          ],
          [
           0.17,
           0.15333333333333332,
           0.06333333333333334,
           0,
           0.24333333333333335,
           0.023333333333333334,
           0.16666666666666666,
           0.13333333333333333,
           0.01,
           0.006666666666666667,
           0.5266666666666666,
           0.6133333333333333,
           0.13333333333333333,
           0.44666666666666666,
           0.16,
           0,
           0.22333333333333333,
           0.09,
           0.023333333333333334
          ],
          [
           0.14285714285714285,
           0.08571428571428572,
           0.09142857142857143,
           0,
           0.05142857142857143,
           0.011428571428571429,
           0.06857142857142857,
           0.02857142857142857,
           0,
           0,
           0.13142857142857142,
           0.14285714285714285,
           0.06285714285714286,
           0.10285714285714286,
           0.03428571428571429,
           0.017142857142857144,
           0.05714285714285714,
           0.011428571428571429,
           0.022857142857142857
          ],
          [
           0.174573055028463,
           0.1347248576850095,
           0.15464895635673626,
           0.0009487666034155598,
           0.12618595825426945,
           0.04459203036053131,
           0.21726755218216318,
           0.07685009487666034,
           0.022770398481973434,
           0.056925996204933584,
           0.3519924098671727,
           0.325426944971537,
           0.1555977229601518,
           0.27419354838709675,
           0.08633776091081594,
           0.007590132827324478,
           0.09392789373814042,
           0.08444022770398482,
           0.019924098671726755
          ]
         ]
        }
       ],
       "layout": {
        "height": 500,
        "margin": {
         "l": 150,
         "pad": 4
        },
        "paper_bgcolor": "rgba(0,0,0,0)",
        "plot_bgcolor": "rgba(0,0,0,0)",
        "width": 800,
        "xaxis": {
         "tickangle": -60
        }
       }
      },
      "text/html": [
       "<div id=\"53f3f4e6-811d-4134-9041-7846546a8f4c\" style=\"height: 500px; width: 800px;\" class=\"plotly-graph-div\"></div><script type=\"text/javascript\">require([\"plotly\"], function(Plotly) { window.PLOTLYENV=window.PLOTLYENV || {};window.PLOTLYENV.BASE_URL=\"https://plot.ly\";\n",
       "        Plotly.plot(\n",
       "            '53f3f4e6-811d-4134-9041-7846546a8f4c',\n",
       "            [{\"colorscale\": \"Jet\", \"x\": [\"AWS\", \"BI\", \"C\", \"H2O\", \"Hadoop\", \"Hive\", \"Java\", \"Javascript\", \"MongoDB\", \"Pig\", \"Python\", \"R\", \"SAS\", \"SQL\", \"Scala\", \"Scikit Learn\", \"Spark\", \"Tableau\", \"TensorFlow\"], \"y\": [\"Atlanta\", \"Austin\", \"Baltimore\", \"Boston\", \"Chicago\", \"Dallas\", \"Denver\", \"Houston\", \"Los Angeles\", \"New York\", \"Oakland\", \"Philadelphia\", \"Portland\", \"San Diego\", \"San Francisco\", \"San Jose\", \"Seattle\", \"St. Louis\", \"Tampa\", \"Washington DC\"], \"z\": [[0.1636904761904762, 0.39285714285714285, 0.17857142857142858, 0.017857142857142856, 0.24702380952380953, 0.15773809523809523, 0.26785714285714285, 0.11904761904761904, 0.044642857142857144, 0.06547619047619048, 0.42857142857142855, 0.32142857142857145, 0.11904761904761904, 0.4255952380952381, 0.22321428571428573, 0.044642857142857144, 0.1488095238095238, 0.12797619047619047, 0.05357142857142857], [0.33211678832116787, 0.1897810218978102, 0.18248175182481752, 0.010948905109489052, 0.10583941605839416, 0.06204379562043796, 0.2737226277372263, 0.04744525547445255, 0.021897810218978103, 0.021897810218978103, 0.4197080291970803, 0.2956204379562044, 0.058394160583941604, 0.4197080291970803, 0.17883211678832117, 0.021897810218978103, 0.1386861313868613, 0.032846715328467155, 0.08394160583941605], [0.07344632768361582, 0.1977401129943503, 0.1977401129943503, 0.0, 0.05084745762711865, 0.03389830508474576, 0.21468926553672316, 0.06779661016949153, 0.03954802259887006, 0.022598870056497175, 0.3898305084745763, 0.2033898305084746, 0.1016949152542373, 0.1864406779661017, 0.1016949152542373, 0.005649717514124294, 0.062146892655367235, 0.03389830508474576, 0.022598870056497175], [0.09007981755986318, 0.11174458380843785, 0.1322690992018244, 0.005701254275940707, 0.08209806157354618, 0.03078677309007982, 0.14823261117445838, 0.052451539338654506, 0.014823261117445839, 0.04218928164196123, 0.3443557582668187, 0.314709236031927, 0.04218928164196123, 0.19840364880273662, 0.12200684150513112, 0.059293044469783354, 0.10148232611174458, 0.05701254275940707, 0.09578107183580388], [0.2578397212543554, 0.18466898954703834, 0.156794425087108, 0.005226480836236934, 0.1445993031358885, 0.15331010452961671, 0.23519163763066203, 0.09930313588850175, 0.027874564459930314, 0.020905923344947737, 0.4250871080139373, 0.343205574912892, 0.12195121951219512, 0.34668989547038326, 0.20209059233449478, 0.06620209059233449, 0.17770034843205576, 0.1132404181184669, 0.036585365853658534], [0.24600638977635783, 0.18849840255591055, 0.09584664536741214, 0.022364217252396165, 0.22364217252396165, 0.1597444089456869, 0.31309904153354634, 0.12779552715654952, 0.012779552715654952, 0.019169329073482427, 0.3993610223642173, 0.2971246006389776, 0.11501597444089456, 0.3610223642172524, 0.3258785942492013, 0.05750798722044728, 0.23003194888178913, 0.07667731629392971, 0.08306709265175719], [0.11785095320623917, 0.09878682842287695, 0.07279029462738301, 0.0, 0.04679376083188908, 0.0415944540727903, 0.10398613518197573, 0.03986135181975736, 0.012131715771230503, 0.005199306759098787, 0.17850953206239167, 0.08145580589254767, 0.03119584055459272, 0.12824956672443674, 0.08145580589254767, 0.02079722703639515, 0.06412478336221837, 0.02079722703639515, 0.029462738301559793], [0.30980392156862746, 0.28627450980392155, 0.07058823529411765, 0.0, 0.1450980392156863, 0.0392156862745098, 0.16470588235294117, 0.054901960784313725, 0.023529411764705882, 0.01568627450980392, 0.25098039215686274, 0.2627450980392157, 0.07058823529411765, 0.2235294117647059, 0.1411764705882353, 0.011764705882352941, 0.058823529411764705, 0.08235294117647059, 0.03137254901960784], [0.16981132075471697, 0.2059748427672956, 0.30345911949685533, 0.020440251572327043, 0.11635220125786164, 0.07861635220125786, 0.3333333333333333, 0.08018867924528301, 0.009433962264150943, 0.01729559748427673, 0.48427672955974843, 0.1918238993710692, 0.08647798742138364, 0.24528301886792453, 0.15251572327044025, 0.026729559748427674, 0.12578616352201258, 0.08176100628930817, 0.04716981132075472], [0.14433811802232854, 0.14035087719298245, 0.15709728867623604, 0.003189792663476874, 0.145933014354067, 0.09649122807017543, 0.19298245614035087, 0.04704944178628389, 0.02711323763955343, 0.04146730462519936, 0.5382775119617225, 0.4258373205741627, 0.12599681020733652, 0.3803827751196172, 0.1722488038277512, 0.044657097288676235, 0.14513556618819776, 0.05502392344497608, 0.06220095693779904], [0.11650485436893204, 0.15048543689320387, 0.09223300970873786, 0.009708737864077669, 0.10194174757281553, 0.05339805825242718, 0.08737864077669903, 0.009708737864077669, 0.009708737864077669, 0.0, 0.4174757281553398, 0.4368932038834951, 0.08737864077669903, 0.18446601941747573, 0.10194174757281553, 0.06796116504854369, 0.10194174757281553, 0.10679611650485436, 0.06310679611650485], [0.1896551724137931, 0.14439655172413793, 0.1336206896551724, 0.01939655172413793, 0.07974137931034483, 0.10560344827586207, 0.10344827586206896, 0.01293103448275862, 0.004310344827586207, 0.0625, 0.2543103448275862, 0.36853448275862066, 0.1961206896551724, 0.21336206896551724, 0.1271551724137931, 0.004310344827586207, 0.21120689655172414, 0.10129310344827586, 0.01293103448275862], [0.2222222222222222, 0.08771929824561403, 0.40350877192982454, 0.0, 0.26900584795321636, 0.1871345029239766, 0.36257309941520466, 0.005847953216374269, 0.03508771929824561, 0.15789473684210525, 0.4619883040935672, 0.23391812865497075, 0.03508771929824561, 0.16374269005847952, 0.15789473684210525, 0.005847953216374269, 0.27485380116959063, 0.029239766081871343, 0.017543859649122806], [0.19574468085106383, 0.32340425531914896, 0.13617021276595745, 0.00425531914893617, 0.036170212765957444, 0.027659574468085105, 0.15319148936170213, 0.06170212765957447, 0.010638297872340425, 0.06595744680851064, 0.20638297872340425, 0.35106382978723405, 0.04893617021276596, 0.11063829787234042, 0.0574468085106383, 0.006382978723404255, 0.04042553191489362, 0.01276595744680851, 0.02553191489361702], [0.1721014492753623, 0.13134057971014493, 0.11684782608695653, 0.006340579710144928, 0.12590579710144928, 0.07518115942028986, 0.13405797101449277, 0.022644927536231884, 0.0036231884057971015, 0.019927536231884056, 0.4936594202898551, 0.3903985507246377, 0.07880434782608696, 0.328804347826087, 0.20108695652173914, 0.026268115942028984, 0.14855072463768115, 0.0806159420289855, 0.07336956521739131], [0.09212880143112702, 0.17889087656529518, 0.19767441860465115, 0.013416815742397137, 0.21288014311270126, 0.1368515205724508, 0.16457960644007155, 0.04382826475849732, 0.011627906976744186, 0.03041144901610018, 0.48300536672629696, 0.3685152057245081, 0.09570661896243292, 0.19946332737030412, 0.1556350626118068, 0.11270125223613596, 0.16368515205724507, 0.03398926654740608, 0.18246869409660108], [0.2967818831942789, 0.19785458879618595, 0.19308700834326578, 0.00834326579261025, 0.11203814064362336, 0.028605482717520857, 0.3456495828367104, 0.2026221692491061, 0.003575685339690107, 0.02264600715137068, 0.2896305125148987, 0.2169249106078665, 0.06555423122765197, 0.23122765196662692, 0.24433849821215733, 0.025029797377830752, 0.12872467222884387, 0.050059594755661505, 0.050059594755661505], [0.17, 0.15333333333333332, 0.06333333333333334, 0.0, 0.24333333333333335, 0.023333333333333334, 0.16666666666666666, 0.13333333333333333, 0.01, 0.006666666666666667, 0.5266666666666666, 0.6133333333333333, 0.13333333333333333, 0.44666666666666666, 0.16, 0.0, 0.22333333333333333, 0.09, 0.023333333333333334], [0.14285714285714285, 0.08571428571428572, 0.09142857142857143, 0.0, 0.05142857142857143, 0.011428571428571429, 0.06857142857142857, 0.02857142857142857, 0.0, 0.0, 0.13142857142857142, 0.14285714285714285, 0.06285714285714286, 0.10285714285714286, 0.03428571428571429, 0.017142857142857144, 0.05714285714285714, 0.011428571428571429, 0.022857142857142857], [0.174573055028463, 0.1347248576850095, 0.15464895635673626, 0.0009487666034155598, 0.12618595825426945, 0.04459203036053131, 0.21726755218216318, 0.07685009487666034, 0.022770398481973434, 0.056925996204933584, 0.3519924098671727, 0.325426944971537, 0.1555977229601518, 0.27419354838709675, 0.08633776091081594, 0.007590132827324478, 0.09392789373814042, 0.08444022770398482, 0.019924098671726755]], \"type\": \"heatmap\", \"uid\": \"edd47de2-b907-11e8-8e4f-4c3488ea762f\"}],\n",
       "            {\"height\": 500, \"margin\": {\"l\": 150, \"pad\": 4}, \"paper_bgcolor\": \"rgba(0,0,0,0)\", \"plot_bgcolor\": \"rgba(0,0,0,0)\", \"width\": 800, \"xaxis\": {\"tickangle\": -60}},\n",
       "            {\"showLink\": true, \"linkText\": \"Export to plot.ly\"}\n",
       "        ).then(function () {return Plotly.addFrames('53f3f4e6-811d-4134-9041-7846546a8f4c',{});}).then(function(){Plotly.animate('53f3f4e6-811d-4134-9041-7846546a8f4c');})\n",
       "        });</script>"
      ],
      "text/vnd.plotly.v1+html": [
       "<div id=\"53f3f4e6-811d-4134-9041-7846546a8f4c\" style=\"height: 500px; width: 800px;\" class=\"plotly-graph-div\"></div><script type=\"text/javascript\">require([\"plotly\"], function(Plotly) { window.PLOTLYENV=window.PLOTLYENV || {};window.PLOTLYENV.BASE_URL=\"https://plot.ly\";\n",
       "        Plotly.plot(\n",
       "            '53f3f4e6-811d-4134-9041-7846546a8f4c',\n",
       "            [{\"colorscale\": \"Jet\", \"x\": [\"AWS\", \"BI\", \"C\", \"H2O\", \"Hadoop\", \"Hive\", \"Java\", \"Javascript\", \"MongoDB\", \"Pig\", \"Python\", \"R\", \"SAS\", \"SQL\", \"Scala\", \"Scikit Learn\", \"Spark\", \"Tableau\", \"TensorFlow\"], \"y\": [\"Atlanta\", \"Austin\", \"Baltimore\", \"Boston\", \"Chicago\", \"Dallas\", \"Denver\", \"Houston\", \"Los Angeles\", \"New York\", \"Oakland\", \"Philadelphia\", \"Portland\", \"San Diego\", \"San Francisco\", \"San Jose\", \"Seattle\", \"St. Louis\", \"Tampa\", \"Washington DC\"], \"z\": [[0.1636904761904762, 0.39285714285714285, 0.17857142857142858, 0.017857142857142856, 0.24702380952380953, 0.15773809523809523, 0.26785714285714285, 0.11904761904761904, 0.044642857142857144, 0.06547619047619048, 0.42857142857142855, 0.32142857142857145, 0.11904761904761904, 0.4255952380952381, 0.22321428571428573, 0.044642857142857144, 0.1488095238095238, 0.12797619047619047, 0.05357142857142857], [0.33211678832116787, 0.1897810218978102, 0.18248175182481752, 0.010948905109489052, 0.10583941605839416, 0.06204379562043796, 0.2737226277372263, 0.04744525547445255, 0.021897810218978103, 0.021897810218978103, 0.4197080291970803, 0.2956204379562044, 0.058394160583941604, 0.4197080291970803, 0.17883211678832117, 0.021897810218978103, 0.1386861313868613, 0.032846715328467155, 0.08394160583941605], [0.07344632768361582, 0.1977401129943503, 0.1977401129943503, 0.0, 0.05084745762711865, 0.03389830508474576, 0.21468926553672316, 0.06779661016949153, 0.03954802259887006, 0.022598870056497175, 0.3898305084745763, 0.2033898305084746, 0.1016949152542373, 0.1864406779661017, 0.1016949152542373, 0.005649717514124294, 0.062146892655367235, 0.03389830508474576, 0.022598870056497175], [0.09007981755986318, 0.11174458380843785, 0.1322690992018244, 0.005701254275940707, 0.08209806157354618, 0.03078677309007982, 0.14823261117445838, 0.052451539338654506, 0.014823261117445839, 0.04218928164196123, 0.3443557582668187, 0.314709236031927, 0.04218928164196123, 0.19840364880273662, 0.12200684150513112, 0.059293044469783354, 0.10148232611174458, 0.05701254275940707, 0.09578107183580388], [0.2578397212543554, 0.18466898954703834, 0.156794425087108, 0.005226480836236934, 0.1445993031358885, 0.15331010452961671, 0.23519163763066203, 0.09930313588850175, 0.027874564459930314, 0.020905923344947737, 0.4250871080139373, 0.343205574912892, 0.12195121951219512, 0.34668989547038326, 0.20209059233449478, 0.06620209059233449, 0.17770034843205576, 0.1132404181184669, 0.036585365853658534], [0.24600638977635783, 0.18849840255591055, 0.09584664536741214, 0.022364217252396165, 0.22364217252396165, 0.1597444089456869, 0.31309904153354634, 0.12779552715654952, 0.012779552715654952, 0.019169329073482427, 0.3993610223642173, 0.2971246006389776, 0.11501597444089456, 0.3610223642172524, 0.3258785942492013, 0.05750798722044728, 0.23003194888178913, 0.07667731629392971, 0.08306709265175719], [0.11785095320623917, 0.09878682842287695, 0.07279029462738301, 0.0, 0.04679376083188908, 0.0415944540727903, 0.10398613518197573, 0.03986135181975736, 0.012131715771230503, 0.005199306759098787, 0.17850953206239167, 0.08145580589254767, 0.03119584055459272, 0.12824956672443674, 0.08145580589254767, 0.02079722703639515, 0.06412478336221837, 0.02079722703639515, 0.029462738301559793], [0.30980392156862746, 0.28627450980392155, 0.07058823529411765, 0.0, 0.1450980392156863, 0.0392156862745098, 0.16470588235294117, 0.054901960784313725, 0.023529411764705882, 0.01568627450980392, 0.25098039215686274, 0.2627450980392157, 0.07058823529411765, 0.2235294117647059, 0.1411764705882353, 0.011764705882352941, 0.058823529411764705, 0.08235294117647059, 0.03137254901960784], [0.16981132075471697, 0.2059748427672956, 0.30345911949685533, 0.020440251572327043, 0.11635220125786164, 0.07861635220125786, 0.3333333333333333, 0.08018867924528301, 0.009433962264150943, 0.01729559748427673, 0.48427672955974843, 0.1918238993710692, 0.08647798742138364, 0.24528301886792453, 0.15251572327044025, 0.026729559748427674, 0.12578616352201258, 0.08176100628930817, 0.04716981132075472], [0.14433811802232854, 0.14035087719298245, 0.15709728867623604, 0.003189792663476874, 0.145933014354067, 0.09649122807017543, 0.19298245614035087, 0.04704944178628389, 0.02711323763955343, 0.04146730462519936, 0.5382775119617225, 0.4258373205741627, 0.12599681020733652, 0.3803827751196172, 0.1722488038277512, 0.044657097288676235, 0.14513556618819776, 0.05502392344497608, 0.06220095693779904], [0.11650485436893204, 0.15048543689320387, 0.09223300970873786, 0.009708737864077669, 0.10194174757281553, 0.05339805825242718, 0.08737864077669903, 0.009708737864077669, 0.009708737864077669, 0.0, 0.4174757281553398, 0.4368932038834951, 0.08737864077669903, 0.18446601941747573, 0.10194174757281553, 0.06796116504854369, 0.10194174757281553, 0.10679611650485436, 0.06310679611650485], [0.1896551724137931, 0.14439655172413793, 0.1336206896551724, 0.01939655172413793, 0.07974137931034483, 0.10560344827586207, 0.10344827586206896, 0.01293103448275862, 0.004310344827586207, 0.0625, 0.2543103448275862, 0.36853448275862066, 0.1961206896551724, 0.21336206896551724, 0.1271551724137931, 0.004310344827586207, 0.21120689655172414, 0.10129310344827586, 0.01293103448275862], [0.2222222222222222, 0.08771929824561403, 0.40350877192982454, 0.0, 0.26900584795321636, 0.1871345029239766, 0.36257309941520466, 0.005847953216374269, 0.03508771929824561, 0.15789473684210525, 0.4619883040935672, 0.23391812865497075, 0.03508771929824561, 0.16374269005847952, 0.15789473684210525, 0.005847953216374269, 0.27485380116959063, 0.029239766081871343, 0.017543859649122806], [0.19574468085106383, 0.32340425531914896, 0.13617021276595745, 0.00425531914893617, 0.036170212765957444, 0.027659574468085105, 0.15319148936170213, 0.06170212765957447, 0.010638297872340425, 0.06595744680851064, 0.20638297872340425, 0.35106382978723405, 0.04893617021276596, 0.11063829787234042, 0.0574468085106383, 0.006382978723404255, 0.04042553191489362, 0.01276595744680851, 0.02553191489361702], [0.1721014492753623, 0.13134057971014493, 0.11684782608695653, 0.006340579710144928, 0.12590579710144928, 0.07518115942028986, 0.13405797101449277, 0.022644927536231884, 0.0036231884057971015, 0.019927536231884056, 0.4936594202898551, 0.3903985507246377, 0.07880434782608696, 0.328804347826087, 0.20108695652173914, 0.026268115942028984, 0.14855072463768115, 0.0806159420289855, 0.07336956521739131], [0.09212880143112702, 0.17889087656529518, 0.19767441860465115, 0.013416815742397137, 0.21288014311270126, 0.1368515205724508, 0.16457960644007155, 0.04382826475849732, 0.011627906976744186, 0.03041144901610018, 0.48300536672629696, 0.3685152057245081, 0.09570661896243292, 0.19946332737030412, 0.1556350626118068, 0.11270125223613596, 0.16368515205724507, 0.03398926654740608, 0.18246869409660108], [0.2967818831942789, 0.19785458879618595, 0.19308700834326578, 0.00834326579261025, 0.11203814064362336, 0.028605482717520857, 0.3456495828367104, 0.2026221692491061, 0.003575685339690107, 0.02264600715137068, 0.2896305125148987, 0.2169249106078665, 0.06555423122765197, 0.23122765196662692, 0.24433849821215733, 0.025029797377830752, 0.12872467222884387, 0.050059594755661505, 0.050059594755661505], [0.17, 0.15333333333333332, 0.06333333333333334, 0.0, 0.24333333333333335, 0.023333333333333334, 0.16666666666666666, 0.13333333333333333, 0.01, 0.006666666666666667, 0.5266666666666666, 0.6133333333333333, 0.13333333333333333, 0.44666666666666666, 0.16, 0.0, 0.22333333333333333, 0.09, 0.023333333333333334], [0.14285714285714285, 0.08571428571428572, 0.09142857142857143, 0.0, 0.05142857142857143, 0.011428571428571429, 0.06857142857142857, 0.02857142857142857, 0.0, 0.0, 0.13142857142857142, 0.14285714285714285, 0.06285714285714286, 0.10285714285714286, 0.03428571428571429, 0.017142857142857144, 0.05714285714285714, 0.011428571428571429, 0.022857142857142857], [0.174573055028463, 0.1347248576850095, 0.15464895635673626, 0.0009487666034155598, 0.12618595825426945, 0.04459203036053131, 0.21726755218216318, 0.07685009487666034, 0.022770398481973434, 0.056925996204933584, 0.3519924098671727, 0.325426944971537, 0.1555977229601518, 0.27419354838709675, 0.08633776091081594, 0.007590132827324478, 0.09392789373814042, 0.08444022770398482, 0.019924098671726755]], \"type\": \"heatmap\", \"uid\": \"edd47de2-b907-11e8-8e4f-4c3488ea762f\"}],\n",
       "            {\"height\": 500, \"margin\": {\"l\": 150, \"pad\": 4}, \"paper_bgcolor\": \"rgba(0,0,0,0)\", \"plot_bgcolor\": \"rgba(0,0,0,0)\", \"width\": 800, \"xaxis\": {\"tickangle\": -60}},\n",
       "            {\"showLink\": true, \"linkText\": \"Export to plot.ly\"}\n",
       "        ).then(function () {return Plotly.addFrames('53f3f4e6-811d-4134-9041-7846546a8f4c',{});}).then(function(){Plotly.animate('53f3f4e6-811d-4134-9041-7846546a8f4c');})\n",
       "        });</script>"
      ]
     },
     "metadata": {},
     "output_type": "display_data"
    }
   ],
   "source": [
    "\n",
    "plot_data = [go.Heatmap( \n",
    "    x=data.columns,\n",
    "    y=data.index,\n",
    "    z=data.values.tolist(),\n",
    "    colorscale='Jet')]\n",
    "\n",
    "heat_map_layout = Layout(\n",
    "    margin=go.layout.Margin(\n",
    "        l=150,\n",
    "        pad=4\n",
    "    ),\n",
    "    height=500,\n",
    "    width=800,\n",
    "    xaxis=dict(tickangle=-60),\n",
    "    paper_bgcolor='rgba(0,0,0,0)',\n",
    "    plot_bgcolor='rgba(0,0,0,0)',\n",
    "    \n",
    ")\n",
    "\n",
    "py.offline.iplot(Figure(data=plot_data, layout=heat_map_layout), filename='heatmap_skills_cities')"
   ]
  },
  {
   "cell_type": "code",
   "execution_count": 372,
   "metadata": {
    "collapsed": true
   },
   "outputs": [],
   "source": [
    "#######################################\n"
   ]
  },
  {
   "cell_type": "code",
   "execution_count": 373,
   "metadata": {
    "collapsed": true
   },
   "outputs": [],
   "source": [
    "\n",
    "city_list = df['city'].unique().tolist()\n",
    "\n",
    "df['corp'] = df['description'].apply(lambda x: \" \".join(x.lower() for x in x.split()))\n",
    "df['corp'] = df['corp'].apply(lambda x: re.sub('[^\\w\\s]','', x))\n",
    "\n",
    "\n",
    "\n",
    "\n",
    "stop = stopwords.words('english') + ['year', 'relevant', 'andor','race','color', 'applicant','opportunity','marital',\\\n",
    "                                     'status','gender','religion','etc', 'identity', 'expression', 'clinical', 'trial'\n",
    "                                     'including', ' sexual','sexual', 'sex', 'must', 'include','well', 'need', 'various',\\\n",
    "                                     'orientation', 'charge', 'de', 'la', 'year', 'receive', 'consideration',\\\n",
    "                                     'responsibility','experience', 'equal', 'san', 'francisco', 'year', 'minimum'\\\n",
    "                                     'employer', 'employment','national', 'origin','without', 'regard', 'program', 'support',\\\n",
    "                                     'use', 'provide', 'appropriate','user', 'closely', 'work', 'role', 'internal', 'external',\\\n",
    "                                     'track','record', 'protected', 'veterean', 'united', 'state', \\\n",
    "                                    'based', 'required', 'company', 'working', 'ensure', 'ability', 'organization',\\\n",
    "                                     'successful','candidate', 'scientist','computer', 'best','practice',\\\n",
    "                                     'applicant','application', 'within', 'qualified','applicant','training',\\\n",
    "                                     'related', 'field'] + city_list\n",
    "\n",
    "df['corp'] = df['corp'].apply(lambda x: \" \".join(x for x in x.split() if x not in stop))"
   ]
  },
  {
   "cell_type": "code",
   "execution_count": 374,
   "metadata": {
    "collapsed": true
   },
   "outputs": [],
   "source": [
    "stemmer = SnowballStemmer(\"english\")\n",
    "lem = WordNetLemmatizer()\n",
    "text = ''.join(df['corp'])\n",
    "text = ' '.join([lem.lemmatize(word) for word in text.split()])"
   ]
  },
  {
   "cell_type": "code",
   "execution_count": 375,
   "metadata": {},
   "outputs": [
    {
     "data": {
      "image/png": "[encoded data removed]",
      "text/plain": [
       "<matplotlib.figure.Figure at 0x22018de3c50>"
      ]
     },
     "metadata": {},
     "output_type": "display_data"
    }
   ],
   "source": [
    "wordcloud = WordCloud(width=1000, height=600, max_words=40).generate(text)\n",
    "plt.figure( figsize=(20,10), facecolor='k')\n",
    "plt.imshow(wordcloud)\n",
    "plt.axis(\"off\")\n",
    "plt.tight_layout(pad=0)\n",
    "plt.show()"
   ]
  },
  {
   "cell_type": "code",
   "execution_count": 376,
   "metadata": {
    "collapsed": true
   },
   "outputs": [],
   "source": [
    "# degrees\n",
    "\n",
    "degree_re={'PHD':'(?<=[\\W])phd(?=[\\W])|ph.d|[Dd]octorate|[Pp]ost graduate','Masters':'[Mm]asters|MS|M.S'\\\n",
    "           ,'Bachelors':'[Bb]achelor|BS|BA|B.A'}\n",
    "\n",
    "degree_case_sensitive=['Masters','Bachelors']\n",
    "\n",
    "for degree in degree_re:\n",
    "    df[degree]=df.description.str.contains(degree_re[degree], case= degree in degree_case_sensitive)"
   ]
  },
  {
   "cell_type": "code",
   "execution_count": 377,
   "metadata": {},
   "outputs": [
    {
     "data": {
      "text/html": [
       "<div>\n",
       "<style scoped>\n",
       "    .dataframe tbody tr th:only-of-type {\n",
       "        vertical-align: middle;\n",
       "    }\n",
       "\n",
       "    .dataframe tbody tr th {\n",
       "        vertical-align: top;\n",
       "    }\n",
       "\n",
       "    .dataframe thead th {\n",
       "        text-align: right;\n",
       "    }\n",
       "</style>\n",
       "<table border=\"1\" class=\"dataframe\">\n",
       "  <thead>\n",
       "    <tr style=\"text-align: right;\">\n",
       "      <th></th>\n",
       "      <th>degree</th>\n",
       "      <th>percent</th>\n",
       "    </tr>\n",
       "  </thead>\n",
       "  <tbody>\n",
       "    <tr>\n",
       "      <th>0</th>\n",
       "      <td>Bachelors</td>\n",
       "      <td>52.206397</td>\n",
       "    </tr>\n",
       "    <tr>\n",
       "      <th>1</th>\n",
       "      <td>Masters</td>\n",
       "      <td>36.672115</td>\n",
       "    </tr>\n",
       "    <tr>\n",
       "      <th>2</th>\n",
       "      <td>PHD</td>\n",
       "      <td>33.348899</td>\n",
       "    </tr>\n",
       "  </tbody>\n",
       "</table>\n",
       "</div>"
      ],
      "text/plain": [
       "      degree    percent\n",
       "0  Bachelors  52.206397\n",
       "1    Masters  36.672115\n",
       "2        PHD  33.348899"
      ]
     },
     "execution_count": 377,
     "metadata": {},
     "output_type": "execute_result"
    }
   ],
   "source": [
    "#Finding the jobs based on graduate degree \n",
    "df_degree = pd.DataFrame(100*(df[['PHD', 'Masters', 'Bachelors']].sum(axis=0)/len(df))).reset_index()\n",
    "df_degree.columns = ['degree', 'percent']\n",
    "df_degree.sort_values(by='percent', ascending = False).reset_index(drop = True)"
   ]
  },
  {
   "cell_type": "code",
   "execution_count": 378,
   "metadata": {},
   "outputs": [
    {
     "data": {
      "application/vnd.plotly.v1+json": {
       "data": [
        {
         "type": "bar",
         "uid": "1bad1c88-b908-11e8-946e-4c3488ea762f",
         "x": [
          "PHD",
          "Masters",
          "Bachelors"
         ],
         "y": [
          33.348898746984204,
          36.67211456144447,
          52.206397385010504
         ]
        }
       ],
       "layout": {
        "barmode": "group",
        "height": 400,
        "paper_bgcolor": "rgba(0,0,0,0)",
        "plot_bgcolor": "rgba(0,0,0,0)",
        "title": "Packages",
        "width": 500,
        "xaxis": {
         "tickangle": -40
        }
       }
      },
      "text/html": [
       "<div id=\"b6adad49-b995-4054-b9e1-eff9eca40a7f\" style=\"height: 400px; width: 500px;\" class=\"plotly-graph-div\"></div><script type=\"text/javascript\">require([\"plotly\"], function(Plotly) { window.PLOTLYENV=window.PLOTLYENV || {};window.PLOTLYENV.BASE_URL=\"https://plot.ly\";\n",
       "        Plotly.plot(\n",
       "            'b6adad49-b995-4054-b9e1-eff9eca40a7f',\n",
       "            [{\"x\": [\"PHD\", \"Masters\", \"Bachelors\"], \"y\": [33.348898746984204, 36.67211456144447, 52.206397385010504], \"type\": \"bar\", \"uid\": \"1bad1c88-b908-11e8-946e-4c3488ea762f\"}],\n",
       "            {\"barmode\": \"group\", \"height\": 400, \"paper_bgcolor\": \"rgba(0,0,0,0)\", \"plot_bgcolor\": \"rgba(0,0,0,0)\", \"title\": \"Packages\", \"width\": 500, \"xaxis\": {\"tickangle\": -40}},\n",
       "            {\"showLink\": true, \"linkText\": \"Export to plot.ly\"}\n",
       "        ).then(function () {return Plotly.addFrames('b6adad49-b995-4054-b9e1-eff9eca40a7f',{});}).then(function(){Plotly.animate('b6adad49-b995-4054-b9e1-eff9eca40a7f');})\n",
       "        });</script>"
      ],
      "text/vnd.plotly.v1+html": [
       "<div id=\"b6adad49-b995-4054-b9e1-eff9eca40a7f\" style=\"height: 400px; width: 500px;\" class=\"plotly-graph-div\"></div><script type=\"text/javascript\">require([\"plotly\"], function(Plotly) { window.PLOTLYENV=window.PLOTLYENV || {};window.PLOTLYENV.BASE_URL=\"https://plot.ly\";\n",
       "        Plotly.plot(\n",
       "            'b6adad49-b995-4054-b9e1-eff9eca40a7f',\n",
       "            [{\"x\": [\"PHD\", \"Masters\", \"Bachelors\"], \"y\": [33.348898746984204, 36.67211456144447, 52.206397385010504], \"type\": \"bar\", \"uid\": \"1bad1c88-b908-11e8-946e-4c3488ea762f\"}],\n",
       "            {\"barmode\": \"group\", \"height\": 400, \"paper_bgcolor\": \"rgba(0,0,0,0)\", \"plot_bgcolor\": \"rgba(0,0,0,0)\", \"title\": \"Packages\", \"width\": 500, \"xaxis\": {\"tickangle\": -40}},\n",
       "            {\"showLink\": true, \"linkText\": \"Export to plot.ly\"}\n",
       "        ).then(function () {return Plotly.addFrames('b6adad49-b995-4054-b9e1-eff9eca40a7f',{});}).then(function(){Plotly.animate('b6adad49-b995-4054-b9e1-eff9eca40a7f');})\n",
       "        });</script>"
      ]
     },
     "metadata": {},
     "output_type": "display_data"
    }
   ],
   "source": [
    "graph_data = []\n",
    "\n",
    "#py.offline.iplot(Figure(data=graph_data, layout=bar_layout), filename='Skillsets1')\n",
    "graph_data = [go.Bar(\n",
    "            x=df_degree['degree'],\n",
    "            y=df_degree['percent']\n",
    "    )]\n",
    "\n",
    "py.offline.iplot(Figure(data=graph_data, layout=bar_layout), filename='degree-barplot')"
   ]
  },
  {
   "cell_type": "code",
   "execution_count": 47,
   "metadata": {
    "collapsed": true
   },
   "outputs": [],
   "source": [
    "df.to_csv('data_cleaned_0912.csv', index = False)"
   ]
  },
  {
   "cell_type": "code",
   "execution_count": 48,
   "metadata": {
    "collapsed": true
   },
   "outputs": [],
   "source": [
    "df = pd.read_csv('data_cleaned_0912.csv')"
   ]
  },
  {
   "cell_type": "code",
   "execution_count": 49,
   "metadata": {},
   "outputs": [
    {
     "data": {
      "text/plain": [
       "(12849, 68)"
      ]
     },
     "execution_count": 49,
     "metadata": {},
     "output_type": "execute_result"
    }
   ],
   "source": [
    "df.shape"
   ]
  },
  {
   "cell_type": "code",
   "execution_count": 50,
   "metadata": {
    "collapsed": true
   },
   "outputs": [],
   "source": [
    "#is the role related to data science \n",
    "role ={'role_relevance': 'ML|[Mm]achine [lL]earning|[Dd]ata [Ss]cien|[Aa]nalytics|[Ss]tatistic'}\n",
    "\n",
    "for position in role:\n",
    "    df[position]=df.title.str.contains(role[position])"
   ]
  },
  {
   "cell_type": "code",
   "execution_count": 51,
   "metadata": {
    "collapsed": true
   },
   "outputs": [],
   "source": [
    "df_datascience_roles = df.loc[df['role_relevance'], :]\n",
    "roles = pd.DataFrame(df_datascience_roles['title'].value_counts().head(20)).reset_index()\n",
    "roles.columns = ['datascience_roles', 'count']"
   ]
  },
  {
   "cell_type": "code",
   "execution_count": 52,
   "metadata": {
    "collapsed": true
   },
   "outputs": [],
   "source": [
    "df_j = df_datascience_roles[df_datascience_roles.description.str.contains('ava') & df_datascience_roles.description.str.contains('ython')]"
   ]
  },
  {
   "cell_type": "code",
   "execution_count": 53,
   "metadata": {},
   "outputs": [
    {
     "data": {
      "text/html": [
       "<div>\n",
       "<style scoped>\n",
       "    .dataframe tbody tr th:only-of-type {\n",
       "        vertical-align: middle;\n",
       "    }\n",
       "\n",
       "    .dataframe tbody tr th {\n",
       "        vertical-align: top;\n",
       "    }\n",
       "\n",
       "    .dataframe thead th {\n",
       "        text-align: right;\n",
       "    }\n",
       "</style>\n",
       "<table border=\"1\" class=\"dataframe\">\n",
       "  <thead>\n",
       "    <tr style=\"text-align: right;\">\n",
       "      <th></th>\n",
       "      <th>company</th>\n",
       "      <th>title</th>\n",
       "      <th>description</th>\n",
       "    </tr>\n",
       "  </thead>\n",
       "  <tbody>\n",
       "    <tr>\n",
       "      <th>177</th>\n",
       "      <td>Achievement Network (ANet)</td>\n",
       "      <td>Junior Data Scientist</td>\n",
       "      <td>Junior Data Scientist Location: Flexible (Bost...</td>\n",
       "    </tr>\n",
       "    <tr>\n",
       "      <th>1275</th>\n",
       "      <td>Rakuten Intelligence</td>\n",
       "      <td>Data Scientist / Machine Learning Engineer - I...</td>\n",
       "      <td>Rakuten Intelligence is looking for a Data Sci...</td>\n",
       "    </tr>\n",
       "    <tr>\n",
       "      <th>1293</th>\n",
       "      <td>Rakuten Intelligence</td>\n",
       "      <td>Data Scientist / Machine Learning Engineer - C...</td>\n",
       "      <td>Rakuten Intelligence is looking for a Data Sci...</td>\n",
       "    </tr>\n",
       "    <tr>\n",
       "      <th>1294</th>\n",
       "      <td>Environmental Defense Fund</td>\n",
       "      <td>VoLo Data Science Fellow</td>\n",
       "      <td>Overview With world attention on both the envi...</td>\n",
       "    </tr>\n",
       "    <tr>\n",
       "      <th>2473</th>\n",
       "      <td>General Assembly</td>\n",
       "      <td>Data Science Instructor</td>\n",
       "      <td>Since 2011, General Assembly has transformed t...</td>\n",
       "    </tr>\n",
       "    <tr>\n",
       "      <th>3219</th>\n",
       "      <td>Google</td>\n",
       "      <td>Data and Machine Learning Technical Trainer, G...</td>\n",
       "      <td>Note: By applying to this position your applic...</td>\n",
       "    </tr>\n",
       "    <tr>\n",
       "      <th>3949</th>\n",
       "      <td>Google</td>\n",
       "      <td>Data and Machine Learning Technical Trainer, G...</td>\n",
       "      <td>Note: By applying to this position your applic...</td>\n",
       "    </tr>\n",
       "    <tr>\n",
       "      <th>4735</th>\n",
       "      <td>Wolverine Trading</td>\n",
       "      <td>Data Science Intern (Summer 2019)</td>\n",
       "      <td>Machine Learning Data Scientist Description We...</td>\n",
       "    </tr>\n",
       "    <tr>\n",
       "      <th>4758</th>\n",
       "      <td>Equity Residential</td>\n",
       "      <td>Data Scientist</td>\n",
       "      <td>Working for Equity Residential (EQR), a leadin...</td>\n",
       "    </tr>\n",
       "    <tr>\n",
       "      <th>4791</th>\n",
       "      <td>Wolverine Trading</td>\n",
       "      <td>Machine Learning Data Scientist</td>\n",
       "      <td>Machine Learning Data Scientist Description We...</td>\n",
       "    </tr>\n",
       "  </tbody>\n",
       "</table>\n",
       "</div>"
      ],
      "text/plain": [
       "                                 company  \\\n",
       "177           Achievement Network (ANet)   \n",
       "1275                Rakuten Intelligence   \n",
       "1293                Rakuten Intelligence   \n",
       "1294          Environmental Defense Fund   \n",
       "2473                    General Assembly   \n",
       "3219                              Google   \n",
       "3949                              Google   \n",
       "4735                   Wolverine Trading   \n",
       "4758                  Equity Residential   \n",
       "4791                   Wolverine Trading   \n",
       "\n",
       "                                                  title  \\\n",
       "177                               Junior Data Scientist   \n",
       "1275  Data Scientist / Machine Learning Engineer - I...   \n",
       "1293  Data Scientist / Machine Learning Engineer - C...   \n",
       "1294                           VoLo Data Science Fellow   \n",
       "2473                            Data Science Instructor   \n",
       "3219  Data and Machine Learning Technical Trainer, G...   \n",
       "3949  Data and Machine Learning Technical Trainer, G...   \n",
       "4735                  Data Science Intern (Summer 2019)   \n",
       "4758                                     Data Scientist   \n",
       "4791                    Machine Learning Data Scientist   \n",
       "\n",
       "                                            description  \n",
       "177   Junior Data Scientist Location: Flexible (Bost...  \n",
       "1275  Rakuten Intelligence is looking for a Data Sci...  \n",
       "1293  Rakuten Intelligence is looking for a Data Sci...  \n",
       "1294  Overview With world attention on both the envi...  \n",
       "2473  Since 2011, General Assembly has transformed t...  \n",
       "3219  Note: By applying to this position your applic...  \n",
       "3949  Note: By applying to this position your applic...  \n",
       "4735  Machine Learning Data Scientist Description We...  \n",
       "4758  Working for Equity Residential (EQR), a leadin...  \n",
       "4791  Machine Learning Data Scientist Description We...  "
      ]
     },
     "execution_count": 53,
     "metadata": {},
     "output_type": "execute_result"
    }
   ],
   "source": [
    "df_j.loc[df_datascience_roles.description.str.contains('ew York'), ['company', 'title', 'description']].head(10)"
   ]
  },
  {
   "cell_type": "code",
   "execution_count": 386,
   "metadata": {},
   "outputs": [
    {
     "data": {
      "text/plain": [
       "(528, 73)"
      ]
     },
     "execution_count": 386,
     "metadata": {},
     "output_type": "execute_result"
    }
   ],
   "source": [
    "df_datascience_roles.loc[df_datascience_roles.city.str.contains('ew York'), :].shape"
   ]
  },
  {
   "cell_type": "code",
   "execution_count": null,
   "metadata": {
    "collapsed": true
   },
   "outputs": [],
   "source": []
  },
  {
   "cell_type": "code",
   "execution_count": 387,
   "metadata": {},
   "outputs": [
    {
     "data": {
      "application/vnd.plotly.v1+json": {
       "data": [
        {
         "type": "bar",
         "uid": "1f2dd7b8-b908-11e8-8caa-4c3488ea762f",
         "x": [
          "Data Scientist",
          "Senior Data Scientist",
          "Machine Learning Engineer",
          "Lead Data Scientist",
          "Sr. Data Scientist",
          "Principal Data Scientist",
          "Data Science Manager",
          "Staff Data Scientist",
          "Director of Data Science",
          "Machine Learning Scientist",
          "Sr Data Scientist",
          "Data Analytics Manager - DI&A Audit Team",
          "Audit Analytics Leader 2",
          "Statistical Analyst",
          "Director, Data Science",
          "Data Scientist II",
          "Data Scientist I",
          "Statistician/Data Scientist",
          "Marketing Data Scientist",
          "Software Engineer, Machine Learning"
         ],
         "y": [
          725,
          192,
          87,
          64,
          56,
          48,
          21,
          20,
          18,
          15,
          14,
          14,
          13,
          13,
          12,
          12,
          11,
          11,
          11,
          10
         ]
        }
       ],
       "layout": {
        "barmode": "group",
        "height": 500,
        "paper_bgcolor": "rgba(0,0,0,0)",
        "plot_bgcolor": "rgba(0,0,0,0)",
        "title": "Datascience Roles",
        "width": 900,
        "xaxis": {
         "tickangle": -20
        }
       }
      },
      "text/html": [
       "<div id=\"19f942e2-f910-4e02-9f74-56877667c31e\" style=\"height: 500px; width: 900px;\" class=\"plotly-graph-div\"></div><script type=\"text/javascript\">require([\"plotly\"], function(Plotly) { window.PLOTLYENV=window.PLOTLYENV || {};window.PLOTLYENV.BASE_URL=\"https://plot.ly\";\n",
       "        Plotly.plot(\n",
       "            '19f942e2-f910-4e02-9f74-56877667c31e',\n",
       "            [{\"x\": [\"Data Scientist\", \"Senior Data Scientist\", \"Machine Learning Engineer\", \"Lead Data Scientist\", \"Sr. Data Scientist\", \"Principal Data Scientist\", \"Data Science Manager\", \"Staff Data Scientist\", \"Director of Data Science\", \"Machine Learning Scientist\", \"Sr Data Scientist\", \"Data Analytics Manager - DI&A Audit Team\", \"Audit Analytics Leader 2\", \"Statistical Analyst\", \"Director, Data Science\", \"Data Scientist II\", \"Data Scientist I\", \"Statistician/Data Scientist\", \"Marketing Data Scientist\", \"Software Engineer, Machine Learning\"], \"y\": [725.0, 192.0, 87.0, 64.0, 56.0, 48.0, 21.0, 20.0, 18.0, 15.0, 14.0, 14.0, 13.0, 13.0, 12.0, 12.0, 11.0, 11.0, 11.0, 10.0], \"type\": \"bar\", \"uid\": \"1f2dd7b8-b908-11e8-8caa-4c3488ea762f\"}],\n",
       "            {\"barmode\": \"group\", \"height\": 500, \"paper_bgcolor\": \"rgba(0,0,0,0)\", \"plot_bgcolor\": \"rgba(0,0,0,0)\", \"title\": \"Datascience Roles\", \"width\": 900, \"xaxis\": {\"tickangle\": -20}},\n",
       "            {\"showLink\": true, \"linkText\": \"Export to plot.ly\"}\n",
       "        ).then(function () {return Plotly.addFrames('19f942e2-f910-4e02-9f74-56877667c31e',{});}).then(function(){Plotly.animate('19f942e2-f910-4e02-9f74-56877667c31e');})\n",
       "        });</script>"
      ],
      "text/vnd.plotly.v1+html": [
       "<div id=\"19f942e2-f910-4e02-9f74-56877667c31e\" style=\"height: 500px; width: 900px;\" class=\"plotly-graph-div\"></div><script type=\"text/javascript\">require([\"plotly\"], function(Plotly) { window.PLOTLYENV=window.PLOTLYENV || {};window.PLOTLYENV.BASE_URL=\"https://plot.ly\";\n",
       "        Plotly.plot(\n",
       "            '19f942e2-f910-4e02-9f74-56877667c31e',\n",
       "            [{\"x\": [\"Data Scientist\", \"Senior Data Scientist\", \"Machine Learning Engineer\", \"Lead Data Scientist\", \"Sr. Data Scientist\", \"Principal Data Scientist\", \"Data Science Manager\", \"Staff Data Scientist\", \"Director of Data Science\", \"Machine Learning Scientist\", \"Sr Data Scientist\", \"Data Analytics Manager - DI&A Audit Team\", \"Audit Analytics Leader 2\", \"Statistical Analyst\", \"Director, Data Science\", \"Data Scientist II\", \"Data Scientist I\", \"Statistician/Data Scientist\", \"Marketing Data Scientist\", \"Software Engineer, Machine Learning\"], \"y\": [725.0, 192.0, 87.0, 64.0, 56.0, 48.0, 21.0, 20.0, 18.0, 15.0, 14.0, 14.0, 13.0, 13.0, 12.0, 12.0, 11.0, 11.0, 11.0, 10.0], \"type\": \"bar\", \"uid\": \"1f2dd7b8-b908-11e8-8caa-4c3488ea762f\"}],\n",
       "            {\"barmode\": \"group\", \"height\": 500, \"paper_bgcolor\": \"rgba(0,0,0,0)\", \"plot_bgcolor\": \"rgba(0,0,0,0)\", \"title\": \"Datascience Roles\", \"width\": 900, \"xaxis\": {\"tickangle\": -20}},\n",
       "            {\"showLink\": true, \"linkText\": \"Export to plot.ly\"}\n",
       "        ).then(function () {return Plotly.addFrames('19f942e2-f910-4e02-9f74-56877667c31e',{});}).then(function(){Plotly.animate('19f942e2-f910-4e02-9f74-56877667c31e');})\n",
       "        });</script>"
      ]
     },
     "metadata": {},
     "output_type": "display_data"
    }
   ],
   "source": [
    "bar_layout = Layout(\n",
    "    barmode='group',\n",
    "    height=500,\n",
    "    width=900,\n",
    "    xaxis=dict(tickangle=-20),\n",
    "    paper_bgcolor='rgba(0,0,0,0)',\n",
    "    plot_bgcolor='rgba(0,0,0,0)',\n",
    "    title = 'Datascience Roles'\n",
    ")\n",
    "\n",
    "graph_data = []\n",
    "\n",
    "#py.offline.iplot(Figure(data=graph_data, layout=bar_layout), filename='Skillsets1')\n",
    "graph_data = [go.Bar(\n",
    "            x=roles['datascience_roles'],\n",
    "            y=roles['count']\n",
    "    )]\n",
    "\n",
    "py.offline.iplot(Figure(data=graph_data, layout=bar_layout), filename='roles-barplot')"
   ]
  },
  {
   "cell_type": "code",
   "execution_count": 388,
   "metadata": {},
   "outputs": [
    {
     "data": {
      "application/vnd.plotly.v1+json": {
       "data": [
        {
         "type": "bar",
         "uid": "1f4a75ba-b908-11e8-9e78-4c3488ea762f",
         "x": [
          "        Facebook",
          "        KPMG",
          "        Google",
          "        Harnham",
          "        Wells Fargo",
          "        Capital One",
          "        JP Morgan Chase",
          "        Booz Allen Hamilton",
          "        Jobspring Partners",
          "        Allstate",
          "        All-In Analytics",
          "        McKinsey & Company",
          "        Walmart",
          "        General Assembly",
          "        Microsoft",
          "        Citi",
          "        stanleyreid",
          "        Accenture",
          "        EXL",
          "        Workbridge Associates",
          "        NIKE INC",
          "        MONSANTO",
          "        Uber",
          "        Twitter",
          "        Eli Lilly"
         ],
         "y": [
          81,
          77,
          60,
          54,
          39,
          38,
          36,
          28,
          26,
          21,
          20,
          20,
          20,
          19,
          19,
          19,
          19,
          18,
          18,
          17,
          17,
          17,
          16,
          16,
          16
         ]
        }
       ],
       "layout": {
        "barmode": "group",
        "height": 500,
        "paper_bgcolor": "rgba(0,0,0,0)",
        "plot_bgcolor": "rgba(0,0,0,0)",
        "title": "Datascience Roles",
        "width": 900,
        "xaxis": {
         "tickangle": -20
        }
       }
      },
      "text/html": [
       "<div id=\"a9b9738e-06d9-4be2-9d38-8475164b4d6e\" style=\"height: 500px; width: 900px;\" class=\"plotly-graph-div\"></div><script type=\"text/javascript\">require([\"plotly\"], function(Plotly) { window.PLOTLYENV=window.PLOTLYENV || {};window.PLOTLYENV.BASE_URL=\"https://plot.ly\";\n",
       "        Plotly.plot(\n",
       "            'a9b9738e-06d9-4be2-9d38-8475164b4d6e',\n",
       "            [{\"x\": [\"        Facebook\", \"        KPMG\", \"        Google\", \"        Harnham\", \"        Wells Fargo\", \"        Capital One\", \"        JP Morgan Chase\", \"        Booz Allen Hamilton\", \"        Jobspring Partners\", \"        Allstate\", \"        All-In Analytics\", \"        McKinsey & Company\", \"        Walmart\", \"        General Assembly\", \"        Microsoft\", \"        Citi\", \"        stanleyreid\", \"        Accenture\", \"        EXL\", \"        Workbridge Associates\", \"        NIKE INC\", \"        MONSANTO\", \"        Uber\", \"        Twitter\", \"        Eli Lilly\"], \"y\": [81.0, 77.0, 60.0, 54.0, 39.0, 38.0, 36.0, 28.0, 26.0, 21.0, 20.0, 20.0, 20.0, 19.0, 19.0, 19.0, 19.0, 18.0, 18.0, 17.0, 17.0, 17.0, 16.0, 16.0, 16.0], \"type\": \"bar\", \"uid\": \"1f4a75ba-b908-11e8-9e78-4c3488ea762f\"}],\n",
       "            {\"barmode\": \"group\", \"height\": 500, \"paper_bgcolor\": \"rgba(0,0,0,0)\", \"plot_bgcolor\": \"rgba(0,0,0,0)\", \"title\": \"Datascience Roles\", \"width\": 900, \"xaxis\": {\"tickangle\": -20}},\n",
       "            {\"showLink\": true, \"linkText\": \"Export to plot.ly\"}\n",
       "        ).then(function () {return Plotly.addFrames('a9b9738e-06d9-4be2-9d38-8475164b4d6e',{});}).then(function(){Plotly.animate('a9b9738e-06d9-4be2-9d38-8475164b4d6e');})\n",
       "        });</script>"
      ],
      "text/vnd.plotly.v1+html": [
       "<div id=\"a9b9738e-06d9-4be2-9d38-8475164b4d6e\" style=\"height: 500px; width: 900px;\" class=\"plotly-graph-div\"></div><script type=\"text/javascript\">require([\"plotly\"], function(Plotly) { window.PLOTLYENV=window.PLOTLYENV || {};window.PLOTLYENV.BASE_URL=\"https://plot.ly\";\n",
       "        Plotly.plot(\n",
       "            'a9b9738e-06d9-4be2-9d38-8475164b4d6e',\n",
       "            [{\"x\": [\"        Facebook\", \"        KPMG\", \"        Google\", \"        Harnham\", \"        Wells Fargo\", \"        Capital One\", \"        JP Morgan Chase\", \"        Booz Allen Hamilton\", \"        Jobspring Partners\", \"        Allstate\", \"        All-In Analytics\", \"        McKinsey & Company\", \"        Walmart\", \"        General Assembly\", \"        Microsoft\", \"        Citi\", \"        stanleyreid\", \"        Accenture\", \"        EXL\", \"        Workbridge Associates\", \"        NIKE INC\", \"        MONSANTO\", \"        Uber\", \"        Twitter\", \"        Eli Lilly\"], \"y\": [81.0, 77.0, 60.0, 54.0, 39.0, 38.0, 36.0, 28.0, 26.0, 21.0, 20.0, 20.0, 20.0, 19.0, 19.0, 19.0, 19.0, 18.0, 18.0, 17.0, 17.0, 17.0, 16.0, 16.0, 16.0], \"type\": \"bar\", \"uid\": \"1f4a75ba-b908-11e8-9e78-4c3488ea762f\"}],\n",
       "            {\"barmode\": \"group\", \"height\": 500, \"paper_bgcolor\": \"rgba(0,0,0,0)\", \"plot_bgcolor\": \"rgba(0,0,0,0)\", \"title\": \"Datascience Roles\", \"width\": 900, \"xaxis\": {\"tickangle\": -20}},\n",
       "            {\"showLink\": true, \"linkText\": \"Export to plot.ly\"}\n",
       "        ).then(function () {return Plotly.addFrames('a9b9738e-06d9-4be2-9d38-8475164b4d6e',{});}).then(function(){Plotly.animate('a9b9738e-06d9-4be2-9d38-8475164b4d6e');})\n",
       "        });</script>"
      ]
     },
     "metadata": {},
     "output_type": "display_data"
    }
   ],
   "source": [
    "# Top hiring companies for data scientists in the top25 hiring cities\n",
    "top_jobs_company = df_datascience_roles.groupby(['company']).size().reset_index(name='count').sort_values(by=['count'], ascending=False).head(25)\n",
    "data = [go.Bar(\n",
    "            x=top_jobs_company['company'],\n",
    "            y=top_jobs_company['count']\n",
    "    )]\n",
    "\n",
    "py.offline.iplot(Figure(data=data, layout=bar_layout), filename='company-jobs')"
   ]
  },
  {
   "cell_type": "code",
   "execution_count": 389,
   "metadata": {
    "collapsed": true
   },
   "outputs": [],
   "source": [
    "# Number of postings for the top 25 cities\n",
    "by_city = df_datascience_roles.groupby(['city']).size().reset_index(name='count')\n",
    "top_10_cities = by_city.sort_values(by=['count'], ascending=False).head(10)\n",
    "top_10_cities = list(top_10_cities.city)"
   ]
  },
  {
   "cell_type": "code",
   "execution_count": 390,
   "metadata": {},
   "outputs": [
    {
     "data": {
      "application/vnd.plotly.v1+json": {
       "data": [
        {
         "name": "New York",
         "type": "bar",
         "uid": "1fa5a2ee-b908-11e8-843e-4c3488ea762f",
         "x": [
          "        JP Morgan Chase-1",
          "        Harnham-1",
          "        Capital One-1"
         ],
         "y": [
          23,
          15,
          12
         ]
        },
        {
         "name": "San Francisco",
         "type": "bar",
         "uid": "1fa5a2ef-b908-11e8-93fd-4c3488ea762f",
         "x": [
          "        Harnham-2",
          "        Uber-2",
          "        All-In Analytics-2"
         ],
         "y": [
          17,
          16,
          15
         ]
        },
        {
         "name": "San Jose",
         "type": "bar",
         "uid": "1fa5a2f0-b908-11e8-8121-4c3488ea762f",
         "x": [
          "        Facebook-3",
          "        Google-3",
          "        Electronic Arts-3"
         ],
         "y": [
          57,
          21,
          12
         ]
        },
        {
         "name": "Washington DC",
         "type": "bar",
         "uid": "1fa5a2f1-b908-11e8-aaad-4c3488ea762f",
         "x": [
          "        Capital One-4",
          "        Booz Allen Hamilton-4",
          "        stanleyreid-4"
         ],
         "y": [
          22,
          21,
          19
         ]
        },
        {
         "name": "Boston",
         "type": "bar",
         "uid": "1fa5a2f2-b908-11e8-a149-4c3488ea762f",
         "x": [
          "        McKinsey & Company-5",
          "        Wayfair-5",
          "        Harnham-5"
         ],
         "y": [
          10,
          10,
          9
         ]
        },
        {
         "name": "Seattle",
         "type": "bar",
         "uid": "1fa5a2f3-b908-11e8-9c7a-4c3488ea762f",
         "x": [
          "        Microsoft-6",
          "        Facebook-6",
          "        KPMG-6"
         ],
         "y": [
          18,
          15,
          12
         ]
        },
        {
         "name": "Chicago",
         "type": "bar",
         "uid": "1fa5a2f4-b908-11e8-bbb1-4c3488ea762f",
         "x": [
          "        KPMG-7",
          "        Allstate-7",
          "        Tempus-7"
         ],
         "y": [
          11,
          7,
          6
         ]
        },
        {
         "name": "Los Angeles",
         "type": "bar",
         "uid": "1fa5a2f5-b908-11e8-ae9a-4c3488ea762f",
         "x": [
          "        KPMG-8",
          "        The Aerospace Corporation-8",
          "        Beyond Limits-8"
         ],
         "y": [
          5,
          5,
          5
         ]
        },
        {
         "name": "Dallas",
         "type": "bar",
         "uid": "1fa5a2f6-b908-11e8-833d-4c3488ea762f",
         "x": [
          "        Axius Technologies-9",
          "        KPMG-9",
          "        Citi-9"
         ],
         "y": [
          13,
          10,
          9
         ]
        },
        {
         "name": "Atlanta",
         "type": "bar",
         "uid": "1fa5a2f7-b908-11e8-9b7e-4c3488ea762f",
         "x": [
          "        KPMG-10",
          "        Accenture-10",
          "        Honeywell-10"
         ],
         "y": [
          17,
          7,
          5
         ]
        }
       ],
       "layout": {
        "barmode": "group",
        "height": 600,
        "margin": {
         "b": 150,
         "pad": 4
        },
        "paper_bgcolor": "rgba(0,0,0,0)",
        "plot_bgcolor": "rgba(0,0,0,0)",
        "width": 1200,
        "xaxis": {
         "tickangle": -40
        }
       }
      },
      "text/html": [
       "<div id=\"13b863d7-f11c-4665-9e59-633c117adf57\" style=\"height: 600px; width: 1200px;\" class=\"plotly-graph-div\"></div><script type=\"text/javascript\">require([\"plotly\"], function(Plotly) { window.PLOTLYENV=window.PLOTLYENV || {};window.PLOTLYENV.BASE_URL=\"https://plot.ly\";\n",
       "        Plotly.plot(\n",
       "            '13b863d7-f11c-4665-9e59-633c117adf57',\n",
       "            [{\"name\": \"New York\", \"x\": [\"        JP Morgan Chase-1\", \"        Harnham-1\", \"        Capital One-1\"], \"y\": [23, 15, 12], \"type\": \"bar\", \"uid\": \"1fa5a2ee-b908-11e8-843e-4c3488ea762f\"}, {\"name\": \"San Francisco\", \"x\": [\"        Harnham-2\", \"        Uber-2\", \"        All-In Analytics-2\"], \"y\": [17, 16, 15], \"type\": \"bar\", \"uid\": \"1fa5a2ef-b908-11e8-93fd-4c3488ea762f\"}, {\"name\": \"San Jose\", \"x\": [\"        Facebook-3\", \"        Google-3\", \"        Electronic Arts-3\"], \"y\": [57, 21, 12], \"type\": \"bar\", \"uid\": \"1fa5a2f0-b908-11e8-8121-4c3488ea762f\"}, {\"name\": \"Washington DC\", \"x\": [\"        Capital One-4\", \"        Booz Allen Hamilton-4\", \"        stanleyreid-4\"], \"y\": [22, 21, 19], \"type\": \"bar\", \"uid\": \"1fa5a2f1-b908-11e8-aaad-4c3488ea762f\"}, {\"name\": \"Boston\", \"x\": [\"        McKinsey & Company-5\", \"        Wayfair-5\", \"        Harnham-5\"], \"y\": [10, 10, 9], \"type\": \"bar\", \"uid\": \"1fa5a2f2-b908-11e8-a149-4c3488ea762f\"}, {\"name\": \"Seattle\", \"x\": [\"        Microsoft-6\", \"        Facebook-6\", \"        KPMG-6\"], \"y\": [18, 15, 12], \"type\": \"bar\", \"uid\": \"1fa5a2f3-b908-11e8-9c7a-4c3488ea762f\"}, {\"name\": \"Chicago\", \"x\": [\"        KPMG-7\", \"        Allstate-7\", \"        Tempus-7\"], \"y\": [11, 7, 6], \"type\": \"bar\", \"uid\": \"1fa5a2f4-b908-11e8-bbb1-4c3488ea762f\"}, {\"name\": \"Los Angeles\", \"x\": [\"        KPMG-8\", \"        The Aerospace Corporation-8\", \"        Beyond Limits-8\"], \"y\": [5, 5, 5], \"type\": \"bar\", \"uid\": \"1fa5a2f5-b908-11e8-ae9a-4c3488ea762f\"}, {\"name\": \"Dallas\", \"x\": [\"        Axius Technologies-9\", \"        KPMG-9\", \"        Citi-9\"], \"y\": [13, 10, 9], \"type\": \"bar\", \"uid\": \"1fa5a2f6-b908-11e8-833d-4c3488ea762f\"}, {\"name\": \"Atlanta\", \"x\": [\"        KPMG-10\", \"        Accenture-10\", \"        Honeywell-10\"], \"y\": [17, 7, 5], \"type\": \"bar\", \"uid\": \"1fa5a2f7-b908-11e8-9b7e-4c3488ea762f\"}],\n",
       "            {\"barmode\": \"group\", \"height\": 600, \"margin\": {\"b\": 150, \"pad\": 4}, \"paper_bgcolor\": \"rgba(0,0,0,0)\", \"plot_bgcolor\": \"rgba(0,0,0,0)\", \"width\": 1200, \"xaxis\": {\"tickangle\": -40}},\n",
       "            {\"showLink\": true, \"linkText\": \"Export to plot.ly\"}\n",
       "        ).then(function () {return Plotly.addFrames('13b863d7-f11c-4665-9e59-633c117adf57',{});}).then(function(){Plotly.animate('13b863d7-f11c-4665-9e59-633c117adf57');})\n",
       "        });</script>"
      ],
      "text/vnd.plotly.v1+html": [
       "<div id=\"13b863d7-f11c-4665-9e59-633c117adf57\" style=\"height: 600px; width: 1200px;\" class=\"plotly-graph-div\"></div><script type=\"text/javascript\">require([\"plotly\"], function(Plotly) { window.PLOTLYENV=window.PLOTLYENV || {};window.PLOTLYENV.BASE_URL=\"https://plot.ly\";\n",
       "        Plotly.plot(\n",
       "            '13b863d7-f11c-4665-9e59-633c117adf57',\n",
       "            [{\"name\": \"New York\", \"x\": [\"        JP Morgan Chase-1\", \"        Harnham-1\", \"        Capital One-1\"], \"y\": [23, 15, 12], \"type\": \"bar\", \"uid\": \"1fa5a2ee-b908-11e8-843e-4c3488ea762f\"}, {\"name\": \"San Francisco\", \"x\": [\"        Harnham-2\", \"        Uber-2\", \"        All-In Analytics-2\"], \"y\": [17, 16, 15], \"type\": \"bar\", \"uid\": \"1fa5a2ef-b908-11e8-93fd-4c3488ea762f\"}, {\"name\": \"San Jose\", \"x\": [\"        Facebook-3\", \"        Google-3\", \"        Electronic Arts-3\"], \"y\": [57, 21, 12], \"type\": \"bar\", \"uid\": \"1fa5a2f0-b908-11e8-8121-4c3488ea762f\"}, {\"name\": \"Washington DC\", \"x\": [\"        Capital One-4\", \"        Booz Allen Hamilton-4\", \"        stanleyreid-4\"], \"y\": [22, 21, 19], \"type\": \"bar\", \"uid\": \"1fa5a2f1-b908-11e8-aaad-4c3488ea762f\"}, {\"name\": \"Boston\", \"x\": [\"        McKinsey & Company-5\", \"        Wayfair-5\", \"        Harnham-5\"], \"y\": [10, 10, 9], \"type\": \"bar\", \"uid\": \"1fa5a2f2-b908-11e8-a149-4c3488ea762f\"}, {\"name\": \"Seattle\", \"x\": [\"        Microsoft-6\", \"        Facebook-6\", \"        KPMG-6\"], \"y\": [18, 15, 12], \"type\": \"bar\", \"uid\": \"1fa5a2f3-b908-11e8-9c7a-4c3488ea762f\"}, {\"name\": \"Chicago\", \"x\": [\"        KPMG-7\", \"        Allstate-7\", \"        Tempus-7\"], \"y\": [11, 7, 6], \"type\": \"bar\", \"uid\": \"1fa5a2f4-b908-11e8-bbb1-4c3488ea762f\"}, {\"name\": \"Los Angeles\", \"x\": [\"        KPMG-8\", \"        The Aerospace Corporation-8\", \"        Beyond Limits-8\"], \"y\": [5, 5, 5], \"type\": \"bar\", \"uid\": \"1fa5a2f5-b908-11e8-ae9a-4c3488ea762f\"}, {\"name\": \"Dallas\", \"x\": [\"        Axius Technologies-9\", \"        KPMG-9\", \"        Citi-9\"], \"y\": [13, 10, 9], \"type\": \"bar\", \"uid\": \"1fa5a2f6-b908-11e8-833d-4c3488ea762f\"}, {\"name\": \"Atlanta\", \"x\": [\"        KPMG-10\", \"        Accenture-10\", \"        Honeywell-10\"], \"y\": [17, 7, 5], \"type\": \"bar\", \"uid\": \"1fa5a2f7-b908-11e8-9b7e-4c3488ea762f\"}],\n",
       "            {\"barmode\": \"group\", \"height\": 600, \"margin\": {\"b\": 150, \"pad\": 4}, \"paper_bgcolor\": \"rgba(0,0,0,0)\", \"plot_bgcolor\": \"rgba(0,0,0,0)\", \"width\": 1200, \"xaxis\": {\"tickangle\": -40}},\n",
       "            {\"showLink\": true, \"linkText\": \"Export to plot.ly\"}\n",
       "        ).then(function () {return Plotly.addFrames('13b863d7-f11c-4665-9e59-633c117adf57',{});}).then(function(){Plotly.animate('13b863d7-f11c-4665-9e59-633c117adf57');})\n",
       "        });</script>"
      ]
     },
     "metadata": {},
     "output_type": "display_data"
    }
   ],
   "source": [
    "graph_data = []\n",
    "i=1\n",
    "for city in top_10_cities:\n",
    "    job_count_by_company = df_datascience_roles[df_datascience_roles['city']==city].groupby(['company']).\\\n",
    "                        size().reset_index(name='count')\n",
    "    top_3_companies_in_city = job_count_by_company.sort_values(by=['count'], ascending=False).head(3)\n",
    "\n",
    "    graph_data.append(go.Bar(\n",
    "        x = list(top_3_companies_in_city['company']+'-'+str(i)),\n",
    "        y = list(top_3_companies_in_city['count']),\n",
    "        name = city))\n",
    "    i+=1\n",
    "\n",
    "bar_layout = Layout(\n",
    "    width=1200,\n",
    "    height=600,\n",
    "    xaxis=dict(tickangle=-40),\n",
    "    barmode='group',\n",
    "    margin=go.layout.Margin(\n",
    "        b=150,\n",
    "        pad=4\n",
    "    ),\n",
    "    paper_bgcolor='rgba(0,0,0,0)',\n",
    "    plot_bgcolor='rgba(0,0,0,0)'\n",
    ")\n",
    "py.offline.iplot(Figure(data=graph_data, layout=bar_layout), filename='top10_hirin_companies')"
   ]
  },
  {
   "cell_type": "markdown",
   "metadata": {},
   "source": [
    "# Look at Salary"
   ]
  },
  {
   "cell_type": "code",
   "execution_count": 391,
   "metadata": {
    "collapsed": true
   },
   "outputs": [],
   "source": [
    "df.to_csv('dataprep_for_salaryprocessing.csv', index = False)\n",
    "df = pd.read_csv('dataprep_for_salaryprocessing.csv')"
   ]
  },
  {
   "cell_type": "code",
   "execution_count": 392,
   "metadata": {
    "collapsed": true
   },
   "outputs": [],
   "source": [
    "df = df[df['salary'] != 'None'].drop_duplicates()\n",
    "df = df.loc[df['salary'].notnull(), :]\n",
    "#.drop_duplicates().dropna()"
   ]
  },
  {
   "cell_type": "code",
   "execution_count": 393,
   "metadata": {
    "collapsed": true
   },
   "outputs": [],
   "source": [
    "df = df[df.salary.str.contains(\"hour\") == False]\n",
    "df = df[df.salary.str.contains(\"month\") == False]"
   ]
  },
  {
   "cell_type": "code",
   "execution_count": 394,
   "metadata": {},
   "outputs": [
    {
     "data": {
      "text/plain": [
       "(864, 73)"
      ]
     },
     "execution_count": 394,
     "metadata": {},
     "output_type": "execute_result"
    }
   ],
   "source": [
    "df.shape"
   ]
  },
  {
   "cell_type": "code",
   "execution_count": 395,
   "metadata": {
    "collapsed": true
   },
   "outputs": [],
   "source": [
    "def get_mean_salary(df, col):\n",
    "    df[col].replace({'\\$':''}, regex = True, inplace = True)\n",
    "    df[col].replace(regex=True,inplace=True,to_replace=r'\\D',value=r' ')\n",
    "    df[col] = df[col].str.strip()\n",
    "    df[col] = df[col].str.replace(' ',',')\n",
    "    df = df.join(df[col].str.split(',,,', 1, expand=True).rename(columns={0:'min', 1:'max'}))\n",
    "    df['min'] = df['min'].str.replace(',','')\n",
    "    df['max'] = df['max'].str.replace(',','')\n",
    "    df['min'] = df['min'].str.replace(' ','')\n",
    "    df['min'] = df['min'].astype('float64')\n",
    "    df['max'] = df['max'].str.replace(' ','')\n",
    "    df['max'] = df['max'].astype('float64')\n",
    "    df.drop(['salary'], axis = 1, inplace = True)\n",
    "    df['salary'] = df[['min', 'max']].mean(axis=1)\n",
    "    df.drop(['min','max'], axis=1, inplace = True)\n",
    "    return df"
   ]
  },
  {
   "cell_type": "code",
   "execution_count": 396,
   "metadata": {
    "collapsed": true
   },
   "outputs": [],
   "source": [
    "df = get_mean_salary(df, 'salary')"
   ]
  },
  {
   "cell_type": "code",
   "execution_count": 397,
   "metadata": {},
   "outputs": [
    {
     "data": {
      "application/vnd.plotly.v1+json": {
       "data": [
        {
         "type": "histogram",
         "uid": "23f42cc2-b908-11e8-a03c-4c3488ea762f",
         "x": [
          88161,
          88161,
          145000,
          55750,
          35250,
          90000,
          50000,
          44016,
          51000,
          29500,
          80500,
          111500,
          110500,
          129500,
          140500,
          150000,
          35000,
          87500,
          110000,
          46500,
          110000,
          125000,
          55000,
          150000,
          48152.5,
          68582,
          110000,
          117000,
          120000,
          119000,
          126000,
          121500,
          127500,
          152500,
          162500,
          100000,
          106000,
          61639,
          60000,
          52500,
          61500,
          152500,
          175000,
          130000,
          135000,
          126000,
          98500,
          96500,
          100000,
          110000,
          110000,
          130000,
          175000,
          77050,
          77791.5,
          39655,
          132500,
          91832.5,
          60000,
          84150.5,
          160000,
          150000,
          36565,
          160000,
          117000,
          100000,
          91832.5,
          130000,
          125000,
          160000,
          185000,
          66890,
          133500,
          96000,
          131018.5,
          85000,
          160000,
          98089.5,
          24000,
          105376,
          85000,
          120000,
          150000,
          90000,
          160000,
          180000,
          165000,
          180000,
          275000,
          165000,
          165000,
          225000,
          190000,
          165000,
          165000,
          165000,
          115000,
          127500,
          137500,
          130282,
          165000,
          165000,
          165000,
          195000,
          165000,
          155000,
          165000,
          89700,
          110100,
          175000,
          165000,
          165000,
          135000,
          150000,
          73774,
          125000,
          120000,
          120000,
          79500,
          37500,
          45500,
          120000,
          92500,
          29476.5,
          165000,
          115000,
          80000,
          82500,
          115000,
          124000,
          116000,
          119000,
          105500,
          135000,
          116000,
          135000,
          45000,
          65000,
          117500,
          165000,
          156500,
          112500,
          120500,
          117000,
          153500,
          56677,
          65500,
          50000,
          58574.5,
          90000,
          47500,
          69500,
          72500,
          50000,
          85000,
          47500,
          97372,
          165000,
          97372,
          71908,
          135000,
          55000,
          79383,
          57500,
          70000,
          85158,
          125500,
          60000,
          72500,
          60000,
          170000,
          81500,
          47500,
          92000,
          51500,
          52500,
          111000,
          85000,
          123500,
          82500,
          78102,
          75000,
          127500,
          131778.5,
          97015,
          225000,
          105000,
          140000,
          62500,
          160000,
          130000,
          78102,
          57500,
          115000,
          95000,
          87024,
          100858,
          50000,
          158927.5,
          97049,
          80500,
          137500,
          88512,
          81122.5,
          111516,
          105000,
          74623.5,
          111516,
          93780,
          62500,
          82500,
          120000,
          150000,
          78102,
          155000,
          156500,
          142000,
          121500,
          105000,
          117500,
          103805,
          78102,
          128440,
          149494.5,
          127500,
          130000,
          48696,
          150000,
          70000,
          124000,
          128500,
          78102,
          165000,
          115000,
          150000,
          140000,
          93792.5,
          103805,
          58000,
          175000,
          80000,
          153024,
          170171,
          173634,
          110000,
          93780,
          95000,
          145000,
          150000,
          142500,
          120000,
          100000,
          100000,
          34000,
          55392.5,
          152500,
          170000,
          110000,
          125000,
          113500,
          123000,
          110000,
          125000,
          133000,
          124500,
          115000,
          115000,
          115000,
          60000,
          75400,
          108600,
          32900,
          50375,
          39450,
          56000,
          46000,
          72300,
          87750,
          134500,
          133000,
          133000,
          133000,
          60525.5,
          60525.5,
          53836,
          140000,
          75000,
          74000,
          44700,
          103805,
          135000,
          173634,
          103805,
          44865.5,
          68295.5,
          70282.5,
          149494.5,
          110000,
          70282,
          133000,
          102500,
          105500,
          118000,
          153500,
          126500,
          121500,
          133000,
          82500,
          48419.5,
          95000,
          165000,
          104500,
          117000,
          108000,
          77500,
          142500,
          105000,
          105000,
          127500,
          65000,
          100000,
          90000,
          42500,
          57500,
          57702,
          112500,
          150000,
          72500,
          165000,
          107500,
          150000,
          99000,
          144000,
          150000,
          110000,
          127500,
          150000,
          130000,
          120000,
          110500,
          134000,
          123000,
          103000,
          49000,
          120000,
          110500,
          134000,
          123000,
          145000,
          135000,
          160000,
          150000,
          160000,
          48000,
          250000,
          162500,
          170000,
          140000,
          155000,
          140000,
          80000,
          80000,
          110000,
          170000,
          215000,
          110000,
          45300,
          180000,
          250000,
          250000,
          115000,
          160000,
          105000,
          104500,
          120000,
          275000,
          141000,
          103000,
          155500,
          80000,
          190000,
          165000,
          165000,
          90000,
          195000,
          65800,
          155000,
          165000,
          90000,
          70500,
          112500,
          135000,
          275000,
          165000,
          101000,
          120500,
          90000,
          165000,
          97500,
          52000,
          103500,
          127000,
          119000,
          120000,
          113500,
          104500,
          98000,
          37500,
          119000,
          52472,
          87000,
          101000,
          134000,
          95000,
          40300,
          160000,
          126500,
          95500,
          120500,
          97500,
          165000,
          112500,
          148000,
          92000,
          102000,
          95500,
          130500,
          133000,
          149000,
          106500,
          105000,
          129500,
          102000,
          113500,
          112500,
          129000,
          67407,
          113500,
          70000,
          66500,
          74500,
          76950,
          122500,
          74000,
          47500,
          122500,
          161000,
          165000,
          87000,
          70000,
          140000,
          49000,
          43000,
          100000,
          94050,
          125000,
          108000,
          95000,
          63500,
          63500,
          106820,
          140000,
          117000,
          102500,
          103500,
          100000,
          60000,
          76000,
          100000,
          67500,
          165000,
          102500,
          134000,
          101000,
          75000,
          200000,
          91505.5,
          106000,
          137500,
          21000,
          225000,
          84150.5,
          145000,
          170000,
          177500,
          165000,
          144000,
          125000,
          102606,
          125000,
          119000,
          152000,
          140500,
          127000,
          143500,
          95000,
          80000,
          75000,
          102500,
          41500,
          80000,
          131626.5,
          200000,
          150000,
          165000,
          80500,
          180000,
          102500,
          118500,
          130000,
          120000,
          113500,
          112500,
          127000,
          80500,
          78000,
          75283.5,
          35500,
          165000,
          125500,
          117500,
          110000,
          137507,
          123197,
          85000,
          56000,
          92500,
          65000,
          165000,
          94000,
          106500,
          135000,
          76265,
          100000,
          75557.5,
          150000,
          70000,
          77035,
          77035,
          125000,
          127500,
          65570,
          75557.5,
          59708,
          62693,
          79249.5,
          115000,
          61797.5,
          87500,
          36500,
          157500,
          125000,
          205000,
          200000,
          175000,
          62693,
          85000,
          175000,
          50000,
          45000,
          75557.5,
          78790.5,
          62693,
          78790.5,
          75557.5,
          212500,
          75557.5,
          75557.5,
          120000,
          135000,
          140000,
          70000,
          57500,
          120000,
          75557.5,
          165000,
          90000,
          65977,
          77500,
          94821.5,
          180000,
          106919,
          120000,
          75557.5,
          82500,
          61797.5,
          50430,
          50000,
          78261,
          150000,
          125000,
          77035,
          165000,
          55000,
          81802,
          77035,
          88144.5,
          165000,
          120000,
          152500,
          110000,
          61797.5,
          79249.5,
          78790.5,
          100803,
          882.5,
          160000,
          77035,
          42000,
          250000,
          95000,
          62693,
          137500,
          190000,
          120000,
          90000,
          90000,
          275000,
          150000,
          90981,
          79249.5,
          117500,
          62693,
          886,
          78057.5,
          202500,
          157500,
          86500,
          160000,
          54390,
          125000,
          126500,
          126000,
          134500,
          129500,
          79249.5,
          61797.5,
          88144.5,
          129500,
          137000,
          165000,
          77035,
          62693,
          81802,
          120000,
          152500,
          77035,
          120000,
          160000,
          79249.5,
          110000,
          90981,
          77035,
          90000,
          42000,
          61797.5,
          250000,
          82500,
          62693,
          117000,
          275000,
          62693,
          137500,
          78057.5,
          90981,
          117500,
          882.5,
          90000,
          190000,
          58717.5,
          886,
          202500,
          87915,
          140000,
          160000,
          62693,
          75557.5,
          65977,
          150000,
          78343,
          98884,
          105000,
          62693,
          110000,
          170000,
          75557.5,
          48000,
          55000,
          100803,
          97500,
          50000,
          36500,
          40000,
          22500,
          110000,
          70000,
          250000,
          53000,
          115000,
          55000,
          115000,
          252500,
          50000,
          130000,
          127500,
          125000,
          70000,
          165000,
          139120.5,
          110000,
          59000,
          122500,
          85500,
          95500,
          120500,
          127500,
          78500,
          96500,
          108000,
          116000,
          80000,
          75000,
          82000,
          115000,
          97500,
          53508,
          50164,
          45430,
          54974.5,
          54974.5,
          53508,
          54974.5,
          54974.5,
          50524,
          53892.5,
          61132,
          75000,
          53508,
          53892.5,
          50164,
          63669,
          50164,
          51539,
          109000,
          97000,
          43000,
          148000,
          51000,
          117000,
          114000,
          107000,
          120500,
          126000,
          145000,
          145000,
          160000,
          150000,
          120000,
          250000,
          170000,
          135000,
          154500,
          148000,
          118000,
          158000,
          132500,
          170000,
          148000,
          126000,
          135000,
          150000,
          120000,
          175000,
          50000,
          200000,
          115000,
          48361,
          180000,
          250000,
          185000,
          90000,
          250000,
          130282,
          167500,
          170000,
          170000,
          111500,
          99000,
          121500,
          129500,
          187500,
          135000,
          121135.5,
          225000,
          101869.5,
          180000,
          147500,
          60000,
          160000,
          133576,
          145500,
          135500,
          150000,
          175000,
          185000,
          120000,
          180000,
          145000,
          119500,
          124000,
          140000,
          94500,
          73663.5,
          135000,
          104000,
          140000,
          125000,
          110000,
          150000,
          90000,
          150000,
          122500,
          132500,
          200000,
          85000,
          40000,
          145000,
          41000,
          85000,
          165000,
          125000,
          107500,
          125000,
          167500,
          197000,
          110000,
          126500,
          145000,
          48000,
          143000,
          151000,
          135000,
          109000,
          142500,
          125000,
          126000,
          157000,
          160000,
          110000,
          132500,
          45300,
          162500,
          250000,
          105000,
          110000,
          170000,
          140000,
          120000,
          250000,
          115000,
          215000,
          65800,
          180000,
          250000
         ]
        }
       ],
       "layout": {
        "height": 400,
        "title": "Salary histogram",
        "width": 600
       }
      },
      "text/html": [
       "<div id=\"eb847594-c1ca-479e-ade7-6b5647972f1c\" style=\"height: 400px; width: 600px;\" class=\"plotly-graph-div\"></div><script type=\"text/javascript\">require([\"plotly\"], function(Plotly) { window.PLOTLYENV=window.PLOTLYENV || {};window.PLOTLYENV.BASE_URL=\"https://plot.ly\";\n",
       "        Plotly.plot(\n",
       "            'eb847594-c1ca-479e-ade7-6b5647972f1c',\n",
       "            [{\"x\": [88161.0, 88161.0, 145000.0, 55750.0, 35250.0, 90000.0, 50000.0, 44016.0, 51000.0, 29500.0, 80500.0, 111500.0, 110500.0, 129500.0, 140500.0, 150000.0, 35000.0, 87500.0, 110000.0, 46500.0, 110000.0, 125000.0, 55000.0, 150000.0, 48152.5, 68582.0, 110000.0, 117000.0, 120000.0, 119000.0, 126000.0, 121500.0, 127500.0, 152500.0, 162500.0, 100000.0, 106000.0, 61639.0, 60000.0, 52500.0, 61500.0, 152500.0, 175000.0, 130000.0, 135000.0, 126000.0, 98500.0, 96500.0, 100000.0, 110000.0, 110000.0, 130000.0, 175000.0, 77050.0, 77791.5, 39655.0, 132500.0, 91832.5, 60000.0, 84150.5, 160000.0, 150000.0, 36565.0, 160000.0, 117000.0, 100000.0, 91832.5, 130000.0, 125000.0, 160000.0, 185000.0, 66890.0, 133500.0, 96000.0, 131018.5, 85000.0, 160000.0, 98089.5, 24000.0, 105376.0, 85000.0, 120000.0, 150000.0, 90000.0, 160000.0, 180000.0, 165000.0, 180000.0, 275000.0, 165000.0, 165000.0, 225000.0, 190000.0, 165000.0, 165000.0, 165000.0, 115000.0, 127500.0, 137500.0, 130282.0, 165000.0, 165000.0, 165000.0, 195000.0, 165000.0, 155000.0, 165000.0, 89700.0, 110100.0, 175000.0, 165000.0, 165000.0, 135000.0, 150000.0, 73774.0, 125000.0, 120000.0, 120000.0, 79500.0, 37500.0, 45500.0, 120000.0, 92500.0, 29476.5, 165000.0, 115000.0, 80000.0, 82500.0, 115000.0, 124000.0, 116000.0, 119000.0, 105500.0, 135000.0, 116000.0, 135000.0, 45000.0, 65000.0, 117500.0, 165000.0, 156500.0, 112500.0, 120500.0, 117000.0, 153500.0, 56677.0, 65500.0, 50000.0, 58574.5, 90000.0, 47500.0, 69500.0, 72500.0, 50000.0, 85000.0, 47500.0, 97372.0, 165000.0, 97372.0, 71908.0, 135000.0, 55000.0, 79383.0, 57500.0, 70000.0, 85158.0, 125500.0, 60000.0, 72500.0, 60000.0, 170000.0, 81500.0, 47500.0, 92000.0, 51500.0, 52500.0, 111000.0, 85000.0, 123500.0, 82500.0, 78102.0, 75000.0, 127500.0, 131778.5, 97015.0, 225000.0, 105000.0, 140000.0, 62500.0, 160000.0, 130000.0, 78102.0, 57500.0, 115000.0, 95000.0, 87024.0, 100858.0, 50000.0, 158927.5, 97049.0, 80500.0, 137500.0, 88512.0, 81122.5, 111516.0, 105000.0, 74623.5, 111516.0, 93780.0, 62500.0, 82500.0, 120000.0, 150000.0, 78102.0, 155000.0, 156500.0, 142000.0, 121500.0, 105000.0, 117500.0, 103805.0, 78102.0, 128440.0, 149494.5, 127500.0, 130000.0, 48696.0, 150000.0, 70000.0, 124000.0, 128500.0, 78102.0, 165000.0, 115000.0, 150000.0, 140000.0, 93792.5, 103805.0, 58000.0, 175000.0, 80000.0, 153024.0, 170171.0, 173634.0, 110000.0, 93780.0, 95000.0, 145000.0, 150000.0, 142500.0, 120000.0, 100000.0, 100000.0, 34000.0, 55392.5, 152500.0, 170000.0, 110000.0, 125000.0, 113500.0, 123000.0, 110000.0, 125000.0, 133000.0, 124500.0, 115000.0, 115000.0, 115000.0, 60000.0, 75400.0, 108600.0, 32900.0, 50375.0, 39450.0, 56000.0, 46000.0, 72300.0, 87750.0, 134500.0, 133000.0, 133000.0, 133000.0, 60525.5, 60525.5, 53836.0, 140000.0, 75000.0, 74000.0, 44700.0, 103805.0, 135000.0, 173634.0, 103805.0, 44865.5, 68295.5, 70282.5, 149494.5, 110000.0, 70282.0, 133000.0, 102500.0, 105500.0, 118000.0, 153500.0, 126500.0, 121500.0, 133000.0, 82500.0, 48419.5, 95000.0, 165000.0, 104500.0, 117000.0, 108000.0, 77500.0, 142500.0, 105000.0, 105000.0, 127500.0, 65000.0, 100000.0, 90000.0, 42500.0, 57500.0, 57702.0, 112500.0, 150000.0, 72500.0, 165000.0, 107500.0, 150000.0, 99000.0, 144000.0, 150000.0, 110000.0, 127500.0, 150000.0, 130000.0, 120000.0, 110500.0, 134000.0, 123000.0, 103000.0, 49000.0, 120000.0, 110500.0, 134000.0, 123000.0, 145000.0, 135000.0, 160000.0, 150000.0, 160000.0, 48000.0, 250000.0, 162500.0, 170000.0, 140000.0, 155000.0, 140000.0, 80000.0, 80000.0, 110000.0, 170000.0, 215000.0, 110000.0, 45300.0, 180000.0, 250000.0, 250000.0, 115000.0, 160000.0, 105000.0, 104500.0, 120000.0, 275000.0, 141000.0, 103000.0, 155500.0, 80000.0, 190000.0, 165000.0, 165000.0, 90000.0, 195000.0, 65800.0, 155000.0, 165000.0, 90000.0, 70500.0, 112500.0, 135000.0, 275000.0, 165000.0, 101000.0, 120500.0, 90000.0, 165000.0, 97500.0, 52000.0, 103500.0, 127000.0, 119000.0, 120000.0, 113500.0, 104500.0, 98000.0, 37500.0, 119000.0, 52472.0, 87000.0, 101000.0, 134000.0, 95000.0, 40300.0, 160000.0, 126500.0, 95500.0, 120500.0, 97500.0, 165000.0, 112500.0, 148000.0, 92000.0, 102000.0, 95500.0, 130500.0, 133000.0, 149000.0, 106500.0, 105000.0, 129500.0, 102000.0, 113500.0, 112500.0, 129000.0, 67407.0, 113500.0, 70000.0, 66500.0, 74500.0, 76950.0, 122500.0, 74000.0, 47500.0, 122500.0, 161000.0, 165000.0, 87000.0, 70000.0, 140000.0, 49000.0, 43000.0, 100000.0, 94050.0, 125000.0, 108000.0, 95000.0, 63500.0, 63500.0, 106820.0, 140000.0, 117000.0, 102500.0, 103500.0, 100000.0, 60000.0, 76000.0, 100000.0, 67500.0, 165000.0, 102500.0, 134000.0, 101000.0, 75000.0, 200000.0, 91505.5, 106000.0, 137500.0, 21000.0, 225000.0, 84150.5, 145000.0, 170000.0, 177500.0, 165000.0, 144000.0, 125000.0, 102606.0, 125000.0, 119000.0, 152000.0, 140500.0, 127000.0, 143500.0, 95000.0, 80000.0, 75000.0, 102500.0, 41500.0, 80000.0, 131626.5, 200000.0, 150000.0, 165000.0, 80500.0, 180000.0, 102500.0, 118500.0, 130000.0, 120000.0, 113500.0, 112500.0, 127000.0, 80500.0, 78000.0, 75283.5, 35500.0, 165000.0, 125500.0, 117500.0, 110000.0, 137507.0, 123197.0, 85000.0, 56000.0, 92500.0, 65000.0, 165000.0, 94000.0, 106500.0, 135000.0, 76265.0, 100000.0, 75557.5, 150000.0, 70000.0, 77035.0, 77035.0, 125000.0, 127500.0, 65570.0, 75557.5, 59708.0, 62693.0, 79249.5, 115000.0, 61797.5, 87500.0, 36500.0, 157500.0, 125000.0, 205000.0, 200000.0, 175000.0, 62693.0, 85000.0, 175000.0, 50000.0, 45000.0, 75557.5, 78790.5, 62693.0, 78790.5, 75557.5, 212500.0, 75557.5, 75557.5, 120000.0, 135000.0, 140000.0, 70000.0, 57500.0, 120000.0, 75557.5, 165000.0, 90000.0, 65977.0, 77500.0, 94821.5, 180000.0, 106919.0, 120000.0, 75557.5, 82500.0, 61797.5, 50430.0, 50000.0, 78261.0, 150000.0, 125000.0, 77035.0, 165000.0, 55000.0, 81802.0, 77035.0, 88144.5, 165000.0, 120000.0, 152500.0, 110000.0, 61797.5, 79249.5, 78790.5, 100803.0, 882.5, 160000.0, 77035.0, 42000.0, 250000.0, 95000.0, 62693.0, 137500.0, 190000.0, 120000.0, 90000.0, 90000.0, 275000.0, 150000.0, 90981.0, 79249.5, 117500.0, 62693.0, 886.0, 78057.5, 202500.0, 157500.0, 86500.0, 160000.0, 54390.0, 125000.0, 126500.0, 126000.0, 134500.0, 129500.0, 79249.5, 61797.5, 88144.5, 129500.0, 137000.0, 165000.0, 77035.0, 62693.0, 81802.0, 120000.0, 152500.0, 77035.0, 120000.0, 160000.0, 79249.5, 110000.0, 90981.0, 77035.0, 90000.0, 42000.0, 61797.5, 250000.0, 82500.0, 62693.0, 117000.0, 275000.0, 62693.0, 137500.0, 78057.5, 90981.0, 117500.0, 882.5, 90000.0, 190000.0, 58717.5, 886.0, 202500.0, 87915.0, 140000.0, 160000.0, 62693.0, 75557.5, 65977.0, 150000.0, 78343.0, 98884.0, 105000.0, 62693.0, 110000.0, 170000.0, 75557.5, 48000.0, 55000.0, 100803.0, 97500.0, 50000.0, 36500.0, 40000.0, 22500.0, 110000.0, 70000.0, 250000.0, 53000.0, 115000.0, 55000.0, 115000.0, 252500.0, 50000.0, 130000.0, 127500.0, 125000.0, 70000.0, 165000.0, 139120.5, 110000.0, 59000.0, 122500.0, 85500.0, 95500.0, 120500.0, 127500.0, 78500.0, 96500.0, 108000.0, 116000.0, 80000.0, 75000.0, 82000.0, 115000.0, 97500.0, 53508.0, 50164.0, 45430.0, 54974.5, 54974.5, 53508.0, 54974.5, 54974.5, 50524.0, 53892.5, 61132.0, 75000.0, 53508.0, 53892.5, 50164.0, 63669.0, 50164.0, 51539.0, 109000.0, 97000.0, 43000.0, 148000.0, 51000.0, 117000.0, 114000.0, 107000.0, 120500.0, 126000.0, 145000.0, 145000.0, 160000.0, 150000.0, 120000.0, 250000.0, 170000.0, 135000.0, 154500.0, 148000.0, 118000.0, 158000.0, 132500.0, 170000.0, 148000.0, 126000.0, 135000.0, 150000.0, 120000.0, 175000.0, 50000.0, 200000.0, 115000.0, 48361.0, 180000.0, 250000.0, 185000.0, 90000.0, 250000.0, 130282.0, 167500.0, 170000.0, 170000.0, 111500.0, 99000.0, 121500.0, 129500.0, 187500.0, 135000.0, 121135.5, 225000.0, 101869.5, 180000.0, 147500.0, 60000.0, 160000.0, 133576.0, 145500.0, 135500.0, 150000.0, 175000.0, 185000.0, 120000.0, 180000.0, 145000.0, 119500.0, 124000.0, 140000.0, 94500.0, 73663.5, 135000.0, 104000.0, 140000.0, 125000.0, 110000.0, 150000.0, 90000.0, 150000.0, 122500.0, 132500.0, 200000.0, 85000.0, 40000.0, 145000.0, 41000.0, 85000.0, 165000.0, 125000.0, 107500.0, 125000.0, 167500.0, 197000.0, 110000.0, 126500.0, 145000.0, 48000.0, 143000.0, 151000.0, 135000.0, 109000.0, 142500.0, 125000.0, 126000.0, 157000.0, 160000.0, 110000.0, 132500.0, 45300.0, 162500.0, 250000.0, 105000.0, 110000.0, 170000.0, 140000.0, 120000.0, 250000.0, 115000.0, 215000.0, 65800.0, 180000.0, 250000.0], \"type\": \"histogram\", \"uid\": \"23f42cc2-b908-11e8-a03c-4c3488ea762f\"}],\n",
       "            {\"height\": 400, \"title\": \"Salary histogram\", \"width\": 600},\n",
       "            {\"showLink\": true, \"linkText\": \"Export to plot.ly\"}\n",
       "        ).then(function () {return Plotly.addFrames('eb847594-c1ca-479e-ade7-6b5647972f1c',{});}).then(function(){Plotly.animate('eb847594-c1ca-479e-ade7-6b5647972f1c');})\n",
       "        });</script>"
      ],
      "text/vnd.plotly.v1+html": [
       "<div id=\"eb847594-c1ca-479e-ade7-6b5647972f1c\" style=\"height: 400px; width: 600px;\" class=\"plotly-graph-div\"></div><script type=\"text/javascript\">require([\"plotly\"], function(Plotly) { window.PLOTLYENV=window.PLOTLYENV || {};window.PLOTLYENV.BASE_URL=\"https://plot.ly\";\n",
       "        Plotly.plot(\n",
       "            'eb847594-c1ca-479e-ade7-6b5647972f1c',\n",
       "            [{\"x\": [88161.0, 88161.0, 145000.0, 55750.0, 35250.0, 90000.0, 50000.0, 44016.0, 51000.0, 29500.0, 80500.0, 111500.0, 110500.0, 129500.0, 140500.0, 150000.0, 35000.0, 87500.0, 110000.0, 46500.0, 110000.0, 125000.0, 55000.0, 150000.0, 48152.5, 68582.0, 110000.0, 117000.0, 120000.0, 119000.0, 126000.0, 121500.0, 127500.0, 152500.0, 162500.0, 100000.0, 106000.0, 61639.0, 60000.0, 52500.0, 61500.0, 152500.0, 175000.0, 130000.0, 135000.0, 126000.0, 98500.0, 96500.0, 100000.0, 110000.0, 110000.0, 130000.0, 175000.0, 77050.0, 77791.5, 39655.0, 132500.0, 91832.5, 60000.0, 84150.5, 160000.0, 150000.0, 36565.0, 160000.0, 117000.0, 100000.0, 91832.5, 130000.0, 125000.0, 160000.0, 185000.0, 66890.0, 133500.0, 96000.0, 131018.5, 85000.0, 160000.0, 98089.5, 24000.0, 105376.0, 85000.0, 120000.0, 150000.0, 90000.0, 160000.0, 180000.0, 165000.0, 180000.0, 275000.0, 165000.0, 165000.0, 225000.0, 190000.0, 165000.0, 165000.0, 165000.0, 115000.0, 127500.0, 137500.0, 130282.0, 165000.0, 165000.0, 165000.0, 195000.0, 165000.0, 155000.0, 165000.0, 89700.0, 110100.0, 175000.0, 165000.0, 165000.0, 135000.0, 150000.0, 73774.0, 125000.0, 120000.0, 120000.0, 79500.0, 37500.0, 45500.0, 120000.0, 92500.0, 29476.5, 165000.0, 115000.0, 80000.0, 82500.0, 115000.0, 124000.0, 116000.0, 119000.0, 105500.0, 135000.0, 116000.0, 135000.0, 45000.0, 65000.0, 117500.0, 165000.0, 156500.0, 112500.0, 120500.0, 117000.0, 153500.0, 56677.0, 65500.0, 50000.0, 58574.5, 90000.0, 47500.0, 69500.0, 72500.0, 50000.0, 85000.0, 47500.0, 97372.0, 165000.0, 97372.0, 71908.0, 135000.0, 55000.0, 79383.0, 57500.0, 70000.0, 85158.0, 125500.0, 60000.0, 72500.0, 60000.0, 170000.0, 81500.0, 47500.0, 92000.0, 51500.0, 52500.0, 111000.0, 85000.0, 123500.0, 82500.0, 78102.0, 75000.0, 127500.0, 131778.5, 97015.0, 225000.0, 105000.0, 140000.0, 62500.0, 160000.0, 130000.0, 78102.0, 57500.0, 115000.0, 95000.0, 87024.0, 100858.0, 50000.0, 158927.5, 97049.0, 80500.0, 137500.0, 88512.0, 81122.5, 111516.0, 105000.0, 74623.5, 111516.0, 93780.0, 62500.0, 82500.0, 120000.0, 150000.0, 78102.0, 155000.0, 156500.0, 142000.0, 121500.0, 105000.0, 117500.0, 103805.0, 78102.0, 128440.0, 149494.5, 127500.0, 130000.0, 48696.0, 150000.0, 70000.0, 124000.0, 128500.0, 78102.0, 165000.0, 115000.0, 150000.0, 140000.0, 93792.5, 103805.0, 58000.0, 175000.0, 80000.0, 153024.0, 170171.0, 173634.0, 110000.0, 93780.0, 95000.0, 145000.0, 150000.0, 142500.0, 120000.0, 100000.0, 100000.0, 34000.0, 55392.5, 152500.0, 170000.0, 110000.0, 125000.0, 113500.0, 123000.0, 110000.0, 125000.0, 133000.0, 124500.0, 115000.0, 115000.0, 115000.0, 60000.0, 75400.0, 108600.0, 32900.0, 50375.0, 39450.0, 56000.0, 46000.0, 72300.0, 87750.0, 134500.0, 133000.0, 133000.0, 133000.0, 60525.5, 60525.5, 53836.0, 140000.0, 75000.0, 74000.0, 44700.0, 103805.0, 135000.0, 173634.0, 103805.0, 44865.5, 68295.5, 70282.5, 149494.5, 110000.0, 70282.0, 133000.0, 102500.0, 105500.0, 118000.0, 153500.0, 126500.0, 121500.0, 133000.0, 82500.0, 48419.5, 95000.0, 165000.0, 104500.0, 117000.0, 108000.0, 77500.0, 142500.0, 105000.0, 105000.0, 127500.0, 65000.0, 100000.0, 90000.0, 42500.0, 57500.0, 57702.0, 112500.0, 150000.0, 72500.0, 165000.0, 107500.0, 150000.0, 99000.0, 144000.0, 150000.0, 110000.0, 127500.0, 150000.0, 130000.0, 120000.0, 110500.0, 134000.0, 123000.0, 103000.0, 49000.0, 120000.0, 110500.0, 134000.0, 123000.0, 145000.0, 135000.0, 160000.0, 150000.0, 160000.0, 48000.0, 250000.0, 162500.0, 170000.0, 140000.0, 155000.0, 140000.0, 80000.0, 80000.0, 110000.0, 170000.0, 215000.0, 110000.0, 45300.0, 180000.0, 250000.0, 250000.0, 115000.0, 160000.0, 105000.0, 104500.0, 120000.0, 275000.0, 141000.0, 103000.0, 155500.0, 80000.0, 190000.0, 165000.0, 165000.0, 90000.0, 195000.0, 65800.0, 155000.0, 165000.0, 90000.0, 70500.0, 112500.0, 135000.0, 275000.0, 165000.0, 101000.0, 120500.0, 90000.0, 165000.0, 97500.0, 52000.0, 103500.0, 127000.0, 119000.0, 120000.0, 113500.0, 104500.0, 98000.0, 37500.0, 119000.0, 52472.0, 87000.0, 101000.0, 134000.0, 95000.0, 40300.0, 160000.0, 126500.0, 95500.0, 120500.0, 97500.0, 165000.0, 112500.0, 148000.0, 92000.0, 102000.0, 95500.0, 130500.0, 133000.0, 149000.0, 106500.0, 105000.0, 129500.0, 102000.0, 113500.0, 112500.0, 129000.0, 67407.0, 113500.0, 70000.0, 66500.0, 74500.0, 76950.0, 122500.0, 74000.0, 47500.0, 122500.0, 161000.0, 165000.0, 87000.0, 70000.0, 140000.0, 49000.0, 43000.0, 100000.0, 94050.0, 125000.0, 108000.0, 95000.0, 63500.0, 63500.0, 106820.0, 140000.0, 117000.0, 102500.0, 103500.0, 100000.0, 60000.0, 76000.0, 100000.0, 67500.0, 165000.0, 102500.0, 134000.0, 101000.0, 75000.0, 200000.0, 91505.5, 106000.0, 137500.0, 21000.0, 225000.0, 84150.5, 145000.0, 170000.0, 177500.0, 165000.0, 144000.0, 125000.0, 102606.0, 125000.0, 119000.0, 152000.0, 140500.0, 127000.0, 143500.0, 95000.0, 80000.0, 75000.0, 102500.0, 41500.0, 80000.0, 131626.5, 200000.0, 150000.0, 165000.0, 80500.0, 180000.0, 102500.0, 118500.0, 130000.0, 120000.0, 113500.0, 112500.0, 127000.0, 80500.0, 78000.0, 75283.5, 35500.0, 165000.0, 125500.0, 117500.0, 110000.0, 137507.0, 123197.0, 85000.0, 56000.0, 92500.0, 65000.0, 165000.0, 94000.0, 106500.0, 135000.0, 76265.0, 100000.0, 75557.5, 150000.0, 70000.0, 77035.0, 77035.0, 125000.0, 127500.0, 65570.0, 75557.5, 59708.0, 62693.0, 79249.5, 115000.0, 61797.5, 87500.0, 36500.0, 157500.0, 125000.0, 205000.0, 200000.0, 175000.0, 62693.0, 85000.0, 175000.0, 50000.0, 45000.0, 75557.5, 78790.5, 62693.0, 78790.5, 75557.5, 212500.0, 75557.5, 75557.5, 120000.0, 135000.0, 140000.0, 70000.0, 57500.0, 120000.0, 75557.5, 165000.0, 90000.0, 65977.0, 77500.0, 94821.5, 180000.0, 106919.0, 120000.0, 75557.5, 82500.0, 61797.5, 50430.0, 50000.0, 78261.0, 150000.0, 125000.0, 77035.0, 165000.0, 55000.0, 81802.0, 77035.0, 88144.5, 165000.0, 120000.0, 152500.0, 110000.0, 61797.5, 79249.5, 78790.5, 100803.0, 882.5, 160000.0, 77035.0, 42000.0, 250000.0, 95000.0, 62693.0, 137500.0, 190000.0, 120000.0, 90000.0, 90000.0, 275000.0, 150000.0, 90981.0, 79249.5, 117500.0, 62693.0, 886.0, 78057.5, 202500.0, 157500.0, 86500.0, 160000.0, 54390.0, 125000.0, 126500.0, 126000.0, 134500.0, 129500.0, 79249.5, 61797.5, 88144.5, 129500.0, 137000.0, 165000.0, 77035.0, 62693.0, 81802.0, 120000.0, 152500.0, 77035.0, 120000.0, 160000.0, 79249.5, 110000.0, 90981.0, 77035.0, 90000.0, 42000.0, 61797.5, 250000.0, 82500.0, 62693.0, 117000.0, 275000.0, 62693.0, 137500.0, 78057.5, 90981.0, 117500.0, 882.5, 90000.0, 190000.0, 58717.5, 886.0, 202500.0, 87915.0, 140000.0, 160000.0, 62693.0, 75557.5, 65977.0, 150000.0, 78343.0, 98884.0, 105000.0, 62693.0, 110000.0, 170000.0, 75557.5, 48000.0, 55000.0, 100803.0, 97500.0, 50000.0, 36500.0, 40000.0, 22500.0, 110000.0, 70000.0, 250000.0, 53000.0, 115000.0, 55000.0, 115000.0, 252500.0, 50000.0, 130000.0, 127500.0, 125000.0, 70000.0, 165000.0, 139120.5, 110000.0, 59000.0, 122500.0, 85500.0, 95500.0, 120500.0, 127500.0, 78500.0, 96500.0, 108000.0, 116000.0, 80000.0, 75000.0, 82000.0, 115000.0, 97500.0, 53508.0, 50164.0, 45430.0, 54974.5, 54974.5, 53508.0, 54974.5, 54974.5, 50524.0, 53892.5, 61132.0, 75000.0, 53508.0, 53892.5, 50164.0, 63669.0, 50164.0, 51539.0, 109000.0, 97000.0, 43000.0, 148000.0, 51000.0, 117000.0, 114000.0, 107000.0, 120500.0, 126000.0, 145000.0, 145000.0, 160000.0, 150000.0, 120000.0, 250000.0, 170000.0, 135000.0, 154500.0, 148000.0, 118000.0, 158000.0, 132500.0, 170000.0, 148000.0, 126000.0, 135000.0, 150000.0, 120000.0, 175000.0, 50000.0, 200000.0, 115000.0, 48361.0, 180000.0, 250000.0, 185000.0, 90000.0, 250000.0, 130282.0, 167500.0, 170000.0, 170000.0, 111500.0, 99000.0, 121500.0, 129500.0, 187500.0, 135000.0, 121135.5, 225000.0, 101869.5, 180000.0, 147500.0, 60000.0, 160000.0, 133576.0, 145500.0, 135500.0, 150000.0, 175000.0, 185000.0, 120000.0, 180000.0, 145000.0, 119500.0, 124000.0, 140000.0, 94500.0, 73663.5, 135000.0, 104000.0, 140000.0, 125000.0, 110000.0, 150000.0, 90000.0, 150000.0, 122500.0, 132500.0, 200000.0, 85000.0, 40000.0, 145000.0, 41000.0, 85000.0, 165000.0, 125000.0, 107500.0, 125000.0, 167500.0, 197000.0, 110000.0, 126500.0, 145000.0, 48000.0, 143000.0, 151000.0, 135000.0, 109000.0, 142500.0, 125000.0, 126000.0, 157000.0, 160000.0, 110000.0, 132500.0, 45300.0, 162500.0, 250000.0, 105000.0, 110000.0, 170000.0, 140000.0, 120000.0, 250000.0, 115000.0, 215000.0, 65800.0, 180000.0, 250000.0], \"type\": \"histogram\", \"uid\": \"23f42cc2-b908-11e8-a03c-4c3488ea762f\"}],\n",
       "            {\"height\": 400, \"title\": \"Salary histogram\", \"width\": 600},\n",
       "            {\"showLink\": true, \"linkText\": \"Export to plot.ly\"}\n",
       "        ).then(function () {return Plotly.addFrames('eb847594-c1ca-479e-ade7-6b5647972f1c',{});}).then(function(){Plotly.animate('eb847594-c1ca-479e-ade7-6b5647972f1c');})\n",
       "        });</script>"
      ]
     },
     "metadata": {},
     "output_type": "display_data"
    }
   ],
   "source": [
    "data = [go.Histogram(x=df['salary'])]\n",
    "hist_layout = Layout(\n",
    "    width=600,\n",
    "    height=400,\n",
    "    title = 'Salary histogram')\n",
    "py.offline.iplot(Figure(data=data, layout=hist_layout), filename='salary histogram')"
   ]
  },
  {
   "cell_type": "code",
   "execution_count": 398,
   "metadata": {
    "collapsed": true
   },
   "outputs": [],
   "source": [
    "city_salary = df['city'].value_counts().sort_values(ascending=False).head(10).index.values.tolist()\n",
    "graph_data = []\n",
    "\n",
    "for city in city_salary:\n",
    "        salary_box = df.loc[df['city']==city, 'salary']\n",
    "        #g_city_country =(df[df['city']==city]['country'])\n",
    "        city_box = df.loc[df['city']==city,'city']\n",
    "        \n",
    "        graph_data.append(go.Box(\n",
    "                x = city_box,\n",
    "                y = salary_box,\n",
    "                name = city))            "
   ]
  },
  {
   "cell_type": "code",
   "execution_count": 399,
   "metadata": {},
   "outputs": [
    {
     "data": {
      "application/vnd.plotly.v1+json": {
       "data": [
        {
         "name": "New York",
         "type": "box",
         "uid": "2484694a-b908-11e8-a68a-4c3488ea762f",
         "x": [
          "New York",
          "New York",
          "New York",
          "New York",
          "New York",
          "New York",
          "New York",
          "New York",
          "New York",
          "New York",
          "New York",
          "New York",
          "New York",
          "New York",
          "New York",
          "New York",
          "New York",
          "New York",
          "New York",
          "New York",
          "New York",
          "New York",
          "New York",
          "New York",
          "New York",
          "New York",
          "New York",
          "New York",
          "New York",
          "New York",
          "New York",
          "New York",
          "New York",
          "New York",
          "New York",
          "New York",
          "New York",
          "New York",
          "New York",
          "New York",
          "New York",
          "New York",
          "New York",
          "New York",
          "New York",
          "New York",
          "New York",
          "New York",
          "New York",
          "New York",
          "New York",
          "New York",
          "New York",
          "New York",
          "New York",
          "New York",
          "New York",
          "New York",
          "New York",
          "New York",
          "New York",
          "New York",
          "New York",
          "New York",
          "New York",
          "New York",
          "New York",
          "New York",
          "New York",
          "New York",
          "New York",
          "New York",
          "New York",
          "New York",
          "New York",
          "New York",
          "New York",
          "New York",
          "New York",
          "New York",
          "New York",
          "New York",
          "New York",
          "New York",
          "New York",
          "New York",
          "New York",
          "New York",
          "New York",
          "New York",
          "New York",
          "New York",
          "New York",
          "New York",
          "New York",
          "New York",
          "New York",
          "New York",
          "New York",
          "New York",
          "New York",
          "New York",
          "New York",
          "New York",
          "New York",
          "New York",
          "New York",
          "New York",
          "New York",
          "New York",
          "New York",
          "New York",
          "New York",
          "New York",
          "New York",
          "New York",
          "New York",
          "New York",
          "New York",
          "New York",
          "New York",
          "New York",
          "New York",
          "New York",
          "New York",
          "New York",
          "New York",
          "New York"
         ],
         "y": [
          76265,
          100000,
          75557.5,
          150000,
          70000,
          77035,
          77035,
          125000,
          127500,
          65570,
          75557.5,
          59708,
          62693,
          79249.5,
          115000,
          61797.5,
          87500,
          36500,
          157500,
          125000,
          205000,
          200000,
          175000,
          85000,
          175000,
          50000,
          45000,
          75557.5,
          78790.5,
          62693,
          78790.5,
          212500,
          75557.5,
          120000,
          135000,
          140000,
          70000,
          57500,
          120000,
          75557.5,
          165000,
          90000,
          77500,
          94821.5,
          180000,
          106919,
          120000,
          82500,
          61797.5,
          50430,
          50000,
          78261,
          125000,
          77035,
          165000,
          77035,
          88144.5,
          165000,
          120000,
          152500,
          110000,
          61797.5,
          79249.5,
          100803,
          882.5,
          160000,
          77035,
          42000,
          250000,
          95000,
          137500,
          190000,
          120000,
          90000,
          90000,
          275000,
          150000,
          79249.5,
          117500,
          886,
          202500,
          157500,
          86500,
          160000,
          54390,
          125000,
          126500,
          126000,
          134500,
          129500,
          79249.5,
          61797.5,
          88144.5,
          129500,
          137000,
          165000,
          77035,
          120000,
          152500,
          77035,
          120000,
          160000,
          79249.5,
          110000,
          77035,
          90000,
          42000,
          61797.5,
          250000,
          82500,
          117000,
          275000,
          137500,
          117500,
          882.5,
          90000,
          190000,
          58717.5,
          886,
          202500,
          87915,
          160000,
          150000,
          78343,
          105000,
          170000,
          48000,
          55000
         ]
        },
        {
         "name": "San Francisco",
         "type": "box",
         "uid": "2484694b-b908-11e8-90b7-4c3488ea762f",
         "x": [
          "San Francisco",
          "San Francisco",
          "San Francisco",
          "San Francisco",
          "San Francisco",
          "San Francisco",
          "San Francisco",
          "San Francisco",
          "San Francisco",
          "San Francisco",
          "San Francisco",
          "San Francisco",
          "San Francisco",
          "San Francisco",
          "San Francisco",
          "San Francisco",
          "San Francisco",
          "San Francisco",
          "San Francisco",
          "San Francisco",
          "San Francisco",
          "San Francisco",
          "San Francisco",
          "San Francisco",
          "San Francisco",
          "San Francisco",
          "San Francisco",
          "San Francisco",
          "San Francisco",
          "San Francisco",
          "San Francisco",
          "San Francisco",
          "San Francisco",
          "San Francisco",
          "San Francisco",
          "San Francisco",
          "San Francisco",
          "San Francisco",
          "San Francisco",
          "San Francisco",
          "San Francisco",
          "San Francisco",
          "San Francisco",
          "San Francisco",
          "San Francisco",
          "San Francisco",
          "San Francisco",
          "San Francisco",
          "San Francisco",
          "San Francisco",
          "San Francisco",
          "San Francisco",
          "San Francisco",
          "San Francisco",
          "San Francisco",
          "San Francisco",
          "San Francisco",
          "San Francisco",
          "San Francisco",
          "San Francisco",
          "San Francisco",
          "San Francisco",
          "San Francisco",
          "San Francisco",
          "San Francisco",
          "San Francisco",
          "San Francisco",
          "San Francisco",
          "San Francisco",
          "San Francisco",
          "San Francisco",
          "San Francisco",
          "San Francisco",
          "San Francisco",
          "San Francisco",
          "San Francisco",
          "San Francisco",
          "San Francisco",
          "San Francisco"
         ],
         "y": [
          150000,
          160000,
          180000,
          165000,
          180000,
          275000,
          165000,
          165000,
          225000,
          190000,
          165000,
          165000,
          165000,
          115000,
          127500,
          165000,
          165000,
          165000,
          195000,
          165000,
          155000,
          165000,
          175000,
          165000,
          165000,
          135000,
          145000,
          135000,
          160000,
          150000,
          160000,
          48000,
          250000,
          162500,
          170000,
          140000,
          155000,
          140000,
          110000,
          170000,
          215000,
          180000,
          250000,
          250000,
          115000,
          160000,
          104500,
          275000,
          141000,
          155500,
          190000,
          165000,
          165000,
          195000,
          155000,
          165000,
          70500,
          112500,
          135000,
          275000,
          145000,
          48000,
          143000,
          151000,
          142500,
          125000,
          126000,
          157000,
          160000,
          162500,
          250000,
          110000,
          170000,
          140000,
          250000,
          115000,
          215000,
          180000,
          250000
         ]
        },
        {
         "name": "Washington DC",
         "type": "box",
         "uid": "2484694c-b908-11e8-a3a4-4c3488ea762f",
         "x": [
          "Washington DC",
          "Washington DC",
          "Washington DC",
          "Washington DC",
          "Washington DC",
          "Washington DC",
          "Washington DC",
          "Washington DC",
          "Washington DC",
          "Washington DC",
          "Washington DC",
          "Washington DC",
          "Washington DC",
          "Washington DC",
          "Washington DC",
          "Washington DC",
          "Washington DC",
          "Washington DC",
          "Washington DC",
          "Washington DC",
          "Washington DC",
          "Washington DC",
          "Washington DC",
          "Washington DC",
          "Washington DC",
          "Washington DC",
          "Washington DC",
          "Washington DC",
          "Washington DC",
          "Washington DC",
          "Washington DC",
          "Washington DC",
          "Washington DC",
          "Washington DC",
          "Washington DC",
          "Washington DC",
          "Washington DC",
          "Washington DC",
          "Washington DC",
          "Washington DC",
          "Washington DC",
          "Washington DC",
          "Washington DC",
          "Washington DC",
          "Washington DC",
          "Washington DC",
          "Washington DC",
          "Washington DC",
          "Washington DC",
          "Washington DC",
          "Washington DC",
          "Washington DC",
          "Washington DC",
          "Washington DC",
          "Washington DC",
          "Washington DC",
          "Washington DC",
          "Washington DC",
          "Washington DC",
          "Washington DC",
          "Washington DC",
          "Washington DC",
          "Washington DC",
          "Washington DC",
          "Washington DC",
          "Washington DC",
          "Washington DC",
          "Washington DC",
          "Washington DC",
          "Washington DC",
          "Washington DC",
          "Washington DC",
          "Washington DC",
          "Washington DC"
         ],
         "y": [
          125000,
          82500,
          78102,
          75000,
          127500,
          131778.5,
          97015,
          225000,
          105000,
          140000,
          62500,
          160000,
          130000,
          78102,
          57500,
          115000,
          95000,
          87024,
          100858,
          50000,
          158927.5,
          97049,
          80500,
          137500,
          88512,
          81122.5,
          111516,
          105000,
          74623.5,
          111516,
          93780,
          62500,
          82500,
          120000,
          150000,
          78102,
          155000,
          156500,
          142000,
          105000,
          117500,
          78102,
          149494.5,
          127500,
          130000,
          48696,
          150000,
          70000,
          124000,
          128500,
          78102,
          165000,
          115000,
          150000,
          140000,
          93792.5,
          58000,
          175000,
          80000,
          153024,
          170171,
          110000,
          93780,
          95000,
          145000,
          149494.5,
          133000,
          102500,
          105500,
          118000,
          153500,
          126500,
          121500,
          133000
         ]
        },
        {
         "name": "San Jose",
         "type": "box",
         "uid": "2484694d-b908-11e8-842b-4c3488ea762f",
         "x": [
          "San Jose",
          "San Jose",
          "San Jose",
          "San Jose",
          "San Jose",
          "San Jose",
          "San Jose",
          "San Jose",
          "San Jose",
          "San Jose",
          "San Jose",
          "San Jose",
          "San Jose",
          "San Jose",
          "San Jose",
          "San Jose",
          "San Jose",
          "San Jose",
          "San Jose",
          "San Jose",
          "San Jose",
          "San Jose",
          "San Jose",
          "San Jose",
          "San Jose",
          "San Jose",
          "San Jose",
          "San Jose",
          "San Jose",
          "San Jose",
          "San Jose",
          "San Jose",
          "San Jose",
          "San Jose",
          "San Jose",
          "San Jose",
          "San Jose",
          "San Jose",
          "San Jose",
          "San Jose",
          "San Jose",
          "San Jose",
          "San Jose",
          "San Jose",
          "San Jose",
          "San Jose",
          "San Jose",
          "San Jose",
          "San Jose",
          "San Jose",
          "San Jose",
          "San Jose",
          "San Jose",
          "San Jose",
          "San Jose",
          "San Jose",
          "San Jose",
          "San Jose",
          "San Jose"
         ],
         "y": [
          137500,
          130282,
          145000,
          160000,
          150000,
          120000,
          250000,
          170000,
          135000,
          154500,
          148000,
          118000,
          158000,
          170000,
          148000,
          126000,
          135000,
          150000,
          120000,
          175000,
          50000,
          200000,
          115000,
          180000,
          250000,
          185000,
          90000,
          250000,
          130282,
          167500,
          170000,
          170000,
          111500,
          99000,
          121500,
          129500,
          187500,
          135000,
          121135.5,
          225000,
          101869.5,
          180000,
          147500,
          60000,
          160000,
          133576,
          145500,
          135500,
          175000,
          185000,
          120000,
          180000,
          145000,
          119500,
          124000,
          140000,
          94500,
          135000,
          109000
         ]
        },
        {
         "name": "Boston",
         "type": "box",
         "uid": "2484694e-b908-11e8-aab6-4c3488ea762f",
         "x": [
          "Boston",
          "Boston",
          "Boston",
          "Boston",
          "Boston",
          "Boston",
          "Boston",
          "Boston",
          "Boston",
          "Boston",
          "Boston",
          "Boston",
          "Boston",
          "Boston",
          "Boston",
          "Boston",
          "Boston",
          "Boston",
          "Boston",
          "Boston",
          "Boston",
          "Boston",
          "Boston",
          "Boston",
          "Boston",
          "Boston",
          "Boston",
          "Boston",
          "Boston",
          "Boston",
          "Boston",
          "Boston",
          "Boston",
          "Boston",
          "Boston",
          "Boston",
          "Boston",
          "Boston",
          "Boston",
          "Boston",
          "Boston",
          "Boston",
          "Boston",
          "Boston",
          "Boston",
          "Boston",
          "Boston",
          "Boston",
          "Boston",
          "Boston",
          "Boston",
          "Boston",
          "Boston",
          "Boston",
          "Boston"
         ],
         "y": [
          110000,
          55000,
          150000,
          48152.5,
          68582,
          110000,
          117000,
          120000,
          119000,
          126000,
          121500,
          127500,
          152500,
          162500,
          100000,
          106000,
          61639,
          60000,
          52500,
          61500,
          152500,
          175000,
          130000,
          135000,
          126000,
          98500,
          96500,
          100000,
          110000,
          110000,
          130000,
          175000,
          77050,
          77791.5,
          39655,
          132500,
          91832.5,
          60000,
          84150.5,
          160000,
          150000,
          36565,
          160000,
          117000,
          100000,
          91832.5,
          130000,
          125000,
          160000,
          185000,
          66890,
          133500,
          96000,
          131018.5,
          160000
         ]
        },
        {
         "name": "Houston",
         "type": "box",
         "uid": "2484694f-b908-11e8-804d-4c3488ea762f",
         "x": [
          "Houston",
          "Houston",
          "Houston",
          "Houston",
          "Houston",
          "Houston",
          "Houston",
          "Houston",
          "Houston",
          "Houston",
          "Houston",
          "Houston",
          "Houston",
          "Houston",
          "Houston",
          "Houston",
          "Houston",
          "Houston",
          "Houston",
          "Houston",
          "Houston",
          "Houston",
          "Houston",
          "Houston",
          "Houston",
          "Houston",
          "Houston",
          "Houston",
          "Houston",
          "Houston",
          "Houston",
          "Houston",
          "Houston",
          "Houston",
          "Houston",
          "Houston"
         ],
         "y": [
          106500,
          105000,
          129500,
          102000,
          113500,
          112500,
          129000,
          67407,
          113500,
          70000,
          66500,
          74500,
          76950,
          122500,
          74000,
          47500,
          122500,
          161000,
          165000,
          87000,
          70000,
          140000,
          49000,
          43000,
          100000,
          94050,
          125000,
          108000,
          95000,
          63500,
          63500,
          106820,
          140000,
          117000,
          102500,
          103500
         ]
        },
        {
         "name": "St. Louis",
         "type": "box",
         "uid": "24846950-b908-11e8-81d9-4c3488ea762f",
         "x": [
          "St. Louis",
          "St. Louis",
          "St. Louis",
          "St. Louis",
          "St. Louis",
          "St. Louis",
          "St. Louis",
          "St. Louis",
          "St. Louis",
          "St. Louis",
          "St. Louis",
          "St. Louis",
          "St. Louis",
          "St. Louis",
          "St. Louis",
          "St. Louis",
          "St. Louis",
          "St. Louis",
          "St. Louis",
          "St. Louis",
          "St. Louis",
          "St. Louis",
          "St. Louis",
          "St. Louis",
          "St. Louis",
          "St. Louis",
          "St. Louis",
          "St. Louis",
          "St. Louis",
          "St. Louis",
          "St. Louis",
          "St. Louis",
          "St. Louis",
          "St. Louis"
         ],
         "y": [
          80000,
          75000,
          82000,
          115000,
          97500,
          53508,
          50164,
          45430,
          54974.5,
          54974.5,
          53508,
          54974.5,
          54974.5,
          50524,
          53892.5,
          61132,
          75000,
          53508,
          53892.5,
          50164,
          63669,
          50164,
          51539,
          109000,
          97000,
          43000,
          148000,
          51000,
          117000,
          114000,
          107000,
          120500,
          126000,
          145000
         ]
        },
        {
         "name": "Chicago",
         "type": "box",
         "uid": "24846951-b908-11e8-bb74-4c3488ea762f",
         "x": [
          "Chicago",
          "Chicago",
          "Chicago",
          "Chicago",
          "Chicago",
          "Chicago",
          "Chicago",
          "Chicago",
          "Chicago",
          "Chicago",
          "Chicago",
          "Chicago",
          "Chicago",
          "Chicago",
          "Chicago",
          "Chicago",
          "Chicago",
          "Chicago",
          "Chicago",
          "Chicago",
          "Chicago",
          "Chicago",
          "Chicago",
          "Chicago",
          "Chicago",
          "Chicago",
          "Chicago",
          "Chicago",
          "Chicago",
          "Chicago",
          "Chicago",
          "Chicago",
          "Chicago"
         ],
         "y": [
          142500,
          105000,
          105000,
          127500,
          65000,
          100000,
          90000,
          42500,
          57500,
          57702,
          112500,
          150000,
          72500,
          165000,
          107500,
          150000,
          99000,
          144000,
          150000,
          110000,
          127500,
          150000,
          130000,
          120000,
          110500,
          134000,
          123000,
          103000,
          49000,
          120000,
          110500,
          134000,
          123000
         ]
        },
        {
         "name": "Los Angeles",
         "type": "box",
         "uid": "24846952-b908-11e8-ae01-4c3488ea762f",
         "x": [
          "Los Angeles",
          "Los Angeles",
          "Los Angeles",
          "Los Angeles",
          "Los Angeles",
          "Los Angeles",
          "Los Angeles",
          "Los Angeles",
          "Los Angeles",
          "Los Angeles",
          "Los Angeles",
          "Los Angeles",
          "Los Angeles",
          "Los Angeles",
          "Los Angeles",
          "Los Angeles",
          "Los Angeles",
          "Los Angeles",
          "Los Angeles",
          "Los Angeles",
          "Los Angeles",
          "Los Angeles",
          "Los Angeles",
          "Los Angeles",
          "Los Angeles",
          "Los Angeles",
          "Los Angeles",
          "Los Angeles"
         ],
         "y": [
          97500,
          50000,
          36500,
          40000,
          22500,
          110000,
          70000,
          250000,
          53000,
          115000,
          55000,
          115000,
          252500,
          50000,
          130000,
          127500,
          125000,
          70000,
          165000,
          139120.5,
          110000,
          59000,
          122500,
          85500,
          95500,
          120500,
          127500,
          78500
         ]
        },
        {
         "name": "Queens",
         "type": "box",
         "uid": "24846953-b908-11e8-9b24-4c3488ea762f",
         "x": [
          "Queens",
          "Queens",
          "Queens",
          "Queens",
          "Queens",
          "Queens",
          "Queens",
          "Queens",
          "Queens",
          "Queens",
          "Queens",
          "Queens",
          "Queens",
          "Queens",
          "Queens",
          "Queens",
          "Queens",
          "Queens",
          "Queens",
          "Queens",
          "Queens",
          "Queens",
          "Queens"
         ],
         "y": [
          62693,
          75557.5,
          65977,
          75557.5,
          81802,
          78790.5,
          62693,
          90981,
          62693,
          78057.5,
          62693,
          81802,
          90981,
          62693,
          78057.5,
          90981,
          62693,
          75557.5,
          65977,
          98884,
          62693,
          75557.5,
          100803
         ]
        }
       ],
       "layout": {
        "boxmode": "group",
        "height": 500,
        "paper_bgcolor": "rgba(0,0,0,0)",
        "plot_bgcolor": "rgba(0,0,0,0)",
        "showlegend": false,
        "width": 700,
        "xaxis": {
         "tickangle": -40
        },
        "yaxis": {
         "zeroline": false
        }
       }
      },
      "text/html": [
       "<div id=\"23e00a2a-2cba-472a-b345-c0c1d1338e05\" style=\"height: 500px; width: 700px;\" class=\"plotly-graph-div\"></div><script type=\"text/javascript\">require([\"plotly\"], function(Plotly) { window.PLOTLYENV=window.PLOTLYENV || {};window.PLOTLYENV.BASE_URL=\"https://plot.ly\";\n",
       "        Plotly.plot(\n",
       "            '23e00a2a-2cba-472a-b345-c0c1d1338e05',\n",
       "            [{\"name\": \"New York\", \"x\": [\"New York\", \"New York\", \"New York\", \"New York\", \"New York\", \"New York\", \"New York\", \"New York\", \"New York\", \"New York\", \"New York\", \"New York\", \"New York\", \"New York\", \"New York\", \"New York\", \"New York\", \"New York\", \"New York\", \"New York\", \"New York\", \"New York\", \"New York\", \"New York\", \"New York\", \"New York\", \"New York\", \"New York\", \"New York\", \"New York\", \"New York\", \"New York\", \"New York\", \"New York\", \"New York\", \"New York\", \"New York\", \"New York\", \"New York\", \"New York\", \"New York\", \"New York\", \"New York\", \"New York\", \"New York\", \"New York\", \"New York\", \"New York\", \"New York\", \"New York\", \"New York\", \"New York\", \"New York\", \"New York\", \"New York\", \"New York\", \"New York\", \"New York\", \"New York\", \"New York\", \"New York\", \"New York\", \"New York\", \"New York\", \"New York\", \"New York\", \"New York\", \"New York\", \"New York\", \"New York\", \"New York\", \"New York\", \"New York\", \"New York\", \"New York\", \"New York\", \"New York\", \"New York\", \"New York\", \"New York\", \"New York\", \"New York\", \"New York\", \"New York\", \"New York\", \"New York\", \"New York\", \"New York\", \"New York\", \"New York\", \"New York\", \"New York\", \"New York\", \"New York\", \"New York\", \"New York\", \"New York\", \"New York\", \"New York\", \"New York\", \"New York\", \"New York\", \"New York\", \"New York\", \"New York\", \"New York\", \"New York\", \"New York\", \"New York\", \"New York\", \"New York\", \"New York\", \"New York\", \"New York\", \"New York\", \"New York\", \"New York\", \"New York\", \"New York\", \"New York\", \"New York\", \"New York\", \"New York\", \"New York\", \"New York\", \"New York\", \"New York\", \"New York\"], \"y\": [76265.0, 100000.0, 75557.5, 150000.0, 70000.0, 77035.0, 77035.0, 125000.0, 127500.0, 65570.0, 75557.5, 59708.0, 62693.0, 79249.5, 115000.0, 61797.5, 87500.0, 36500.0, 157500.0, 125000.0, 205000.0, 200000.0, 175000.0, 85000.0, 175000.0, 50000.0, 45000.0, 75557.5, 78790.5, 62693.0, 78790.5, 212500.0, 75557.5, 120000.0, 135000.0, 140000.0, 70000.0, 57500.0, 120000.0, 75557.5, 165000.0, 90000.0, 77500.0, 94821.5, 180000.0, 106919.0, 120000.0, 82500.0, 61797.5, 50430.0, 50000.0, 78261.0, 125000.0, 77035.0, 165000.0, 77035.0, 88144.5, 165000.0, 120000.0, 152500.0, 110000.0, 61797.5, 79249.5, 100803.0, 882.5, 160000.0, 77035.0, 42000.0, 250000.0, 95000.0, 137500.0, 190000.0, 120000.0, 90000.0, 90000.0, 275000.0, 150000.0, 79249.5, 117500.0, 886.0, 202500.0, 157500.0, 86500.0, 160000.0, 54390.0, 125000.0, 126500.0, 126000.0, 134500.0, 129500.0, 79249.5, 61797.5, 88144.5, 129500.0, 137000.0, 165000.0, 77035.0, 120000.0, 152500.0, 77035.0, 120000.0, 160000.0, 79249.5, 110000.0, 77035.0, 90000.0, 42000.0, 61797.5, 250000.0, 82500.0, 117000.0, 275000.0, 137500.0, 117500.0, 882.5, 90000.0, 190000.0, 58717.5, 886.0, 202500.0, 87915.0, 160000.0, 150000.0, 78343.0, 105000.0, 170000.0, 48000.0, 55000.0], \"type\": \"box\", \"uid\": \"2484694a-b908-11e8-a68a-4c3488ea762f\"}, {\"name\": \"San Francisco\", \"x\": [\"San Francisco\", \"San Francisco\", \"San Francisco\", \"San Francisco\", \"San Francisco\", \"San Francisco\", \"San Francisco\", \"San Francisco\", \"San Francisco\", \"San Francisco\", \"San Francisco\", \"San Francisco\", \"San Francisco\", \"San Francisco\", \"San Francisco\", \"San Francisco\", \"San Francisco\", \"San Francisco\", \"San Francisco\", \"San Francisco\", \"San Francisco\", \"San Francisco\", \"San Francisco\", \"San Francisco\", \"San Francisco\", \"San Francisco\", \"San Francisco\", \"San Francisco\", \"San Francisco\", \"San Francisco\", \"San Francisco\", \"San Francisco\", \"San Francisco\", \"San Francisco\", \"San Francisco\", \"San Francisco\", \"San Francisco\", \"San Francisco\", \"San Francisco\", \"San Francisco\", \"San Francisco\", \"San Francisco\", \"San Francisco\", \"San Francisco\", \"San Francisco\", \"San Francisco\", \"San Francisco\", \"San Francisco\", \"San Francisco\", \"San Francisco\", \"San Francisco\", \"San Francisco\", \"San Francisco\", \"San Francisco\", \"San Francisco\", \"San Francisco\", \"San Francisco\", \"San Francisco\", \"San Francisco\", \"San Francisco\", \"San Francisco\", \"San Francisco\", \"San Francisco\", \"San Francisco\", \"San Francisco\", \"San Francisco\", \"San Francisco\", \"San Francisco\", \"San Francisco\", \"San Francisco\", \"San Francisco\", \"San Francisco\", \"San Francisco\", \"San Francisco\", \"San Francisco\", \"San Francisco\", \"San Francisco\", \"San Francisco\", \"San Francisco\"], \"y\": [150000.0, 160000.0, 180000.0, 165000.0, 180000.0, 275000.0, 165000.0, 165000.0, 225000.0, 190000.0, 165000.0, 165000.0, 165000.0, 115000.0, 127500.0, 165000.0, 165000.0, 165000.0, 195000.0, 165000.0, 155000.0, 165000.0, 175000.0, 165000.0, 165000.0, 135000.0, 145000.0, 135000.0, 160000.0, 150000.0, 160000.0, 48000.0, 250000.0, 162500.0, 170000.0, 140000.0, 155000.0, 140000.0, 110000.0, 170000.0, 215000.0, 180000.0, 250000.0, 250000.0, 115000.0, 160000.0, 104500.0, 275000.0, 141000.0, 155500.0, 190000.0, 165000.0, 165000.0, 195000.0, 155000.0, 165000.0, 70500.0, 112500.0, 135000.0, 275000.0, 145000.0, 48000.0, 143000.0, 151000.0, 142500.0, 125000.0, 126000.0, 157000.0, 160000.0, 162500.0, 250000.0, 110000.0, 170000.0, 140000.0, 250000.0, 115000.0, 215000.0, 180000.0, 250000.0], \"type\": \"box\", \"uid\": \"2484694b-b908-11e8-90b7-4c3488ea762f\"}, {\"name\": \"Washington DC\", \"x\": [\"Washington DC\", \"Washington DC\", \"Washington DC\", \"Washington DC\", \"Washington DC\", \"Washington DC\", \"Washington DC\", \"Washington DC\", \"Washington DC\", \"Washington DC\", \"Washington DC\", \"Washington DC\", \"Washington DC\", \"Washington DC\", \"Washington DC\", \"Washington DC\", \"Washington DC\", \"Washington DC\", \"Washington DC\", \"Washington DC\", \"Washington DC\", \"Washington DC\", \"Washington DC\", \"Washington DC\", \"Washington DC\", \"Washington DC\", \"Washington DC\", \"Washington DC\", \"Washington DC\", \"Washington DC\", \"Washington DC\", \"Washington DC\", \"Washington DC\", \"Washington DC\", \"Washington DC\", \"Washington DC\", \"Washington DC\", \"Washington DC\", \"Washington DC\", \"Washington DC\", \"Washington DC\", \"Washington DC\", \"Washington DC\", \"Washington DC\", \"Washington DC\", \"Washington DC\", \"Washington DC\", \"Washington DC\", \"Washington DC\", \"Washington DC\", \"Washington DC\", \"Washington DC\", \"Washington DC\", \"Washington DC\", \"Washington DC\", \"Washington DC\", \"Washington DC\", \"Washington DC\", \"Washington DC\", \"Washington DC\", \"Washington DC\", \"Washington DC\", \"Washington DC\", \"Washington DC\", \"Washington DC\", \"Washington DC\", \"Washington DC\", \"Washington DC\", \"Washington DC\", \"Washington DC\", \"Washington DC\", \"Washington DC\", \"Washington DC\", \"Washington DC\"], \"y\": [125000.0, 82500.0, 78102.0, 75000.0, 127500.0, 131778.5, 97015.0, 225000.0, 105000.0, 140000.0, 62500.0, 160000.0, 130000.0, 78102.0, 57500.0, 115000.0, 95000.0, 87024.0, 100858.0, 50000.0, 158927.5, 97049.0, 80500.0, 137500.0, 88512.0, 81122.5, 111516.0, 105000.0, 74623.5, 111516.0, 93780.0, 62500.0, 82500.0, 120000.0, 150000.0, 78102.0, 155000.0, 156500.0, 142000.0, 105000.0, 117500.0, 78102.0, 149494.5, 127500.0, 130000.0, 48696.0, 150000.0, 70000.0, 124000.0, 128500.0, 78102.0, 165000.0, 115000.0, 150000.0, 140000.0, 93792.5, 58000.0, 175000.0, 80000.0, 153024.0, 170171.0, 110000.0, 93780.0, 95000.0, 145000.0, 149494.5, 133000.0, 102500.0, 105500.0, 118000.0, 153500.0, 126500.0, 121500.0, 133000.0], \"type\": \"box\", \"uid\": \"2484694c-b908-11e8-a3a4-4c3488ea762f\"}, {\"name\": \"San Jose\", \"x\": [\"San Jose\", \"San Jose\", \"San Jose\", \"San Jose\", \"San Jose\", \"San Jose\", \"San Jose\", \"San Jose\", \"San Jose\", \"San Jose\", \"San Jose\", \"San Jose\", \"San Jose\", \"San Jose\", \"San Jose\", \"San Jose\", \"San Jose\", \"San Jose\", \"San Jose\", \"San Jose\", \"San Jose\", \"San Jose\", \"San Jose\", \"San Jose\", \"San Jose\", \"San Jose\", \"San Jose\", \"San Jose\", \"San Jose\", \"San Jose\", \"San Jose\", \"San Jose\", \"San Jose\", \"San Jose\", \"San Jose\", \"San Jose\", \"San Jose\", \"San Jose\", \"San Jose\", \"San Jose\", \"San Jose\", \"San Jose\", \"San Jose\", \"San Jose\", \"San Jose\", \"San Jose\", \"San Jose\", \"San Jose\", \"San Jose\", \"San Jose\", \"San Jose\", \"San Jose\", \"San Jose\", \"San Jose\", \"San Jose\", \"San Jose\", \"San Jose\", \"San Jose\", \"San Jose\"], \"y\": [137500.0, 130282.0, 145000.0, 160000.0, 150000.0, 120000.0, 250000.0, 170000.0, 135000.0, 154500.0, 148000.0, 118000.0, 158000.0, 170000.0, 148000.0, 126000.0, 135000.0, 150000.0, 120000.0, 175000.0, 50000.0, 200000.0, 115000.0, 180000.0, 250000.0, 185000.0, 90000.0, 250000.0, 130282.0, 167500.0, 170000.0, 170000.0, 111500.0, 99000.0, 121500.0, 129500.0, 187500.0, 135000.0, 121135.5, 225000.0, 101869.5, 180000.0, 147500.0, 60000.0, 160000.0, 133576.0, 145500.0, 135500.0, 175000.0, 185000.0, 120000.0, 180000.0, 145000.0, 119500.0, 124000.0, 140000.0, 94500.0, 135000.0, 109000.0], \"type\": \"box\", \"uid\": \"2484694d-b908-11e8-842b-4c3488ea762f\"}, {\"name\": \"Boston\", \"x\": [\"Boston\", \"Boston\", \"Boston\", \"Boston\", \"Boston\", \"Boston\", \"Boston\", \"Boston\", \"Boston\", \"Boston\", \"Boston\", \"Boston\", \"Boston\", \"Boston\", \"Boston\", \"Boston\", \"Boston\", \"Boston\", \"Boston\", \"Boston\", \"Boston\", \"Boston\", \"Boston\", \"Boston\", \"Boston\", \"Boston\", \"Boston\", \"Boston\", \"Boston\", \"Boston\", \"Boston\", \"Boston\", \"Boston\", \"Boston\", \"Boston\", \"Boston\", \"Boston\", \"Boston\", \"Boston\", \"Boston\", \"Boston\", \"Boston\", \"Boston\", \"Boston\", \"Boston\", \"Boston\", \"Boston\", \"Boston\", \"Boston\", \"Boston\", \"Boston\", \"Boston\", \"Boston\", \"Boston\", \"Boston\"], \"y\": [110000.0, 55000.0, 150000.0, 48152.5, 68582.0, 110000.0, 117000.0, 120000.0, 119000.0, 126000.0, 121500.0, 127500.0, 152500.0, 162500.0, 100000.0, 106000.0, 61639.0, 60000.0, 52500.0, 61500.0, 152500.0, 175000.0, 130000.0, 135000.0, 126000.0, 98500.0, 96500.0, 100000.0, 110000.0, 110000.0, 130000.0, 175000.0, 77050.0, 77791.5, 39655.0, 132500.0, 91832.5, 60000.0, 84150.5, 160000.0, 150000.0, 36565.0, 160000.0, 117000.0, 100000.0, 91832.5, 130000.0, 125000.0, 160000.0, 185000.0, 66890.0, 133500.0, 96000.0, 131018.5, 160000.0], \"type\": \"box\", \"uid\": \"2484694e-b908-11e8-aab6-4c3488ea762f\"}, {\"name\": \"Houston\", \"x\": [\"Houston\", \"Houston\", \"Houston\", \"Houston\", \"Houston\", \"Houston\", \"Houston\", \"Houston\", \"Houston\", \"Houston\", \"Houston\", \"Houston\", \"Houston\", \"Houston\", \"Houston\", \"Houston\", \"Houston\", \"Houston\", \"Houston\", \"Houston\", \"Houston\", \"Houston\", \"Houston\", \"Houston\", \"Houston\", \"Houston\", \"Houston\", \"Houston\", \"Houston\", \"Houston\", \"Houston\", \"Houston\", \"Houston\", \"Houston\", \"Houston\", \"Houston\"], \"y\": [106500.0, 105000.0, 129500.0, 102000.0, 113500.0, 112500.0, 129000.0, 67407.0, 113500.0, 70000.0, 66500.0, 74500.0, 76950.0, 122500.0, 74000.0, 47500.0, 122500.0, 161000.0, 165000.0, 87000.0, 70000.0, 140000.0, 49000.0, 43000.0, 100000.0, 94050.0, 125000.0, 108000.0, 95000.0, 63500.0, 63500.0, 106820.0, 140000.0, 117000.0, 102500.0, 103500.0], \"type\": \"box\", \"uid\": \"2484694f-b908-11e8-804d-4c3488ea762f\"}, {\"name\": \"St. Louis\", \"x\": [\"St. Louis\", \"St. Louis\", \"St. Louis\", \"St. Louis\", \"St. Louis\", \"St. Louis\", \"St. Louis\", \"St. Louis\", \"St. Louis\", \"St. Louis\", \"St. Louis\", \"St. Louis\", \"St. Louis\", \"St. Louis\", \"St. Louis\", \"St. Louis\", \"St. Louis\", \"St. Louis\", \"St. Louis\", \"St. Louis\", \"St. Louis\", \"St. Louis\", \"St. Louis\", \"St. Louis\", \"St. Louis\", \"St. Louis\", \"St. Louis\", \"St. Louis\", \"St. Louis\", \"St. Louis\", \"St. Louis\", \"St. Louis\", \"St. Louis\", \"St. Louis\"], \"y\": [80000.0, 75000.0, 82000.0, 115000.0, 97500.0, 53508.0, 50164.0, 45430.0, 54974.5, 54974.5, 53508.0, 54974.5, 54974.5, 50524.0, 53892.5, 61132.0, 75000.0, 53508.0, 53892.5, 50164.0, 63669.0, 50164.0, 51539.0, 109000.0, 97000.0, 43000.0, 148000.0, 51000.0, 117000.0, 114000.0, 107000.0, 120500.0, 126000.0, 145000.0], \"type\": \"box\", \"uid\": \"24846950-b908-11e8-81d9-4c3488ea762f\"}, {\"name\": \"Chicago\", \"x\": [\"Chicago\", \"Chicago\", \"Chicago\", \"Chicago\", \"Chicago\", \"Chicago\", \"Chicago\", \"Chicago\", \"Chicago\", \"Chicago\", \"Chicago\", \"Chicago\", \"Chicago\", \"Chicago\", \"Chicago\", \"Chicago\", \"Chicago\", \"Chicago\", \"Chicago\", \"Chicago\", \"Chicago\", \"Chicago\", \"Chicago\", \"Chicago\", \"Chicago\", \"Chicago\", \"Chicago\", \"Chicago\", \"Chicago\", \"Chicago\", \"Chicago\", \"Chicago\", \"Chicago\"], \"y\": [142500.0, 105000.0, 105000.0, 127500.0, 65000.0, 100000.0, 90000.0, 42500.0, 57500.0, 57702.0, 112500.0, 150000.0, 72500.0, 165000.0, 107500.0, 150000.0, 99000.0, 144000.0, 150000.0, 110000.0, 127500.0, 150000.0, 130000.0, 120000.0, 110500.0, 134000.0, 123000.0, 103000.0, 49000.0, 120000.0, 110500.0, 134000.0, 123000.0], \"type\": \"box\", \"uid\": \"24846951-b908-11e8-bb74-4c3488ea762f\"}, {\"name\": \"Los Angeles\", \"x\": [\"Los Angeles\", \"Los Angeles\", \"Los Angeles\", \"Los Angeles\", \"Los Angeles\", \"Los Angeles\", \"Los Angeles\", \"Los Angeles\", \"Los Angeles\", \"Los Angeles\", \"Los Angeles\", \"Los Angeles\", \"Los Angeles\", \"Los Angeles\", \"Los Angeles\", \"Los Angeles\", \"Los Angeles\", \"Los Angeles\", \"Los Angeles\", \"Los Angeles\", \"Los Angeles\", \"Los Angeles\", \"Los Angeles\", \"Los Angeles\", \"Los Angeles\", \"Los Angeles\", \"Los Angeles\", \"Los Angeles\"], \"y\": [97500.0, 50000.0, 36500.0, 40000.0, 22500.0, 110000.0, 70000.0, 250000.0, 53000.0, 115000.0, 55000.0, 115000.0, 252500.0, 50000.0, 130000.0, 127500.0, 125000.0, 70000.0, 165000.0, 139120.5, 110000.0, 59000.0, 122500.0, 85500.0, 95500.0, 120500.0, 127500.0, 78500.0], \"type\": \"box\", \"uid\": \"24846952-b908-11e8-ae01-4c3488ea762f\"}, {\"name\": \"Queens\", \"x\": [\"Queens\", \"Queens\", \"Queens\", \"Queens\", \"Queens\", \"Queens\", \"Queens\", \"Queens\", \"Queens\", \"Queens\", \"Queens\", \"Queens\", \"Queens\", \"Queens\", \"Queens\", \"Queens\", \"Queens\", \"Queens\", \"Queens\", \"Queens\", \"Queens\", \"Queens\", \"Queens\"], \"y\": [62693.0, 75557.5, 65977.0, 75557.5, 81802.0, 78790.5, 62693.0, 90981.0, 62693.0, 78057.5, 62693.0, 81802.0, 90981.0, 62693.0, 78057.5, 90981.0, 62693.0, 75557.5, 65977.0, 98884.0, 62693.0, 75557.5, 100803.0], \"type\": \"box\", \"uid\": \"24846953-b908-11e8-9b24-4c3488ea762f\"}],\n",
       "            {\"boxmode\": \"group\", \"height\": 500, \"paper_bgcolor\": \"rgba(0,0,0,0)\", \"plot_bgcolor\": \"rgba(0,0,0,0)\", \"showlegend\": false, \"width\": 700, \"xaxis\": {\"tickangle\": -40}, \"yaxis\": {\"zeroline\": false}},\n",
       "            {\"showLink\": true, \"linkText\": \"Export to plot.ly\"}\n",
       "        ).then(function () {return Plotly.addFrames('23e00a2a-2cba-472a-b345-c0c1d1338e05',{});}).then(function(){Plotly.animate('23e00a2a-2cba-472a-b345-c0c1d1338e05');})\n",
       "        });</script>"
      ],
      "text/vnd.plotly.v1+html": [
       "<div id=\"23e00a2a-2cba-472a-b345-c0c1d1338e05\" style=\"height: 500px; width: 700px;\" class=\"plotly-graph-div\"></div><script type=\"text/javascript\">require([\"plotly\"], function(Plotly) { window.PLOTLYENV=window.PLOTLYENV || {};window.PLOTLYENV.BASE_URL=\"https://plot.ly\";\n",
       "        Plotly.plot(\n",
       "            '23e00a2a-2cba-472a-b345-c0c1d1338e05',\n",
       "            [{\"name\": \"New York\", \"x\": [\"New York\", \"New York\", \"New York\", \"New York\", \"New York\", \"New York\", \"New York\", \"New York\", \"New York\", \"New York\", \"New York\", \"New York\", \"New York\", \"New York\", \"New York\", \"New York\", \"New York\", \"New York\", \"New York\", \"New York\", \"New York\", \"New York\", \"New York\", \"New York\", \"New York\", \"New York\", \"New York\", \"New York\", \"New York\", \"New York\", \"New York\", \"New York\", \"New York\", \"New York\", \"New York\", \"New York\", \"New York\", \"New York\", \"New York\", \"New York\", \"New York\", \"New York\", \"New York\", \"New York\", \"New York\", \"New York\", \"New York\", \"New York\", \"New York\", \"New York\", \"New York\", \"New York\", \"New York\", \"New York\", \"New York\", \"New York\", \"New York\", \"New York\", \"New York\", \"New York\", \"New York\", \"New York\", \"New York\", \"New York\", \"New York\", \"New York\", \"New York\", \"New York\", \"New York\", \"New York\", \"New York\", \"New York\", \"New York\", \"New York\", \"New York\", \"New York\", \"New York\", \"New York\", \"New York\", \"New York\", \"New York\", \"New York\", \"New York\", \"New York\", \"New York\", \"New York\", \"New York\", \"New York\", \"New York\", \"New York\", \"New York\", \"New York\", \"New York\", \"New York\", \"New York\", \"New York\", \"New York\", \"New York\", \"New York\", \"New York\", \"New York\", \"New York\", \"New York\", \"New York\", \"New York\", \"New York\", \"New York\", \"New York\", \"New York\", \"New York\", \"New York\", \"New York\", \"New York\", \"New York\", \"New York\", \"New York\", \"New York\", \"New York\", \"New York\", \"New York\", \"New York\", \"New York\", \"New York\", \"New York\", \"New York\", \"New York\", \"New York\", \"New York\"], \"y\": [76265.0, 100000.0, 75557.5, 150000.0, 70000.0, 77035.0, 77035.0, 125000.0, 127500.0, 65570.0, 75557.5, 59708.0, 62693.0, 79249.5, 115000.0, 61797.5, 87500.0, 36500.0, 157500.0, 125000.0, 205000.0, 200000.0, 175000.0, 85000.0, 175000.0, 50000.0, 45000.0, 75557.5, 78790.5, 62693.0, 78790.5, 212500.0, 75557.5, 120000.0, 135000.0, 140000.0, 70000.0, 57500.0, 120000.0, 75557.5, 165000.0, 90000.0, 77500.0, 94821.5, 180000.0, 106919.0, 120000.0, 82500.0, 61797.5, 50430.0, 50000.0, 78261.0, 125000.0, 77035.0, 165000.0, 77035.0, 88144.5, 165000.0, 120000.0, 152500.0, 110000.0, 61797.5, 79249.5, 100803.0, 882.5, 160000.0, 77035.0, 42000.0, 250000.0, 95000.0, 137500.0, 190000.0, 120000.0, 90000.0, 90000.0, 275000.0, 150000.0, 79249.5, 117500.0, 886.0, 202500.0, 157500.0, 86500.0, 160000.0, 54390.0, 125000.0, 126500.0, 126000.0, 134500.0, 129500.0, 79249.5, 61797.5, 88144.5, 129500.0, 137000.0, 165000.0, 77035.0, 120000.0, 152500.0, 77035.0, 120000.0, 160000.0, 79249.5, 110000.0, 77035.0, 90000.0, 42000.0, 61797.5, 250000.0, 82500.0, 117000.0, 275000.0, 137500.0, 117500.0, 882.5, 90000.0, 190000.0, 58717.5, 886.0, 202500.0, 87915.0, 160000.0, 150000.0, 78343.0, 105000.0, 170000.0, 48000.0, 55000.0], \"type\": \"box\", \"uid\": \"2484694a-b908-11e8-a68a-4c3488ea762f\"}, {\"name\": \"San Francisco\", \"x\": [\"San Francisco\", \"San Francisco\", \"San Francisco\", \"San Francisco\", \"San Francisco\", \"San Francisco\", \"San Francisco\", \"San Francisco\", \"San Francisco\", \"San Francisco\", \"San Francisco\", \"San Francisco\", \"San Francisco\", \"San Francisco\", \"San Francisco\", \"San Francisco\", \"San Francisco\", \"San Francisco\", \"San Francisco\", \"San Francisco\", \"San Francisco\", \"San Francisco\", \"San Francisco\", \"San Francisco\", \"San Francisco\", \"San Francisco\", \"San Francisco\", \"San Francisco\", \"San Francisco\", \"San Francisco\", \"San Francisco\", \"San Francisco\", \"San Francisco\", \"San Francisco\", \"San Francisco\", \"San Francisco\", \"San Francisco\", \"San Francisco\", \"San Francisco\", \"San Francisco\", \"San Francisco\", \"San Francisco\", \"San Francisco\", \"San Francisco\", \"San Francisco\", \"San Francisco\", \"San Francisco\", \"San Francisco\", \"San Francisco\", \"San Francisco\", \"San Francisco\", \"San Francisco\", \"San Francisco\", \"San Francisco\", \"San Francisco\", \"San Francisco\", \"San Francisco\", \"San Francisco\", \"San Francisco\", \"San Francisco\", \"San Francisco\", \"San Francisco\", \"San Francisco\", \"San Francisco\", \"San Francisco\", \"San Francisco\", \"San Francisco\", \"San Francisco\", \"San Francisco\", \"San Francisco\", \"San Francisco\", \"San Francisco\", \"San Francisco\", \"San Francisco\", \"San Francisco\", \"San Francisco\", \"San Francisco\", \"San Francisco\", \"San Francisco\"], \"y\": [150000.0, 160000.0, 180000.0, 165000.0, 180000.0, 275000.0, 165000.0, 165000.0, 225000.0, 190000.0, 165000.0, 165000.0, 165000.0, 115000.0, 127500.0, 165000.0, 165000.0, 165000.0, 195000.0, 165000.0, 155000.0, 165000.0, 175000.0, 165000.0, 165000.0, 135000.0, 145000.0, 135000.0, 160000.0, 150000.0, 160000.0, 48000.0, 250000.0, 162500.0, 170000.0, 140000.0, 155000.0, 140000.0, 110000.0, 170000.0, 215000.0, 180000.0, 250000.0, 250000.0, 115000.0, 160000.0, 104500.0, 275000.0, 141000.0, 155500.0, 190000.0, 165000.0, 165000.0, 195000.0, 155000.0, 165000.0, 70500.0, 112500.0, 135000.0, 275000.0, 145000.0, 48000.0, 143000.0, 151000.0, 142500.0, 125000.0, 126000.0, 157000.0, 160000.0, 162500.0, 250000.0, 110000.0, 170000.0, 140000.0, 250000.0, 115000.0, 215000.0, 180000.0, 250000.0], \"type\": \"box\", \"uid\": \"2484694b-b908-11e8-90b7-4c3488ea762f\"}, {\"name\": \"Washington DC\", \"x\": [\"Washington DC\", \"Washington DC\", \"Washington DC\", \"Washington DC\", \"Washington DC\", \"Washington DC\", \"Washington DC\", \"Washington DC\", \"Washington DC\", \"Washington DC\", \"Washington DC\", \"Washington DC\", \"Washington DC\", \"Washington DC\", \"Washington DC\", \"Washington DC\", \"Washington DC\", \"Washington DC\", \"Washington DC\", \"Washington DC\", \"Washington DC\", \"Washington DC\", \"Washington DC\", \"Washington DC\", \"Washington DC\", \"Washington DC\", \"Washington DC\", \"Washington DC\", \"Washington DC\", \"Washington DC\", \"Washington DC\", \"Washington DC\", \"Washington DC\", \"Washington DC\", \"Washington DC\", \"Washington DC\", \"Washington DC\", \"Washington DC\", \"Washington DC\", \"Washington DC\", \"Washington DC\", \"Washington DC\", \"Washington DC\", \"Washington DC\", \"Washington DC\", \"Washington DC\", \"Washington DC\", \"Washington DC\", \"Washington DC\", \"Washington DC\", \"Washington DC\", \"Washington DC\", \"Washington DC\", \"Washington DC\", \"Washington DC\", \"Washington DC\", \"Washington DC\", \"Washington DC\", \"Washington DC\", \"Washington DC\", \"Washington DC\", \"Washington DC\", \"Washington DC\", \"Washington DC\", \"Washington DC\", \"Washington DC\", \"Washington DC\", \"Washington DC\", \"Washington DC\", \"Washington DC\", \"Washington DC\", \"Washington DC\", \"Washington DC\", \"Washington DC\"], \"y\": [125000.0, 82500.0, 78102.0, 75000.0, 127500.0, 131778.5, 97015.0, 225000.0, 105000.0, 140000.0, 62500.0, 160000.0, 130000.0, 78102.0, 57500.0, 115000.0, 95000.0, 87024.0, 100858.0, 50000.0, 158927.5, 97049.0, 80500.0, 137500.0, 88512.0, 81122.5, 111516.0, 105000.0, 74623.5, 111516.0, 93780.0, 62500.0, 82500.0, 120000.0, 150000.0, 78102.0, 155000.0, 156500.0, 142000.0, 105000.0, 117500.0, 78102.0, 149494.5, 127500.0, 130000.0, 48696.0, 150000.0, 70000.0, 124000.0, 128500.0, 78102.0, 165000.0, 115000.0, 150000.0, 140000.0, 93792.5, 58000.0, 175000.0, 80000.0, 153024.0, 170171.0, 110000.0, 93780.0, 95000.0, 145000.0, 149494.5, 133000.0, 102500.0, 105500.0, 118000.0, 153500.0, 126500.0, 121500.0, 133000.0], \"type\": \"box\", \"uid\": \"2484694c-b908-11e8-a3a4-4c3488ea762f\"}, {\"name\": \"San Jose\", \"x\": [\"San Jose\", \"San Jose\", \"San Jose\", \"San Jose\", \"San Jose\", \"San Jose\", \"San Jose\", \"San Jose\", \"San Jose\", \"San Jose\", \"San Jose\", \"San Jose\", \"San Jose\", \"San Jose\", \"San Jose\", \"San Jose\", \"San Jose\", \"San Jose\", \"San Jose\", \"San Jose\", \"San Jose\", \"San Jose\", \"San Jose\", \"San Jose\", \"San Jose\", \"San Jose\", \"San Jose\", \"San Jose\", \"San Jose\", \"San Jose\", \"San Jose\", \"San Jose\", \"San Jose\", \"San Jose\", \"San Jose\", \"San Jose\", \"San Jose\", \"San Jose\", \"San Jose\", \"San Jose\", \"San Jose\", \"San Jose\", \"San Jose\", \"San Jose\", \"San Jose\", \"San Jose\", \"San Jose\", \"San Jose\", \"San Jose\", \"San Jose\", \"San Jose\", \"San Jose\", \"San Jose\", \"San Jose\", \"San Jose\", \"San Jose\", \"San Jose\", \"San Jose\", \"San Jose\"], \"y\": [137500.0, 130282.0, 145000.0, 160000.0, 150000.0, 120000.0, 250000.0, 170000.0, 135000.0, 154500.0, 148000.0, 118000.0, 158000.0, 170000.0, 148000.0, 126000.0, 135000.0, 150000.0, 120000.0, 175000.0, 50000.0, 200000.0, 115000.0, 180000.0, 250000.0, 185000.0, 90000.0, 250000.0, 130282.0, 167500.0, 170000.0, 170000.0, 111500.0, 99000.0, 121500.0, 129500.0, 187500.0, 135000.0, 121135.5, 225000.0, 101869.5, 180000.0, 147500.0, 60000.0, 160000.0, 133576.0, 145500.0, 135500.0, 175000.0, 185000.0, 120000.0, 180000.0, 145000.0, 119500.0, 124000.0, 140000.0, 94500.0, 135000.0, 109000.0], \"type\": \"box\", \"uid\": \"2484694d-b908-11e8-842b-4c3488ea762f\"}, {\"name\": \"Boston\", \"x\": [\"Boston\", \"Boston\", \"Boston\", \"Boston\", \"Boston\", \"Boston\", \"Boston\", \"Boston\", \"Boston\", \"Boston\", \"Boston\", \"Boston\", \"Boston\", \"Boston\", \"Boston\", \"Boston\", \"Boston\", \"Boston\", \"Boston\", \"Boston\", \"Boston\", \"Boston\", \"Boston\", \"Boston\", \"Boston\", \"Boston\", \"Boston\", \"Boston\", \"Boston\", \"Boston\", \"Boston\", \"Boston\", \"Boston\", \"Boston\", \"Boston\", \"Boston\", \"Boston\", \"Boston\", \"Boston\", \"Boston\", \"Boston\", \"Boston\", \"Boston\", \"Boston\", \"Boston\", \"Boston\", \"Boston\", \"Boston\", \"Boston\", \"Boston\", \"Boston\", \"Boston\", \"Boston\", \"Boston\", \"Boston\"], \"y\": [110000.0, 55000.0, 150000.0, 48152.5, 68582.0, 110000.0, 117000.0, 120000.0, 119000.0, 126000.0, 121500.0, 127500.0, 152500.0, 162500.0, 100000.0, 106000.0, 61639.0, 60000.0, 52500.0, 61500.0, 152500.0, 175000.0, 130000.0, 135000.0, 126000.0, 98500.0, 96500.0, 100000.0, 110000.0, 110000.0, 130000.0, 175000.0, 77050.0, 77791.5, 39655.0, 132500.0, 91832.5, 60000.0, 84150.5, 160000.0, 150000.0, 36565.0, 160000.0, 117000.0, 100000.0, 91832.5, 130000.0, 125000.0, 160000.0, 185000.0, 66890.0, 133500.0, 96000.0, 131018.5, 160000.0], \"type\": \"box\", \"uid\": \"2484694e-b908-11e8-aab6-4c3488ea762f\"}, {\"name\": \"Houston\", \"x\": [\"Houston\", \"Houston\", \"Houston\", \"Houston\", \"Houston\", \"Houston\", \"Houston\", \"Houston\", \"Houston\", \"Houston\", \"Houston\", \"Houston\", \"Houston\", \"Houston\", \"Houston\", \"Houston\", \"Houston\", \"Houston\", \"Houston\", \"Houston\", \"Houston\", \"Houston\", \"Houston\", \"Houston\", \"Houston\", \"Houston\", \"Houston\", \"Houston\", \"Houston\", \"Houston\", \"Houston\", \"Houston\", \"Houston\", \"Houston\", \"Houston\", \"Houston\"], \"y\": [106500.0, 105000.0, 129500.0, 102000.0, 113500.0, 112500.0, 129000.0, 67407.0, 113500.0, 70000.0, 66500.0, 74500.0, 76950.0, 122500.0, 74000.0, 47500.0, 122500.0, 161000.0, 165000.0, 87000.0, 70000.0, 140000.0, 49000.0, 43000.0, 100000.0, 94050.0, 125000.0, 108000.0, 95000.0, 63500.0, 63500.0, 106820.0, 140000.0, 117000.0, 102500.0, 103500.0], \"type\": \"box\", \"uid\": \"2484694f-b908-11e8-804d-4c3488ea762f\"}, {\"name\": \"St. Louis\", \"x\": [\"St. Louis\", \"St. Louis\", \"St. Louis\", \"St. Louis\", \"St. Louis\", \"St. Louis\", \"St. Louis\", \"St. Louis\", \"St. Louis\", \"St. Louis\", \"St. Louis\", \"St. Louis\", \"St. Louis\", \"St. Louis\", \"St. Louis\", \"St. Louis\", \"St. Louis\", \"St. Louis\", \"St. Louis\", \"St. Louis\", \"St. Louis\", \"St. Louis\", \"St. Louis\", \"St. Louis\", \"St. Louis\", \"St. Louis\", \"St. Louis\", \"St. Louis\", \"St. Louis\", \"St. Louis\", \"St. Louis\", \"St. Louis\", \"St. Louis\", \"St. Louis\"], \"y\": [80000.0, 75000.0, 82000.0, 115000.0, 97500.0, 53508.0, 50164.0, 45430.0, 54974.5, 54974.5, 53508.0, 54974.5, 54974.5, 50524.0, 53892.5, 61132.0, 75000.0, 53508.0, 53892.5, 50164.0, 63669.0, 50164.0, 51539.0, 109000.0, 97000.0, 43000.0, 148000.0, 51000.0, 117000.0, 114000.0, 107000.0, 120500.0, 126000.0, 145000.0], \"type\": \"box\", \"uid\": \"24846950-b908-11e8-81d9-4c3488ea762f\"}, {\"name\": \"Chicago\", \"x\": [\"Chicago\", \"Chicago\", \"Chicago\", \"Chicago\", \"Chicago\", \"Chicago\", \"Chicago\", \"Chicago\", \"Chicago\", \"Chicago\", \"Chicago\", \"Chicago\", \"Chicago\", \"Chicago\", \"Chicago\", \"Chicago\", \"Chicago\", \"Chicago\", \"Chicago\", \"Chicago\", \"Chicago\", \"Chicago\", \"Chicago\", \"Chicago\", \"Chicago\", \"Chicago\", \"Chicago\", \"Chicago\", \"Chicago\", \"Chicago\", \"Chicago\", \"Chicago\", \"Chicago\"], \"y\": [142500.0, 105000.0, 105000.0, 127500.0, 65000.0, 100000.0, 90000.0, 42500.0, 57500.0, 57702.0, 112500.0, 150000.0, 72500.0, 165000.0, 107500.0, 150000.0, 99000.0, 144000.0, 150000.0, 110000.0, 127500.0, 150000.0, 130000.0, 120000.0, 110500.0, 134000.0, 123000.0, 103000.0, 49000.0, 120000.0, 110500.0, 134000.0, 123000.0], \"type\": \"box\", \"uid\": \"24846951-b908-11e8-bb74-4c3488ea762f\"}, {\"name\": \"Los Angeles\", \"x\": [\"Los Angeles\", \"Los Angeles\", \"Los Angeles\", \"Los Angeles\", \"Los Angeles\", \"Los Angeles\", \"Los Angeles\", \"Los Angeles\", \"Los Angeles\", \"Los Angeles\", \"Los Angeles\", \"Los Angeles\", \"Los Angeles\", \"Los Angeles\", \"Los Angeles\", \"Los Angeles\", \"Los Angeles\", \"Los Angeles\", \"Los Angeles\", \"Los Angeles\", \"Los Angeles\", \"Los Angeles\", \"Los Angeles\", \"Los Angeles\", \"Los Angeles\", \"Los Angeles\", \"Los Angeles\", \"Los Angeles\"], \"y\": [97500.0, 50000.0, 36500.0, 40000.0, 22500.0, 110000.0, 70000.0, 250000.0, 53000.0, 115000.0, 55000.0, 115000.0, 252500.0, 50000.0, 130000.0, 127500.0, 125000.0, 70000.0, 165000.0, 139120.5, 110000.0, 59000.0, 122500.0, 85500.0, 95500.0, 120500.0, 127500.0, 78500.0], \"type\": \"box\", \"uid\": \"24846952-b908-11e8-ae01-4c3488ea762f\"}, {\"name\": \"Queens\", \"x\": [\"Queens\", \"Queens\", \"Queens\", \"Queens\", \"Queens\", \"Queens\", \"Queens\", \"Queens\", \"Queens\", \"Queens\", \"Queens\", \"Queens\", \"Queens\", \"Queens\", \"Queens\", \"Queens\", \"Queens\", \"Queens\", \"Queens\", \"Queens\", \"Queens\", \"Queens\", \"Queens\"], \"y\": [62693.0, 75557.5, 65977.0, 75557.5, 81802.0, 78790.5, 62693.0, 90981.0, 62693.0, 78057.5, 62693.0, 81802.0, 90981.0, 62693.0, 78057.5, 90981.0, 62693.0, 75557.5, 65977.0, 98884.0, 62693.0, 75557.5, 100803.0], \"type\": \"box\", \"uid\": \"24846953-b908-11e8-9b24-4c3488ea762f\"}],\n",
       "            {\"boxmode\": \"group\", \"height\": 500, \"paper_bgcolor\": \"rgba(0,0,0,0)\", \"plot_bgcolor\": \"rgba(0,0,0,0)\", \"showlegend\": false, \"width\": 700, \"xaxis\": {\"tickangle\": -40}, \"yaxis\": {\"zeroline\": false}},\n",
       "            {\"showLink\": true, \"linkText\": \"Export to plot.ly\"}\n",
       "        ).then(function () {return Plotly.addFrames('23e00a2a-2cba-472a-b345-c0c1d1338e05',{});}).then(function(){Plotly.animate('23e00a2a-2cba-472a-b345-c0c1d1338e05');})\n",
       "        });</script>"
      ]
     },
     "metadata": {},
     "output_type": "display_data"
    }
   ],
   "source": [
    "import warnings\n",
    "warnings.filterwarnings(\"ignore\", category=DeprecationWarning) \n",
    "\n",
    "box_layout = Layout(\n",
    "    yaxis= YAxis(\n",
    "        zeroline=False\n",
    "    ),\n",
    "    height = 500,\n",
    "    width = 700,\n",
    "    boxmode='group',\n",
    "    xaxis=dict(tickangle=-40),\n",
    "    paper_bgcolor='rgba(0,0,0,0)',\n",
    "    plot_bgcolor='rgba(0,0,0,0)',\n",
    "    showlegend=False\n",
    ")\n",
    "\n",
    "fig = Figure(data=graph_data, layout=box_layout)\n",
    "\n",
    "py.offline.iplot(fig, filename='salary_by_city')"
   ]
  },
  {
   "cell_type": "code",
   "execution_count": 402,
   "metadata": {
    "collapsed": true
   },
   "outputs": [],
   "source": [
    "df.to_csv('input_for_modeling.csv', index = False)"
   ]
  },
  {
   "cell_type": "code",
   "execution_count": null,
   "metadata": {
    "collapsed": true
   },
   "outputs": [],
   "source": []
  },
  {
   "cell_type": "code",
   "execution_count": null,
   "metadata": {
    "collapsed": true
   },
   "outputs": [],
   "source": []
  },
  {
   "cell_type": "code",
   "execution_count": null,
   "metadata": {
    "collapsed": true
   },
   "outputs": [],
   "source": []
  },
  {
   "cell_type": "code",
   "execution_count": null,
   "metadata": {
    "collapsed": true
   },
   "outputs": [],
   "source": []
  },
  {
   "cell_type": "code",
   "execution_count": null,
   "metadata": {
    "collapsed": true
   },
   "outputs": [],
   "source": []
  },
  {
   "cell_type": "code",
   "execution_count": null,
   "metadata": {
    "collapsed": true
   },
   "outputs": [],
   "source": []
  },
  {
   "cell_type": "code",
   "execution_count": null,
   "metadata": {
    "collapsed": true
   },
   "outputs": [],
   "source": []
  },
  {
   "cell_type": "code",
   "execution_count": null,
   "metadata": {
    "collapsed": true
   },
   "outputs": [],
   "source": []
  },
  {
   "cell_type": "code",
   "execution_count": null,
   "metadata": {
    "collapsed": true
   },
   "outputs": [],
   "source": []
  },
  {
   "cell_type": "code",
   "execution_count": null,
   "metadata": {
    "collapsed": true
   },
   "outputs": [],
   "source": []
  },
  {
   "cell_type": "code",
   "execution_count": null,
   "metadata": {
    "collapsed": true
   },
   "outputs": [],
   "source": []
  },
  {
   "cell_type": "code",
   "execution_count": null,
   "metadata": {
    "collapsed": true
   },
   "outputs": [],
   "source": []
  },
  {
   "cell_type": "code",
   "execution_count": null,
   "metadata": {
    "collapsed": true
   },
   "outputs": [],
   "source": []
  },
  {
   "cell_type": "code",
   "execution_count": null,
   "metadata": {
    "collapsed": true
   },
   "outputs": [],
   "source": []
  },
  {
   "cell_type": "code",
   "execution_count": null,
   "metadata": {
    "collapsed": true
   },
   "outputs": [],
   "source": []
  },
  {
   "cell_type": "code",
   "execution_count": null,
   "metadata": {
    "collapsed": true
   },
   "outputs": [],
   "source": []
  },
  {
   "cell_type": "code",
   "execution_count": null,
   "metadata": {
    "collapsed": true
   },
   "outputs": [],
   "source": []
  },
  {
   "cell_type": "code",
   "execution_count": null,
   "metadata": {
    "collapsed": true
   },
   "outputs": [],
   "source": []
  },
  {
   "cell_type": "code",
   "execution_count": null,
   "metadata": {
    "collapsed": true
   },
   "outputs": [],
   "source": []
  },
  {
   "cell_type": "code",
   "execution_count": null,
   "metadata": {
    "collapsed": true
   },
   "outputs": [],
   "source": []
  },
  {
   "cell_type": "code",
   "execution_count": null,
   "metadata": {
    "collapsed": true
   },
   "outputs": [],
   "source": []
  },
  {
   "cell_type": "code",
   "execution_count": null,
   "metadata": {
    "collapsed": true
   },
   "outputs": [],
   "source": []
  },
  {
   "cell_type": "code",
   "execution_count": null,
   "metadata": {
    "collapsed": true
   },
   "outputs": [],
   "source": []
  },
  {
   "cell_type": "code",
   "execution_count": null,
   "metadata": {
    "collapsed": true
   },
   "outputs": [],
   "source": []
  },
  {
   "cell_type": "code",
   "execution_count": null,
   "metadata": {
    "collapsed": true
   },
   "outputs": [],
   "source": []
  },
  {
   "cell_type": "code",
   "execution_count": null,
   "metadata": {
    "collapsed": true
   },
   "outputs": [],
   "source": []
  },
  {
   "cell_type": "code",
   "execution_count": null,
   "metadata": {
    "collapsed": true
   },
   "outputs": [],
   "source": []
  },
  {
   "cell_type": "code",
   "execution_count": null,
   "metadata": {
    "collapsed": true
   },
   "outputs": [],
   "source": []
  },
  {
   "cell_type": "code",
   "execution_count": null,
   "metadata": {
    "collapsed": true
   },
   "outputs": [],
   "source": []
  },
  {
   "cell_type": "code",
   "execution_count": null,
   "metadata": {
    "collapsed": true
   },
   "outputs": [],
   "source": []
  },
  {
   "cell_type": "code",
   "execution_count": null,
   "metadata": {
    "collapsed": true
   },
   "outputs": [],
   "source": []
  },
  {
   "cell_type": "code",
   "execution_count": null,
   "metadata": {
    "collapsed": true
   },
   "outputs": [],
   "source": []
  },
  {
   "cell_type": "code",
   "execution_count": null,
   "metadata": {
    "collapsed": true
   },
   "outputs": [],
   "source": []
  },
  {
   "cell_type": "code",
   "execution_count": null,
   "metadata": {
    "collapsed": true
   },
   "outputs": [],
   "source": []
  },
  {
   "cell_type": "code",
   "execution_count": null,
   "metadata": {
    "collapsed": true
   },
   "outputs": [],
   "source": []
  },
  {
   "cell_type": "code",
   "execution_count": null,
   "metadata": {
    "collapsed": true
   },
   "outputs": [],
   "source": []
  },
  {
   "cell_type": "code",
   "execution_count": null,
   "metadata": {
    "collapsed": true
   },
   "outputs": [],
   "source": []
  },
  {
   "cell_type": "code",
   "execution_count": null,
   "metadata": {
    "collapsed": true
   },
   "outputs": [],
   "source": []
  },
  {
   "cell_type": "code",
   "execution_count": null,
   "metadata": {
    "collapsed": true
   },
   "outputs": [],
   "source": []
  },
  {
   "cell_type": "code",
   "execution_count": null,
   "metadata": {
    "collapsed": true
   },
   "outputs": [],
   "source": []
  },
  {
   "cell_type": "code",
   "execution_count": null,
   "metadata": {
    "collapsed": true
   },
   "outputs": [],
   "source": []
  },
  {
   "cell_type": "code",
   "execution_count": null,
   "metadata": {
    "collapsed": true
   },
   "outputs": [],
   "source": []
  }
 ],
 "metadata": {
  "kernelspec": {
   "display_name": "Python 3",
   "language": "python",
   "name": "python3"
  },
  "language_info": {
   "codemirror_mode": {
    "name": "ipython",
    "version": 3
   },
   "file_extension": ".py",
   "mimetype": "text/x-python",
   "name": "python",
   "nbconvert_exporter": "python",
   "pygments_lexer": "ipython3",
   "version": "3.6.4"
  }
 },
 "nbformat": 4,
 "nbformat_minor": 2
}
