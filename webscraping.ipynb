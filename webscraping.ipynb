{
 "cells": [
  {
   "cell_type": "code",
   "execution_count": 867,
   "metadata": {
    "collapsed": true
   },
   "outputs": [],
   "source": [
    "import urllib\n",
    "import requests\n",
    "import bs4\n",
    "from bs4 import BeautifulSoup\n",
    "import pandas as pd\n",
    "import re\n",
    "from time import sleep\n",
    "import urllib.request"
   ]
  },
  {
   "cell_type": "code",
   "execution_count": 868,
   "metadata": {
    "collapsed": true
   },
   "outputs": [],
   "source": [
    "url = \"http://www.indeed.com/jobs?q=data+scientist+%2420%2C000&l=New+York&start=10\""
   ]
  },
  {
   "cell_type": "code",
   "execution_count": 869,
   "metadata": {
    "collapsed": true
   },
   "outputs": [],
   "source": [
    "def parse(url):\n",
    "    html = requests.get(url)\n",
    "    soup = BeautifulSoup(html.content, 'html.parser', from_encoding=\"utf-8\")\n",
    "    df = pd.DataFrame(columns=[\"Title\",\"Location\",\"Company\",\"Salary\", \"Summary\", \"Description\", \"Review\"])\n",
    "    for each in soup.find_all(class_= \"result\" ):\n",
    "        try: \n",
    "            title = each.find(class_='jobtitle').text.replace('\\n', '')\n",
    "        except:\n",
    "            title = 'None'\n",
    "        try:\n",
    "            location = each.find('span', {'class':\"location\" }).text.replace('\\n', '')\n",
    "        except:\n",
    "            location = 'None'\n",
    "        try: \n",
    "            company = each.find(class_='company').text.replace('\\n', '')\n",
    "        except:\n",
    "            company = 'None'\n",
    "        try:\n",
    "            salary = each.find('span', {'class':'no-wrap'}).text\n",
    "        except:\n",
    "            salary = 'None'\n",
    "        try:\n",
    "            summary = each.find('span', {'class':'summary'}).text.replace('\\n', '')\n",
    "        except:\n",
    "            summary = 'None'\n",
    "        try: \n",
    "            description_link = (\"%s%s\" % (\"https://www.indeed.com\",each.find('a').get('href')))\n",
    "        except:\n",
    "            description_link = 'None'\n",
    "        try:\n",
    "            review_link = (\"%s%s\" % (\"https://www.indeed.com\",each.find('div').find('a').get('href')))            \n",
    "        except: \n",
    "            review_link = 'None'\n",
    "        df = df.append({'Title':title, 'Location':location, 'Company':company, 'Salary':salary, 'Summary':summary,\\\n",
    "                        'Description':description_link, 'job_description': None, 'Review': review_link,\\\n",
    "                       'comp_rating_overall': None, 'wl_bal_rating': None, 'benefit_rating': None, 'jsecurity_rating': None,\\\n",
    "                        'mgmt_rating': None, 'culture_rating': None}, ignore_index=True)\n",
    "    return df"
   ]
  },
  {
   "cell_type": "code",
   "execution_count": 870,
   "metadata": {},
   "outputs": [
    {
     "data": {
      "text/html": [
       "<div>\n",
       "<style scoped>\n",
       "    .dataframe tbody tr th:only-of-type {\n",
       "        vertical-align: middle;\n",
       "    }\n",
       "\n",
       "    .dataframe tbody tr th {\n",
       "        vertical-align: top;\n",
       "    }\n",
       "\n",
       "    .dataframe thead th {\n",
       "        text-align: right;\n",
       "    }\n",
       "</style>\n",
       "<table border=\"1\" class=\"dataframe\">\n",
       "  <thead>\n",
       "    <tr style=\"text-align: right;\">\n",
       "      <th></th>\n",
       "      <th>Title</th>\n",
       "      <th>Location</th>\n",
       "      <th>Company</th>\n",
       "      <th>Salary</th>\n",
       "      <th>Summary</th>\n",
       "      <th>Description</th>\n",
       "      <th>Review</th>\n",
       "      <th>benefit_rating</th>\n",
       "      <th>comp_rating_overall</th>\n",
       "      <th>culture_rating</th>\n",
       "      <th>job_description</th>\n",
       "      <th>jsecurity_rating</th>\n",
       "      <th>mgmt_rating</th>\n",
       "      <th>wl_bal_rating</th>\n",
       "    </tr>\n",
       "  </thead>\n",
       "  <tbody>\n",
       "    <tr>\n",
       "      <th>0</th>\n",
       "      <td>Data Scientist</td>\n",
       "      <td>None</td>\n",
       "      <td>Verizon</td>\n",
       "      <td>None</td>\n",
       "      <td>Work in close coll...</td>\n",
       "      <td>https://www.indeed.com/pagead/clk?mo=r&amp;ad=-6NY...</td>\n",
       "      <td>https://www.indeed.com/cmp/Verizon</td>\n",
       "      <td>None</td>\n",
       "      <td>None</td>\n",
       "      <td>None</td>\n",
       "      <td>None</td>\n",
       "      <td>None</td>\n",
       "      <td>None</td>\n",
       "      <td>None</td>\n",
       "    </tr>\n",
       "    <tr>\n",
       "      <th>1</th>\n",
       "      <td>Python Data Engineer</td>\n",
       "      <td>None</td>\n",
       "      <td>SRS Investment Management</td>\n",
       "      <td>None</td>\n",
       "      <td>You’ll be joining ...</td>\n",
       "      <td>https://www.indeed.com/pagead/clk?mo=r&amp;ad=-6NY...</td>\n",
       "      <td>None</td>\n",
       "      <td>None</td>\n",
       "      <td>None</td>\n",
       "      <td>None</td>\n",
       "      <td>None</td>\n",
       "      <td>None</td>\n",
       "      <td>None</td>\n",
       "      <td>None</td>\n",
       "    </tr>\n",
       "    <tr>\n",
       "      <th>2</th>\n",
       "      <td>Data Scientist</td>\n",
       "      <td>New City, NY</td>\n",
       "      <td>Cognizant</td>\n",
       "      <td>None</td>\n",
       "      <td>Technical Skills SNoPrimary SkillP...</td>\n",
       "      <td>https://www.indeed.com/rc/clk?jk=b3e67c24f2cd4...</td>\n",
       "      <td>https://www.indeed.com/cmp/Cognizant-Technolog...</td>\n",
       "      <td>None</td>\n",
       "      <td>None</td>\n",
       "      <td>None</td>\n",
       "      <td>None</td>\n",
       "      <td>None</td>\n",
       "      <td>None</td>\n",
       "      <td>None</td>\n",
       "    </tr>\n",
       "    <tr>\n",
       "      <th>3</th>\n",
       "      <td>Jr Data Scientist</td>\n",
       "      <td>New York, NY</td>\n",
       "      <td>Callière Group</td>\n",
       "      <td>None</td>\n",
       "      <td>Experience using some of the major...</td>\n",
       "      <td>https://www.indeed.com/rc/clk?jk=0875c173cf80e...</td>\n",
       "      <td>None</td>\n",
       "      <td>None</td>\n",
       "      <td>None</td>\n",
       "      <td>None</td>\n",
       "      <td>None</td>\n",
       "      <td>None</td>\n",
       "      <td>None</td>\n",
       "      <td>None</td>\n",
       "    </tr>\n",
       "    <tr>\n",
       "      <th>4</th>\n",
       "      <td>Data Scientist</td>\n",
       "      <td>New York, NY 10039 (Harlem area)</td>\n",
       "      <td>Gems Corp</td>\n",
       "      <td>None</td>\n",
       "      <td>Data Scientists with the capability to perform...</td>\n",
       "      <td>https://www.indeed.com/company/Gems-Corp/jobs/...</td>\n",
       "      <td>None</td>\n",
       "      <td>None</td>\n",
       "      <td>None</td>\n",
       "      <td>None</td>\n",
       "      <td>None</td>\n",
       "      <td>None</td>\n",
       "      <td>None</td>\n",
       "      <td>None</td>\n",
       "    </tr>\n",
       "    <tr>\n",
       "      <th>5</th>\n",
       "      <td>Junior Data Scientist</td>\n",
       "      <td>New York, NY</td>\n",
       "      <td>Interactive Brokers</td>\n",
       "      <td>None</td>\n",
       "      <td>Interactive Brokers Group (IBG) is...</td>\n",
       "      <td>https://www.indeed.com/rc/clk?jk=1ff7ee9cdc7a8...</td>\n",
       "      <td>https://www.indeed.com/cmp/Interactive-Brokers</td>\n",
       "      <td>None</td>\n",
       "      <td>None</td>\n",
       "      <td>None</td>\n",
       "      <td>None</td>\n",
       "      <td>None</td>\n",
       "      <td>None</td>\n",
       "      <td>None</td>\n",
       "    </tr>\n",
       "    <tr>\n",
       "      <th>6</th>\n",
       "      <td>Data Analyst / Data Scientist</td>\n",
       "      <td>New York, NY</td>\n",
       "      <td>Defined Clarity</td>\n",
       "      <td>\\n                $65 - $75 an hour</td>\n",
       "      <td>We have a client that is looking f...</td>\n",
       "      <td>https://www.indeed.com/rc/clk?jk=e6fd721f45b00...</td>\n",
       "      <td>None</td>\n",
       "      <td>None</td>\n",
       "      <td>None</td>\n",
       "      <td>None</td>\n",
       "      <td>None</td>\n",
       "      <td>None</td>\n",
       "      <td>None</td>\n",
       "      <td>None</td>\n",
       "    </tr>\n",
       "    <tr>\n",
       "      <th>7</th>\n",
       "      <td>Data Scientist</td>\n",
       "      <td>New York, NY</td>\n",
       "      <td>Dataminr</td>\n",
       "      <td>None</td>\n",
       "      <td>You're a dedicated Data Scientist ...</td>\n",
       "      <td>https://www.indeed.com/rc/clk?jk=94b63d089aba5...</td>\n",
       "      <td>https://www.indeed.com/cmp/Dataminr</td>\n",
       "      <td>None</td>\n",
       "      <td>None</td>\n",
       "      <td>None</td>\n",
       "      <td>None</td>\n",
       "      <td>None</td>\n",
       "      <td>None</td>\n",
       "      <td>None</td>\n",
       "    </tr>\n",
       "    <tr>\n",
       "      <th>8</th>\n",
       "      <td>Junior Data Analyst</td>\n",
       "      <td>New York, NY</td>\n",
       "      <td>compstak.com</td>\n",
       "      <td>None</td>\n",
       "      <td>Support and learn from our team of...</td>\n",
       "      <td>https://www.indeed.com/rc/clk?jk=97f36b381a02b...</td>\n",
       "      <td>None</td>\n",
       "      <td>None</td>\n",
       "      <td>None</td>\n",
       "      <td>None</td>\n",
       "      <td>None</td>\n",
       "      <td>None</td>\n",
       "      <td>None</td>\n",
       "      <td>None</td>\n",
       "    </tr>\n",
       "    <tr>\n",
       "      <th>9</th>\n",
       "      <td>Data Scientist, Premium Content</td>\n",
       "      <td>New York, NY 10011 (Chelsea area)</td>\n",
       "      <td>Spotify</td>\n",
       "      <td>None</td>\n",
       "      <td>You would be joining Spotify on th...</td>\n",
       "      <td>https://www.indeed.com/rc/clk?jk=a0f5f0cfbe59a...</td>\n",
       "      <td>https://www.indeed.com/cmp/Spotify</td>\n",
       "      <td>None</td>\n",
       "      <td>None</td>\n",
       "      <td>None</td>\n",
       "      <td>None</td>\n",
       "      <td>None</td>\n",
       "      <td>None</td>\n",
       "      <td>None</td>\n",
       "    </tr>\n",
       "    <tr>\n",
       "      <th>10</th>\n",
       "      <td>Data Science Intern</td>\n",
       "      <td>New York, NY</td>\n",
       "      <td>Vox Media</td>\n",
       "      <td>None</td>\n",
       "      <td>Data Scientists are responsible for delivering...</td>\n",
       "      <td>https://www.indeed.com/rc/clk?jk=5a5f961b5fa31...</td>\n",
       "      <td>https://www.indeed.com/cmp/Vox-Media</td>\n",
       "      <td>None</td>\n",
       "      <td>None</td>\n",
       "      <td>None</td>\n",
       "      <td>None</td>\n",
       "      <td>None</td>\n",
       "      <td>None</td>\n",
       "      <td>None</td>\n",
       "    </tr>\n",
       "    <tr>\n",
       "      <th>11</th>\n",
       "      <td>Jr. Data Scientist</td>\n",
       "      <td>Manhattan, NY</td>\n",
       "      <td>NewYork-Presbyterian Hospital</td>\n",
       "      <td>None</td>\n",
       "      <td>Junior Data Scientist. Proficiency...</td>\n",
       "      <td>https://www.indeed.com/rc/clk?jk=db36597891611...</td>\n",
       "      <td>https://www.indeed.com/cmp/Newyork--presbyteri...</td>\n",
       "      <td>None</td>\n",
       "      <td>None</td>\n",
       "      <td>None</td>\n",
       "      <td>None</td>\n",
       "      <td>None</td>\n",
       "      <td>None</td>\n",
       "      <td>None</td>\n",
       "    </tr>\n",
       "    <tr>\n",
       "      <th>12</th>\n",
       "      <td>AI Research Scientist</td>\n",
       "      <td>None</td>\n",
       "      <td>Bloomberg</td>\n",
       "      <td>None</td>\n",
       "      <td>The infrastructure...</td>\n",
       "      <td>https://www.indeed.com/pagead/clk?mo=r&amp;ad=-6NY...</td>\n",
       "      <td>https://www.indeed.com/cmp/Bloomberg</td>\n",
       "      <td>None</td>\n",
       "      <td>None</td>\n",
       "      <td>None</td>\n",
       "      <td>None</td>\n",
       "      <td>None</td>\n",
       "      <td>None</td>\n",
       "      <td>None</td>\n",
       "    </tr>\n",
       "    <tr>\n",
       "      <th>13</th>\n",
       "      <td>Data Scientist</td>\n",
       "      <td>None</td>\n",
       "      <td>National Debt Relief</td>\n",
       "      <td>None</td>\n",
       "      <td>5+ years of experi...</td>\n",
       "      <td>https://www.indeed.com/pagead/clk?mo=r&amp;ad=-6NY...</td>\n",
       "      <td>https://www.indeed.com/cmp/National-Debt-Relief</td>\n",
       "      <td>None</td>\n",
       "      <td>None</td>\n",
       "      <td>None</td>\n",
       "      <td>None</td>\n",
       "      <td>None</td>\n",
       "      <td>None</td>\n",
       "      <td>None</td>\n",
       "    </tr>\n",
       "    <tr>\n",
       "      <th>14</th>\n",
       "      <td>Applied Machine Learning Scientist/Engineer - ...</td>\n",
       "      <td>None</td>\n",
       "      <td>Bloomberg</td>\n",
       "      <td>None</td>\n",
       "      <td>Information and da...</td>\n",
       "      <td>https://www.indeed.com/pagead/clk?mo=r&amp;ad=-6NY...</td>\n",
       "      <td>https://www.indeed.com/cmp/Bloomberg</td>\n",
       "      <td>None</td>\n",
       "      <td>None</td>\n",
       "      <td>None</td>\n",
       "      <td>None</td>\n",
       "      <td>None</td>\n",
       "      <td>None</td>\n",
       "      <td>None</td>\n",
       "    </tr>\n",
       "  </tbody>\n",
       "</table>\n",
       "</div>"
      ],
      "text/plain": [
       "                                                Title  \\\n",
       "0                                      Data Scientist   \n",
       "1                                Python Data Engineer   \n",
       "2                                      Data Scientist   \n",
       "3                                   Jr Data Scientist   \n",
       "4                                      Data Scientist   \n",
       "5                               Junior Data Scientist   \n",
       "6                       Data Analyst / Data Scientist   \n",
       "7                                      Data Scientist   \n",
       "8                                 Junior Data Analyst   \n",
       "9                     Data Scientist, Premium Content   \n",
       "10                                Data Science Intern   \n",
       "11                                 Jr. Data Scientist   \n",
       "12                              AI Research Scientist   \n",
       "13                                     Data Scientist   \n",
       "14  Applied Machine Learning Scientist/Engineer - ...   \n",
       "\n",
       "                             Location                                Company  \\\n",
       "0                                None                                Verizon   \n",
       "1                                None              SRS Investment Management   \n",
       "2                        New City, NY                              Cognizant   \n",
       "3                        New York, NY                         Callière Group   \n",
       "4    New York, NY 10039 (Harlem area)                              Gems Corp   \n",
       "5                        New York, NY                    Interactive Brokers   \n",
       "6                        New York, NY                        Defined Clarity   \n",
       "7                        New York, NY                               Dataminr   \n",
       "8                        New York, NY                           compstak.com   \n",
       "9   New York, NY 10011 (Chelsea area)                                Spotify   \n",
       "10                       New York, NY                              Vox Media   \n",
       "11                      Manhattan, NY          NewYork-Presbyterian Hospital   \n",
       "12                               None                              Bloomberg   \n",
       "13                               None                   National Debt Relief   \n",
       "14                               None                              Bloomberg   \n",
       "\n",
       "                                 Salary  \\\n",
       "0                                  None   \n",
       "1                                  None   \n",
       "2                                  None   \n",
       "3                                  None   \n",
       "4                                  None   \n",
       "5                                  None   \n",
       "6   \\n                $65 - $75 an hour   \n",
       "7                                  None   \n",
       "8                                  None   \n",
       "9                                  None   \n",
       "10                                 None   \n",
       "11                                 None   \n",
       "12                                 None   \n",
       "13                                 None   \n",
       "14                                 None   \n",
       "\n",
       "                                              Summary  \\\n",
       "0                               Work in close coll...   \n",
       "1                               You’ll be joining ...   \n",
       "2               Technical Skills SNoPrimary SkillP...   \n",
       "3               Experience using some of the major...   \n",
       "4   Data Scientists with the capability to perform...   \n",
       "5               Interactive Brokers Group (IBG) is...   \n",
       "6               We have a client that is looking f...   \n",
       "7               You're a dedicated Data Scientist ...   \n",
       "8               Support and learn from our team of...   \n",
       "9               You would be joining Spotify on th...   \n",
       "10  Data Scientists are responsible for delivering...   \n",
       "11              Junior Data Scientist. Proficiency...   \n",
       "12                              The infrastructure...   \n",
       "13                              5+ years of experi...   \n",
       "14                              Information and da...   \n",
       "\n",
       "                                          Description  \\\n",
       "0   https://www.indeed.com/pagead/clk?mo=r&ad=-6NY...   \n",
       "1   https://www.indeed.com/pagead/clk?mo=r&ad=-6NY...   \n",
       "2   https://www.indeed.com/rc/clk?jk=b3e67c24f2cd4...   \n",
       "3   https://www.indeed.com/rc/clk?jk=0875c173cf80e...   \n",
       "4   https://www.indeed.com/company/Gems-Corp/jobs/...   \n",
       "5   https://www.indeed.com/rc/clk?jk=1ff7ee9cdc7a8...   \n",
       "6   https://www.indeed.com/rc/clk?jk=e6fd721f45b00...   \n",
       "7   https://www.indeed.com/rc/clk?jk=94b63d089aba5...   \n",
       "8   https://www.indeed.com/rc/clk?jk=97f36b381a02b...   \n",
       "9   https://www.indeed.com/rc/clk?jk=a0f5f0cfbe59a...   \n",
       "10  https://www.indeed.com/rc/clk?jk=5a5f961b5fa31...   \n",
       "11  https://www.indeed.com/rc/clk?jk=db36597891611...   \n",
       "12  https://www.indeed.com/pagead/clk?mo=r&ad=-6NY...   \n",
       "13  https://www.indeed.com/pagead/clk?mo=r&ad=-6NY...   \n",
       "14  https://www.indeed.com/pagead/clk?mo=r&ad=-6NY...   \n",
       "\n",
       "                                               Review benefit_rating  \\\n",
       "0                  https://www.indeed.com/cmp/Verizon           None   \n",
       "1                                                None           None   \n",
       "2   https://www.indeed.com/cmp/Cognizant-Technolog...           None   \n",
       "3                                                None           None   \n",
       "4                                                None           None   \n",
       "5      https://www.indeed.com/cmp/Interactive-Brokers           None   \n",
       "6                                                None           None   \n",
       "7                 https://www.indeed.com/cmp/Dataminr           None   \n",
       "8                                                None           None   \n",
       "9                  https://www.indeed.com/cmp/Spotify           None   \n",
       "10               https://www.indeed.com/cmp/Vox-Media           None   \n",
       "11  https://www.indeed.com/cmp/Newyork--presbyteri...           None   \n",
       "12               https://www.indeed.com/cmp/Bloomberg           None   \n",
       "13    https://www.indeed.com/cmp/National-Debt-Relief           None   \n",
       "14               https://www.indeed.com/cmp/Bloomberg           None   \n",
       "\n",
       "   comp_rating_overall culture_rating job_description jsecurity_rating  \\\n",
       "0                 None           None            None             None   \n",
       "1                 None           None            None             None   \n",
       "2                 None           None            None             None   \n",
       "3                 None           None            None             None   \n",
       "4                 None           None            None             None   \n",
       "5                 None           None            None             None   \n",
       "6                 None           None            None             None   \n",
       "7                 None           None            None             None   \n",
       "8                 None           None            None             None   \n",
       "9                 None           None            None             None   \n",
       "10                None           None            None             None   \n",
       "11                None           None            None             None   \n",
       "12                None           None            None             None   \n",
       "13                None           None            None             None   \n",
       "14                None           None            None             None   \n",
       "\n",
       "   mgmt_rating wl_bal_rating  \n",
       "0         None          None  \n",
       "1         None          None  \n",
       "2         None          None  \n",
       "3         None          None  \n",
       "4         None          None  \n",
       "5         None          None  \n",
       "6         None          None  \n",
       "7         None          None  \n",
       "8         None          None  \n",
       "9         None          None  \n",
       "10        None          None  \n",
       "11        None          None  \n",
       "12        None          None  \n",
       "13        None          None  \n",
       "14        None          None  "
      ]
     },
     "execution_count": 870,
     "metadata": {},
     "output_type": "execute_result"
    }
   ],
   "source": [
    "df1= parse(url)\n",
    "df1"
   ]
  },
  {
   "cell_type": "code",
   "execution_count": 871,
   "metadata": {
    "scrolled": false
   },
   "outputs": [],
   "source": [
    "#Get job description\n",
    "for i in range(0,len(df1)):\n",
    "    desc = df1.iloc[i]['Description']\n",
    "    html = requests.get(desc)\n",
    "    soup = BeautifulSoup(html.content, 'html.parser', from_encoding=\"utf-8\")\n",
    "    try:\n",
    "        df1.iloc[i]['job_description'] = soup.find(class_=\"jobsearch-JobComponent-description icl-u-xs-mt--md\").text.replace('\\n', ' ')\n",
    "    except:\n",
    "        df1.iloc[i]['job_description'] = 'None'"
   ]
  },
  {
   "cell_type": "code",
   "execution_count": 873,
   "metadata": {},
   "outputs": [],
   "source": [
    "#Get missed job descriptions again\n",
    "for i in range(0,len(df1)):\n",
    "    if(df1.iloc[i]['job_description'] == 'None'):\n",
    "        desc = df1.iloc[i]['Description']\n",
    "        html = requests.get(desc)\n",
    "        soup = BeautifulSoup(html.content, 'html.parser', from_encoding=\"utf-8\")\n",
    "        try:\n",
    "            df1.iloc[i]['job_description'] = soup.find(class_=\"jobsearch-JobComponent-description icl-u-xs-mt--md\").text.replace('\\n', ' ')\n",
    "        except:\n",
    "            df1.iloc[i]['job_description'] = 'None'"
   ]
  },
  {
   "cell_type": "code",
   "execution_count": 874,
   "metadata": {},
   "outputs": [
    {
     "data": {
      "text/html": [
       "<div>\n",
       "<style scoped>\n",
       "    .dataframe tbody tr th:only-of-type {\n",
       "        vertical-align: middle;\n",
       "    }\n",
       "\n",
       "    .dataframe tbody tr th {\n",
       "        vertical-align: top;\n",
       "    }\n",
       "\n",
       "    .dataframe thead th {\n",
       "        text-align: right;\n",
       "    }\n",
       "</style>\n",
       "<table border=\"1\" class=\"dataframe\">\n",
       "  <thead>\n",
       "    <tr style=\"text-align: right;\">\n",
       "      <th></th>\n",
       "      <th>Title</th>\n",
       "      <th>Location</th>\n",
       "      <th>Company</th>\n",
       "      <th>Salary</th>\n",
       "      <th>Summary</th>\n",
       "      <th>Description</th>\n",
       "      <th>Review</th>\n",
       "      <th>benefit_rating</th>\n",
       "      <th>comp_rating_overall</th>\n",
       "      <th>culture_rating</th>\n",
       "      <th>job_description</th>\n",
       "      <th>jsecurity_rating</th>\n",
       "      <th>mgmt_rating</th>\n",
       "      <th>wl_bal_rating</th>\n",
       "    </tr>\n",
       "  </thead>\n",
       "  <tbody>\n",
       "    <tr>\n",
       "      <th>0</th>\n",
       "      <td>Data Scientist</td>\n",
       "      <td>None</td>\n",
       "      <td>Verizon</td>\n",
       "      <td>None</td>\n",
       "      <td>Work in close coll...</td>\n",
       "      <td>https://www.indeed.com/pagead/clk?mo=r&amp;ad=-6NY...</td>\n",
       "      <td>https://www.indeed.com/cmp/Verizon</td>\n",
       "      <td>None</td>\n",
       "      <td>None</td>\n",
       "      <td>None</td>\n",
       "      <td>What you’ll be doing... Responsibilities Busin...</td>\n",
       "      <td>None</td>\n",
       "      <td>None</td>\n",
       "      <td>None</td>\n",
       "    </tr>\n",
       "    <tr>\n",
       "      <th>1</th>\n",
       "      <td>Python Data Engineer</td>\n",
       "      <td>None</td>\n",
       "      <td>SRS Investment Management</td>\n",
       "      <td>None</td>\n",
       "      <td>You’ll be joining ...</td>\n",
       "      <td>https://www.indeed.com/pagead/clk?mo=r&amp;ad=-6NY...</td>\n",
       "      <td>None</td>\n",
       "      <td>None</td>\n",
       "      <td>None</td>\n",
       "      <td>None</td>\n",
       "      <td>What’s the Job?SRS Investment Management is a ...</td>\n",
       "      <td>None</td>\n",
       "      <td>None</td>\n",
       "      <td>None</td>\n",
       "    </tr>\n",
       "    <tr>\n",
       "      <th>2</th>\n",
       "      <td>Data Scientist</td>\n",
       "      <td>New City, NY</td>\n",
       "      <td>Cognizant</td>\n",
       "      <td>None</td>\n",
       "      <td>Technical Skills SNoPrimary SkillP...</td>\n",
       "      <td>https://www.indeed.com/rc/clk?jk=b3e67c24f2cd4...</td>\n",
       "      <td>https://www.indeed.com/cmp/Cognizant-Technolog...</td>\n",
       "      <td>None</td>\n",
       "      <td>None</td>\n",
       "      <td>None</td>\n",
       "      <td>Technical Skills  SNoPrimary SkillProficiency ...</td>\n",
       "      <td>None</td>\n",
       "      <td>None</td>\n",
       "      <td>None</td>\n",
       "    </tr>\n",
       "    <tr>\n",
       "      <th>3</th>\n",
       "      <td>Jr Data Scientist</td>\n",
       "      <td>New York, NY</td>\n",
       "      <td>Callière Group</td>\n",
       "      <td>None</td>\n",
       "      <td>Experience using some of the major...</td>\n",
       "      <td>https://www.indeed.com/rc/clk?jk=0875c173cf80e...</td>\n",
       "      <td>None</td>\n",
       "      <td>None</td>\n",
       "      <td>None</td>\n",
       "      <td>None</td>\n",
       "      <td>We now have a need for junior Data Scientist(s...</td>\n",
       "      <td>None</td>\n",
       "      <td>None</td>\n",
       "      <td>None</td>\n",
       "    </tr>\n",
       "    <tr>\n",
       "      <th>4</th>\n",
       "      <td>Data Scientist</td>\n",
       "      <td>New York, NY 10039 (Harlem area)</td>\n",
       "      <td>Gems Corp</td>\n",
       "      <td>None</td>\n",
       "      <td>Data Scientists with the capability to perform...</td>\n",
       "      <td>https://www.indeed.com/company/Gems-Corp/jobs/...</td>\n",
       "      <td>None</td>\n",
       "      <td>None</td>\n",
       "      <td>None</td>\n",
       "      <td>None</td>\n",
       "      <td>Title: Data ScientistPosition Type: Long Term ...</td>\n",
       "      <td>None</td>\n",
       "      <td>None</td>\n",
       "      <td>None</td>\n",
       "    </tr>\n",
       "    <tr>\n",
       "      <th>5</th>\n",
       "      <td>Junior Data Scientist</td>\n",
       "      <td>New York, NY</td>\n",
       "      <td>Interactive Brokers</td>\n",
       "      <td>None</td>\n",
       "      <td>Interactive Brokers Group (IBG) is...</td>\n",
       "      <td>https://www.indeed.com/rc/clk?jk=1ff7ee9cdc7a8...</td>\n",
       "      <td>https://www.indeed.com/cmp/Interactive-Brokers</td>\n",
       "      <td>None</td>\n",
       "      <td>None</td>\n",
       "      <td>None</td>\n",
       "      <td>Company Overview Interactive Brokers Group, In...</td>\n",
       "      <td>None</td>\n",
       "      <td>None</td>\n",
       "      <td>None</td>\n",
       "    </tr>\n",
       "    <tr>\n",
       "      <th>6</th>\n",
       "      <td>Data Analyst / Data Scientist</td>\n",
       "      <td>New York, NY</td>\n",
       "      <td>Defined Clarity</td>\n",
       "      <td>\\n                $65 - $75 an hour</td>\n",
       "      <td>We have a client that is looking f...</td>\n",
       "      <td>https://www.indeed.com/rc/clk?jk=e6fd721f45b00...</td>\n",
       "      <td>None</td>\n",
       "      <td>None</td>\n",
       "      <td>None</td>\n",
       "      <td>None</td>\n",
       "      <td>We have a client that is looking for a data sc...</td>\n",
       "      <td>None</td>\n",
       "      <td>None</td>\n",
       "      <td>None</td>\n",
       "    </tr>\n",
       "    <tr>\n",
       "      <th>7</th>\n",
       "      <td>Data Scientist</td>\n",
       "      <td>New York, NY</td>\n",
       "      <td>Dataminr</td>\n",
       "      <td>None</td>\n",
       "      <td>You're a dedicated Data Scientist ...</td>\n",
       "      <td>https://www.indeed.com/rc/clk?jk=94b63d089aba5...</td>\n",
       "      <td>https://www.indeed.com/cmp/Dataminr</td>\n",
       "      <td>None</td>\n",
       "      <td>None</td>\n",
       "      <td>None</td>\n",
       "      <td>Desired: Machine LearningHadoopScalaJavaNatura...</td>\n",
       "      <td>None</td>\n",
       "      <td>None</td>\n",
       "      <td>None</td>\n",
       "    </tr>\n",
       "    <tr>\n",
       "      <th>8</th>\n",
       "      <td>Junior Data Analyst</td>\n",
       "      <td>New York, NY</td>\n",
       "      <td>compstak.com</td>\n",
       "      <td>None</td>\n",
       "      <td>Support and learn from our team of...</td>\n",
       "      <td>https://www.indeed.com/rc/clk?jk=97f36b381a02b...</td>\n",
       "      <td>None</td>\n",
       "      <td>None</td>\n",
       "      <td>None</td>\n",
       "      <td>None</td>\n",
       "      <td>CompStak is a venture backed tech startup that...</td>\n",
       "      <td>None</td>\n",
       "      <td>None</td>\n",
       "      <td>None</td>\n",
       "    </tr>\n",
       "    <tr>\n",
       "      <th>9</th>\n",
       "      <td>Data Scientist, Premium Content</td>\n",
       "      <td>New York, NY 10011 (Chelsea area)</td>\n",
       "      <td>Spotify</td>\n",
       "      <td>None</td>\n",
       "      <td>You would be joining Spotify on th...</td>\n",
       "      <td>https://www.indeed.com/rc/clk?jk=a0f5f0cfbe59a...</td>\n",
       "      <td>https://www.indeed.com/cmp/Spotify</td>\n",
       "      <td>None</td>\n",
       "      <td>None</td>\n",
       "      <td>None</td>\n",
       "      <td>As Spotify Premium swells to over 80M subscrib...</td>\n",
       "      <td>None</td>\n",
       "      <td>None</td>\n",
       "      <td>None</td>\n",
       "    </tr>\n",
       "    <tr>\n",
       "      <th>10</th>\n",
       "      <td>Data Science Intern</td>\n",
       "      <td>New York, NY</td>\n",
       "      <td>Vox Media</td>\n",
       "      <td>None</td>\n",
       "      <td>Data Scientists are responsible for delivering...</td>\n",
       "      <td>https://www.indeed.com/rc/clk?jk=5a5f961b5fa31...</td>\n",
       "      <td>https://www.indeed.com/cmp/Vox-Media</td>\n",
       "      <td>None</td>\n",
       "      <td>None</td>\n",
       "      <td>None</td>\n",
       "      <td>Vox Media employees thrive on innovation and c...</td>\n",
       "      <td>None</td>\n",
       "      <td>None</td>\n",
       "      <td>None</td>\n",
       "    </tr>\n",
       "    <tr>\n",
       "      <th>11</th>\n",
       "      <td>Jr. Data Scientist</td>\n",
       "      <td>Manhattan, NY</td>\n",
       "      <td>NewYork-Presbyterian Hospital</td>\n",
       "      <td>None</td>\n",
       "      <td>Junior Data Scientist. Proficiency...</td>\n",
       "      <td>https://www.indeed.com/rc/clk?jk=db36597891611...</td>\n",
       "      <td>https://www.indeed.com/cmp/Newyork--presbyteri...</td>\n",
       "      <td>None</td>\n",
       "      <td>None</td>\n",
       "      <td>None</td>\n",
       "      <td>Location New York, New York Shift: Day (United...</td>\n",
       "      <td>None</td>\n",
       "      <td>None</td>\n",
       "      <td>None</td>\n",
       "    </tr>\n",
       "    <tr>\n",
       "      <th>12</th>\n",
       "      <td>AI Research Scientist</td>\n",
       "      <td>None</td>\n",
       "      <td>Bloomberg</td>\n",
       "      <td>None</td>\n",
       "      <td>The infrastructure...</td>\n",
       "      <td>https://www.indeed.com/pagead/clk?mo=r&amp;ad=-6NY...</td>\n",
       "      <td>https://www.indeed.com/cmp/Bloomberg</td>\n",
       "      <td>None</td>\n",
       "      <td>None</td>\n",
       "      <td>None</td>\n",
       "      <td>Desired: JavaNatural Language ProcessingAISpar...</td>\n",
       "      <td>None</td>\n",
       "      <td>None</td>\n",
       "      <td>None</td>\n",
       "    </tr>\n",
       "    <tr>\n",
       "      <th>13</th>\n",
       "      <td>Data Scientist</td>\n",
       "      <td>None</td>\n",
       "      <td>National Debt Relief</td>\n",
       "      <td>None</td>\n",
       "      <td>5+ years of experi...</td>\n",
       "      <td>https://www.indeed.com/pagead/clk?mo=r&amp;ad=-6NY...</td>\n",
       "      <td>https://www.indeed.com/cmp/National-Debt-Relief</td>\n",
       "      <td>None</td>\n",
       "      <td>None</td>\n",
       "      <td>None</td>\n",
       "      <td>Desired: Data MiningProject ManagementSASSQLPy...</td>\n",
       "      <td>None</td>\n",
       "      <td>None</td>\n",
       "      <td>None</td>\n",
       "    </tr>\n",
       "    <tr>\n",
       "      <th>14</th>\n",
       "      <td>Applied Machine Learning Scientist/Engineer - ...</td>\n",
       "      <td>None</td>\n",
       "      <td>Bloomberg</td>\n",
       "      <td>None</td>\n",
       "      <td>Information and da...</td>\n",
       "      <td>https://www.indeed.com/pagead/clk?mo=r&amp;ad=-6NY...</td>\n",
       "      <td>https://www.indeed.com/cmp/Bloomberg</td>\n",
       "      <td>None</td>\n",
       "      <td>None</td>\n",
       "      <td>None</td>\n",
       "      <td>Information and data move the financial market...</td>\n",
       "      <td>None</td>\n",
       "      <td>None</td>\n",
       "      <td>None</td>\n",
       "    </tr>\n",
       "  </tbody>\n",
       "</table>\n",
       "</div>"
      ],
      "text/plain": [
       "                                                Title  \\\n",
       "0                                      Data Scientist   \n",
       "1                                Python Data Engineer   \n",
       "2                                      Data Scientist   \n",
       "3                                   Jr Data Scientist   \n",
       "4                                      Data Scientist   \n",
       "5                               Junior Data Scientist   \n",
       "6                       Data Analyst / Data Scientist   \n",
       "7                                      Data Scientist   \n",
       "8                                 Junior Data Analyst   \n",
       "9                     Data Scientist, Premium Content   \n",
       "10                                Data Science Intern   \n",
       "11                                 Jr. Data Scientist   \n",
       "12                              AI Research Scientist   \n",
       "13                                     Data Scientist   \n",
       "14  Applied Machine Learning Scientist/Engineer - ...   \n",
       "\n",
       "                             Location                                Company  \\\n",
       "0                                None                                Verizon   \n",
       "1                                None              SRS Investment Management   \n",
       "2                        New City, NY                              Cognizant   \n",
       "3                        New York, NY                         Callière Group   \n",
       "4    New York, NY 10039 (Harlem area)                              Gems Corp   \n",
       "5                        New York, NY                    Interactive Brokers   \n",
       "6                        New York, NY                        Defined Clarity   \n",
       "7                        New York, NY                               Dataminr   \n",
       "8                        New York, NY                           compstak.com   \n",
       "9   New York, NY 10011 (Chelsea area)                                Spotify   \n",
       "10                       New York, NY                              Vox Media   \n",
       "11                      Manhattan, NY          NewYork-Presbyterian Hospital   \n",
       "12                               None                              Bloomberg   \n",
       "13                               None                   National Debt Relief   \n",
       "14                               None                              Bloomberg   \n",
       "\n",
       "                                 Salary  \\\n",
       "0                                  None   \n",
       "1                                  None   \n",
       "2                                  None   \n",
       "3                                  None   \n",
       "4                                  None   \n",
       "5                                  None   \n",
       "6   \\n                $65 - $75 an hour   \n",
       "7                                  None   \n",
       "8                                  None   \n",
       "9                                  None   \n",
       "10                                 None   \n",
       "11                                 None   \n",
       "12                                 None   \n",
       "13                                 None   \n",
       "14                                 None   \n",
       "\n",
       "                                              Summary  \\\n",
       "0                               Work in close coll...   \n",
       "1                               You’ll be joining ...   \n",
       "2               Technical Skills SNoPrimary SkillP...   \n",
       "3               Experience using some of the major...   \n",
       "4   Data Scientists with the capability to perform...   \n",
       "5               Interactive Brokers Group (IBG) is...   \n",
       "6               We have a client that is looking f...   \n",
       "7               You're a dedicated Data Scientist ...   \n",
       "8               Support and learn from our team of...   \n",
       "9               You would be joining Spotify on th...   \n",
       "10  Data Scientists are responsible for delivering...   \n",
       "11              Junior Data Scientist. Proficiency...   \n",
       "12                              The infrastructure...   \n",
       "13                              5+ years of experi...   \n",
       "14                              Information and da...   \n",
       "\n",
       "                                          Description  \\\n",
       "0   https://www.indeed.com/pagead/clk?mo=r&ad=-6NY...   \n",
       "1   https://www.indeed.com/pagead/clk?mo=r&ad=-6NY...   \n",
       "2   https://www.indeed.com/rc/clk?jk=b3e67c24f2cd4...   \n",
       "3   https://www.indeed.com/rc/clk?jk=0875c173cf80e...   \n",
       "4   https://www.indeed.com/company/Gems-Corp/jobs/...   \n",
       "5   https://www.indeed.com/rc/clk?jk=1ff7ee9cdc7a8...   \n",
       "6   https://www.indeed.com/rc/clk?jk=e6fd721f45b00...   \n",
       "7   https://www.indeed.com/rc/clk?jk=94b63d089aba5...   \n",
       "8   https://www.indeed.com/rc/clk?jk=97f36b381a02b...   \n",
       "9   https://www.indeed.com/rc/clk?jk=a0f5f0cfbe59a...   \n",
       "10  https://www.indeed.com/rc/clk?jk=5a5f961b5fa31...   \n",
       "11  https://www.indeed.com/rc/clk?jk=db36597891611...   \n",
       "12  https://www.indeed.com/pagead/clk?mo=r&ad=-6NY...   \n",
       "13  https://www.indeed.com/pagead/clk?mo=r&ad=-6NY...   \n",
       "14  https://www.indeed.com/pagead/clk?mo=r&ad=-6NY...   \n",
       "\n",
       "                                               Review benefit_rating  \\\n",
       "0                  https://www.indeed.com/cmp/Verizon           None   \n",
       "1                                                None           None   \n",
       "2   https://www.indeed.com/cmp/Cognizant-Technolog...           None   \n",
       "3                                                None           None   \n",
       "4                                                None           None   \n",
       "5      https://www.indeed.com/cmp/Interactive-Brokers           None   \n",
       "6                                                None           None   \n",
       "7                 https://www.indeed.com/cmp/Dataminr           None   \n",
       "8                                                None           None   \n",
       "9                  https://www.indeed.com/cmp/Spotify           None   \n",
       "10               https://www.indeed.com/cmp/Vox-Media           None   \n",
       "11  https://www.indeed.com/cmp/Newyork--presbyteri...           None   \n",
       "12               https://www.indeed.com/cmp/Bloomberg           None   \n",
       "13    https://www.indeed.com/cmp/National-Debt-Relief           None   \n",
       "14               https://www.indeed.com/cmp/Bloomberg           None   \n",
       "\n",
       "   comp_rating_overall culture_rating  \\\n",
       "0                 None           None   \n",
       "1                 None           None   \n",
       "2                 None           None   \n",
       "3                 None           None   \n",
       "4                 None           None   \n",
       "5                 None           None   \n",
       "6                 None           None   \n",
       "7                 None           None   \n",
       "8                 None           None   \n",
       "9                 None           None   \n",
       "10                None           None   \n",
       "11                None           None   \n",
       "12                None           None   \n",
       "13                None           None   \n",
       "14                None           None   \n",
       "\n",
       "                                      job_description jsecurity_rating  \\\n",
       "0   What you’ll be doing... Responsibilities Busin...             None   \n",
       "1   What’s the Job?SRS Investment Management is a ...             None   \n",
       "2   Technical Skills  SNoPrimary SkillProficiency ...             None   \n",
       "3   We now have a need for junior Data Scientist(s...             None   \n",
       "4   Title: Data ScientistPosition Type: Long Term ...             None   \n",
       "5   Company Overview Interactive Brokers Group, In...             None   \n",
       "6   We have a client that is looking for a data sc...             None   \n",
       "7   Desired: Machine LearningHadoopScalaJavaNatura...             None   \n",
       "8   CompStak is a venture backed tech startup that...             None   \n",
       "9   As Spotify Premium swells to over 80M subscrib...             None   \n",
       "10  Vox Media employees thrive on innovation and c...             None   \n",
       "11  Location New York, New York Shift: Day (United...             None   \n",
       "12  Desired: JavaNatural Language ProcessingAISpar...             None   \n",
       "13  Desired: Data MiningProject ManagementSASSQLPy...             None   \n",
       "14  Information and data move the financial market...             None   \n",
       "\n",
       "   mgmt_rating wl_bal_rating  \n",
       "0         None          None  \n",
       "1         None          None  \n",
       "2         None          None  \n",
       "3         None          None  \n",
       "4         None          None  \n",
       "5         None          None  \n",
       "6         None          None  \n",
       "7         None          None  \n",
       "8         None          None  \n",
       "9         None          None  \n",
       "10        None          None  \n",
       "11        None          None  \n",
       "12        None          None  \n",
       "13        None          None  \n",
       "14        None          None  "
      ]
     },
     "execution_count": 874,
     "metadata": {},
     "output_type": "execute_result"
    }
   ],
   "source": [
    "df1"
   ]
  },
  {
   "cell_type": "code",
   "execution_count": null,
   "metadata": {
    "collapsed": true
   },
   "outputs": [],
   "source": [
    "####################################################################"
   ]
  },
  {
   "cell_type": "code",
   "execution_count": 885,
   "metadata": {},
   "outputs": [],
   "source": [
    "#Get all ratings for each company\n",
    "for i in range(0,len(df1)):\n",
    "    if(df1.iloc[i]['Review'] != 'None'):\n",
    "        cmp_page = df1.iloc[i]['Review']\n",
    "        html = requests.get(cmp_page)\n",
    "        soup = BeautifulSoup(html.content, 'html.parser', from_encoding=\"utf-8\")\n",
    "        try:\n",
    "            df1.iloc[i]['comp_rating_overall']= float(soup.find(class_=\"cmp-header-rating-average\").text.replace('\\n', ' '))\n",
    "        except:\n",
    "            df1.iloc[i]['comp_rating_overall'] = 'None'\n",
    "        try:\n",
    "            df1.iloc[i]['wl_bal_rating'] = float(soup.find(\"div\",{\"class\": \"cmp-ReviewCategory cmp-ReviewCategory--textmd\"}).\\\n",
    "                        find_all(\"span\", {\"class\": \"cmp-ReviewCategory-rating\"})[0].text.replace('\\n', ' '))\n",
    "        except:\n",
    "            df1.iloc[i]['wl_bal_rating'] = 'None'\n",
    "        try:\n",
    "            df1.iloc[i]['benefit_rating'] = float(soup.find(\"div\",{\"class\": \"cmp-ReviewCategory cmp-ReviewCategory--textmd\"}).\\\n",
    "                        find_all(\"span\", {\"class\": \"cmp-ReviewCategory-rating\"})[1].text.replace('\\n', ' '))\n",
    "        except:\n",
    "            df1.iloc[i]['benefit_rating'] = 'None'\n",
    "        try:\n",
    "            df1.iloc[i]['jsecurity_rating'] = float(soup.find(\"div\",{\"class\": \"cmp-ReviewCategory cmp-ReviewCategory--textmd\"}).\\\n",
    "                        find_all(\"span\", {\"class\": \"cmp-ReviewCategory-rating\"})[2].text.replace('\\n', ' '))\n",
    "        except:\n",
    "            df1.iloc[i]['benefit_rating'] = 'None'\n",
    "        try:\n",
    "            df1.iloc[i]['mgmt_rating'] = float(soup.find(\"div\",{\"class\": \"cmp-ReviewCategory cmp-ReviewCategory--textmd\"}).\\\n",
    "                        find_all(\"span\", {\"class\": \"cmp-ReviewCategory-rating\"})[3].text.replace('\\n', ' '))\n",
    "        except:\n",
    "            df1.iloc[i]['mgmt_rating'] = 'None'\n",
    "        try:\n",
    "            df1.iloc[i]['culture_rating'] = float(soup.find(\"div\",{\"class\": \"cmp-ReviewCategory cmp-ReviewCategory--textmd\"}).\\\n",
    "                        find_all(\"span\", {\"class\": \"cmp-ReviewCategory-rating\"})[4].text.replace('\\n', ' '))\n",
    "        except:\n",
    "            df1.iloc[i]['culture_rating'] = 'None'"
   ]
  },
  {
   "cell_type": "code",
   "execution_count": null,
   "metadata": {
    "collapsed": true
   },
   "outputs": [],
   "source": []
  },
  {
   "cell_type": "code",
   "execution_count": null,
   "metadata": {
    "collapsed": true
   },
   "outputs": [],
   "source": []
  },
  {
   "cell_type": "code",
   "execution_count": null,
   "metadata": {
    "collapsed": true
   },
   "outputs": [],
   "source": []
  },
  {
   "cell_type": "code",
   "execution_count": null,
   "metadata": {
    "collapsed": true
   },
   "outputs": [],
   "source": []
  },
  {
   "cell_type": "code",
   "execution_count": null,
   "metadata": {
    "collapsed": true
   },
   "outputs": [],
   "source": []
  },
  {
   "cell_type": "code",
   "execution_count": null,
   "metadata": {
    "collapsed": true
   },
   "outputs": [],
   "source": []
  },
  {
   "cell_type": "code",
   "execution_count": null,
   "metadata": {
    "collapsed": true
   },
   "outputs": [],
   "source": []
  },
  {
   "cell_type": "code",
   "execution_count": null,
   "metadata": {
    "collapsed": true
   },
   "outputs": [],
   "source": []
  },
  {
   "cell_type": "code",
   "execution_count": null,
   "metadata": {
    "collapsed": true
   },
   "outputs": [],
   "source": []
  },
  {
   "cell_type": "code",
   "execution_count": null,
   "metadata": {
    "collapsed": true
   },
   "outputs": [],
   "source": []
  },
  {
   "cell_type": "code",
   "execution_count": null,
   "metadata": {
    "collapsed": true
   },
   "outputs": [],
   "source": []
  },
  {
   "cell_type": "code",
   "execution_count": null,
   "metadata": {
    "collapsed": true
   },
   "outputs": [],
   "source": []
  },
  {
   "cell_type": "code",
   "execution_count": null,
   "metadata": {
    "collapsed": true
   },
   "outputs": [],
   "source": []
  },
  {
   "cell_type": "code",
   "execution_count": null,
   "metadata": {
    "collapsed": true
   },
   "outputs": [],
   "source": []
  },
  {
   "cell_type": "code",
   "execution_count": null,
   "metadata": {
    "collapsed": true
   },
   "outputs": [],
   "source": []
  },
  {
   "cell_type": "code",
   "execution_count": null,
   "metadata": {
    "collapsed": true
   },
   "outputs": [],
   "source": []
  },
  {
   "cell_type": "code",
   "execution_count": null,
   "metadata": {
    "collapsed": true
   },
   "outputs": [],
   "source": []
  },
  {
   "cell_type": "code",
   "execution_count": null,
   "metadata": {
    "collapsed": true
   },
   "outputs": [],
   "source": [
    "#Get company ratings\n",
    "for i in range(0,len(df1)):\n",
    "    cmp_page = df1.iloc[i]['Review']\n",
    "    html = requests.get(cmp_page)\n",
    "    soup = BeautifulSoup(html.content, 'html.parser', from_encoding=\"utf-8\")\n",
    "    try:\n",
    "        df1.iloc[i]['job_description'] = soup.find(class_=\"cmp-header-rating-average\").text.replace('\\n', ' ')\n",
    "    except:\n",
    "        df1.iloc[i]['job_description'] = 'None'"
   ]
  },
  {
   "cell_type": "code",
   "execution_count": 866,
   "metadata": {},
   "outputs": [
    {
     "data": {
      "text/plain": [
       "3.9"
      ]
     },
     "execution_count": 866,
     "metadata": {},
     "output_type": "execute_result"
    }
   ],
   "source": [
    "cmp_page = df1.iloc[0]['Review']\n",
    "html = requests.get(cmp_page)\n",
    "soup = BeautifulSoup(html.content, 'html.parser', from_encoding=\"utf-8\")\n",
    "overall_rating = float(soup.find(class_=\"cmp-header-rating-average\").text.replace('\\n', ' '))"
   ]
  },
  {
   "cell_type": "code",
   "execution_count": 851,
   "metadata": {},
   "outputs": [
    {
     "ename": "SyntaxError",
     "evalue": "invalid syntax (<ipython-input-851-f6848a53f9b9>, line 1)",
     "output_type": "error",
     "traceback": [
      "\u001b[1;36m  File \u001b[1;32m\"<ipython-input-851-f6848a53f9b9>\"\u001b[1;36m, line \u001b[1;32m1\u001b[0m\n\u001b[1;33m    <div class=\"cmp-ReviewCategory cmp-ReviewCategory--textmd\">\\n\u001b[0m\n\u001b[1;37m    ^\u001b[0m\n\u001b[1;31mSyntaxError\u001b[0m\u001b[1;31m:\u001b[0m invalid syntax\n"
     ]
    }
   ],
   "source": [
    "<div class=\"cmp-ReviewCategory cmp-ReviewCategory--textmd\">\\n         \n",
    "<div class=\"cmp-ReviewCategory-category\">\\n          \n",
    "<span class=\"cmp-ReviewCategory-rating\">\\n           3.5\\n          </span>\\n          \n",
    "<span class=\"cmp-ReviewCategory-star\">\\n          \n",
    "<span class=\"cmp-Star cmp-Star--5 cmp-Star--middle\">\\n           </span>\\n          </span>\\n          \n",
    "<span class=\"cmp-ReviewCategory-name\">\\n           Work/Life Balance\\n          </span>\\n         </div>\\n         \n",
    "<div class=\"cmp-ReviewCategory-category\">\\n          <span class=\"cmp-ReviewCategory-rating\">\\n           4.2\\n          </span>\\n          <span class=\"cmp-ReviewCategory-star\">\\n           <span class=\"cmp-Star cmp-Star--5 cmp-Star--middle\">\\n           </span>\\n          </span>\\n          <span class=\"cmp-ReviewCategory-name\">\\n           Compensation/Benefits\\n          </span>\\n         </div>\\n         <div class=\"cmp-ReviewCategory-category\">\\n          <span class=\"cmp-ReviewCategory-rating\">\\n           3.4\\n          </span>\\n          <span class=\"cmp-ReviewCategory-star\">\\n           <span class=\"cmp-Star cmp-Star--5 cmp-Star--middle\">\\n           </span>\\n          </span>\\n          <span class=\"cmp-ReviewCategory-name\">\\n           Job Security/Advancement\\n          </span>\\n         </div>\\n         <div class=\"cmp-ReviewCategory-category\">\\n          <span class=\"cmp-ReviewCategory-rating\">\\n           3.4\\n          </span>\\n          <span class=\"cmp-ReviewCategory-star\">\\n           <span class=\"cmp-Star cmp-Star--5 cmp-Star--middle\">\\n           </span>\\n          </span>\\n          <span class=\"cmp-ReviewCategory-name\">\\n           Management\\n          </span>\\n         </div>\\n         <div class=\"cmp-ReviewCategory-category\">\\n          <span class=\"cmp-ReviewCategory-rating\">\\n           3.7\\n          </span>\\n          <span class=\"cmp-ReviewCategory-star\">\\n           <span class=\"cmp-Star cmp-Star--5 cmp-Star--middle\">\\n           </span>\\n          </span>\\n          <span class=\"cmp-ReviewCategory-name\">\\n           Culture\\n          </span>\\n         </div>\\n        </div>\\n       </div>\\n       <div class=\"cmp-ReviewAndRatingsStory-review\">\\n        <div class=\"cmp-ReviewAndRatingsStory-featuredReview\">\\n         <div class=\"cmp-Review\">\\n          <div class=\"cmp-Review-rating\">\\n           <span class=\"cmp-Review-ratingText\">\\n            4.0\\n           </span>\\n           <div class=\"cmp-Rating cmp-Rating--normal cmp-Rating--middle\">\\n            <span class=\"cmp-Rating-on\" style=\"width: 80.0%;\">\\n            </span>\\n           </div>\\n          </div>\\n          <div class=\"cmp-Review-content\">\\n           <div class=\"cmp-Review-title\">"
   ]
  },
  {
   "cell_type": "code",
   "execution_count": 855,
   "metadata": {},
   "outputs": [],
   "source": [
    "r1 = soup.find(class_=\"cmp-ReviewCategory-rating\").text.replace('\\n', ' ')"
   ]
  },
  {
   "cell_type": "code",
   "execution_count": 865,
   "metadata": {},
   "outputs": [
    {
     "data": {
      "text/plain": [
       "4.2"
      ]
     },
     "execution_count": 865,
     "metadata": {},
     "output_type": "execute_result"
    }
   ],
   "source": [
    "float(soup.find(\"div\",{\"class\": \"cmp-ReviewCategory cmp-ReviewCategory--textmd\"}).\\\n",
    "find_all(\"span\", {\"class\": \"cmp-ReviewCategory-rating\"})[0].text.replace('\\n', ' '))"
   ]
  },
  {
   "cell_type": "code",
   "execution_count": null,
   "metadata": {
    "collapsed": true
   },
   "outputs": [],
   "source": []
  },
  {
   "cell_type": "code",
   "execution_count": null,
   "metadata": {
    "collapsed": true
   },
   "outputs": [],
   "source": []
  },
  {
   "cell_type": "code",
   "execution_count": null,
   "metadata": {
    "collapsed": true
   },
   "outputs": [],
   "source": []
  },
  {
   "cell_type": "code",
   "execution_count": null,
   "metadata": {
    "collapsed": true
   },
   "outputs": [],
   "source": []
  },
  {
   "cell_type": "code",
   "execution_count": null,
   "metadata": {
    "collapsed": true
   },
   "outputs": [],
   "source": []
  },
  {
   "cell_type": "code",
   "execution_count": null,
   "metadata": {
    "collapsed": true
   },
   "outputs": [],
   "source": []
  },
  {
   "cell_type": "code",
   "execution_count": null,
   "metadata": {
    "collapsed": true
   },
   "outputs": [],
   "source": [
    "\n",
    "    '''\n",
    "    if url_2nd != None:\n",
    "        target_2nd =BeautifulSoup(urllib.request.urlopen(url_2nd), \"lxml\")\n",
    "        \n",
    "        comp_logo = target_2nd.find(\"div\", {\"id\": \"cmp-header-logo\"}).find('img')\n",
    "        if comp_logo != None:\n",
    "            comp_logo = target_2nd.find(\"div\", {\"id\": \"cmp-header-logo\"}).find('img').attrs['src']\n",
    "        else: comp_logo = None\n",
    "          \n",
    "        # total 6 ratings: overall rating, work-life balance rating, compensation / benefit rating, job security rating, management rating, company culture rating\n",
    "        comp_rating_overall = target_2nd.find(\"span\", {\"class\": \"cmp-star-large-on\"}).attrs['style']\n",
    "        wl_bal_rating = target_2nd.find(\"dl\", {\"id\": \"cmp-reviews-attributes\"}).find_all(\"span\", {\"class\": \"cmp-star-on\"})[0].attrs['style'] \n",
    "        benefit_rating = target_2nd.find(\"dl\", {\"id\": \"cmp-reviews-attributes\"}).find_all(\"span\", {\"class\": \"cmp-star-on\"})[1].attrs['style'] \n",
    "        jsecurity_rating = target_2nd.find(\"dl\", {\"id\": \"cmp-reviews-attributes\"}).find_all(\"span\", {\"class\": \"cmp-star-on\"})[2].attrs['style'] \n",
    "        mgmt_rating =  target_2nd.find(\"dl\", {\"id\": \"cmp-reviews-attributes\"}).find_all(\"span\", {\"class\": \"cmp-star-on\"})[3].attrs['style'] \n",
    "        culture_rating = target_2nd.find(\"dl\", {\"id\": \"cmp-reviews-attributes\"}).find_all(\"span\", {\"class\": \"cmp-star-on\"})[4].attrs['style'] \n",
    "\n",
    "        # Some regular expression stuffs to remove unnecessary characters\n",
    "        comp_rating_overall = re.sub('[width: ]', '', comp_rating_overall)\n",
    "        comp_rating_overall = re.sub('[px;]', '', comp_rating_overall)\n",
    "        comp_rating_overall = round((float(comp_rating_overall)*5.0)/120, 1)\n",
    "\n",
    "        wl_bal_rating = re.sub('[width: ]', '', wl_bal_rating)\n",
    "        wl_bal_rating = re.sub('[px]', '', wl_bal_rating)\n",
    "        wl_bal_rating = round((float(wl_bal_rating)*5.0)/86, 1) # 86 pixel\n",
    "\n",
    "        benefit_rating = re.sub('[width: ]', '', benefit_rating)\n",
    "        benefit_rating = re.sub('[px]', '', benefit_rating)\n",
    "        benefit_rating = round((float(benefit_rating)*5.0)/86, 1)\n",
    "\n",
    "        jsecurity_rating = re.sub('[width: ]', '', jsecurity_rating)\n",
    "        jsecurity_rating = re.sub('[px]', '', jsecurity_rating)\n",
    "        jsecurity_rating = round((float(jsecurity_rating)*5.0)/86, 1)\n",
    "\n",
    "        mgmt_rating = re.sub('[width: ]', '', mgmt_rating)\n",
    "        mgmt_rating = re.sub('[px]', '', mgmt_rating)\n",
    "        mgmt_rating = round((float(mgmt_rating)*5.0)/86, 1)\n",
    "\n",
    "        culture_rating = re.sub('[width: ]', '', culture_rating)\n",
    "        culture_rating = re.sub('[px]', '', culture_rating)\n",
    "        culture_rating = round((float(culture_rating)*5.0)/86, 1)\n",
    "    \n",
    "        # Store cleaned characters into data frame\n",
    "        df_received.loc[ df_received['comp_name'] == target_comp_name, 'overall_rating'] = comp_rating_overall\n",
    "        df_received.loc[ df_received['comp_name'] == target_comp_name, 'wl_bal_rating'] = wl_bal_rating\n",
    "        df_received.loc[ df_received['comp_name'] == target_comp_name, 'benefit_rating'] = benefit_rating\n",
    "        df_received.loc[ df_received['comp_name'] == target_comp_name, 'jsecurity_rating'] = security_rating\n",
    "        df_received.loc[ df_received['comp_name'] == target_comp_name, 'mgmt_rating'] = mgmt_rating\n",
    "        df_received.loc[ df_received['comp_name'] == target_comp_name, 'culture_rating'] = culture_rating\n"
   ]
  },
  {
   "cell_type": "code",
   "execution_count": null,
   "metadata": {
    "collapsed": true
   },
   "outputs": [],
   "source": []
  },
  {
   "cell_type": "code",
   "execution_count": null,
   "metadata": {
    "collapsed": true
   },
   "outputs": [],
   "source": []
  },
  {
   "cell_type": "code",
   "execution_count": null,
   "metadata": {
    "collapsed": true
   },
   "outputs": [],
   "source": []
  },
  {
   "cell_type": "code",
   "execution_count": null,
   "metadata": {
    "collapsed": true
   },
   "outputs": [],
   "source": []
  },
  {
   "cell_type": "code",
   "execution_count": null,
   "metadata": {
    "collapsed": true
   },
   "outputs": [],
   "source": []
  },
  {
   "cell_type": "code",
   "execution_count": null,
   "metadata": {
    "collapsed": true
   },
   "outputs": [],
   "source": []
  },
  {
   "cell_type": "code",
   "execution_count": null,
   "metadata": {
    "collapsed": true
   },
   "outputs": [],
   "source": []
  },
  {
   "cell_type": "code",
   "execution_count": null,
   "metadata": {
    "collapsed": true
   },
   "outputs": [],
   "source": []
  },
  {
   "cell_type": "code",
   "execution_count": null,
   "metadata": {
    "collapsed": true
   },
   "outputs": [],
   "source": []
  },
  {
   "cell_type": "code",
   "execution_count": 410,
   "metadata": {},
   "outputs": [],
   "source": [
    "def parse(url):\n",
    "    html = requests.get(url)\n",
    "    soup = BeautifulSoup(html.content, 'html.parser', from_encoding=\"utf-8\")\n",
    "    df = pd.DataFrame(columns=[\"Title\",\"Location\",\"Company\",\"Salary\", \"Synopsis\", \"Description\"])\n",
    "    for each in soup.find_all(class_= \"result\" ):\n",
    "        try: \n",
    "            title = each.find(class_='jobtitle').text.replace('\\n', '')\n",
    "        except:\n",
    "            title = 'None'\n",
    "        try:\n",
    "            location = each.find('span', {'class':\"location\" }).text.replace('\\n', '')\n",
    "        except:\n",
    "            location = 'None'\n",
    "        try: \n",
    "            company = each.find(class_='company').text.replace('\\n', '')\n",
    "        except:\n",
    "            company = 'None'\n",
    "        try:\n",
    "            salary = each.find('span', {'class':'no-wrap'}).text\n",
    "        except:\n",
    "            salary = 'None'\n",
    "        synopsis = each.find('span', {'class':'summary'}).text.replace('\\n', '')\n",
    "        try: \n",
    "            description = ((BeautifulSoup((requests.get((\"%s%s\" % (\"https://www.indeed.com\",each.find('a').get('href')\\\n",
    "                                                                 )))).content, 'html.parser', from_encoding=\"utf-8\")).\\\n",
    "                           find(class_ = \"jobsearch-JobComponent-description icl-u-xs-mt--md\"))\n",
    "        except:\n",
    "            description = 'None'\n",
    "        try:\n",
    "            \n",
    "        df = df.append({'Title':title, 'Location':location, 'Company':company, 'Salary':salary, 'Synopsis':synopsis,\\\n",
    "                        'Description':description}, ignore_index=True)\n",
    "    return df"
   ]
  },
  {
   "cell_type": "code",
   "execution_count": 413,
   "metadata": {},
   "outputs": [
    {
     "data": {
      "text/plain": [
       "<div class=\"jobsearch-JobComponent-description icl-u-xs-mt--md\">News and social media move financial markets. Bloomberg is one of the largest producers of news in the world and ingests over 70,000 external news feeds and social media like Twitter each day. This data keeps our clients informed, and our team's insights help make sense of it for our customers.\n",
       "<br/><br/>\n",
       "<b>Who are we? Bloomberg's Artificial Intelligence (AI) group:</b> researchers and engineers who have a passion for solving complex problems. Our charter: to extract relevant, meaningful, tradable, and actionable information (pricings, earnings, recommendations and major events) from data (news, web, social media, and structured data) in real-time. Since our customers rely on this information to make swift financial decisions, we guarantee precision, accuracy and latency beyond most academic and industry standards.\n",
       "<br/><br/>\n",
       "We aren't just building products. The infrastructure and algorithms we develop are used across the company by data scientists. We publish papers, attend conferences and contribute back to the larger data science community whenever we can (bloomberg.com/company/d4gx/).\n",
       "<br/><br/>\n",
       "Who are you? A research scientist who wants to work in the areas of machine learning, natural language processing, information extraction, reinforcement learning, graphical models, recommender systems and knowledge graphs. You want to join a close-knit group and make a big impact.\n",
       "<br/><br/>\n",
       "<b>We'll trust you to:</b><br/>\n",
       "<ul>\n",
       "<li>Work with researchers in our Engineering AI group on live systems</li>\n",
       "<li>Publish research findings in leading academic venues and represent Bloomberg at industry conferences</li>\n",
       "<li>Write, test and maintain production-quality code</li>\n",
       "<li>Design, experiment and evaluate models</li>\n",
       "</ul>\n",
       "<b>You'll need to have:</b><br/>\n",
       "<ul>\n",
       "<li>A PhD in AI, NLP, ML, Optimization, or equivalent experience in related fields</li>\n",
       "<li>5+ years of experience programming in C++, Python or Java</li>\n",
       "<li>3+ publications in top-tier conferences or journals (such as ACL, AAAI, SIGIR, KDD, EMNLP, ICML, NIPS or equivalent)</li>\n",
       "</ul>\n",
       "<b>We'd love to see:</b><br/>\n",
       "<ul>\n",
       "<li>A quantitative background (Probability, Statistics, Linear Algebra, etc.)</li>\n",
       "<li>Experience with distributed computational frameworks (YARN, Spark, Hadoop)</li>\n",
       "</ul>\n",
       "If this sounds like you, apply! We are hiring for our NYC and London offices.\n",
       "<br/><br/>\n",
       "Check out our blog, TechAtBloomberg.com, to learn more about our publications and projects in data science. We just got back from NAACL! Read about a paper our team presented here: https://www.techatbloomberg.com/blog/bloombergs-advances-natural-language-processing-allow-improved-tagging-tweets-news/\n",
       "<br/><br/>\n",
       "Apply Now\n",
       "<br/><br/>\n",
       "AI Research ScientistNew York\n",
       "<br/><br/>\n",
       "Posted Oct 5, 2017 - Requisition No. 62503\n",
       "<br/><br/>\n",
       "Apply Now\n",
       "<br/><br/>\n",
       "News and social media move financial markets. Bloomberg is one of the largest producers of news in the world and ingests over 70,000 external news feeds and social media like Twitter each day. This data keeps our clients informed, and our team's insights help make sense of it for our customers.\n",
       "<br/><br/>\n",
       "<b>Who are we? Bloomberg's Artificial Intelligence (AI) group:</b> researchers and engineers who have a passion for solving complex problems. Our charter: to extract relevant, meaningful, tradable, and actionable information (pricings, earnings, recommendations and major events) from data (news, web, social media, and structured data) in real-time. Since our customers rely on this information to make swift financial decisions, we guarantee precision, accuracy and latency beyond most academic and industry standards.\n",
       "<br/><br/>\n",
       "We aren't just building products. The infrastructure and algorithms we develop are used across the company by data scientists. We publish papers, attend conferences and contribute back to the larger data science community whenever we can (bloomberg.com/company/d4gx/).\n",
       "<br/><br/>\n",
       "Who are you? A research scientist who wants to work in the areas of machine learning, natural language processing, information extraction, reinforcement learning, graphical models, recommender systems and knowledge graphs. You want to join a close-knit group and make a big impact.\n",
       "<br/><br/>\n",
       "<b>We'll trust you to:</b><br/>\n",
       "<ul>\n",
       "<li>Work with researchers in our Engineering AI group on live systems</li>\n",
       "<li>Publish research findings in leading academic venues and represent Bloomberg at industry conferences</li>\n",
       "<li>Write, test and maintain production-quality code</li>\n",
       "<li>Design, experiment and evaluate models</li>\n",
       "</ul>\n",
       "<b>You'll need to have:</b><br/>\n",
       "<ul>\n",
       "<li>A PhD in AI, NLP, ML, Optimization, or equivalent experience in related fields</li>\n",
       "<li>5+ years of experience programming in C++, Python or Java</li>\n",
       "<li>3+ publications in top-tier conferences or journals (such as ACL, AAAI, SIGIR, KDD, EMNLP, ICML, NIPS or equivalent)</li>\n",
       "</ul>\n",
       "<b>We'd love to see:</b><br/>\n",
       "<ul>\n",
       "<li>A quantitative background (Probability, Statistics, Linear Algebra, etc.)</li>\n",
       "<li>Experience with distributed computational frameworks (YARN, Spark, Hadoop)</li>\n",
       "</ul>\n",
       "If this sounds like you, apply! We are hiring for our NYC and London offices.\n",
       "<br/><br/>\n",
       "Check out our blog, TechAtBloomberg.com, to learn more about our publications and projects in data science. We just got back from NAACL! Read about a paper our team presented here: https://www.techatbloomberg.com/blog/bloombergs-advances-natural-language-processing-allow-improved-tagging-tweets-news/</div>"
      ]
     },
     "execution_count": 413,
     "metadata": {},
     "output_type": "execute_result"
    }
   ],
   "source": []
  },
  {
   "cell_type": "code",
   "execution_count": 377,
   "metadata": {},
   "outputs": [
    {
     "data": {
      "text/plain": [
       "'www.indeed.com/rc/clk?jk=a0f5f0cfbe59a5d4&fccid=fe404d18bb9eef1e&vjs=3'"
      ]
     },
     "execution_count": 377,
     "metadata": {},
     "output_type": "execute_result"
    }
   ],
   "source": [
    "parse(url)['Description'][5]"
   ]
  },
  {
   "cell_type": "code",
   "execution_count": 409,
   "metadata": {},
   "outputs": [
    {
     "data": {
      "text/plain": [
       "<html dir=\"ltr\" lang=\"en\">\n",
       "<head>\n",
       "<title>Data Scientist, Premium Content - New York, NY 10011 - Indeed.com</title><meta charset=\"utf-8\"/><meta content=\"ie=edge\" http-equiv=\"x-ua-compatible\"/><meta content=\"width=device-width, initial-scale=1\" name=\"viewport\"/><meta content=\"notranslate\" name=\"google\"/><meta content=\"http://www.indeed.com/viewjob?from=appsharedroid&amp;jk=a0f5f0cfbe59a5d4\" id=\"indeed-share-url\"/><meta content=\"Data Scientist, Premium Content\" id=\"indeed-share-message\"/><meta content=\"simple\" id=\"indeed-share-type\"/><meta content=\"noindex\" name=\"robots\"/><link href=\"/m/s/8ace57fb5c60a2c79e9d3e12570e123b/styles/viewjob-janus-ltr.css\" rel=\"stylesheet\"/>\n",
       "<style>\n",
       "input[type=\"text\"],.icl-WhatWhere-input--what input[type=\"text\"].icl-TextInput-control--whatWhere,.icl-WhatWhere-input--where input[type=\"text\"].icl-TextInput-control--whatWhere{border-color:#ccc !important}input[type=\"text\"]:focus,input[type=\"text\"]:hover,input[type=\"text\"]:active,.icl-WhatWhere-input--what input[type=\"text\"].icl-TextInput-control--whatWhere:focus,.icl-WhatWhere-input--what input[type=\"text\"].icl-TextInput-control--whatWhere:hover,.icl-WhatWhere-input--what input[type=\"text\"].icl-TextInput-control--whatWhere:active,.icl-WhatWhere-input--where input[type=\"text\"].icl-TextInput-control--whatWhere:focus,.icl-WhatWhere-input--where input[type=\"text\"].icl-TextInput-control--whatWhere:hover,.icl-WhatWhere-input--where input[type=\"text\"].icl-TextInput-control--whatWhere:active{border-color:#1497ff !important}.icl-TextInput-control,.icl-WhatWhere-input--what .icl-TextInput-control--whatWhere,.icl-WhatWhere-input--where .icl-TextInput-control--whatWhere{border-color:#ccc !important}.icl-TextInput-control:focus,.icl-TextInput-control:hover,.icl-TextInput-control:active,.icl-WhatWhere-input--what .icl-TextInput-control--whatWhere:focus,.icl-WhatWhere-input--what .icl-TextInput-control--whatWhere:hover,.icl-WhatWhere-input--what .icl-TextInput-control--whatWhere:active,.icl-WhatWhere-input--where .icl-TextInput-control--whatWhere:focus,.icl-WhatWhere-input--where .icl-TextInput-control--whatWhere:hover,.icl-WhatWhere-input--where .icl-TextInput-control--whatWhere:active{border-color:#1497ff !important}.icl-ButtonPromo:before{background-color:#ff6c40 !important}body.janus .content #gajui:before{border-top-color:#ff6c40}body.janus .content .nji,body.janus .content .rsi .nji,body.janus .content .rsi div.nji,body.janus .content .rsi span.nji,body.janus .content #recPromoDisplay .nji.recDecoration,body.janus .content #recPromoDisplay span.nji.recDecoration,body.janus .content .srchlst .srchlst .rsi .nji{color:#e03400 !important}.icl-Card-headline--hasBackground,.jobsearch-Footer{border-top-color:#ff6c40 !important;border-top-width:4px !important}body .icl-DesktopGlobalHeader-item--containsDropdown.is-open div.icl-DesktopGlobalHeader-item--dropdown{border-radius:8px 8px 0 0 !important}body .icl-DesktopGlobalHeader-item--containsDropdown.is-open ul.icl-DesktopGlobalHeader-dropdown{border-radius:8px 0 8px 8px !important}input[type=\"text\"],.icl-WhatWhere-input--what input[type=\"text\"].icl-TextInput-control--whatWhere,.icl-WhatWhere-input--where input[type=\"text\"].icl-TextInput-control--whatWhere{border-radius:8px !important}.icl-Autocomplete-list{border-radius:8px !important}#whatWhere .icl-button--primary,#whatWhere .icl-WhatWhere-button,.jobsearch-PostJobPromo-container .icl-button--primary{background-color:#085ff7 !important;border-color:#085ff7 !important;color:#fff !important}#whatWhere .icl-button--primary:active,#whatWhere .icl-button--primary:focus,#whatWhere .icl-button--primary:hover,#whatWhere .icl-WhatWhere-button:active,#whatWhere .icl-WhatWhere-button:focus,#whatWhere .icl-WhatWhere-button:hover,.jobsearch-PostJobPromo-container .icl-button--primary:active,.jobsearch-PostJobPromo-container .icl-button--primary:focus,.jobsearch-PostJobPromo-container .icl-button--primary:hover{background-color:#1497ff !important;border-color:#1497ff !important}.jobsearch-Content .icl-button--secondary{border-radius:6.25rem !important}button,.icl-Button,button.icl-WhatWhere-button{border-radius:6.25rem !important}#ita-card-cta a{color:#e03400 !important}.icl-JobResult-titleDivider,.icl-JobResult-titleFlag,.icl-JobResult-bodyCallToAction,.icl-NavigationList-secondaryText.icl-NavigationList-secondaryText--emphasized,.ns-job-info-expired,.ns-job-info-indeedapply{background-color:transparent !important;color:#e03400 !important}.icl-NavigationList-headerIcon,.icl-NavigationList-itemIcon{display:none}.jobsearch-RecentSearches-grid{background-color:#f8f7f5}#recentSearches .icl-NavigationList-text{color:#767676}#recentSearches .icl-NavigationList--primary{color:#767676}#recentSearches .icl-NavigationList--primary:hover{background-color:#fbfbfb;color:#000}#recentSearches .icl-NavigationList--primary:hover .icl-NavigationList-primaryText{color:#000}#recentSearches .icl-NavigationList-item:first-of-type a.icl-NavigationList--primary{border-radius:0 !important}#recentSearches .icl-NavigationList-item:last-of-type a.icl-NavigationList--primary{border-radius:0 !important}.ns-carousel-card-wrapper .ns-card-header{border-radius:8px 8px 0 0 !important}.ns-carousel-card-wrapper .ns-step.ns-step--card{border-radius:8px !important}body.janus #auxCol .jaui .recjobalert-active .ico,body.janus #auxCol .jaui .recjobalert-paused .ico,body.janus #auxCol .jaui .recjobalert-subscribe .ico,td#auxCol .jaui .recjobalert-subscribe .ico{display:none}body.janus #resultsCol .jobtitle a:visited,body.janus #resultsCol a.jobtitle:visited{color:#6C6C6C !important}[dir=\"ltr\"] body.janus #jobsearch span.inwrap input#what.input_text,[dir=\"ltr\"] body.janus #jobsearch span.inwrap input#where.input_text,body.janus #jobsearch span.inwrap input#what.input_text,body.janus #jobsearch span.inwrap input#where.input_text,body.janus input#alertemail,body.janus input#talertemail,body.janus input#balertemail{border-color:#ccc !important}[dir=\"ltr\"] body.janus #jobsearch span.inwrap input#what.input_text:focus,[dir=\"ltr\"] body.janus #jobsearch span.inwrap input#what.input_text:hover,[dir=\"ltr\"] body.janus #jobsearch span.inwrap input#what.input_text:active,[dir=\"ltr\"] body.janus #jobsearch span.inwrap input#where.input_text:focus,[dir=\"ltr\"] body.janus #jobsearch span.inwrap input#where.input_text:hover,[dir=\"ltr\"] body.janus #jobsearch span.inwrap input#where.input_text:active,body.janus #jobsearch span.inwrap input#what.input_text:focus,body.janus #jobsearch span.inwrap input#what.input_text:hover,body.janus #jobsearch span.inwrap input#what.input_text:active,body.janus #jobsearch span.inwrap input#where.input_text:focus,body.janus #jobsearch span.inwrap input#where.input_text:hover,body.janus #jobsearch span.inwrap input#where.input_text:active,body.janus input#alertemail:focus,body.janus input#alertemail:hover,body.janus input#alertemail:active,body.janus input#talertemail:focus,body.janus input#talertemail:hover,body.janus input#talertemail:active,body.janus input#balertemail:focus,body.janus input#balertemail:hover,body.janus input#balertemail:active{border-color:#1497ff !important}body.janus #jobsearchform .sg-form-control,body.janus #searchQueryBar{border-color:#ccc !important}body.janus #jobsearchform .sg-form-control:focus,body.janus #jobsearchform .sg-form-control:hover,body.janus #jobsearchform .sg-form-control:active,body.janus #searchQueryBar:focus,body.janus #searchQueryBar:hover,body.janus #searchQueryBar:active{border-color:#1497ff !important}body.janus:not([data-tn-originlogtype=\"viewjob\"]):not([data-tn-originlogtype=\"homepage\"]){background-color:#f8f7f5 !important}body.janus #vjs-container div#vjs-header{border-top-color:#ff6c40 !important}body.janus #vjs-container div#vjs-header{border-bottom:1px solid #CCC !important;border-top-width:4px !important}body.janus td#resultsCol div.row.result.vjs-highlight{background-color:#f8f7f5 !important;border-left-color:#ff6c40 !important;border-left-width:2px !important;padding-left:14px !important}body.janus #what_acdiv.acd ul,body.janus #acdiv.acd ul{border-radius:8px !important}body.janus td#auxCol .jaui,body.janus td#auxCol #femp_list,body.janus td#auxCol #univsrch-salary-v3 #univsrch-salary-info,body.janus td#auxCol .ja_rec_confirm_ui_tst,body.janus td#auxCol .related_searches_right-rail,body.janus td#auxColPad .jaui,body.janus td#auxColPad #femp_list,body.janus td#auxColPad #univsrch-salary-v3 #univsrch-salary-info,body.janus td#auxColPad .ja_rec_confirm_ui_tst,body.janus td#auxColPad .related_searches_right-rail{border-top-color:#ff6c40 !important;border-top-width:4px !important}body.janus .icl-DesktopGlobalHeader-item--containsDropdown.is-open div.icl-DesktopGlobalHeader-item--dropdown,body.janus #vjs-container #state-picker-container .dd-menu .dd-menu-option:first-child{border-radius:8px 8px 0 0 !important}body.janus #vjs-container #state-picker-container .dd-menu .dd-menu-option:last-child{border-radius:0 0 8px 8px !important}[dir=\"ltr\"] body.janus #jobsearch span.inwrap input#what.input_text,[dir=\"ltr\"] body.janus #jobsearch span.inwrap input#where.input_text,body.janus #jobsearch span.inwrap input#what.input_text,body.janus #jobsearch span.inwrap input#where.input_text,body.janus input#alertemail,body.janus input#talertemail,body.janus input#balertemail{border-radius:8px !important;border-color:#ccc !important}[dir=\"ltr\"] body.janus #jobsearch span.inwrap input#what.input_text:focus,[dir=\"ltr\"] body.janus #jobsearch span.inwrap input#what.input_text:hover,[dir=\"ltr\"] body.janus #jobsearch span.inwrap input#what.input_text:active,[dir=\"ltr\"] body.janus #jobsearch span.inwrap input#where.input_text:focus,[dir=\"ltr\"] body.janus #jobsearch span.inwrap input#where.input_text:hover,[dir=\"ltr\"] body.janus #jobsearch span.inwrap input#where.input_text:active,body.janus #jobsearch span.inwrap input#what.input_text:focus,body.janus #jobsearch span.inwrap input#what.input_text:hover,body.janus #jobsearch span.inwrap input#what.input_text:active,body.janus #jobsearch span.inwrap input#where.input_text:focus,body.janus #jobsearch span.inwrap input#where.input_text:hover,body.janus #jobsearch span.inwrap input#where.input_text:active,body.janus input#alertemail:focus,body.janus input#alertemail:hover,body.janus input#alertemail:active,body.janus input#talertemail:focus,body.janus input#talertemail:hover,body.janus input#talertemail:active,body.janus input#balertemail:focus,body.janus input#balertemail:hover,body.janus input#balertemail:active{border-color:#1497ff !important}body.janus #vjs-container input.blue-button,body.janus #vjs-container #state-picker-container button.state-picker-button,body.janus #vjs-container #state-picker-container .state-picker-button.dd-target,body.janus #vjs-container span#state-picker-container .state-picker-button.dd-target,body.janus #vjs-container span#state-picker-container .state-picker-button.blue-button,body.janus #vjs-container span#state-picker-container .state-picker-button.dd-target,body.janus #vjs-container .indeed-apply-button,body.janus #vjs-container .indeed-apply-button-placeholder,body.janus input#alertsubmit,body.janus #valuePropFooter .vpfooter-content .vpfooter-btn-section [dir] a.icl-Button.cta_button.grey,body.janus #resumeCtaFooter .footerCta.greyBar [dir] a.icl-Button.cta_button.blue,body.janus #vjs-container div.job-footer-button-row a.view_job_link.view-apply-button.blue-button{border-radius:6.25rem !important;line-height:inherit !important}body.janus #jobsearch span.inwrapBorder input.input_submit{border-radius:6.25rem !important}body.janus #vjs-container .indeed-apply-button-container ~ #state-picker-container button.state-picker-button.blue-button,body.janus #vjs-container .indeed-apply-button-container ~ #state-picker-container button.state-picker-button{border-radius:6.25rem !important;line-height:inherit !important;font-size:18px !important}body.janus #vjs-container #apply-state-picker-container .indeed-apply-button-container a.indeed-apply-button,body.janus #vjs-container #apply-state-picker-container .indeed-apply-button-container button.indeed-apply-button-placeholder{font-size:18px !important}body.janus #vjs-container #apply-button-container .view_job_link.view-apply-button.blue-button{font-size:18px !important}body.janus #vjs-container #apply-button-container #state-picker-container button.state-picker-button.blue-button{font-size:18px !important}body.janus #vjs-container #apply-button-container #state-picker-container button.state-picker-button{font-size:18px !important}body.janus #indeed_apply .indeed-apply-button-container a.indeed-apply-button,body.janus #indeed_apply .indeed-apply-button-container button.indeed-apply-button-placeholder{background-color:#ff5a1f !important;border-color:#ff5a1f !important;color:#fff !important;font-size:18px !important}body.janus #indeed_apply .indeed-apply-button-container a.indeed-apply-button:active,body.janus #indeed_apply .indeed-apply-button-container a.indeed-apply-button:focus,body.janus #indeed_apply .indeed-apply-button-container a.indeed-apply-button:hover,body.janus #indeed_apply .indeed-apply-button-container button.indeed-apply-button-placeholder:active,body.janus #indeed_apply .indeed-apply-button-container button.indeed-apply-button-placeholder:focus,body.janus #indeed_apply .indeed-apply-button-container button.indeed-apply-button-placeholder:hover{background-color:#ff6c40 !important;border-color:#ff6c40 !important}body.janus #vjs-container input.indeed-apply-button{background-color:#ff5a1f !important;border-color:#ff5a1f !important;color:#fff !important}body.janus #vjs-container input.indeed-apply-button:active,body.janus #vjs-container input.indeed-apply-button:focus,body.janus #vjs-container input.indeed-apply-button:hover{background-color:#ff6c40 !important;border-color:#ff6c40 !important}body.janus ul.icl-Autocomplete-list{border-radius:8px !important}body.janus #recPromoDisplay a,body.janus .rsList li a,body.janus #refineresults .more_link,body.janus #recentsearches .clearRSControl .sl,body.janus .result-link-bar-container .sl,body.janus .sl.ws_label{color:#000 !important}body.janus #resultsCol .jobtitle a.visited,body.janus #resultsCol a.jobtitle.visited,body.janus #resultsCol .jobtitle.visited,body.janus td#resultsCol .jobtitle a.visited,body.janus td#resultsCol .jobtitle a:visited,body.janus td#resultsCol a.jobtitle.visited,body.janus td#resultsCol .jobtitle.visited{color:#767676 !important}body.janus #univsrch-sal-distribution ul>li.univsrch-sal-highlight{background-color:#ff6c40 !important}body.janus div#serpRecommendations div.recTitle{padding-left:1em !important}body.janus div#serpRecommendations div.recTitle:before{width:inherit;height:inherit;display:none;position:inherit}body.janus .ja_col .ja_rec_ico_white{display:none}body.janus #primePromo .new,body.janus #primePromo span.new,body.janus .row .new,body.janus .row span.new,body.janus .row .iaP .iaLabel,body.janus .row .iaP span.iaLabel,body.janus td#refineresultscol .rsList .nji,body.janus td#refineresultscol #recPromoDisplay .nji.recDecoration,body.janus #recPromoDisplayPageLast span.nji.recDecoration,body.janus #resultsCol #bviewmorerecs span.nji.recDecoration{background-color:transparent !important;color:#e03400 !important}body.janus #vjs-container #vjs-header{padding:16px 0}body.janus #vjs-container #vjs-header #vjs-header-jobinfo{padding:0 44px 0 22px}body.janus #vjs-container #vjs-header .job-footer-button-row{flex-flow:row wrap;padding:0 14px 0 14px}body.janus #vjs-container #vjs-header .job-footer-button-row .indeed-apply-button-container{vertical-align:top}body.janus #vjs-container #vjs-header .job-footer-button-row .state-picker-button{transition:width .3s ease-in-out}body.janus #vjs-container #vjs-header .job-footer-button-row>span,body.janus #vjs-container #vjs-header .job-footer-button-row>span#vjnewtab.newtab{flex:0 1 auto;margin-left:8px !important}body.janus #vjs-container #vjs-header .job-footer-button-row>:nth-child(1),body.janus #vjs-container #vjs-header .job-footer-button-row #state-picker-container{flex:0 1 auto;width:auto !important;max-width:inherit !important;margin-left:8px !important;margin-right:8px !important;margin-top:8px !important;min-width:unset}body.janus #vjs-container #vjs-header .job-footer-button-row>:nth-child(1)>a[class*=\"apply-button\"],body.janus #vjs-container #vjs-header .job-footer-button-row>:nth-child(1)>button[class*=\"apply-button\"],body.janus #vjs-container #vjs-header .job-footer-button-row #state-picker-container>a[class*=\"apply-button\"],body.janus #vjs-container #vjs-header .job-footer-button-row #state-picker-container>button[class*=\"apply-button\"]{margin-left:8px !important;margin-right:8px !important;width:auto !important;min-width:unset}body.janus #vjs-container #vjs-header .job-footer-button-row>:nth-child(1)>.state-picker-button,body.janus #vjs-container #vjs-header .job-footer-button-row #state-picker-container>.state-picker-button{width:auto !important;max-width:inherit !important;margin:0 !important;margin-left:0 !important;margin-right:0 !important}body.janus #vjs-container #vjs-header .job-footer-button-row .indeed-apply-button-container a.indeed-apply-button{border-radius:6.25rem !important;background-color:#ff5a1f}body.janus #vjs-container #vjs-header .job-footer-button-row .indeed-apply-button-container button.indeed-apply-button-placeholder{border-radius:6.25rem !important;background-color:#ff5a1f;line-height:22px !important}body.janus #vjs-container #vjs-header .job-footer-button-row #state-picker-container ul.dd-menu{margin-left:22px !important;margin-right:0 !important}body.janus #vjs-container #vjs-header .job-footer-button-row #state-picker-container .state-picker-info-arrow{position:absolute;left:calc(50% - 14px)}body.janus #vjs-container #vjs-header .job-footer-button-row .indeed-apply-button .indeed-apply-button-inner .indeed-apply-button-label,body.janus #vjs-container #vjs-header .job-footer-button-row .indeed-apply-button-placeholder .indeed-apply-button-inner .indeed-apply-button-label{line-height:23px !important}body.janus #vjs-container #vjs-header #apply-button-container #state-picker-info-container{margin:12px 22px 0 !important}body.janus #vjs-container #vjs-header .vjs-trustworthymsg{margin-left:22px}#jobsearchform .sg-form-control{border-color:#ccc !important}body.janus td.auxColPad .rezcta_display{border-top-color:#ff6c40 !important;border-top-width:4px !important}body.janus .cmp_display .cmp_info,body.janus .rezcta_display .rezcta_info{border-color:#f6f6f6 !important;border-top-width:4px !important}body.janus #state-picker-container button ~ .dd-menu,body.janus span#state-picker-container .state-picker-button.dd-target ~ ul.dd-menu{border-radius:8px !important}body.janus div#g_nav span#userOptionsLabel.active{border-radius:8px 8px 0 0 !important}body.janus div#g_nav #userOptions{border-radius:0 0 8px 8px !important}body.janus #state-picker-container .dd-menu .dd-menu-option:first-child{border-radius:8px 8px 0 0 !important}body.janus #state-picker-container .dd-menu .dd-menu-option:last-child{border-radius:0 0 8px 8px !important}body.janus #jobsearch .inwrapBorder .input_submit,body.janus #job-content .auxColPad .rezcta_button .inwrapBorder .inwrapBorderTop .input_submit,body.janus #indeed_apply .indeed-apply-button-container .indeed-apply-button,body.janus #indeed_apply .indeed-apply-button-container a.indeed-apply-button,body.janus #indeed_apply .indeed-apply-button-container .indeed-apply-button-placeholder,body.janus #indeed_apply .indeed-apply-button-container button.indeed-apply-button-placeholder,body.janus #apply-button-container .indeed-apply-button-container .indeed-apply-button,body.janus #apply-button-container .indeed-apply-button-container .indeed-apply-button-placeholder,body.janus div#apply-state-picker-container .indeed-apply-button-container .indeed-apply-button,body.janus div#apply-state-picker-container .indeed-apply-button-container .indeed-apply-button-placeholder,body.janus #vjs-container>#vjs-header>#apply-button-container a.view-apply-button.button-blue,body.janus #indeed_apply .state-picker-button.blue-button,body.janus #apply-button-container .state-picker-button.blue-button,body.janus div#apply-state-picker-container .state-picker-button.blue-button,body.janus span#state-picker-container .state-picker-button.blue-button,body.janus span#state-picker-container .state-picker-button.dd-target,body.janus span#state-picker-container .state-picker-button.dd-target,body.janus #bvjl a.view_job_link,body.janus .job-footer-button-row a.view_job_link,body.janus #job-content .auxColPad .inwrapBorder .inwrapBorderTop button.input_submit,body.janus #job-content .auxColPad .rezcta_button .inwrapBorder .inwrapBorderTop a.input_submit,body.janus #valuePropFooter .vpfooter-content .vpfooter-btn-section [dir] .icl-Button.cta_button.grey,body.janus #job-content .auxColPad .inwrapBorder .inwrapBorderTop .input_submit,body.janus #bvjl .view_job_link,body.janus .job-footer-button-row .view_job_link,.icl-Button--primary{border-radius:6.25rem !important}body.janus #indeed_apply .indeed-apply-button-container a.indeed-apply-button span.indeed-apply-button-inner,body.janus #apply-button-container .indeed-apply-button-container a.indeed-apply-button span.indeed-apply-button-inner,body.janus #apply-state-picker-container .indeed-apply-button-container a.indeed-apply-button span.indeed-apply-button-inner,body.janus #indeed_apply .indeed-apply-button-container button.indeed-apply-button-placeholder span.indeed-apply-button-inner,body.janus #apply-button-container .indeed-apply-button-container button.indeed-apply-button-placeholder span.indeed-apply-button-inner,body.janus #apply-state-picker-container .indeed-apply-button-container button.indeed-apply-button-placeholder span.indeed-apply-button-inner,body.janus #indeed_apply .state-picker-button.blue-button,body.janus #apply-button-container .state-picker-button.blue-button,body.janus #apply-state-picker-container .state-picker-button.blue-button,body.janus .job-footer-button-row a.view_job_link,body.janus span#state-picker-container .state-picker-button.dd-target{font-size:18px !important}.icl-u-lg-inlineBlock .icl-Button,.icl-u-lg-inlineBlock .icl-Button--primary,.icl-u-lg-inlineBlock .icl-Button--secondary,.icl-u-lg-inlineBlock .icl-Button--special{font-size:18px !important}body.janus #vjs-container .apply-state-picker-container a.view_job_link.view-apply-button.blue-button,body.janus div#apply-state-picker-container .apply-state-picker-container a.view_job_link.view-apply-button.blue-button{font-size:18px !important}body.janus #vjs-container .indeed-apply-button-container a.indeed-apply-button,body.janus #vjs-container .indeed-apply-button-container button.indeed-apply-button-placeholder,body.janus div#apply-state-picker-container .indeed-apply-button-container a.indeed-apply-button,body.janus div#apply-state-picker-container .indeed-apply-button-container button.indeed-apply-button-placeholder{background-color:#ff5a1f !important;border-color:#ff5a1f !important;color:#fff !important}body.janus #vjs-container .indeed-apply-button-container a.indeed-apply-button:active,body.janus #vjs-container .indeed-apply-button-container a.indeed-apply-button:focus,body.janus #vjs-container .indeed-apply-button-container a.indeed-apply-button:hover,body.janus #vjs-container .indeed-apply-button-container button.indeed-apply-button-placeholder:active,body.janus #vjs-container .indeed-apply-button-container button.indeed-apply-button-placeholder:focus,body.janus #vjs-container .indeed-apply-button-container button.indeed-apply-button-placeholder:hover,body.janus div#apply-state-picker-container .indeed-apply-button-container a.indeed-apply-button:active,body.janus div#apply-state-picker-container .indeed-apply-button-container a.indeed-apply-button:focus,body.janus div#apply-state-picker-container .indeed-apply-button-container a.indeed-apply-button:hover,body.janus div#apply-state-picker-container .indeed-apply-button-container button.indeed-apply-button-placeholder:active,body.janus div#apply-state-picker-container .indeed-apply-button-container button.indeed-apply-button-placeholder:focus,body.janus div#apply-state-picker-container .indeed-apply-button-container button.indeed-apply-button-placeholder:hover{background-color:#ff6c40 !important;border-color:#ff6c40 !important}body.janus #vjs-container .indeed-apply-button-container ~ #state-picker-container .state-picker-button.blue-button,body.janus #vjs-container .indeed-apply-button-container ~ #state-picker-container .state-picker-button.dd-target,body.janus div#apply-state-picker-container .indeed-apply-button-container ~ #state-picker-container .state-picker-button.blue-button,body.janus div#apply-state-picker-container .indeed-apply-button-container ~ #state-picker-container .state-picker-button.dd-target{font-size:18px !important}#jobsearchform .sg-form-control{border-radius:8px !important}body.janus #job-content #bviewmorerecs .nji.recDecoration,body.janus #job-content #bviewmorerecs span.nji.recDecoration,body.janus .viewJobRec .iaP .iaLabel,body.janus .viewJobRec .iaP span.iaLabel{background-color:transparent !important;color:#e03400 !important}\n",
       "</style>\n",
       "</head>\n",
       "<body>\n",
       "<script src=\"/m/s/8eaa1fa/en_US.min.js\" type=\"text/javascript\"></script><script>!function(n){function r(n){for(var r=a,t=n.length;t;)r=33*r^n.charCodeAt(--t);return r>>>0}var t=this['indeed.i18n.localeData'],e=t['']||{},a=e.salt;if(e.hasOwnProperty('salt'))for(var i in n)t[function(n){var t=r(n);return e.hasOwnProperty('id_length')&&(t=String(t).substring(0,e.id_length)),t}(i)]=n[i];else for(var i in n)t[i]=[null].concat(n[i])}({\"Title for a tab in mobile view job\\u0004Insights\":[\"Snapshot\"],\"Title for a tab in mobile view job\\u0004Job Description\":[\"Job\"],\"Title for a tab in mobile view job\\u0004Company\":[\"Culture\"]});</script><script>(function(_){_.__JS_ERROR__=[];_.onerror=function(){_.__JS_ERROR__.push(Array.prototype.slice.call(arguments))}})(window);(function(e){const n={homepage:\"mobtk\",viewjob:\"mobvjtk\",viewjobJapan:\"mobvjtk\",serp:\"mobtk\"};const o={homepage:\"hp\",viewjob:\"vj\",viewjobJapan:\"vjjp\",serp:\"srch\"};const t=function(e){return n[e]};const i=function(e){return o[e]};const r=function(e,n){return'\"eventName\":\"mobPageLoadInfo\",'+'\"type\":\"mobPageLoadInfo\",'+'\"pageId\":\"'+e+'\",\"'+t(e)+'\":\"'+n+'\",\"pageName\":\"'+i(e)+'\"'};const a=function(){return e.screen.orientation.type.indexOf(\"portrait\")>-1?\"portrait\":\"landscape\"};const c=function(){const n=e.devicePixelRatio||1;var o='\"pixelRatio\":'+n+\",\"+'\"scrWidth\":'+Math.floor(e.screen.width*n)+\",\"+'\"scrHeight\":'+Math.floor(e.screen.height*n);if(e.screen.orientation){o+=',\"scrOrientation\":\"'+a()+'\"'}return o};const s=function(e){return encodeURIComponent(e).replace(/%20/g,\"+\")};e.logPageLoadInfo=function(n,o,a){if(!Image){return}const p=i(n);const d=t(n);if(!p||!d){return}var f=r(n,o);if(a&&e.screen){f+=\",\"+c()}const g=\"/m/rpc/frontendlogging?logType=trackEvent&moduleName=event&application=indeedmobile\"+\"&pageId=\"+n+\"&data=\"+s(\"{\"+f+\"}\");const m=new Image;m.src=g;m.height=m.width=0;document.body.appendChild(m)}})(window);window.logPageLoadInfo(\"viewjob\",\"1cmgpqk9741godoc\",  false );(function(t){function e(e){var n=e.target;while(n&&n!==t.documentElement){if(n.tagName===\"A\"){var r=n.getAttribute(\"data-href\");if(r!==null){n.setAttribute(\"href\",r);n.removeAttribute(\"data-href\")}return}n=n.parentNode}}if(t.addEventListener){\"ontouchstart\"in t?t.addEventListener(\"touchstart\",e):t.addEventListener(\"mousedown\",e)}})(document);window._initialData={\"accountKey\":null,\"base64EncodedJson\":\"eyJhIjp0cnVlLCJiIjp0cnVlLCJjIjp0cnVlLCJkIjpmYWxzZSwiZSI6dHJ1ZSwiZyI6Imh0dHA6Ly93d3cuaW5kZWVkLmNvbS9tL2Jhc2VjYW1wL3ZpZXdqb2I_ams9YTBmNWYwY2ZiZTU5YTVkNCZmcm9tPXNlcnAmdmpzPTMiLCJoIjoiRGF0YSBTY2llbnRpc3QsIFByZW1pdW0gQ29udGVudCIsImkiOiJOZXcgWW9yaywgTlkgMTAwMTEiLCJqIjoib3JnYW5pYyJ9\",\"baseInboxUrl\":\"https:\\u002F\\u002Finbox.indeed.com\",\"baseUrl\":\"https:\\u002F\\u002Fwww.indeed.com\",\"companyFollowForm\":{\"addAlertUrl\":\"\\u002Falert?a=add&alert_params=followCompany%3D7e5b5315bb60d926&q=company%3A%27Spotify%27&alert_period=weekly&output=json&verified=0&tk=1cmgpqk9741godoc&hct=004bd6fc1e84bb7d0ebae8535cacac0c\",\"cancelText\":\"You can cancel anytime.\",\"checkAlertUrl\":\"\\u002Frpc\\u002Fjobalert?a=check&app=acme&q=company%3A%27Spotify%27&followCompany=7e5b5315bb60d926\",\"confirmationHeader\":\"Please check your email\",\"confirmationSubHeader\":\"we have sent a confirmation message\",\"confirmationText\":\"Click on the link in this email to start receiving your Company Alert.\",\"createAlertUrl\":\"\\u002Fmy\\u002Falerts?a=create&alert_params=followCompany%3D7e5b5315bb60d926&alert_keywords=company%3A%27Spotify%27&alert_period=weekly&output=json&followCompany=7e5b5315bb60d926&hct=004bd6fc1e84bb7d0ebae8535cacac0c\",\"cta\":\"Get job updates from Spotify\",\"duplicateEmailMessage\":\"You are already following this company.\",\"followButton\":{\"block\":false,\"buttonSize\":\"sm\",\"buttonType\":\"tertiary\",\"contentHtml\":\"Follow\",\"dataHref\":null,\"href\":\"\\u002F\",\"icon\":null,\"largeScreenSizeText\":null,\"openInNewTab\":false,\"rel\":null,\"sanitizedHref\":null,\"sanitizedHtml\":null,\"sticky\":false,\"target\":null,\"title\":null},\"followingText\":\"Following\",\"input\":{\"errorText\":\"This field is required\",\"helpText\":null,\"id\":null,\"isDisabled\":false,\"isSmall\":false,\"label\":\"My Email:\",\"name\":\"email\",\"type\":\"text\",\"value\":null},\"invalidEmailMessage\":\"Please provide a valid email address.\",\"saveButton\":{\"block\":false,\"buttonSize\":\"sm\",\"buttonType\":\"secondary\",\"contentHtml\":\"Save\",\"dataHref\":null,\"href\":null,\"icon\":null,\"largeScreenSizeText\":null,\"openInNewTab\":false,\"rel\":null,\"sanitizedHref\":null,\"sanitizedHtml\":null,\"sticky\":false,\"target\":null,\"title\":null}},\"country\":\"US\",\"ctk\":\"1cmgpqk6o514gabt\",\"desktop\":true,\"externalJSUrl\":null,\"itaId\":null,\"itaShownTk\":null,\"jobKey\":\"a0f5f0cfbe59a5d4\",\"jobSeenData\":\"tk=1cmgpqk9741godoc&context=viewjobrecs\",\"language\":\"en\",\"locale\":\"en_US\",\"mobileGlobalHeader\":{\"href\":\"\\u002F?from=homeButton\",\"label\":\"Home\"},\"mobtk\":\"1cmgpqk9741godoc\",\"notifications\":{\"inboxLinkEnabled\":false,\"messagesLabel\":\"Messages\",\"newMessagesCountPlurals\":[\"{0} new\",\"{0} new\"],\"notificationCenterEnabled\":false,\"updatingText\":\"checking...\"},\"originalJobLinkModel\":{\"cookieName\":\"RCLK\",\"cookiePath\":\"\\u002F\",\"cookieValue\":\"jk=a0f5f0cfbe59a5d4&vjtk=1cmgpqk9741godoc&ts=1536014766375&rd=&qd=\"},\"pageId\":\"viewjob\",\"phoneLinkType\":null,\"recommendedJobs\":[{\"click\":\"jk=175eba1f11c6b2a1&vjtk=1cmgpqk9741godoc&ts=1536014766452&onclick=1&vjk=a0f5f0cfbe59a5d4&rd=An9evWMkQfR9UKlYSgF4XYsXS7Bu06IE6kXdxitLOgI\",\"clickCookieName\":\"RCLK\",\"jobKey\":\"175eba1f11c6b2a1\",\"url\":\"\\u002Frc\\u002Fclk?jk=175eba1f11c6b2a1&from=recjobs&vjtk=1cmgpqk9741godoc\"},{\"click\":\"jk=b26e00f2fab616f0&vjtk=1cmgpqk9741godoc&ts=1536014766452&onclick=1&vjk=a0f5f0cfbe59a5d4&rd=An9evWMkQfR9UKlYSgF4XYsXS7Bu06IE6kXdxitLOgI\",\"clickCookieName\":\"RCLK\",\"jobKey\":\"b26e00f2fab616f0\",\"url\":\"\\u002Frc\\u002Fclk?jk=b26e00f2fab616f0&from=recjobs&vjtk=1cmgpqk9741godoc\"},{\"click\":\"jk=b0ff34b235c1d0bb&vjtk=1cmgpqk9741godoc&ts=1536014766452&onclick=1&vjk=a0f5f0cfbe59a5d4&rd=An9evWMkQfR9UKlYSgF4XYsXS7Bu06IE6kXdxitLOgI\",\"clickCookieName\":\"RCLK\",\"jobKey\":\"b0ff34b235c1d0bb\",\"url\":\"\\u002Frc\\u002Fclk?jk=b0ff34b235c1d0bb&from=recjobs&vjtk=1cmgpqk9741godoc\"},{\"click\":\"jk=b6edb4bfeafb3c1e&vjtk=1cmgpqk9741godoc&ts=1536014766452&onclick=1&vjk=a0f5f0cfbe59a5d4&rd=An9evWMkQfR9UKlYSgF4XYsXS7Bu06IE6kXdxitLOgI\",\"clickCookieName\":\"RCLK\",\"jobKey\":\"b6edb4bfeafb3c1e\",\"url\":\"\\u002Frc\\u002Fclk?jk=b6edb4bfeafb3c1e&from=recjobs&vjtk=1cmgpqk9741godoc\"},{\"click\":\"jk=171566291d439083&vjtk=1cmgpqk9741godoc&ts=1536014766452&onclick=1&vjk=a0f5f0cfbe59a5d4&rd=An9evWMkQfR9UKlYSgF4XYsXS7Bu06IE6kXdxitLOgI\",\"clickCookieName\":\"RCLK\",\"jobKey\":\"171566291d439083\",\"url\":\"\\u002Frc\\u002Fclk?jk=171566291d439083&from=recjobs&vjtk=1cmgpqk9741godoc\"}],\"recommendedJobsLink\":{\"from\":\"basecampviewjob\",\"icon\":null,\"listItem\":{\"dataHref\":null,\"emphasis\":true,\"iconType\":null,\"id\":\"recommended_jobs_link\",\"itemIcon\":null,\"itemIconClass\":null,\"link\":\"\\u002Frecommendedjobs?from=mobviewjob&mobtk=1cmgpqk9741godoc\",\"primaryText\":\"See more recommended jobs\",\"secondaryText\":null,\"subText\":null},\"loggingParameters\":{\"a\":\"showrec\",\"tk\":\"1cmgpqk9741godoc\"},\"preccountUrl\":\"\\u002Frpc\\u002Fpreccount?ctk=1cmgpqk6o514gabt&fmt=json&recjobcountry=US&hl=en&rq=&ak=&from=basecampviewjob\"},\"relatedLinks\":[{\"href\":\"\\u002Fjobs?q=Data+Scientist&l=New+York%2C+NY\",\"linkText\":\"Data Scientist jobs in New York, NY\"},{\"href\":\"\\u002Fjobs?q=Spotify&l=New+York%2C+NY\",\"linkText\":\"Jobs at Spotify in New York, NY\"},{\"href\":\"\\u002Fsalary?q1=Data+Scientist&l1=New+York%2C+NY\",\"linkText\":\"Data Scientist salaries in New York, NY\"}],\"saveJobButtonContainerModel\":{\"alreadySavedButtonModel\":{\"actions\":[\"Saved\",\"Applied\",\"Interviewing\",\"Offered\",\"Hired\"],\"buttonSize\":\"block\",\"buttonType\":\"secondary\",\"contentHtml\":\"Saved\",\"href\":\"\\u002F\",\"iconSize\":null},\"applyFromComputerButtonModel\":null,\"applyFromComputerLogUrl\":\"\\u002Fm\\u002Frpc\\u002Flog\\u002Femailmyself?jk=a0f5f0cfbe59a5d4&mobvjtk=1cmgpqk9741godoc&sbt=004bd6fc1e84bb7d0ebae8535cacac0c&ctk=1cmgpqk6o514gabt&acctKey=\",\"currentJobState\":\"VISITED\",\"didYouApplyPromptModel\":{\"calloutModel\":{\"actionsMap\":{\"NO\":{\"children\":\"Not interested\",\"className\":null,\"href\":null,\"target\":null},\"LATER\":{\"children\":\"Maybe later\",\"className\":null,\"href\":null,\"target\":null},\"YES\":{\"children\":\"Yes\",\"className\":null,\"href\":null,\"target\":null}},\"caretPosition\":null,\"children\":null,\"dismissAriaLabel\":\"Close\",\"dismissAttributes\":null,\"dismissHref\":null,\"heading\":\"Did you apply?\"},\"jobKey\":\"a0f5f0cfbe59a5d4\",\"possibleResponses\":{\"NO\":\"NO\",\"LATER\":\"LATER\",\"YES\":\"YES\"},\"userCanView\":false},\"didYouApplyResponseUrl\":\"\\u002Fm\\u002Frpc\\u002Fdidyouapply?tk=1cmgpqk9741godoc&jobKey=a0f5f0cfbe59a5d4&originPage=viewjob&from=viewjob\",\"hashedCSRFToken\":\"004bd6fc1e84bb7d0ebae8535cacac0c\",\"isAlreadySavedButtonVisible\":false,\"isApplyFromComputerButtonEnabled\":false,\"isLoggedIn\":false,\"isSaveWithoutLoginEnabled\":false,\"myIndeedLoginLink\":\"http:\\u002F\\u002Fwww.indeed.com\\u002Faccount\\u002Fregister?dest=%2Fviewjob%3Fjk%3Da0f5f0cfbe59a5d4%26from%3Dserp%26vjs%3D3\",\"myJobsAPIHref\":\"\\u002Frpc\\u002Flog\\u002Fmyjobs\\u002Ftransition_job_state?client=mobile&cause=statepicker&preserveTimestamp=false&tk=1cmgpqk9741godoc&jobKey=a0f5f0cfbe59a5d4&originPage=viewjob\",\"myJobsURL\":\"\\u002Fmyjobs\\u002F?from=mobvj#\",\"possibleJobActions\":{\"SAVED\":\"save\",\"APPLIED\":\"apply\",\"INTERVIEWING\":\"interview\",\"OFFERED\":\"offer\",\"HIRED\":\"hire\",\"VISITED\":\"visit\",\"ARCHIVED\":\"archive\"},\"possibleJobStates\":{\"SAVED\":\"Saved\",\"APPLIED\":\"Applied\",\"INTERVIEWING\":\"Interviewing\",\"OFFERED\":\"Offered\",\"HIRED\":\"Hired\",\"VISITED\":\"Visited\",\"ARCHIVED\":\"Archived\"},\"saveButtonModel\":{\"block\":false,\"buttonSize\":\"block\",\"buttonType\":\"secondary\",\"contentHtml\":\"Save this job\",\"dataHref\":null,\"href\":\"\\u002F\",\"icon\":{\"iconTitle\":\"save-icon\",\"iconType\":\"favorite-border\"},\"largeScreenSizeText\":null,\"openInNewTab\":false,\"rel\":null,\"sanitizedHref\":null,\"sanitizedHtml\":null,\"sticky\":false,\"target\":null,\"title\":null},\"showSaveJobInlineCallout\":true,\"uistates\":{\"INTERVIEWING\":\"INTERVIEWING\",\"OFFERED\":\"OFFERED\",\"SAVED\":\"SAVED\",\"VISITED\":\"VISITED\",\"HIRED\":\"HIRED\",\"ARCHIVED\":\"ARCHIVED\",\"APPLIED\":\"APPLIED\"}},\"saveJobCalloutModel\":{\"actionsMap\":{\"createaccount\":{\"children\":\"Create account (it's free)\",\"className\":null,\"href\":\"http:\\u002F\\u002Fwww.indeed.com\\u002Faccount\\u002Fregister?dest=%2Fviewjob%3Fjk%3Da0f5f0cfbe59a5d4%26from%3Dserp%26vjs%3D3\",\"target\":null},\"signin\":{\"children\":\"Sign in\",\"className\":null,\"href\":\"http:\\u002F\\u002Fwww.indeed.com\\u002Faccount\\u002Flogin?dest=%2Fviewjob%3Fjk%3Da0f5f0cfbe59a5d4%26from%3Dserp%26vjs%3D3\",\"target\":null}},\"caretPosition\":null,\"children\":\"You must sign in to save jobs:\",\"dismissAriaLabel\":\"Close\",\"dismissAttributes\":null,\"dismissHref\":null,\"heading\":\"Save jobs and view them from any computer.\"},\"sentryViewModel\":{\"dnsAddress\":\"https:\\u002F\\u002F736e443433c3403396572cc0526bba2d@sentrylabs.indeed.com\\u002F87\",\"isEnabled\":false,\"pageId\":\"viewjob\",\"releaseVersion\":\"ca836431fec96de15f3c6b6778f8a3cfb2c5bdd1\",\"scriptAddress\":\"https:\\u002F\\u002Fcdn.ravenjs.com\\u002F3.14.2\\u002Fraven.min.js\",\"tk\":\"1cmgpqk9741godoc\"},\"viewJobButtonLinkContainerModel\":{\"clickCookieName\":\"RCLK\",\"clickCookieValue\":\"jk=a0f5f0cfbe59a5d4&vjtk=1cmgpqk9741godoc&ts=1536014766375&rd=&qd=\",\"jobKey\":\"a0f5f0cfbe59a5d4\",\"shouldSetClickTrackingCookie\":true,\"viewJobButtonLinkModel\":{\"block\":true,\"buttonSize\":\"block\",\"buttonType\":\"primary\",\"contentHtml\":\"Apply Now\",\"dataHref\":null,\"href\":\"https:\\u002F\\u002Fwww.indeed.com\\u002Frc\\u002Fclk?jk=a0f5f0cfbe59a5d4&from=vj&pos=bottom\",\"icon\":null,\"largeScreenSizeText\":\"Apply On Company Site\",\"openInNewTab\":true,\"rel\":\"noopener noreferrer\",\"sanitizedHref\":null,\"sanitizedHtml\":null,\"sticky\":false,\"target\":\"_blank\",\"title\":null}}};</script><div class=\"jobsearch-ViewJobLayout jobsearch-ViewJobLayout-changeTextSize jobsearch-ViewJobLayout-changeTextColor\"><div class=\"jobsearch-Header icl-u-lg-block icl-u-xs-hide\" id=\"desktopGlobalHeader\"><nav aria-label=\"Main Menu\" class=\"icl-DesktopGlobalHeader\" role=\"navigation\"><ul class=\"icl-DesktopGlobalHeader-items\"><li class=\"icl-DesktopGlobalHeader-item icl-DesktopGlobalHeader-item--active\"><a class=\"icl-DesktopGlobalHeader-link\" href=\"/\">Find Jobs</a></li><li class=\"icl-DesktopGlobalHeader-item\"><a class=\"icl-DesktopGlobalHeader-link\" data-href=\"/companies?from=headercmplink&amp;attributionid=homepage\" href=\"/companies\">Company Reviews</a></li><li class=\"icl-DesktopGlobalHeader-item\"><a class=\"icl-DesktopGlobalHeader-link\" data-href=\"/salaries?from=headercmplink&amp;attributionid=HOMEPAGE\" href=\"/salaries\">Find Salaries</a></li><li class=\"icl-DesktopGlobalHeader-item\"><a class=\"icl-DesktopGlobalHeader-link\" data-href=\"/resumes?hl=en&amp;co=US&amp;isid=find-resumes&amp;ikw=vjtop\" href=\"/resumes?hl=en&amp;co=US\">Find Resumes</a></li><li class=\"icl-DesktopGlobalHeader-item\"><a class=\"icl-DesktopGlobalHeader-link\" data-href=\"/hire?hl=en&amp;cc=US&amp;isid=employerlink-US&amp;ikw=vjtop\" href=\"/hire?hl=en&amp;cc=US\">Employers / Post Job</a></li></ul><ul class=\"icl-DesktopGlobalHeader-items icl-DesktopGlobalHeader-items--right\"><li class=\"icl-DesktopGlobalHeader-item\"><a class=\"icl-DesktopGlobalHeader-link icl-DesktopGlobalHeader-link--promo\" data-href=\"/promo/resume?trk.origin=viewjob&amp;trk.variant=rezprmstd&amp;trk.tk=1cmgpqk9741godoc&amp;from=nav&amp;subfrom=rezprmstd\" href=\"/promo/resume\">Upload your resume</a></li><li class=\"icl-DesktopGlobalHeader-item\"><a class=\"icl-DesktopGlobalHeader-link\" href=\"http://www.indeed.com/account/login?dest=%2Fviewjob%3Fjk%3Da0f5f0cfbe59a5d4%26from%3Dserp%26vjs%3D3\" rel=\"nofollow\">Sign in</a></li></ul></nav></div><div class=\"icl-u-lg-hide\"><script id=\"_indeed_gnav_config\" type=\"application/json\">{\"isInboxTestActive\":false,\"inboxApiHref\":\"https://inbox.indeed.com/api/getConversationCount?from=gnav-jobsearch--indeedmobile-viewjob\\u0026gnavTK=1cmgpqkba583udso\\u0026tk=1cmgpqk9741godoc\\u0026co=US\\u0026hl=en\",\"inboxHref\":\"https://inbox.indeed.com/messages?from=gnav-jobsearch--indeedmobile-viewjob\\u0026gnavTK=1cmgpqkba583udso\\u0026tk=1cmgpqk9741godoc\",\"logRoute\":\"https://t.indeed.com/gnav/log?from=jobsearch--indeedmobile-viewjob\\u0026parentLogId=1cmgpqkba583udso\\u0026hostAppTk=1cmgpqk9741godoc\",\"inboxLogType\":\"gnavInbox\",\"inboxLth\":\"12140b7982d032f1660f59e3e976c72d\",\"jsErrorLogType\":\"gnavJSError\",\"jsErrorLth\":\"6411ec182c6acd8714dc2d03716eed1d\",\"cdnLoadedLogType\":\"gnavCdnLoaded\",\"cdnLoadedLth\":\"bed7b0a1911ab97c9d758639651a354e\",\"jsEnabledLogType\":\"gnavJSEnabled\",\"jsEnabledLth\":\"5e9311c1001227ca5c6c32db123fb854\",\"jsPath\":\"https://d3fw5vlhllyvee.cloudfront.net/dist/c35a2e12753d236d4877/scripts/external.js\",\"homeButtonText\":\"Home\",\"logoURL\":\"/?from=homeButton\",\"isShowInboxIcon\":false}</script><style>.gnav .icl-Logo{box-sizing:border-box!important;display:inline-block!important}[dir] .gnav .icl-Logo{background-repeat:no-repeat!important}.gnav .icl-Logo--wordmark--lg{width:160px!important;height:40px!important}.gnav .icl-Logo--wordmark--md{width:120px!important;height:30px!important}.gnav .icl-Logo--wordmark--sm{width:80px!important;height:20px!important}[dir] .gnav .icl-Logo--wordmark{background-image:url(\"data:image/svg+xml;charset=utf8,%3Csvg xmlns='http://www.w3.org/2000/svg' xmlns:xlink='http://www.w3.org/1999/xlink' viewBox='0 0 320 80'%3E%3Cpath d='M287.31 13.4a5.24 5.24 0 0 0-4.22-1.76 5 5 0 0 0-4.22 1.92 9 9 0 0 0-1.49 5.59V37a24.49 24.49 0 0 0-7-5.52 16.88 16.88 0 0 0-5.2-1.56 25.92 25.92 0 0 0-3.6-.24A18.43 18.43 0 0 0 247.06 36c-3.67 4.23-5.51 10.09-5.51 17.65A33.74 33.74 0 0 0 243 63.6a24 24 0 0 0 4.06 8 19.15 19.15 0 0 0 6.41 5.24 17.87 17.87 0 0 0 8 1.84 19.14 19.14 0 0 0 3.75-.35 14.73 14.73 0 0 0 2.27-.55 19.32 19.32 0 0 0 5.12-2.66 30.13 30.13 0 0 0 4.81-4.54v1.17a7.52 7.52 0 0 0 1.6 5.13 5.66 5.66 0 0 0 8.21.08 7.48 7.48 0 0 0 1.8-5.17V18.48a7.76 7.76 0 0 0-1.72-5.08zm-12.15 49.22a11.56 11.56 0 0 1-4.18 5 10.7 10.7 0 0 1-5.78 1.64 10.45 10.45 0 0 1-5.78-1.72 11.84 11.84 0 0 1-4.18-5.16 20.67 20.67 0 0 1-1.52-8.37 20.86 20.86 0 0 1 1.45-8.14 12 12 0 0 1 4-5.4 9.68 9.68 0 0 1 5.94-1.88h.12a9.93 9.93 0 0 1 5.74 1.84 12.56 12.56 0 0 1 4.22 5.28 19.89 19.89 0 0 1 1.56 8.29 20.36 20.36 0 0 1-1.59 8.62zm-37.9.51a4.38 4.38 0 0 0-3-1 4 4 0 0 0-2.62.78c-1.52 1.41-2.74 2.54-3.67 3.36a33.69 33.69 0 0 1-3.13 2.31 12.3 12.3 0 0 1-3.44 1.57 14 14 0 0 1-3.95.51 6.6 6.6 0 0 1-.9 0 10.72 10.72 0 0 1-5-1.57 11.55 11.55 0 0 1-4.3-4.66A17.22 17.22 0 0 1 205.6 57h23.54c3.17 0 5.65-.34 7.37-1.2s2.62-2.9 2.62-5.91a20.41 20.41 0 0 0-2.54-9.66 19.64 19.64 0 0 0-7.59-7.74 23.28 23.28 0 0 0-12.12-3h-.35a27.4 27.4 0 0 0-9.53 1.75 21.07 21.07 0 0 0-7.54 5 22.48 22.48 0 0 0-4.61 7.86 30.26 30.26 0 0 0-1.6 9.94c0 7.59 2.15 13.54 6.45 18 4.06 4.19 9.69 6.38 16.84 6.61h1.25a27.65 27.65 0 0 0 9-1.33 22.39 22.39 0 0 0 6.48-3.32 16 16 0 0 0 3.87-4.23 7.8 7.8 0 0 0 1.29-3.8 3.58 3.58 0 0 0-1.17-2.84zm-28.14-22.4a9.58 9.58 0 0 1 7.39-3.09 9.94 9.94 0 0 1 7.58 3.05c1.91 2 3 5.25 3.32 9.4H205.6c.4-4.09 1.57-7.29 3.52-9.36zM189 63.13a4.38 4.38 0 0 0-3-1 4 4 0 0 0-2.62.78c-1.52 1.41-2.74 2.54-3.67 3.36a33.69 33.69 0 0 1-3.13 2.31 12.3 12.3 0 0 1-3.44 1.57 14 14 0 0 1-3.95.51 6.6 6.6 0 0 1-.9 0 10.72 10.72 0 0 1-5-1.57 11.55 11.55 0 0 1-4.3-4.66 17.22 17.22 0 0 1-1.64-7.43h23.54c3.17 0 5.65-.34 7.37-1.2s2.62-2.9 2.62-5.91a20.41 20.41 0 0 0-2.54-9.66 19.64 19.64 0 0 0-7.58-7.71 23.28 23.28 0 0 0-12.12-3h-.35a27.4 27.4 0 0 0-9.54 1.72 21.07 21.07 0 0 0-7.54 5 22.48 22.48 0 0 0-4.61 7.86 30.26 30.26 0 0 0-1.6 9.94c0 7.59 2.15 13.54 6.45 18 4.06 4.19 9.69 6.38 16.84 6.61h1.25a27.65 27.65 0 0 0 9-1.33A22.39 22.39 0 0 0 185 74a16 16 0 0 0 3.87-4.23 7.8 7.8 0 0 0 1.29-3.8 3.58 3.58 0 0 0-1.16-2.84zm-28.14-22.4a9.58 9.58 0 0 1 7.39-3.09 9.94 9.94 0 0 1 7.58 3.05c1.91 2 3 5.25 3.32 9.4h-21.8c.39-4.09 1.56-7.29 3.52-9.36zm-21.65-27.17A5.26 5.26 0 0 0 135 11.8a5 5 0 0 0-4.22 1.92c-1.31 1.52-1.65 3.24-1.65 5.7V37.2a23.57 23.57 0 0 0-6.62-5.57 17.21 17.21 0 0 0-5.2-1.56 25.92 25.92 0 0 0-3.6-.24 18.38 18.38 0 0 0-14.54 6.34c-3.63 4.23-5.47 10.1-5.47 17.65a35.11 35.11 0 0 0 1.37 9.94 24.13 24.13 0 0 0 4.1 8 19.15 19.15 0 0 0 6.41 5.24 17.87 17.87 0 0 0 8 1.84 19.72 19.72 0 0 0 3.75-.35 14.67 14.67 0 0 0 2.27-.55 19.32 19.32 0 0 0 5.12-2.66 31.93 31.93 0 0 0 4.81-4.54v1.17a7.52 7.52 0 0 0 1.6 5.13 5.62 5.62 0 0 0 8.17.08 7.53 7.53 0 0 0 1.56-5.2V18.68a7.87 7.87 0 0 0-1.65-5.12zm-11.9 49.22a11.37 11.37 0 0 1-4.22 5 10.57 10.57 0 0 1-5.74 1.64 10.44 10.44 0 0 1-5.78-1.72 11.58 11.58 0 0 1-4.18-5.16 20.68 20.68 0 0 1-1.52-8.37 21.64 21.64 0 0 1 1.41-8.14 12.08 12.08 0 0 1 4.06-5.4 9.57 9.57 0 0 1 5.9-1.88h.16a9.72 9.72 0 0 1 5.6 1.88 12.35 12.35 0 0 1 4.26 5.28 20.52 20.52 0 0 1 1.56 8.29 21 21 0 0 1-1.51 8.58zM26 71.27v-28.8c.82.08 1.6.12 2.42.12A20.27 20.27 0 0 0 39 39.65v31.62c0 2.7-.49 4.7-1.71 6a6.16 6.16 0 0 1-4.77 2 6 6 0 0 1-4.69-2c-1.21-1.33-1.84-3.33-1.84-6zm-.12-69C34-.69 43.28-.53 50.23 5.5a11.79 11.79 0 0 1 3.36 4.5c.7 2.27-2.46-.23-2.89-.55a30.92 30.92 0 0 0-7.07-3.6C29.95 1.66 17 9.29 9 21.15A64.11 64.11 0 0 0 1.61 38a9.59 9.59 0 0 1-.7 2.11c-.35.67-.16-1.8-.16-1.88a52 52 0 0 1 1.41-7.36C5.87 17.94 14.08 7.18 25.88 2.25zm10.59 32A9.92 9.92 0 1 1 40.81 21a9.88 9.88 0 0 1-4.34 13.29zm20.87 2.53v1.5a21.48 21.48 0 0 1 6.9-6.13 18.79 18.79 0 0 1 8.65-1.94 17.35 17.35 0 0 1 8.45 2.06 13 13 0 0 1 5.55 5.82 13.56 13.56 0 0 1 1.55 4.78 48.84 48.84 0 0 1 .35 6.48v22.24A7.92 7.92 0 0 1 87.13 77a5.41 5.41 0 0 1-4.27 1.86A5.48 5.48 0 0 1 78.52 77a7.81 7.81 0 0 1-1.62-5.4V51.7c0-4-.59-7-1.68-9.09s-3.3-3.14-6.55-3.14a9.84 9.84 0 0 0-5.82 1.9A11 11 0 0 0 59 46.65c-.58 1.79-.91 5.09-.91 10v14.96c0 2.45-.52 4.23-1.65 5.47a5.68 5.68 0 0 1-4.34 1.82 5.38 5.38 0 0 1-4.29-1.9 7.82 7.82 0 0 1-1.67-5.4V37c0-2.29.5-4 1.51-5.09a5.1 5.1 0 0 1 4.07-1.71 5.41 5.41 0 0 1 2.83.74 5.29 5.29 0 0 1 2.06 2.25 8 8 0 0 1 .74 3.64z' fill='%232164f3' fill-rule='evenodd'/%3E%3C/svg%3E\")!important}.gnav .icl-Button--sm{font-family:Helvetica Neue,Helvetica,Arial,Liberation Sans,Roboto,Noto,sans-serif!important;font-size:.75rem!important;letter-spacing:0!important;font-weight:700!important;line-height:1.34!important;line-height:1.5rem!important}[dir] .gnav .icl-Button--sm{padding-top:.25rem!important;padding-bottom:.25rem!important}[dir=ltr] .gnav .icl-Button--sm,[dir=rtl] .gnav .icl-Button--sm{padding-left:1rem!important;padding-right:1rem!important}.gnav .icl-Button--secondary{box-sizing:border-box!important;display:inline-block!important;color:#085ff7!important;-webkit-font-smoothing:antialiased!important;text-overflow:ellipsis!important;text-decoration:none!important;white-space:nowrap!important;-webkit-highlight:none!important;-webkit-tap-highlight-color:transparent!important;-webkit-touch-callout:none!important;-webkit-appearance:none!important;-moz-appearance:none!important;appearance:none!important;-webkit-user-select:none!important;-moz-user-select:none!important;-ms-user-select:none!important;user-select:none!important}[dir] .gnav .icl-Button--secondary{margin:0!important;text-align:center!important;background-color:#fff!important;border:.125rem solid #085ff7!important;border-radius:6.25rem!important;background-repeat:repeat-x!important;cursor:pointer!important}[dir] .gnav .icl-Button--secondary::-moz-focus-inner{border:0!important}.gnav .icl-Button--secondary:disabled,.gnav .icl-Button--secondary:disabled:hover{color:#ccc!important}[dir] .gnav .icl-Button--secondary:disabled,[dir] .gnav .icl-Button--secondary:disabled:hover{cursor:default!important;background:#fff!important;border:.125rem solid #ececec!important}.gnav .icl-Button--secondary:visited{color:#085ff7!important}.gnav .icl-Button--secondary:active,.gnav .icl-Button--secondary:focus,.gnav .icl-Button--secondary:hover{color:#1497ff!important;text-decoration:none!important}[dir] .gnav .icl-Button--secondary:active,[dir] .gnav .icl-Button--secondary:focus,[dir] .gnav .icl-Button--secondary:hover{background-color:#fff!important;border-color:#1497ff!important}.gnav .icl-Button--secondary:focus{-webkit-box-shadow:0 0 0 2px #fff,0 0 0 4px #085ff7!important;outline:0!important}[dir] .gnav .icl-Button--secondary:focus{box-shadow:0 0 0 2px #fff,0 0 0 4px #085ff7!important}.gnav .gnav-MobileHeader{display:flex!important;flex-flow:row wrap!important;justify-content:space-between!important;align-items:stretch!important;min-height:44px!important;padding-left:1rem!important}.gnav .gnav-MobileHeader-links{display:inherit!important}.gnav .gnav-MobileHeader-item{display:flex!important;flex-direction:column!important;justify-content:center!important;text-decoration:none!important;padding-right:1rem!important}.gnav .gnav-MobileHeader-item--button{padding-left:0!important}.gnav .gnav-MobileHeader-button{line-height:1rem!important}.gnav .icl-IconFunctional{box-sizing:border-box!important;display:inline-block!important;overflow:hidden!important}[dir] .gnav .icl-IconFunctional{background-repeat:no-repeat!important;background-position:50%!important}.gnav .icl-IconFunctional--md{line-height:1.5rem!important;height:1.5rem!important;width:1.5rem!important}[dir] .gnav .icl-IconFunctional--md.icl-IconFunctional--interviews{background-image:url(\"data:image/svg+xml;charset=utf8,%3Csvg xmlns='http://www.w3.org/2000/svg' viewBox='0 0 24 22'%3E%3Cg%3E%3Cpath d='M14 4V0H0v10h3v4l3-2.25V18h7l6 4v-4h5V4zM6 9.25L5 10V8H2V2h10v2H6zM22 16h-5v2.26l-2.89-1.93-.5-.34H8V6h14z'/%3E%3Cpath d='M10 9h10v1H10zM10 12h10v1H10z'/%3E%3C/g%3E%3C/svg%3E\")!important}.gnav .gnav-MobileHeader-button{background-image:none!important}.gnav .gnav-MobileHeader{background-color:#fff!important}@media (min-width:62em){.gnav .gnav-MobileHeader{display:none!important}}.gnav .main .gnav-MobileHeader-item--icon{visibility:hidden!important;position:relative!important}.gnav .main.inboxTstOn .gnav-MobileHeader-item--icon{visibility:visible!important}.gnav .main.hasIndicator .gnav-MobileHeader-item--icon:after{background-color:#f53d4e!important;content:\"\"!important;height:9px!important;width:9px!important;border-radius:50%!important;position:absolute!important;top:24%!important;left:47%!important}\n",
       "/*# sourceMappingURL=globalnav.css.map */</style><div class=\"gnav\" id=\"gnav-main-container\"><div class=\"main\"><div class=\"gnav-MobileHeader\"><a class=\"gnav-MobileHeader-item\" href=\"/?from=homeButton\"><span alt=\"Indeed\" class=\"icl-Logo icl-Logo--wordmark icl-Logo--wordmark--sm icl-IndeedLogo\"></span></a><div class=\"gnav-MobileHeader-links\"><div class=\"gnav-MobileHeader-item gnav-MobileHeader-item--button\"><a class=\"icl-Button icl-Button--secondary icl-Button--sm gnav-MobileHeader-button\" href=\"/?from=homeButton\" role=\"link\">Home</a></div></div></div></div></div><script>!function(n){function t(r){if(e[r])return e[r].exports;var o=e[r]={i:r,l:!1,exports:{}};return n[r].call(o.exports,o,o.exports,t),o.l=!0,o.exports}var e={};t.m=n,t.c=e,t.d=function(n,e,r){t.o(n,e)||Object.defineProperty(n,e,{configurable:!1,enumerable:!0,get:r})},t.n=function(n){var e=n&&n.__esModule?function(){return n.default}:function(){return n};return t.d(e,\"a\",e),e},t.o=function(n,t){return Object.prototype.hasOwnProperty.call(n,t)},t.p=\"/static/\",t(t.s=37)}({3:function(n,t,e){\"use strict\";e.d(t,\"c\",function(){return u}),e.d(t,\"b\",function(){return i}),e.d(t,\"a\",function(){return a});var r=e(6),o=function(n,t){return{logType:n.jsErrorLogType,lth:n.jsErrorLth,toString:t.toString(),message:t.message,stack:t.stack,name:t.name}},c=function(n){return{logType:n.jsEnabledLogType,lth:n.jsEnabledLth,jsEnabled:1}},u=function(n){try{var t=document.head||document.body,e=document.createElement(\"script\");e.src=n,t.appendChild(e),t.removeChild(e)}catch(n){}},i=function(n,t){var e=Object(r.a)(o(n,t)),c=n.logRoute+e;return u(c)},a=function(n){var t=Object(r.a)(c(n)),e=n.logRoute+t;return u(e)}},37:function(n,t,e){n.exports=e(38)},38:function(n,t,e){\"use strict\";Object.defineProperty(t,\"__esModule\",{value:!0});var r=e(5),o=function(){function n(n,t){t=t||{bubbles:!1,cancelable:!1,detail:{}};var e=document.createEvent(\"CustomEvent\");return e.initCustomEvent(n,t.bubbles,t.cancelable,t.detail),e}return\"function\"==typeof window.CustomEvent?window.CustomEvent:(n.prototype=window.Event.prototype,n)}(),c=function(n){var t=new o(r.a,{detail:{event:n}});document.dispatchEvent(t)},u=e(4),i=e(3),a=function(n){var t=document.createElement(\"script\");t.src=n.jsPath,t.async=!0,(document.head||document.body).appendChild(t)},d=function(){return document.querySelector(r.d).addEventListener(\"click\",c)};!function(){var n=void 0;try{n=Object(u.a)();var t={};d(),t.GLOBALNAV_CLICK_EVENT=r.a,t.initialized=!0,window._INDEED_GNAV=t,a(n),Object(i.a)(n)}catch(t){Object(i.b)(n,t)}}()},4:function(n,t,e){\"use strict\";e.d(t,\"a\",function(){return o});var r=e(5),o=function(){try{return window[r.b]=window[r.b]||{},window[r.b].config=window[r.b].config||JSON.parse(document.querySelector(r.c).innerHTML),window[r.b].config}catch(n){return{}}}},5:function(n,t,e){\"use strict\";e.d(t,\"a\",function(){return r}),e.d(t,\"d\",function(){return o}),e.d(t,\"c\",function(){return c}),e.d(t,\"b\",function(){return u});var r=\"GLOBALNAV_CLICK_EVENT\",o=\"#gnav-main-container\",c=\"#_indeed_gnav_config\",u=\"_INDEED_GNAV\"},6:function(n,t,e){\"use strict\";e.d(t,\"a\",function(){return r});var r=function(n){var t=\"\";for(var e in n){var r=String(n[e]);t+=r?\"&\"+e+\"=\"+encodeURIComponent(r):\"\"}return t}}});\n",
       "//# sourceMappingURL=inline.js.map</script></div><div class=\"icl-Container--fluid icl-u-xs-p--sm\"><div class=\"icl-Grid jobsearch-ViewJobLayout-content\"><div class=\"icl-Grid-col icl-u-lg-span2 icl-u-lg-mt--sm\"><div class=\"icl-u-xs-hide icl-u-lg-block\"><a href=\"/\"><div class=\"icl-Grid-col icl-u-lg-block icl-u-xs-hide icl-u-lg-mt--sm\"><span alt=\"Indeed\" class=\"icl-Logo icl-Logo--wordmark icl-Logo--wordmark--lg icl-IndeedLogo\"></span></div></a></div></div><div class=\"icl-Grid-col icl-u-xs-span12 icl-u-lg-span10\"><div class=\"icl-u-xs-hide icl-u-lg-block\"><form action=\"/jobs\" class=\"icl-WhatWhere icl-WhatWhere--sm\" method=\"get\"></form><div class=\"icl-WhatWhere-input--what\"><div class=\"icl-TextInput\"><div class=\"icl-TextInput-labelWrapper\" id=\"label-q\"><label class=\"icl-TextInput-label icl-TextInput-label--whatWhere\" for=\"text-input-what\" id=\"text-input-what-label\">what</label><label class=\"icl-TextInput-helpText icl-TextInput-helpText--whatWhere\" for=\"text-input-what\">job title, keywords, or company</label></div><input autocomplete=\"off\" class=\"icl-TextInput-control icl-TextInput-control--sm icl-TextInput-control--whatWhere\" id=\"text-input-what\" name=\"q\" type=\"text\" value=\"\"/></div></div><div class=\"icl-WhatWhere-input--where\"><div class=\"icl-TextInput\"><div class=\"icl-TextInput-labelWrapper\" id=\"label-l\"><label class=\"icl-TextInput-label icl-TextInput-label--whatWhere\" for=\"text-input-where\" id=\"text-input-where-label\">where</label><label class=\"icl-TextInput-helpText icl-TextInput-helpText--whatWhere\" for=\"text-input-where\">city, state, or zip code</label></div><input autocomplete=\"off\" class=\"icl-TextInput-control icl-TextInput-control--sm icl-TextInput-control--whatWhere\" id=\"text-input-where\" name=\"l\" type=\"text\" value=\"Jersey City, NJ\"/></div></div><div class=\"icl-WhatWhere-buttonWrapper\"><button class=\"icl-Button icl-Button--sm icl-Button--whatWhere icl-WhatWhere-button\" type=\"submit\">Find Jobs</button></div><div class=\"icl-WhatWhere-advSearchWrapper\"><a class=\"icl-WhatWhere-advSearchLink\" href=\"/advanced_search\">Advanced Job Search</a></div></div></div></div></div></div></body></html><div class=\"jobsearch-ViewJobLayout-rowSpacingLine icl-u-lg-block icl-u-xs-hide\"></div><div class=\"icl-Grid jobsearch-ViewJobLayout-content icl-u-lg-mt--md\"><div class=\"jobsearch-ViewJobLayout-innerContent icl-Grid-col icl-u-xs-span12 icl-u-lg-offset2 icl-u-lg-span10\"><div class=\"icl-Grid\"><div class=\"jobsearch-ViewJobLayout-jobDisplay icl-Grid-col icl-u-xs-span12 icl-u-lg-span7\"><div class=\"jobsearch-JobComponent icl-u-xs-mt--sm\"><div><h3 class=\"icl-u-xs-mb--xs icl-u-xs-mt--none jobsearch-JobInfoHeader-title\">Data Scientist, Premium Content</h3><div class=\"icl-u-xs-mt--xs icl-u-textColor--secondary jobsearch-JobInfoHeader-subtitle icl-u-xs-mb--md\"><div class=\"jobsearch-InlineCompanyRating icl-u-xs-mt--xs icl-u-xs-mb--md\"><div class=\"icl-u-lg-mr--sm icl-u-xs-mr--xs\">Spotify</div><div class=\"icl-u-lg-block icl-u-xs-hide icl-u-lg-mr--sm\"><div class=\"icl-Ratings icl-Ratings--gold icl-Ratings--sm\" itemscope=\"\" itemtype=\"http://schema.org/AggregateRating\"><meta content=\"4.400000095367432\" itemprop=\"ratingValue\"><meta content=\"34\" itemprop=\"ratingCount\"><a aria-label=\"4.4 out of 5\" class=\"icl-Ratings-starsCountWrapper icl-Ratings-link\" href=\"https://www.indeed.com/cmp/Spotify/reviews?campaignid=mobvjcmp&amp;cmpratingc=mobviewjob&amp;from=viewjob&amp;tk=1cmgpqk9741godoc&amp;fromjk=a0f5f0cfbe59a5d4&amp;jt=Data+Scientist%2C+Premium+Content\"><div class=\"icl-Ratings-starsWrapper\"><div class=\"icl-Ratings-starsUnfilled\"><div class=\"icl-Ratings-starsFilled\" style=\"width: 53.40000057220459px;\"></div></div></div><div aria-hidden=\"true\" class=\"icl-Ratings-count\">34 reviews</div></a></meta></meta></div></div><div class=\"icl-u-lg-mr--sm icl-u-xs-mr--xs\">-</div><div>New York, NY 10011</div></div></div></div><div class=\"jobsearch-CompanyReview icl-u-lg-hide\"><a class=\"icl-NavigableContainer-linkWrapper\" href=\"https://www.indeed.com/cmp/Spotify/reviews?campaignid=mobvjcmp&amp;cmpratingc=mobviewjob&amp;from=mobviewjob&amp;tk=1cmgpqk9741godoc&amp;fromjk=a0f5f0cfbe59a5d4&amp;jt=Data+Scientist%2C+Premium+Content\"><div class=\"icl-NavigableContainer icl-NavigableContainer--hasBorderBottom icl-NavigableContainer--hasBorderTop\"><div class=\"icl-NavigableContainer-innerContainer\"><h4 class=\"jobsearch-CompanyReview--heading\">Spotify</h4><div class=\"icl-Ratings icl-Ratings--gold icl-Ratings--md\" itemscope=\"\" itemtype=\"http://schema.org/AggregateRating\"><meta content=\"4.400000095367432\" itemprop=\"ratingValue\"><meta content=\"34\" itemprop=\"ratingCount\"><div aria-label=\"4.4 out of 5\" class=\"icl-Ratings-starsCountWrapper\" tabindex=\"0\"><div class=\"icl-Ratings-starsWrapper\"><div class=\"icl-Ratings-starsUnfilled\"><div class=\"icl-Ratings-starsFilled\" style=\"width: 79.80000114440918px;\"></div></div></div><div aria-hidden=\"true\" class=\"icl-Ratings-count\">34 reviews</div></div><div aria-hidden=\"true\" class=\"icl-Ratings-description\">Read what people are saying about working here.</div></meta></meta></div><div class=\"icl-NavigableContainer-iconContainer\"><div class=\"icl-NavigableContainer-icon icl-NavigableContainer-icon--isRightArrow\"><svg class=\"icl-Icon icl-Icon--sm icl-Icon--left icl-Icon--black chevron-right\" role=\"img\"><g><path d=\"M7.5,4.5L6.44,5.56,9.88,9,6.44,12.44,7.5,13.5,12,9Z\"></path></g></svg></div></div></div></div></a></div><div class=\"jobsearch-JobComponent-description icl-u-xs-mt--md\"><div><div>As Spotify Premium swells to over 80M subscribers around the globe, we are looking for new ways to continue to grow our subscription business through leveraging our unique relationships with artists and labels. You would be joining Spotify on the Premium Analytics team, a core business strategy and insights team, as the first data scientist devoted to content strategy. In this unique position, your work would be essential in shaping how Spotify is able to grow through through innovative content initiatives, new product offerings and artist marketing efforts. You will see first hand how your work translates into new strategies, products and consumer experiences as we enter a new phase in Spotify Premium’s life.You will work with a global team of world-class analysts, data scientists, business managers, marketers and engineers. We are all passionate about what we do, and move forward with high impact projects at a high pace. Learning and improving is part of our daily routine, and you will be free to develop your own skills and ways of working. At your fingertips you’ll have access to petabytes of data, and will get the opportunity to be creative with how you drive insights and strategies from that. Above all, your work will impact the way the world experiences music.<br/>\n",
       "<b>What you’ll do</b><br/>\n",
       "<br/>\n",
       "• Develop data driven strategies to drive the growth of Spotify subscribers through innovative content initiatives, new product offerings and artist marketing efforts. • Create and communicate actionable recommendations that improve our in-app targeting, user messaging, and channel optimization. • Build statistical models and analysis that explain user acquisition and engagement for marketing and product developments.<br/>\n",
       "<br/>\n",
       "<ul><li>Work closely with business stakeholders to understand the change they are driving and help them discover new opportunities for growth.</li></ul>\n",
       "<br/>\n",
       "<ul><li>Scope and design comprehensive tests, making sure that we’re learning at every step along the way.</li></ul></div>\n",
       "<div><b>\n",
       "Who are you</b><br/>\n",
       "<br/>\n",
       "<ul><li>You are intellectually curious, creative, and diligent…you enjoy thinking about business and product strategy as much as data.</li></ul>\n",
       "<br/>\n",
       "<ul><li>Have professional experience with data science techniques such as advanced regression analysis, segmentation, user churn and LTV modeling, testing &amp; experimentation, and/or optimization.</li></ul>\n",
       "<br/>\n",
       "<ul><li>You have 1-3 years of hands-on experience synthesizing insights from data using tools such as Python, SQL, R. Experience with distributed systems (Redshift, Hadoop, BigQuery) a plus.</li></ul>\n",
       "<br/>\n",
       "<ul><li>You have studied Economics, Computer Science, Statistics, Engineering or a relevant field.</li></ul></div></div></div><div class=\"jobsearch-JobDescriptionTab-content\"><div class=\"jobsearch-JobMetadataFooter\"><span class=\"icl-u-textColor--success\">Spotify</span> - 24 days ago<span class=\"icl-u-lg-inline icl-u-xs-hide\" id=\"saveJobInlineCallout\"> - <a title=\"Save this job to my.indeed\">save job</a></span><span class=\"icl-u-lg-inline icl-us-xs-hide\" id=\"originalJobLinkContainer\"> - <a href=\"https://www.indeed.com/rc/clk?jk=a0f5f0cfbe59a5d4&amp;from=vj&amp;pos=top\" rel=\"noopener noreferrer\" target=\"_blank\">original job</a></span><div class=\"icl-u-lg-block icl-u-xs-hide icl-u-lg-mt--md\" id=\"saveJobInlineCalloutContainer\"></div></div></div><div class=\"icl-Grid icl-Grid--gutters\"><div class=\"jobsearch-ViewJobButtons-container icl-Grid-col icl-u-xs-span12 icl-u-xs-textCenter icl-u-xs-my--md icl-u-lg-textLeft\" id=\"jobsearch-ViewJobButtons-container\"><div class=\"icl-u-lg-inlineBlock\" id=\"viewJobButtonLinkContainer\"><div class=\"icl-u-lg-hide\"><a class=\"icl-Button icl-Button--primary icl-Button--block\" href=\"https://www.indeed.com/rc/clk?jk=a0f5f0cfbe59a5d4&amp;from=vj&amp;pos=bottom\">Apply Now</a></div><div class=\"icl-u-lg-block icl-u-xs-hide icl-u-lg-textCenter\"><a class=\"icl-Button icl-Button--primary icl-Button--md\" href=\"https://www.indeed.com/rc/clk?jk=a0f5f0cfbe59a5d4&amp;from=vj&amp;pos=bottom\">Apply On Company Site</a></div></div><div class=\"icl-u-lg-inlineBlock\" id=\"saveJobButtonContainer\"><div class=\"icl-u-lg-hide\"><button class=\"icl-Button icl-Button--secondary icl-Button--block\" disabled=\"true\" type=\"button\"><span class=\"icl-ButtonIcon\"><svg aria-label=\"save-icon\" class=\"icl-Icon icl-Icon--sm icl-Icon--left icl-Icon--inheritColor favorite-border\" role=\"img\"><g><path d=\"M12.38,2.25A4.49,4.49,0,0,0,9,3.82,4.49,4.49,0,0,0,5.63,2.25,4.08,4.08,0,0,0,1.5,6.38c0,2.83,2.55,5.15,6.41,8.66L9,16l1.09-1C14,11.52,16.5,9.21,16.5,6.38A4.08,4.08,0,0,0,12.38,2.25ZM9.08,13.91L9,14l-0.08-.08C5.35,10.68,3,8.54,3,6.38A2.56,2.56,0,0,1,5.63,3.75,2.93,2.93,0,0,1,8.3,5.52H9.7a2.91,2.91,0,0,1,2.67-1.77A2.56,2.56,0,0,1,15,6.38C15,8.54,12.65,10.68,9.08,13.91Z\"></path></g></svg></span>Save this job</button></div><div class=\"icl-u-xs-block icl-u-lg-hide\"></div></div></div></div></div><h4 class=\"jobsearch-RecommendedJobsTitle\">Other jobs you may like</h4><div class=\"jobsearch-RecommendedJobsList\"><div class=\"icl-NavigableContainer icl-NavigableContainer--hasBorderBottom icl-NavigableContainer--hasBorderTop\"><div class=\"icl-NavigableContainer-innerContainer\"><div class=\"icl-JobResult\" data-jobkey=\"175eba1f11c6b2a1\"><h2 class=\"icl-JobResult-title \"><a class=\"icl-JobResult-jobLink\" href=\"/rc/clk?jk=175eba1f11c6b2a1\" rel=\"noopener nofollow\" title=\"NYC Marketplace Intelligence and Logistics Product Data Analyst, UET\">NYC Marketplace Intelligence and Logistics Product Data Analyst, UET</a></h2><div class=\"icl-JobResult-companyContainer \"><span class=\"icl-JobResult-companyNameContainer\" itemprop=\"hiringOrganization\" itemscope=\"\" itemtype=\"http://schema.org/Organization\"><span class=\"icl-JobResult-companyName\" itemprop=\"name\">Uber</span></span><span class=\"icl-JobResult-jobLocation\">New York, NY 10001</span></div><div class=\"icl-JobResult-infoContainer\"></div><div class=\"icl-JobResult-resultInfo\"><span class=\"icl-JobResult-resultsContainer\"><span class=\"icl-JobResult-resultSource\">Uber</span><span class=\"icl-JobResult-resultDivider\">-</span><span class=\"icl-JobResult-resultAge\">30+ days ago</span></span></div></div><div class=\"icl-NavigableContainer-iconContainer\"><div class=\"icl-NavigableContainer-icon icl-NavigableContainer-icon--isRightArrow\"><svg class=\"icl-Icon icl-Icon--sm icl-Icon--left icl-Icon--black chevron-right\" role=\"img\"><g><path d=\"M7.5,4.5L6.44,5.56,9.88,9,6.44,12.44,7.5,13.5,12,9Z\"></path></g></svg></div></div></div></div><div class=\"icl-NavigableContainer icl-NavigableContainer--hasBorderBottom \"><div class=\"icl-NavigableContainer-innerContainer\"><div class=\"icl-JobResult\" data-jobkey=\"b26e00f2fab616f0\"><h2 class=\"icl-JobResult-title \"><a class=\"icl-JobResult-jobLink\" href=\"/rc/clk?jk=b26e00f2fab616f0\" rel=\"noopener nofollow\" title=\"Data Scientist - Catastrophe Analytics\">Data Scientist - Catastrophe Analytics</a></h2><div class=\"icl-JobResult-companyContainer \"><span class=\"icl-JobResult-companyNameContainer\" itemprop=\"hiringOrganization\" itemscope=\"\" itemtype=\"http://schema.org/Organization\"><span class=\"icl-JobResult-companyName\" itemprop=\"name\">Guy Carpenter</span></span><span class=\"icl-JobResult-jobLocation\">New York, NY</span></div><div class=\"icl-JobResult-infoContainer\"></div><div class=\"icl-JobResult-resultInfo\"><span class=\"icl-JobResult-resultsContainer\"><span class=\"icl-JobResult-resultSource\">Marsh &amp; McLennan Companies</span><span class=\"icl-JobResult-resultDivider\">-</span><span class=\"icl-JobResult-resultAge\">13 days ago</span></span></div></div><div class=\"icl-NavigableContainer-iconContainer\"><div class=\"icl-NavigableContainer-icon icl-NavigableContainer-icon--isRightArrow\"><svg class=\"icl-Icon icl-Icon--sm icl-Icon--left icl-Icon--black chevron-right\" role=\"img\"><g><path d=\"M7.5,4.5L6.44,5.56,9.88,9,6.44,12.44,7.5,13.5,12,9Z\"></path></g></svg></div></div></div></div><div class=\"icl-NavigableContainer icl-NavigableContainer--hasBorderBottom \"><div class=\"icl-NavigableContainer-innerContainer\"><div class=\"icl-JobResult\" data-jobkey=\"b0ff34b235c1d0bb\"><h2 class=\"icl-JobResult-title \"><a class=\"icl-JobResult-jobLink\" href=\"/rc/clk?jk=b0ff34b235c1d0bb\" rel=\"noopener nofollow\" title=\"Data Scientist - NLP\">Data Scientist - NLP</a></h2><div class=\"icl-JobResult-companyContainer \"><span class=\"icl-JobResult-companyNameContainer\" itemprop=\"hiringOrganization\" itemscope=\"\" itemtype=\"http://schema.org/Organization\"><span class=\"icl-JobResult-companyName\" itemprop=\"name\">compstak.com</span></span><span class=\"icl-JobResult-jobLocation\">New York, NY</span></div><div class=\"icl-JobResult-infoContainer\"></div><div class=\"icl-JobResult-resultInfo\"><span class=\"icl-JobResult-resultsContainer\"><span class=\"icl-JobResult-resultSource\">compstak.com</span><span class=\"icl-JobResult-resultDivider\">-</span><span class=\"icl-JobResult-resultAge\">2 hours ago</span></span></div></div><div class=\"icl-NavigableContainer-iconContainer\"><div class=\"icl-NavigableContainer-icon icl-NavigableContainer-icon--isRightArrow\"><svg class=\"icl-Icon icl-Icon--sm icl-Icon--left icl-Icon--black chevron-right\" role=\"img\"><g><path d=\"M7.5,4.5L6.44,5.56,9.88,9,6.44,12.44,7.5,13.5,12,9Z\"></path></g></svg></div></div></div></div><div class=\"icl-NavigableContainer icl-NavigableContainer--hasBorderBottom \"><div class=\"icl-NavigableContainer-innerContainer\"><div class=\"icl-JobResult\" data-jobkey=\"b6edb4bfeafb3c1e\"><h2 class=\"icl-JobResult-title \"><a class=\"icl-JobResult-jobLink\" href=\"/rc/clk?jk=b6edb4bfeafb3c1e\" rel=\"noopener nofollow\" title=\"Data Scientist – Cloud Services\">Data Scientist – Cloud Services</a></h2><div class=\"icl-JobResult-companyContainer \"><span class=\"icl-JobResult-companyNameContainer\" itemprop=\"hiringOrganization\" itemscope=\"\" itemtype=\"http://schema.org/Organization\"><span class=\"icl-JobResult-companyName\" itemprop=\"name\">JP Morgan Chase</span></span><span class=\"icl-JobResult-jobLocation\">Jersey City, NJ 07310</span></div><div class=\"icl-JobResult-infoContainer\"></div><div class=\"icl-JobResult-resultInfo\"><span class=\"icl-JobResult-resultsContainer\"><span class=\"icl-JobResult-resultSource\">JPMorgan Chase</span><span class=\"icl-JobResult-resultDivider\">-</span><span class=\"icl-JobResult-resultAge\">2 days ago</span></span></div></div><div class=\"icl-NavigableContainer-iconContainer\"><div class=\"icl-NavigableContainer-icon icl-NavigableContainer-icon--isRightArrow\"><svg class=\"icl-Icon icl-Icon--sm icl-Icon--left icl-Icon--black chevron-right\" role=\"img\"><g><path d=\"M7.5,4.5L6.44,5.56,9.88,9,6.44,12.44,7.5,13.5,12,9Z\"></path></g></svg></div></div></div></div><div class=\"icl-NavigableContainer icl-NavigableContainer--hasBorderBottom \"><div class=\"icl-NavigableContainer-innerContainer\"><div class=\"icl-JobResult\" data-jobkey=\"171566291d439083\"><h2 class=\"icl-JobResult-title \"><a class=\"icl-JobResult-jobLink\" href=\"/rc/clk?jk=171566291d439083\" rel=\"noopener nofollow\" title=\"Data Scientist\">Data Scientist</a></h2><div class=\"icl-JobResult-companyContainer \"><span class=\"icl-JobResult-companyNameContainer\" itemprop=\"hiringOrganization\" itemscope=\"\" itemtype=\"http://schema.org/Organization\"><span class=\"icl-JobResult-companyName\" itemprop=\"name\">Rent the Runway</span></span><span class=\"icl-JobResult-jobLocation\">New York, NY</span></div><div class=\"icl-JobResult-infoContainer\"></div><div class=\"icl-JobResult-bodyCallToAction\">Easily apply</div><div class=\"icl-JobResult-resultInfo\"><span class=\"icl-JobResult-resultsContainer\"><span class=\"icl-JobResult-resultAge\">2 days ago</span></span></div></div><div class=\"icl-NavigableContainer-iconContainer\"><div class=\"icl-NavigableContainer-icon icl-NavigableContainer-icon--isRightArrow\"><svg class=\"icl-Icon icl-Icon--sm icl-Icon--left icl-Icon--black chevron-right\" role=\"img\"><g><path d=\"M7.5,4.5L6.44,5.56,9.88,9,6.44,12.44,7.5,13.5,12,9Z\"></path></g></svg></div></div></div></div></div><div class=\"icl-Grid icl-Grid--gutters\"><div class=\"icl-Grid-col icl-u-xs-span12\"><div class=\"jobsearch-RecommendedJobsLink-container jobsearch-RecommendedJobsLink--hidden\" id=\"recommendedJobsLink\"><div class=\"jobSearch-u-is-hidden\"><div class=\"icl-NavigationList icl-NavigationList--inline\"><ul class=\"icl-NavigationList-items\"><li class=\"icl-NavigationList-item\"><a class=\"icl-NavigationList-link icl-NavigationList--primary \" href=\"/recommendedjobs?from=mobviewjob&amp;mobtk=1cmgpqk9741godoc\"><div class=\"icl-NavigationList-text\"><span class=\"icl-NavigationList-primaryText \">See more recommended jobs</span></div><span class=\"icl-NavigationList-actionIcon\"><svg class=\"icl-Icon icl-Icon--md icl-Icon--left icl-Icon--grey chevron-right\" role=\"img\"><g><path d=\"M10,6L8.59,7.41,13.17,12,8.59,16.59,10,18l6-6Z\"></path></g></svg></span></a></li></ul></div></div></div></div></div><div class=\"icl-Grid icl-Grid--gutters\" id=\"relatedLinks\"><div class=\"icl-Grid-col icl-u-xs-span12\"><div class=\"jobsearch-RelatedLinks-linkWrapper\"><a class=\"jobsearch-RelatedLinks-link\" href=\"/jobs?q=Data+Scientist&amp;l=New+York%2C+NY\">Data Scientist jobs in New York, NY</a></div><div class=\"jobsearch-RelatedLinks-linkWrapper\"><a class=\"jobsearch-RelatedLinks-link\" href=\"/jobs?q=Spotify&amp;l=New+York%2C+NY\">Jobs at Spotify in New York, NY</a></div><div class=\"jobsearch-RelatedLinks-linkWrapper\"><a class=\"jobsearch-RelatedLinks-link\" href=\"/salary?q1=Data+Scientist&amp;l1=New+York%2C+NY\">Data Scientist salaries in New York, NY</a></div></div></div></div><div class=\"jobsearch-ViewJobLayout-companyPromo icl-Grid-col icl-u-xs-hide icl-u-lg-block icl-u-lg-span4 icl-u-lg-offset1\"><div class=\"jobsearch-CompanyAvatar icl-u-xs-mb--lg\"><div class=\"icl-Card icl-Card--hasBorder\"><div class=\"icl-Card-headline icl-Card-headline--hasBorder\"><div class=\"jobsearch-CompanyAvatar-headline\">Company Info</div></div><div class=\"icl-Card-body\"><a href=\"https://www.indeed.com/cmp/Spotify/reviews?campaignid=vjcmpinfo&amp;cmpratingc=mobviewjob&amp;from=vjcmpinfo&amp;tk=1cmgpqk9741godoc&amp;fromjk=a0f5f0cfbe59a5d4&amp;jt=Data+Scientist%2C+Premium+Content\"><img alt=\"Spotify\" class=\"jobsearch-CompanyAvatar-image\" src=\"https://d2q79iu7y748jz.cloudfront.net/s/_logo/98f57b0aaf78819e5620535bb5392a98\"/></a><div class=\"jobsearch-CompanyAvatar-form\" id=\"companyFollowForm\"><div class=\"jobsearch-CompanyAvatar-button\"><button class=\"icl-Button icl-Button--tertiary icl-Button--sm\" type=\"button\">Follow</button></div><div class=\"jobsearch-CompanyAvatar-cta\">Get job updates from Spotify</div></div><div class=\"icl-u-md-mb--sm\"><a class=\"jobsearch-CompanyAvatar-companyLink\" href=\"https://www.indeed.com/cmp/Spotify/reviews?campaignid=vjcmpinfo&amp;cmpratingc=mobviewjob&amp;from=vjcmpinfo&amp;tk=1cmgpqk9741godoc&amp;fromjk=a0f5f0cfbe59a5d4&amp;jt=Data+Scientist%2C+Premium+Content\">Spotify</a><div class=\"jobsearch-CompanyAvatar-ratings\"><div class=\"icl-Ratings icl-Ratings--gold icl-Ratings--md\" itemscope=\"\" itemtype=\"http://schema.org/AggregateRating\"><meta content=\"4.400000095367432\" itemprop=\"ratingValue\"><meta content=\"34\" itemprop=\"ratingCount\"><div aria-label=\"4.4 out of 5\" class=\"icl-Ratings-starsCountWrapper\" tabindex=\"0\"><div class=\"icl-Ratings-starsWrapper\"><div class=\"icl-Ratings-starsUnfilled\"><div class=\"icl-Ratings-starsFilled\" style=\"width: 79.80000114440918px;\"></div></div></div><div aria-hidden=\"true\" class=\"icl-Ratings-count\">34 reviews</div></div></meta></meta></div></div></div><div class=\"jobsearch-CompanyAvatar-description\">All your music is here. \n",
       "\n",
       "Spotify gives you millions of songs at your fingertips. The artists you love, the latest hits, and new discov...</div></div></div></div></div><div class=\"jobsearch-ViewJobLayout-resumePromo icl-Grid-col icl-u-xs-hide icl-u-lg-block icl-u-lg-span4 icl-u-lg-offset1\"><div class=\"icl-u-xs-mb--lg iclcom-ResumePromoCard\"><div class=\"icl-Card icl-Card--hasBorder\"><div class=\"icl-Card-headline icl-Card-headline--hasBackground icl-Card-headline--hasBorder\">Let employers find you</div><div class=\"icl-Card-body\"><div class=\"iclcom-ResumePromoCard-subtitle\">Thousands of employers search for candidates on Indeed</div><div class=\"iclcom-ResumePromoCard-button\"><a class=\"icl-Button icl-Button--secondary icl-Button--sm\" data-href=\"/promo/resume?from=viewjobcta&amp;trk.origin=viewjobcta&amp;continue=http%3A%2F%2Fwww.indeed.com%2Fviewjob%3Fjk%3Da0f5f0cfbe59a5d4%26from%3Dserp%26vjs%3D3\" href=\"/promo/resume\">Upload your resume</a></div></div></div></div></div></div></div></div><div class=\"jobsearch-Footer-wrapper\"><div class=\"jobsearch-Footer jobsearch-Footer--sticky\"><footer class=\"icl-GlobalFooter\" role=\"contentinfo\"><nav class=\"icl-GlobalFooter-nav\" role=\"navigation\"><ul class=\"icl-GlobalFooter-items\"><li class=\"icl-GlobalFooter-item\"><a class=\"icl-GlobalFooter-link\" data-href=\"/intl/en/about.html?from=VJ2\" href=\"/intl/en/about.html\">About</a></li><li class=\"icl-GlobalFooter-item\"><a class=\"icl-GlobalFooter-link\" data-href=\"https://indeed.zendesk.com/hc/en-us?from=VJ2\" href=\"https://indeed.zendesk.com/hc/en-us\">Help Center</a></li></ul></nav><small class=\"icl-GlobalFooter-impressum\"><span class=\"icl-GlobalFooter-copyright\">© 2018 Indeed</span><a class=\"icl-GlobalFooter-link\" href=\"/legal\">Cookies, Privacy and Terms</a></small></footer><div class=\"iclcom-ResumeSimpleFooter iclcom-ResumeSimpleFooter--lightestGray icl-u-xs-hide icl-u-lg-block icl-u-lg-textCenter icl-u-lg-p--sm\"><span class=\"icl-u-lg-block icl-Heading3 icl-u-lg-my--none\">Let Employers Find You</span><span class=\"icl-u-lg-block\"><a class=\"icl-Button icl-Button--primary icl-Button--md\" data-href=\"/promo/resume?from=bottomResumeCTAviewjob&amp;trk.origin=viewjob\" href=\"/promo/resume\">Upload Your Resume</a></span></div></div></div><script src=\"/m/s/53ae7dda9cc9fbb03356/scripts/viewjob.js\"></script>\n",
       "<script async=\"\" src=\"/m/basecamp/analytics.js?model=eyJhIjp0cnVlLCJiIjp0cnVlLCJjIjp0cnVlLCJkIjpmYWxzZSwiZSI6dHJ1ZSwiZyI6Imh0dHA6Ly93d3cuaW5kZWVkLmNvbS9tL2Jhc2VjYW1wL3ZpZXdqb2I_ams9YTBmNWYwY2ZiZTU5YTVkNCZmcm9tPXNlcnAmdmpzPTMiLCJoIjoiRGF0YSBTY2llbnRpc3QsIFByZW1pdW0gQ29udGVudCIsImkiOiJOZXcgWW9yaywgTlkgMTAwMTEiLCJqIjoib3JnYW5pYyJ9\"></script>\n",
       "<noscript><img height=\"1\" src=\"https://www.facebook.com/tr?id=579216298929618&amp;ev=PageView&amp;noscript=1\" style=\"display:none\" width=\"1\"><img height=\"0\" src=\"https://sb.scorecardresearch.com/p?c1=2&amp;c2=6486505&amp;c4=http%3A%2F%2Fwww.indeed.com%2Fm%2Fbasecamp%2Fviewjob%3Fjk%3Da0f5f0cfbe59a5d4%26from%3Dserp%26vjs%3D3&amp;c15=1cmgpqk6o514gabt&amp;cv=2.0&amp;cj=1\" style=\"display:none\" width=\"0\"/><img alt=\"\" height=\"1\" src=\"https://ad.doubleclick.net/ddm/activity/ord=1;src=6927552;type=jobse0;cat=viewj00;u4=Data+Scientist%2C+Premium+Content;u5=New+York%2C+NY+10011;u8=organic\" style=\"display:none\" width=\"1\"/></img></noscript>\n"
      ]
     },
     "execution_count": 409,
     "metadata": {},
     "output_type": "execute_result"
    }
   ],
   "source": [
    "BeautifulSoup(requests.get((\"https://www.indeed.com/rc/clk?jk=a0f5f0cfbe59a5d4&fccid=fe404d18bb9eef1e&vjs=3\")).content, 'html.parser', from_encoding=\"utf-8\")"
   ]
  },
  {
   "cell_type": "code",
   "execution_count": 407,
   "metadata": {
    "collapsed": true
   },
   "outputs": [],
   "source": [
    "#find(class_ = \"jobsearch-JobComponent-description icl-u-xs-mt--md\"))"
   ]
  },
  {
   "cell_type": "code",
   "execution_count": 379,
   "metadata": {},
   "outputs": [],
   "source": [
    "link = \"https://www.indeed.com/rc/clk?jk=a0f5f0cfbe59a5d4&fccid=fe404d18bb9eef1e&vjs=3\"\n",
    "html = requests.get(link)\n",
    "soup = BeautifulSoup(html.content, 'html.parser', from_encoding=\"utf-8\")"
   ]
  },
  {
   "cell_type": "code",
   "execution_count": 380,
   "metadata": {},
   "outputs": [
    {
     "data": {
      "text/plain": [
       "<html dir=\"ltr\" lang=\"en\">\n",
       "<head>\n",
       "<title>Data Scientist, Premium Content - New York, NY 10011 - Indeed.com</title><meta charset=\"utf-8\"/><meta content=\"ie=edge\" http-equiv=\"x-ua-compatible\"/><meta content=\"width=device-width, initial-scale=1\" name=\"viewport\"/><meta content=\"notranslate\" name=\"google\"/><meta content=\"http://www.indeed.com/viewjob?from=appsharedroid&amp;jk=a0f5f0cfbe59a5d4\" id=\"indeed-share-url\"/><meta content=\"Data Scientist, Premium Content\" id=\"indeed-share-message\"/><meta content=\"simple\" id=\"indeed-share-type\"/><meta content=\"noindex\" name=\"robots\"/><link href=\"/m/s/8ace57fb5c60a2c79e9d3e12570e123b/styles/viewjob-janus-ltr.css\" rel=\"stylesheet\"/>\n",
       "<style>\n",
       "input[type=\"text\"],.icl-WhatWhere-input--what input[type=\"text\"].icl-TextInput-control--whatWhere,.icl-WhatWhere-input--where input[type=\"text\"].icl-TextInput-control--whatWhere{border-color:#ccc !important}input[type=\"text\"]:focus,input[type=\"text\"]:hover,input[type=\"text\"]:active,.icl-WhatWhere-input--what input[type=\"text\"].icl-TextInput-control--whatWhere:focus,.icl-WhatWhere-input--what input[type=\"text\"].icl-TextInput-control--whatWhere:hover,.icl-WhatWhere-input--what input[type=\"text\"].icl-TextInput-control--whatWhere:active,.icl-WhatWhere-input--where input[type=\"text\"].icl-TextInput-control--whatWhere:focus,.icl-WhatWhere-input--where input[type=\"text\"].icl-TextInput-control--whatWhere:hover,.icl-WhatWhere-input--where input[type=\"text\"].icl-TextInput-control--whatWhere:active{border-color:#1497ff !important}.icl-TextInput-control,.icl-WhatWhere-input--what .icl-TextInput-control--whatWhere,.icl-WhatWhere-input--where .icl-TextInput-control--whatWhere{border-color:#ccc !important}.icl-TextInput-control:focus,.icl-TextInput-control:hover,.icl-TextInput-control:active,.icl-WhatWhere-input--what .icl-TextInput-control--whatWhere:focus,.icl-WhatWhere-input--what .icl-TextInput-control--whatWhere:hover,.icl-WhatWhere-input--what .icl-TextInput-control--whatWhere:active,.icl-WhatWhere-input--where .icl-TextInput-control--whatWhere:focus,.icl-WhatWhere-input--where .icl-TextInput-control--whatWhere:hover,.icl-WhatWhere-input--where .icl-TextInput-control--whatWhere:active{border-color:#1497ff !important}.icl-ButtonPromo:before{background-color:#ff6c40 !important}body.janus .content #gajui:before{border-top-color:#ff6c40}body.janus .content .nji,body.janus .content .rsi .nji,body.janus .content .rsi div.nji,body.janus .content .rsi span.nji,body.janus .content #recPromoDisplay .nji.recDecoration,body.janus .content #recPromoDisplay span.nji.recDecoration,body.janus .content .srchlst .srchlst .rsi .nji{color:#e03400 !important}.icl-Card-headline--hasBackground,.jobsearch-Footer{border-top-color:#ff6c40 !important;border-top-width:4px !important}body .icl-DesktopGlobalHeader-item--containsDropdown.is-open div.icl-DesktopGlobalHeader-item--dropdown{border-radius:8px 8px 0 0 !important}body .icl-DesktopGlobalHeader-item--containsDropdown.is-open ul.icl-DesktopGlobalHeader-dropdown{border-radius:8px 0 8px 8px !important}input[type=\"text\"],.icl-WhatWhere-input--what input[type=\"text\"].icl-TextInput-control--whatWhere,.icl-WhatWhere-input--where input[type=\"text\"].icl-TextInput-control--whatWhere{border-radius:8px !important}.icl-Autocomplete-list{border-radius:8px !important}#whatWhere .icl-button--primary,#whatWhere .icl-WhatWhere-button,.jobsearch-PostJobPromo-container .icl-button--primary{background-color:#085ff7 !important;border-color:#085ff7 !important;color:#fff !important}#whatWhere .icl-button--primary:active,#whatWhere .icl-button--primary:focus,#whatWhere .icl-button--primary:hover,#whatWhere .icl-WhatWhere-button:active,#whatWhere .icl-WhatWhere-button:focus,#whatWhere .icl-WhatWhere-button:hover,.jobsearch-PostJobPromo-container .icl-button--primary:active,.jobsearch-PostJobPromo-container .icl-button--primary:focus,.jobsearch-PostJobPromo-container .icl-button--primary:hover{background-color:#1497ff !important;border-color:#1497ff !important}.jobsearch-Content .icl-button--secondary{border-radius:6.25rem !important}button,.icl-Button,button.icl-WhatWhere-button{border-radius:6.25rem !important}#ita-card-cta a{color:#e03400 !important}.icl-JobResult-titleDivider,.icl-JobResult-titleFlag,.icl-JobResult-bodyCallToAction,.icl-NavigationList-secondaryText.icl-NavigationList-secondaryText--emphasized,.ns-job-info-expired,.ns-job-info-indeedapply{background-color:transparent !important;color:#e03400 !important}.icl-NavigationList-headerIcon,.icl-NavigationList-itemIcon{display:none}.jobsearch-RecentSearches-grid{background-color:#f8f7f5}#recentSearches .icl-NavigationList-text{color:#767676}#recentSearches .icl-NavigationList--primary{color:#767676}#recentSearches .icl-NavigationList--primary:hover{background-color:#fbfbfb;color:#000}#recentSearches .icl-NavigationList--primary:hover .icl-NavigationList-primaryText{color:#000}#recentSearches .icl-NavigationList-item:first-of-type a.icl-NavigationList--primary{border-radius:0 !important}#recentSearches .icl-NavigationList-item:last-of-type a.icl-NavigationList--primary{border-radius:0 !important}.ns-carousel-card-wrapper .ns-card-header{border-radius:8px 8px 0 0 !important}.ns-carousel-card-wrapper .ns-step.ns-step--card{border-radius:8px !important}body.janus #auxCol .jaui .recjobalert-active .ico,body.janus #auxCol .jaui .recjobalert-paused .ico,body.janus #auxCol .jaui .recjobalert-subscribe .ico,td#auxCol .jaui .recjobalert-subscribe .ico{display:none}body.janus #resultsCol .jobtitle a:visited,body.janus #resultsCol a.jobtitle:visited{color:#6C6C6C !important}[dir=\"ltr\"] body.janus #jobsearch span.inwrap input#what.input_text,[dir=\"ltr\"] body.janus #jobsearch span.inwrap input#where.input_text,body.janus #jobsearch span.inwrap input#what.input_text,body.janus #jobsearch span.inwrap input#where.input_text,body.janus input#alertemail,body.janus input#talertemail,body.janus input#balertemail{border-color:#ccc !important}[dir=\"ltr\"] body.janus #jobsearch span.inwrap input#what.input_text:focus,[dir=\"ltr\"] body.janus #jobsearch span.inwrap input#what.input_text:hover,[dir=\"ltr\"] body.janus #jobsearch span.inwrap input#what.input_text:active,[dir=\"ltr\"] body.janus #jobsearch span.inwrap input#where.input_text:focus,[dir=\"ltr\"] body.janus #jobsearch span.inwrap input#where.input_text:hover,[dir=\"ltr\"] body.janus #jobsearch span.inwrap input#where.input_text:active,body.janus #jobsearch span.inwrap input#what.input_text:focus,body.janus #jobsearch span.inwrap input#what.input_text:hover,body.janus #jobsearch span.inwrap input#what.input_text:active,body.janus #jobsearch span.inwrap input#where.input_text:focus,body.janus #jobsearch span.inwrap input#where.input_text:hover,body.janus #jobsearch span.inwrap input#where.input_text:active,body.janus input#alertemail:focus,body.janus input#alertemail:hover,body.janus input#alertemail:active,body.janus input#talertemail:focus,body.janus input#talertemail:hover,body.janus input#talertemail:active,body.janus input#balertemail:focus,body.janus input#balertemail:hover,body.janus input#balertemail:active{border-color:#1497ff !important}body.janus #jobsearchform .sg-form-control,body.janus #searchQueryBar{border-color:#ccc !important}body.janus #jobsearchform .sg-form-control:focus,body.janus #jobsearchform .sg-form-control:hover,body.janus #jobsearchform .sg-form-control:active,body.janus #searchQueryBar:focus,body.janus #searchQueryBar:hover,body.janus #searchQueryBar:active{border-color:#1497ff !important}body.janus:not([data-tn-originlogtype=\"viewjob\"]):not([data-tn-originlogtype=\"homepage\"]){background-color:#f8f7f5 !important}body.janus #vjs-container div#vjs-header{border-top-color:#ff6c40 !important}body.janus #vjs-container div#vjs-header{border-bottom:1px solid #CCC !important;border-top-width:4px !important}body.janus td#resultsCol div.row.result.vjs-highlight{background-color:#f8f7f5 !important;border-left-color:#ff6c40 !important;border-left-width:2px !important;padding-left:14px !important}body.janus #what_acdiv.acd ul,body.janus #acdiv.acd ul{border-radius:8px !important}body.janus td#auxCol .jaui,body.janus td#auxCol #femp_list,body.janus td#auxCol #univsrch-salary-v3 #univsrch-salary-info,body.janus td#auxCol .ja_rec_confirm_ui_tst,body.janus td#auxCol .related_searches_right-rail,body.janus td#auxColPad .jaui,body.janus td#auxColPad #femp_list,body.janus td#auxColPad #univsrch-salary-v3 #univsrch-salary-info,body.janus td#auxColPad .ja_rec_confirm_ui_tst,body.janus td#auxColPad .related_searches_right-rail{border-top-color:#ff6c40 !important;border-top-width:4px !important}body.janus .icl-DesktopGlobalHeader-item--containsDropdown.is-open div.icl-DesktopGlobalHeader-item--dropdown,body.janus #vjs-container #state-picker-container .dd-menu .dd-menu-option:first-child{border-radius:8px 8px 0 0 !important}body.janus #vjs-container #state-picker-container .dd-menu .dd-menu-option:last-child{border-radius:0 0 8px 8px !important}[dir=\"ltr\"] body.janus #jobsearch span.inwrap input#what.input_text,[dir=\"ltr\"] body.janus #jobsearch span.inwrap input#where.input_text,body.janus #jobsearch span.inwrap input#what.input_text,body.janus #jobsearch span.inwrap input#where.input_text,body.janus input#alertemail,body.janus input#talertemail,body.janus input#balertemail{border-radius:8px !important;border-color:#ccc !important}[dir=\"ltr\"] body.janus #jobsearch span.inwrap input#what.input_text:focus,[dir=\"ltr\"] body.janus #jobsearch span.inwrap input#what.input_text:hover,[dir=\"ltr\"] body.janus #jobsearch span.inwrap input#what.input_text:active,[dir=\"ltr\"] body.janus #jobsearch span.inwrap input#where.input_text:focus,[dir=\"ltr\"] body.janus #jobsearch span.inwrap input#where.input_text:hover,[dir=\"ltr\"] body.janus #jobsearch span.inwrap input#where.input_text:active,body.janus #jobsearch span.inwrap input#what.input_text:focus,body.janus #jobsearch span.inwrap input#what.input_text:hover,body.janus #jobsearch span.inwrap input#what.input_text:active,body.janus #jobsearch span.inwrap input#where.input_text:focus,body.janus #jobsearch span.inwrap input#where.input_text:hover,body.janus #jobsearch span.inwrap input#where.input_text:active,body.janus input#alertemail:focus,body.janus input#alertemail:hover,body.janus input#alertemail:active,body.janus input#talertemail:focus,body.janus input#talertemail:hover,body.janus input#talertemail:active,body.janus input#balertemail:focus,body.janus input#balertemail:hover,body.janus input#balertemail:active{border-color:#1497ff !important}body.janus #vjs-container input.blue-button,body.janus #vjs-container #state-picker-container button.state-picker-button,body.janus #vjs-container #state-picker-container .state-picker-button.dd-target,body.janus #vjs-container span#state-picker-container .state-picker-button.dd-target,body.janus #vjs-container span#state-picker-container .state-picker-button.blue-button,body.janus #vjs-container span#state-picker-container .state-picker-button.dd-target,body.janus #vjs-container .indeed-apply-button,body.janus #vjs-container .indeed-apply-button-placeholder,body.janus input#alertsubmit,body.janus #valuePropFooter .vpfooter-content .vpfooter-btn-section [dir] a.icl-Button.cta_button.grey,body.janus #resumeCtaFooter .footerCta.greyBar [dir] a.icl-Button.cta_button.blue,body.janus #vjs-container div.job-footer-button-row a.view_job_link.view-apply-button.blue-button{border-radius:6.25rem !important;line-height:inherit !important}body.janus #jobsearch span.inwrapBorder input.input_submit{border-radius:6.25rem !important}body.janus #vjs-container .indeed-apply-button-container ~ #state-picker-container button.state-picker-button.blue-button,body.janus #vjs-container .indeed-apply-button-container ~ #state-picker-container button.state-picker-button{border-radius:6.25rem !important;line-height:inherit !important;font-size:18px !important}body.janus #vjs-container #apply-state-picker-container .indeed-apply-button-container a.indeed-apply-button,body.janus #vjs-container #apply-state-picker-container .indeed-apply-button-container button.indeed-apply-button-placeholder{font-size:18px !important}body.janus #vjs-container #apply-button-container .view_job_link.view-apply-button.blue-button{font-size:18px !important}body.janus #vjs-container #apply-button-container #state-picker-container button.state-picker-button.blue-button{font-size:18px !important}body.janus #vjs-container #apply-button-container #state-picker-container button.state-picker-button{font-size:18px !important}body.janus #indeed_apply .indeed-apply-button-container a.indeed-apply-button,body.janus #indeed_apply .indeed-apply-button-container button.indeed-apply-button-placeholder{background-color:#ff5a1f !important;border-color:#ff5a1f !important;color:#fff !important;font-size:18px !important}body.janus #indeed_apply .indeed-apply-button-container a.indeed-apply-button:active,body.janus #indeed_apply .indeed-apply-button-container a.indeed-apply-button:focus,body.janus #indeed_apply .indeed-apply-button-container a.indeed-apply-button:hover,body.janus #indeed_apply .indeed-apply-button-container button.indeed-apply-button-placeholder:active,body.janus #indeed_apply .indeed-apply-button-container button.indeed-apply-button-placeholder:focus,body.janus #indeed_apply .indeed-apply-button-container button.indeed-apply-button-placeholder:hover{background-color:#ff6c40 !important;border-color:#ff6c40 !important}body.janus #vjs-container input.indeed-apply-button{background-color:#ff5a1f !important;border-color:#ff5a1f !important;color:#fff !important}body.janus #vjs-container input.indeed-apply-button:active,body.janus #vjs-container input.indeed-apply-button:focus,body.janus #vjs-container input.indeed-apply-button:hover{background-color:#ff6c40 !important;border-color:#ff6c40 !important}body.janus ul.icl-Autocomplete-list{border-radius:8px !important}body.janus #recPromoDisplay a,body.janus .rsList li a,body.janus #refineresults .more_link,body.janus #recentsearches .clearRSControl .sl,body.janus .result-link-bar-container .sl,body.janus .sl.ws_label{color:#000 !important}body.janus #resultsCol .jobtitle a.visited,body.janus #resultsCol a.jobtitle.visited,body.janus #resultsCol .jobtitle.visited,body.janus td#resultsCol .jobtitle a.visited,body.janus td#resultsCol .jobtitle a:visited,body.janus td#resultsCol a.jobtitle.visited,body.janus td#resultsCol .jobtitle.visited{color:#767676 !important}body.janus #univsrch-sal-distribution ul>li.univsrch-sal-highlight{background-color:#ff6c40 !important}body.janus div#serpRecommendations div.recTitle{padding-left:1em !important}body.janus div#serpRecommendations div.recTitle:before{width:inherit;height:inherit;display:none;position:inherit}body.janus .ja_col .ja_rec_ico_white{display:none}body.janus #primePromo .new,body.janus #primePromo span.new,body.janus .row .new,body.janus .row span.new,body.janus .row .iaP .iaLabel,body.janus .row .iaP span.iaLabel,body.janus td#refineresultscol .rsList .nji,body.janus td#refineresultscol #recPromoDisplay .nji.recDecoration,body.janus #recPromoDisplayPageLast span.nji.recDecoration,body.janus #resultsCol #bviewmorerecs span.nji.recDecoration{background-color:transparent !important;color:#e03400 !important}body.janus #vjs-container #vjs-header{padding:16px 0}body.janus #vjs-container #vjs-header #vjs-header-jobinfo{padding:0 44px 0 22px}body.janus #vjs-container #vjs-header .job-footer-button-row{flex-flow:row wrap;padding:0 14px 0 14px}body.janus #vjs-container #vjs-header .job-footer-button-row .indeed-apply-button-container{vertical-align:top}body.janus #vjs-container #vjs-header .job-footer-button-row .state-picker-button{transition:width .3s ease-in-out}body.janus #vjs-container #vjs-header .job-footer-button-row>span,body.janus #vjs-container #vjs-header .job-footer-button-row>span#vjnewtab.newtab{flex:0 1 auto;margin-left:8px !important}body.janus #vjs-container #vjs-header .job-footer-button-row>:nth-child(1),body.janus #vjs-container #vjs-header .job-footer-button-row #state-picker-container{flex:0 1 auto;width:auto !important;max-width:inherit !important;margin-left:8px !important;margin-right:8px !important;margin-top:8px !important;min-width:unset}body.janus #vjs-container #vjs-header .job-footer-button-row>:nth-child(1)>a[class*=\"apply-button\"],body.janus #vjs-container #vjs-header .job-footer-button-row>:nth-child(1)>button[class*=\"apply-button\"],body.janus #vjs-container #vjs-header .job-footer-button-row #state-picker-container>a[class*=\"apply-button\"],body.janus #vjs-container #vjs-header .job-footer-button-row #state-picker-container>button[class*=\"apply-button\"]{margin-left:8px !important;margin-right:8px !important;width:auto !important;min-width:unset}body.janus #vjs-container #vjs-header .job-footer-button-row>:nth-child(1)>.state-picker-button,body.janus #vjs-container #vjs-header .job-footer-button-row #state-picker-container>.state-picker-button{width:auto !important;max-width:inherit !important;margin:0 !important;margin-left:0 !important;margin-right:0 !important}body.janus #vjs-container #vjs-header .job-footer-button-row .indeed-apply-button-container a.indeed-apply-button{border-radius:6.25rem !important;background-color:#ff5a1f}body.janus #vjs-container #vjs-header .job-footer-button-row .indeed-apply-button-container button.indeed-apply-button-placeholder{border-radius:6.25rem !important;background-color:#ff5a1f;line-height:22px !important}body.janus #vjs-container #vjs-header .job-footer-button-row #state-picker-container ul.dd-menu{margin-left:22px !important;margin-right:0 !important}body.janus #vjs-container #vjs-header .job-footer-button-row #state-picker-container .state-picker-info-arrow{position:absolute;left:calc(50% - 14px)}body.janus #vjs-container #vjs-header .job-footer-button-row .indeed-apply-button .indeed-apply-button-inner .indeed-apply-button-label,body.janus #vjs-container #vjs-header .job-footer-button-row .indeed-apply-button-placeholder .indeed-apply-button-inner .indeed-apply-button-label{line-height:23px !important}body.janus #vjs-container #vjs-header #apply-button-container #state-picker-info-container{margin:12px 22px 0 !important}body.janus #vjs-container #vjs-header .vjs-trustworthymsg{margin-left:22px}#jobsearchform .sg-form-control{border-color:#ccc !important}body.janus td.auxColPad .rezcta_display{border-top-color:#ff6c40 !important;border-top-width:4px !important}body.janus .cmp_display .cmp_info,body.janus .rezcta_display .rezcta_info{border-color:#f6f6f6 !important;border-top-width:4px !important}body.janus #state-picker-container button ~ .dd-menu,body.janus span#state-picker-container .state-picker-button.dd-target ~ ul.dd-menu{border-radius:8px !important}body.janus div#g_nav span#userOptionsLabel.active{border-radius:8px 8px 0 0 !important}body.janus div#g_nav #userOptions{border-radius:0 0 8px 8px !important}body.janus #state-picker-container .dd-menu .dd-menu-option:first-child{border-radius:8px 8px 0 0 !important}body.janus #state-picker-container .dd-menu .dd-menu-option:last-child{border-radius:0 0 8px 8px !important}body.janus #jobsearch .inwrapBorder .input_submit,body.janus #job-content .auxColPad .rezcta_button .inwrapBorder .inwrapBorderTop .input_submit,body.janus #indeed_apply .indeed-apply-button-container .indeed-apply-button,body.janus #indeed_apply .indeed-apply-button-container a.indeed-apply-button,body.janus #indeed_apply .indeed-apply-button-container .indeed-apply-button-placeholder,body.janus #indeed_apply .indeed-apply-button-container button.indeed-apply-button-placeholder,body.janus #apply-button-container .indeed-apply-button-container .indeed-apply-button,body.janus #apply-button-container .indeed-apply-button-container .indeed-apply-button-placeholder,body.janus div#apply-state-picker-container .indeed-apply-button-container .indeed-apply-button,body.janus div#apply-state-picker-container .indeed-apply-button-container .indeed-apply-button-placeholder,body.janus #vjs-container>#vjs-header>#apply-button-container a.view-apply-button.button-blue,body.janus #indeed_apply .state-picker-button.blue-button,body.janus #apply-button-container .state-picker-button.blue-button,body.janus div#apply-state-picker-container .state-picker-button.blue-button,body.janus span#state-picker-container .state-picker-button.blue-button,body.janus span#state-picker-container .state-picker-button.dd-target,body.janus span#state-picker-container .state-picker-button.dd-target,body.janus #bvjl a.view_job_link,body.janus .job-footer-button-row a.view_job_link,body.janus #job-content .auxColPad .inwrapBorder .inwrapBorderTop button.input_submit,body.janus #job-content .auxColPad .rezcta_button .inwrapBorder .inwrapBorderTop a.input_submit,body.janus #valuePropFooter .vpfooter-content .vpfooter-btn-section [dir] .icl-Button.cta_button.grey,body.janus #job-content .auxColPad .inwrapBorder .inwrapBorderTop .input_submit,body.janus #bvjl .view_job_link,body.janus .job-footer-button-row .view_job_link,.icl-Button--primary{border-radius:6.25rem !important}body.janus #indeed_apply .indeed-apply-button-container a.indeed-apply-button span.indeed-apply-button-inner,body.janus #apply-button-container .indeed-apply-button-container a.indeed-apply-button span.indeed-apply-button-inner,body.janus #apply-state-picker-container .indeed-apply-button-container a.indeed-apply-button span.indeed-apply-button-inner,body.janus #indeed_apply .indeed-apply-button-container button.indeed-apply-button-placeholder span.indeed-apply-button-inner,body.janus #apply-button-container .indeed-apply-button-container button.indeed-apply-button-placeholder span.indeed-apply-button-inner,body.janus #apply-state-picker-container .indeed-apply-button-container button.indeed-apply-button-placeholder span.indeed-apply-button-inner,body.janus #indeed_apply .state-picker-button.blue-button,body.janus #apply-button-container .state-picker-button.blue-button,body.janus #apply-state-picker-container .state-picker-button.blue-button,body.janus .job-footer-button-row a.view_job_link,body.janus span#state-picker-container .state-picker-button.dd-target{font-size:18px !important}.icl-u-lg-inlineBlock .icl-Button,.icl-u-lg-inlineBlock .icl-Button--primary,.icl-u-lg-inlineBlock .icl-Button--secondary,.icl-u-lg-inlineBlock .icl-Button--special{font-size:18px !important}body.janus #vjs-container .apply-state-picker-container a.view_job_link.view-apply-button.blue-button,body.janus div#apply-state-picker-container .apply-state-picker-container a.view_job_link.view-apply-button.blue-button{font-size:18px !important}body.janus #vjs-container .indeed-apply-button-container a.indeed-apply-button,body.janus #vjs-container .indeed-apply-button-container button.indeed-apply-button-placeholder,body.janus div#apply-state-picker-container .indeed-apply-button-container a.indeed-apply-button,body.janus div#apply-state-picker-container .indeed-apply-button-container button.indeed-apply-button-placeholder{background-color:#ff5a1f !important;border-color:#ff5a1f !important;color:#fff !important}body.janus #vjs-container .indeed-apply-button-container a.indeed-apply-button:active,body.janus #vjs-container .indeed-apply-button-container a.indeed-apply-button:focus,body.janus #vjs-container .indeed-apply-button-container a.indeed-apply-button:hover,body.janus #vjs-container .indeed-apply-button-container button.indeed-apply-button-placeholder:active,body.janus #vjs-container .indeed-apply-button-container button.indeed-apply-button-placeholder:focus,body.janus #vjs-container .indeed-apply-button-container button.indeed-apply-button-placeholder:hover,body.janus div#apply-state-picker-container .indeed-apply-button-container a.indeed-apply-button:active,body.janus div#apply-state-picker-container .indeed-apply-button-container a.indeed-apply-button:focus,body.janus div#apply-state-picker-container .indeed-apply-button-container a.indeed-apply-button:hover,body.janus div#apply-state-picker-container .indeed-apply-button-container button.indeed-apply-button-placeholder:active,body.janus div#apply-state-picker-container .indeed-apply-button-container button.indeed-apply-button-placeholder:focus,body.janus div#apply-state-picker-container .indeed-apply-button-container button.indeed-apply-button-placeholder:hover{background-color:#ff6c40 !important;border-color:#ff6c40 !important}body.janus #vjs-container .indeed-apply-button-container ~ #state-picker-container .state-picker-button.blue-button,body.janus #vjs-container .indeed-apply-button-container ~ #state-picker-container .state-picker-button.dd-target,body.janus div#apply-state-picker-container .indeed-apply-button-container ~ #state-picker-container .state-picker-button.blue-button,body.janus div#apply-state-picker-container .indeed-apply-button-container ~ #state-picker-container .state-picker-button.dd-target{font-size:18px !important}#jobsearchform .sg-form-control{border-radius:8px !important}body.janus #job-content #bviewmorerecs .nji.recDecoration,body.janus #job-content #bviewmorerecs span.nji.recDecoration,body.janus .viewJobRec .iaP .iaLabel,body.janus .viewJobRec .iaP span.iaLabel{background-color:transparent !important;color:#e03400 !important}\n",
       "</style>\n",
       "</head>\n",
       "<body>\n",
       "<script src=\"/m/s/8eaa1fa/en_US.min.js\" type=\"text/javascript\"></script><script>!function(n){function r(n){for(var r=a,t=n.length;t;)r=33*r^n.charCodeAt(--t);return r>>>0}var t=this['indeed.i18n.localeData'],e=t['']||{},a=e.salt;if(e.hasOwnProperty('salt'))for(var i in n)t[function(n){var t=r(n);return e.hasOwnProperty('id_length')&&(t=String(t).substring(0,e.id_length)),t}(i)]=n[i];else for(var i in n)t[i]=[null].concat(n[i])}({\"Title for a tab in mobile view job\\u0004Insights\":[\"Insights\"],\"Title for a tab in mobile view job\\u0004Job Description\":[\"Job\"],\"Title for a tab in mobile view job\\u0004Company\":[\"Culture\"]});</script><script>(function(_){_.__JS_ERROR__=[];_.onerror=function(){_.__JS_ERROR__.push(Array.prototype.slice.call(arguments))}})(window);(function(e){const n={homepage:\"mobtk\",viewjob:\"mobvjtk\",viewjobJapan:\"mobvjtk\",serp:\"mobtk\"};const o={homepage:\"hp\",viewjob:\"vj\",viewjobJapan:\"vjjp\",serp:\"srch\"};const t=function(e){return n[e]};const i=function(e){return o[e]};const r=function(e,n){return'\"eventName\":\"mobPageLoadInfo\",'+'\"type\":\"mobPageLoadInfo\",'+'\"pageId\":\"'+e+'\",\"'+t(e)+'\":\"'+n+'\",\"pageName\":\"'+i(e)+'\"'};const a=function(){return e.screen.orientation.type.indexOf(\"portrait\")>-1?\"portrait\":\"landscape\"};const c=function(){const n=e.devicePixelRatio||1;var o='\"pixelRatio\":'+n+\",\"+'\"scrWidth\":'+Math.floor(e.screen.width*n)+\",\"+'\"scrHeight\":'+Math.floor(e.screen.height*n);if(e.screen.orientation){o+=',\"scrOrientation\":\"'+a()+'\"'}return o};const s=function(e){return encodeURIComponent(e).replace(/%20/g,\"+\")};e.logPageLoadInfo=function(n,o,a){if(!Image){return}const p=i(n);const d=t(n);if(!p||!d){return}var f=r(n,o);if(a&&e.screen){f+=\",\"+c()}const g=\"/m/rpc/frontendlogging?logType=trackEvent&moduleName=event&application=indeedmobile\"+\"&pageId=\"+n+\"&data=\"+s(\"{\"+f+\"}\");const m=new Image;m.src=g;m.height=m.width=0;document.body.appendChild(m)}})(window);window.logPageLoadInfo(\"viewjob\",\"1cmgmadib0mac5bv\",  false );(function(t){function e(e){var n=e.target;while(n&&n!==t.documentElement){if(n.tagName===\"A\"){var r=n.getAttribute(\"data-href\");if(r!==null){n.setAttribute(\"href\",r);n.removeAttribute(\"data-href\")}return}n=n.parentNode}}if(t.addEventListener){\"ontouchstart\"in t?t.addEventListener(\"touchstart\",e):t.addEventListener(\"mousedown\",e)}})(document);window._initialData={\"accountKey\":null,\"base64EncodedJson\":\"eyJhIjp0cnVlLCJiIjp0cnVlLCJjIjp0cnVlLCJkIjpmYWxzZSwiZSI6dHJ1ZSwiZyI6Imh0dHA6Ly93d3cuaW5kZWVkLmNvbS9tL2Jhc2VjYW1wL3ZpZXdqb2I_ams9YTBmNWYwY2ZiZTU5YTVkNCZmcm9tPXNlcnAmdmpzPTMiLCJoIjoiRGF0YSBTY2llbnRpc3QsIFByZW1pdW0gQ29udGVudCIsImkiOiJOZXcgWW9yaywgTlkgMTAwMTEiLCJqIjoib3JnYW5pYyJ9\",\"baseInboxUrl\":\"https:\\u002F\\u002Finbox.indeed.com\",\"baseUrl\":\"https:\\u002F\\u002Fwww.indeed.com\",\"companyFollowForm\":{\"addAlertUrl\":\"\\u002Falert?a=add&alert_params=followCompany%3D7e5b5315bb60d926&q=company%3A%27Spotify%27&alert_period=weekly&output=json&verified=0&tk=1cmgmadib0mac5bv&hct=b5be2fab2281d9c2b0faa84c2f29f5a6\",\"cancelText\":\"You can cancel anytime.\",\"checkAlertUrl\":\"\\u002Frpc\\u002Fjobalert?a=check&app=acme&q=company%3A%27Spotify%27&followCompany=7e5b5315bb60d926\",\"confirmationHeader\":\"Please check your email\",\"confirmationSubHeader\":\"we have sent a confirmation message\",\"confirmationText\":\"Click on the link in this email to start receiving your Company Alert.\",\"createAlertUrl\":\"\\u002Fmy\\u002Falerts?a=create&alert_params=followCompany%3D7e5b5315bb60d926&alert_keywords=company%3A%27Spotify%27&alert_period=weekly&output=json&followCompany=7e5b5315bb60d926&hct=b5be2fab2281d9c2b0faa84c2f29f5a6\",\"cta\":\"Get job updates from Spotify\",\"duplicateEmailMessage\":\"You are already following this company.\",\"followButton\":{\"block\":false,\"buttonSize\":\"sm\",\"buttonType\":\"tertiary\",\"contentHtml\":\"Follow\",\"dataHref\":null,\"href\":\"\\u002F\",\"icon\":null,\"largeScreenSizeText\":null,\"openInNewTab\":false,\"rel\":null,\"sanitizedHref\":null,\"sanitizedHtml\":null,\"sticky\":false,\"target\":null,\"title\":null},\"followingText\":\"Following\",\"input\":{\"errorText\":\"This field is required\",\"helpText\":null,\"id\":null,\"isDisabled\":false,\"isSmall\":false,\"label\":\"My Email:\",\"name\":\"email\",\"type\":\"text\",\"value\":null},\"invalidEmailMessage\":\"Please provide a valid email address.\",\"saveButton\":{\"block\":false,\"buttonSize\":\"sm\",\"buttonType\":\"secondary\",\"contentHtml\":\"Save\",\"dataHref\":null,\"href\":null,\"icon\":null,\"largeScreenSizeText\":null,\"openInNewTab\":false,\"rel\":null,\"sanitizedHref\":null,\"sanitizedHtml\":null,\"sticky\":false,\"target\":null,\"title\":null}},\"country\":\"US\",\"ctk\":\"1cmgmadgl408l9n0\",\"desktop\":true,\"externalJSUrl\":null,\"itaId\":null,\"itaShownTk\":null,\"jobKey\":\"a0f5f0cfbe59a5d4\",\"jobSeenData\":\"tk=1cmgmadib0mac5bv&context=viewjobrecs\",\"language\":\"en\",\"locale\":\"en_US\",\"mobileGlobalHeader\":{\"href\":\"\\u002F?from=homeButton\",\"label\":\"Home\"},\"mobtk\":\"1cmgmadib0mac5bv\",\"notifications\":{\"inboxLinkEnabled\":false,\"messagesLabel\":\"Messages\",\"newMessagesCountPlurals\":[\"{0} new\",\"{0} new\"],\"notificationCenterEnabled\":false,\"updatingText\":\"checking...\"},\"originalJobLinkModel\":{\"cookieName\":\"RCLK\",\"cookiePath\":\"\\u002F\",\"cookieValue\":\"jk=a0f5f0cfbe59a5d4&vjtk=1cmgmadib0mac5bv&ts=1536011089483&rd=&qd=\"},\"pageId\":\"viewjob\",\"phoneLinkType\":null,\"recommendedJobs\":[{\"click\":\"jk=b0ff34b235c1d0bb&vjtk=1cmgmadib0mac5bv&ts=1536011089557&onclick=1&vjk=a0f5f0cfbe59a5d4&rd=An9evWMkQfR9UKlYSgF4XYsXS7Bu06IE6kXdxitLOgI\",\"clickCookieName\":\"RCLK\",\"jobKey\":\"b0ff34b235c1d0bb\",\"url\":\"\\u002Frc\\u002Fclk?jk=b0ff34b235c1d0bb&from=recjobs&vjtk=1cmgmadib0mac5bv\"},{\"click\":\"jk=b6edb4bfeafb3c1e&vjtk=1cmgmadib0mac5bv&ts=1536011089557&onclick=1&vjk=a0f5f0cfbe59a5d4&rd=An9evWMkQfR9UKlYSgF4XYsXS7Bu06IE6kXdxitLOgI\",\"clickCookieName\":\"RCLK\",\"jobKey\":\"b6edb4bfeafb3c1e\",\"url\":\"\\u002Frc\\u002Fclk?jk=b6edb4bfeafb3c1e&from=recjobs&vjtk=1cmgmadib0mac5bv\"},{\"click\":\"jk=171566291d439083&vjtk=1cmgmadib0mac5bv&ts=1536011089557&onclick=1&vjk=a0f5f0cfbe59a5d4&rd=An9evWMkQfR9UKlYSgF4XYsXS7Bu06IE6kXdxitLOgI\",\"clickCookieName\":\"RCLK\",\"jobKey\":\"171566291d439083\",\"url\":\"\\u002Frc\\u002Fclk?jk=171566291d439083&from=recjobs&vjtk=1cmgmadib0mac5bv\"},{\"click\":\"jk=dee770f75066e4f7&vjtk=1cmgmadib0mac5bv&ts=1536011089557&onclick=1&vjk=a0f5f0cfbe59a5d4&rd=An9evWMkQfR9UKlYSgF4XYsXS7Bu06IE6kXdxitLOgI\",\"clickCookieName\":\"RCLK\",\"jobKey\":\"dee770f75066e4f7\",\"url\":\"\\u002Frc\\u002Fclk?jk=dee770f75066e4f7&from=recjobs&vjtk=1cmgmadib0mac5bv\"},{\"click\":\"jk=c504f66e8e7034bc&vjtk=1cmgmadib0mac5bv&ts=1536011089557&onclick=1&vjk=a0f5f0cfbe59a5d4&rd=An9evWMkQfR9UKlYSgF4XYsXS7Bu06IE6kXdxitLOgI\",\"clickCookieName\":\"RCLK\",\"jobKey\":\"c504f66e8e7034bc\",\"url\":\"\\u002Frc\\u002Fclk?jk=c504f66e8e7034bc&from=recjobs&vjtk=1cmgmadib0mac5bv\"}],\"recommendedJobsLink\":{\"from\":\"basecampviewjob\",\"icon\":null,\"listItem\":{\"dataHref\":null,\"emphasis\":true,\"iconType\":null,\"id\":\"recommended_jobs_link\",\"itemIcon\":null,\"itemIconClass\":null,\"link\":\"\\u002Frecommendedjobs?from=mobviewjob&mobtk=1cmgmadib0mac5bv\",\"primaryText\":\"See more recommended jobs\",\"secondaryText\":null,\"subText\":null},\"loggingParameters\":{\"a\":\"showrec\",\"tk\":\"1cmgmadib0mac5bv\"},\"preccountUrl\":\"\\u002Frpc\\u002Fpreccount?ctk=1cmgmadgl408l9n0&fmt=json&recjobcountry=US&hl=en&rq=&ak=&from=basecampviewjob\"},\"relatedLinks\":[{\"href\":\"\\u002Fjobs?q=Data+Scientist&l=New+York%2C+NY\",\"linkText\":\"Data Scientist jobs in New York, NY\"},{\"href\":\"\\u002Fjobs?q=Spotify&l=New+York%2C+NY\",\"linkText\":\"Jobs at Spotify in New York, NY\"},{\"href\":\"\\u002Fsalary?q1=Data+Scientist&l1=New+York%2C+NY\",\"linkText\":\"Data Scientist salaries in New York, NY\"}],\"saveJobButtonContainerModel\":{\"alreadySavedButtonModel\":{\"actions\":[\"Saved\",\"Applied\",\"Interviewing\",\"Offered\",\"Hired\"],\"buttonSize\":\"block\",\"buttonType\":\"secondary\",\"contentHtml\":\"Saved\",\"href\":\"\\u002F\",\"iconSize\":null},\"applyFromComputerButtonModel\":null,\"applyFromComputerLogUrl\":\"\\u002Fm\\u002Frpc\\u002Flog\\u002Femailmyself?jk=a0f5f0cfbe59a5d4&mobvjtk=1cmgmadib0mac5bv&sbt=b5be2fab2281d9c2b0faa84c2f29f5a6&ctk=1cmgmadgl408l9n0&acctKey=\",\"currentJobState\":\"VISITED\",\"didYouApplyPromptModel\":{\"calloutModel\":{\"actionsMap\":{\"NO\":{\"children\":\"Not interested\",\"className\":null,\"href\":null,\"target\":null},\"LATER\":{\"children\":\"Maybe later\",\"className\":null,\"href\":null,\"target\":null},\"YES\":{\"children\":\"Yes\",\"className\":null,\"href\":null,\"target\":null}},\"caretPosition\":null,\"children\":null,\"dismissAriaLabel\":\"Close\",\"dismissAttributes\":null,\"dismissHref\":null,\"heading\":\"Did you apply?\"},\"jobKey\":\"a0f5f0cfbe59a5d4\",\"possibleResponses\":{\"NO\":\"NO\",\"LATER\":\"LATER\",\"YES\":\"YES\"},\"userCanView\":false},\"didYouApplyResponseUrl\":\"\\u002Fm\\u002Frpc\\u002Fdidyouapply?tk=1cmgmadib0mac5bv&jobKey=a0f5f0cfbe59a5d4&originPage=viewjob&from=viewjob\",\"hashedCSRFToken\":\"b5be2fab2281d9c2b0faa84c2f29f5a6\",\"isAlreadySavedButtonVisible\":false,\"isApplyFromComputerButtonEnabled\":false,\"isLoggedIn\":false,\"isSaveWithoutLoginEnabled\":false,\"myIndeedLoginLink\":\"http:\\u002F\\u002Fwww.indeed.com\\u002Faccount\\u002Fregister?dest=%2Fviewjob%3Fjk%3Da0f5f0cfbe59a5d4%26from%3Dserp%26vjs%3D3\",\"myJobsAPIHref\":\"\\u002Frpc\\u002Flog\\u002Fmyjobs\\u002Ftransition_job_state?client=mobile&cause=statepicker&preserveTimestamp=false&tk=1cmgmadib0mac5bv&jobKey=a0f5f0cfbe59a5d4&originPage=viewjob\",\"myJobsURL\":\"\\u002Fmyjobs\\u002F?from=mobvj#\",\"possibleJobActions\":{\"SAVED\":\"save\",\"APPLIED\":\"apply\",\"INTERVIEWING\":\"interview\",\"OFFERED\":\"offer\",\"HIRED\":\"hire\",\"VISITED\":\"visit\",\"ARCHIVED\":\"archive\"},\"possibleJobStates\":{\"SAVED\":\"Saved\",\"APPLIED\":\"Applied\",\"INTERVIEWING\":\"Interviewing\",\"OFFERED\":\"Offered\",\"HIRED\":\"Hired\",\"VISITED\":\"Visited\",\"ARCHIVED\":\"Archived\"},\"saveButtonModel\":{\"block\":false,\"buttonSize\":\"block\",\"buttonType\":\"secondary\",\"contentHtml\":\"Save this job\",\"dataHref\":null,\"href\":\"\\u002F\",\"icon\":{\"iconTitle\":\"save-icon\",\"iconType\":\"favorite-border\"},\"largeScreenSizeText\":null,\"openInNewTab\":false,\"rel\":null,\"sanitizedHref\":null,\"sanitizedHtml\":null,\"sticky\":false,\"target\":null,\"title\":null},\"showSaveJobInlineCallout\":true,\"uistates\":{\"INTERVIEWING\":\"INTERVIEWING\",\"OFFERED\":\"OFFERED\",\"SAVED\":\"SAVED\",\"VISITED\":\"VISITED\",\"HIRED\":\"HIRED\",\"ARCHIVED\":\"ARCHIVED\",\"APPLIED\":\"APPLIED\"}},\"saveJobCalloutModel\":{\"actionsMap\":{\"createaccount\":{\"children\":\"Create account (it's free)\",\"className\":null,\"href\":\"http:\\u002F\\u002Fwww.indeed.com\\u002Faccount\\u002Fregister?dest=%2Fviewjob%3Fjk%3Da0f5f0cfbe59a5d4%26from%3Dserp%26vjs%3D3\",\"target\":null},\"signin\":{\"children\":\"Sign in\",\"className\":null,\"href\":\"http:\\u002F\\u002Fwww.indeed.com\\u002Faccount\\u002Flogin?dest=%2Fviewjob%3Fjk%3Da0f5f0cfbe59a5d4%26from%3Dserp%26vjs%3D3\",\"target\":null}},\"caretPosition\":null,\"children\":\"You must sign in to save jobs:\",\"dismissAriaLabel\":\"Close\",\"dismissAttributes\":null,\"dismissHref\":null,\"heading\":\"Save jobs and view them from any computer.\"},\"sentryViewModel\":{\"dnsAddress\":\"https:\\u002F\\u002F736e443433c3403396572cc0526bba2d@sentrylabs.indeed.com\\u002F87\",\"isEnabled\":false,\"pageId\":\"viewjob\",\"releaseVersion\":\"ca836431fec96de15f3c6b6778f8a3cfb2c5bdd1\",\"scriptAddress\":\"https:\\u002F\\u002Fcdn.ravenjs.com\\u002F3.14.2\\u002Fraven.min.js\",\"tk\":\"1cmgmadib0mac5bv\"},\"viewJobButtonLinkContainerModel\":{\"clickCookieName\":\"RCLK\",\"clickCookieValue\":\"jk=a0f5f0cfbe59a5d4&vjtk=1cmgmadib0mac5bv&ts=1536011089483&rd=&qd=\",\"jobKey\":\"a0f5f0cfbe59a5d4\",\"shouldSetClickTrackingCookie\":true,\"viewJobButtonLinkModel\":{\"block\":true,\"buttonSize\":\"block\",\"buttonType\":\"primary\",\"contentHtml\":\"Apply Now\",\"dataHref\":null,\"href\":\"https:\\u002F\\u002Fwww.indeed.com\\u002Frc\\u002Fclk?jk=a0f5f0cfbe59a5d4&from=vj&pos=bottom\",\"icon\":null,\"largeScreenSizeText\":\"Apply On Company Site\",\"openInNewTab\":true,\"rel\":\"noopener noreferrer\",\"sanitizedHref\":null,\"sanitizedHtml\":null,\"sticky\":false,\"target\":\"_blank\",\"title\":null}}};</script><div class=\"jobsearch-ViewJobLayout jobsearch-ViewJobLayout-changeTextSize jobsearch-ViewJobLayout-changeTextColor\"><div class=\"jobsearch-Header icl-u-lg-block icl-u-xs-hide\" id=\"desktopGlobalHeader\"><nav aria-label=\"Main Menu\" class=\"icl-DesktopGlobalHeader\" role=\"navigation\"><ul class=\"icl-DesktopGlobalHeader-items\"><li class=\"icl-DesktopGlobalHeader-item icl-DesktopGlobalHeader-item--active\"><a class=\"icl-DesktopGlobalHeader-link\" href=\"/\">Find Jobs</a></li><li class=\"icl-DesktopGlobalHeader-item\"><a class=\"icl-DesktopGlobalHeader-link\" data-href=\"/companies?from=headercmplink&amp;attributionid=homepage\" href=\"/companies\">Company Reviews</a></li><li class=\"icl-DesktopGlobalHeader-item\"><a class=\"icl-DesktopGlobalHeader-link\" data-href=\"/salaries?from=headercmplink&amp;attributionid=HOMEPAGE\" href=\"/salaries\">Find Salaries</a></li><li class=\"icl-DesktopGlobalHeader-item\"><a class=\"icl-DesktopGlobalHeader-link\" data-href=\"/resumes?hl=en&amp;co=US&amp;isid=find-resumes&amp;ikw=vjtop\" href=\"/resumes?hl=en&amp;co=US\">Find Resumes</a></li><li class=\"icl-DesktopGlobalHeader-item\"><a class=\"icl-DesktopGlobalHeader-link\" data-href=\"/hire?hl=en&amp;cc=US&amp;isid=employerlink-US&amp;ikw=vjtop\" href=\"/hire?hl=en&amp;cc=US\">Employers / Post Job</a></li></ul><ul class=\"icl-DesktopGlobalHeader-items icl-DesktopGlobalHeader-items--right\"><li class=\"icl-DesktopGlobalHeader-item\"><a class=\"icl-DesktopGlobalHeader-link icl-DesktopGlobalHeader-link--promo\" data-href=\"/promo/resume?trk.origin=viewjob&amp;trk.variant=rezprmstd&amp;trk.tk=1cmgmadib0mac5bv&amp;from=nav&amp;subfrom=rezprmstd\" href=\"/promo/resume\">Upload your resume</a></li><li class=\"icl-DesktopGlobalHeader-item\"><a class=\"icl-DesktopGlobalHeader-link\" href=\"http://www.indeed.com/account/login?dest=%2Fviewjob%3Fjk%3Da0f5f0cfbe59a5d4%26from%3Dserp%26vjs%3D3\" rel=\"nofollow\">Sign in</a></li></ul></nav></div><div class=\"icl-u-lg-hide\"><script id=\"_indeed_gnav_config\" type=\"application/json\">{\"isInboxTestActive\":false,\"inboxApiHref\":\"https://inbox.indeed.com/api/getConversationCount?from=gnav-jobsearch--indeedmobile-viewjob\\u0026gnavTK=1cmgmadj4583u8s0\\u0026tk=1cmgmadib0mac5bv\\u0026co=US\\u0026hl=en\",\"inboxHref\":\"https://inbox.indeed.com/messages?from=gnav-jobsearch--indeedmobile-viewjob\\u0026gnavTK=1cmgmadj4583u8s0\\u0026tk=1cmgmadib0mac5bv\",\"logRoute\":\"https://t.indeed.com/gnav/log?from=jobsearch--indeedmobile-viewjob\\u0026parentLogId=1cmgmadj4583u8s0\\u0026hostAppTk=1cmgmadib0mac5bv\",\"inboxLogType\":\"gnavInbox\",\"inboxLth\":\"12140b7982d032f1660f59e3e976c72d\",\"jsErrorLogType\":\"gnavJSError\",\"jsErrorLth\":\"6411ec182c6acd8714dc2d03716eed1d\",\"cdnLoadedLogType\":\"gnavCdnLoaded\",\"cdnLoadedLth\":\"bed7b0a1911ab97c9d758639651a354e\",\"jsEnabledLogType\":\"gnavJSEnabled\",\"jsEnabledLth\":\"5e9311c1001227ca5c6c32db123fb854\",\"jsPath\":\"https://d3fw5vlhllyvee.cloudfront.net/dist/c35a2e12753d236d4877/scripts/external.js\",\"homeButtonText\":\"Home\",\"logoURL\":\"/?from=homeButton\",\"isShowInboxIcon\":false}</script><style>.gnav .icl-Logo{box-sizing:border-box!important;display:inline-block!important}[dir] .gnav .icl-Logo{background-repeat:no-repeat!important}.gnav .icl-Logo--wordmark--lg{width:160px!important;height:40px!important}.gnav .icl-Logo--wordmark--md{width:120px!important;height:30px!important}.gnav .icl-Logo--wordmark--sm{width:80px!important;height:20px!important}[dir] .gnav .icl-Logo--wordmark{background-image:url(\"data:image/svg+xml;charset=utf8,%3Csvg xmlns='http://www.w3.org/2000/svg' xmlns:xlink='http://www.w3.org/1999/xlink' viewBox='0 0 320 80'%3E%3Cpath d='M287.31 13.4a5.24 5.24 0 0 0-4.22-1.76 5 5 0 0 0-4.22 1.92 9 9 0 0 0-1.49 5.59V37a24.49 24.49 0 0 0-7-5.52 16.88 16.88 0 0 0-5.2-1.56 25.92 25.92 0 0 0-3.6-.24A18.43 18.43 0 0 0 247.06 36c-3.67 4.23-5.51 10.09-5.51 17.65A33.74 33.74 0 0 0 243 63.6a24 24 0 0 0 4.06 8 19.15 19.15 0 0 0 6.41 5.24 17.87 17.87 0 0 0 8 1.84 19.14 19.14 0 0 0 3.75-.35 14.73 14.73 0 0 0 2.27-.55 19.32 19.32 0 0 0 5.12-2.66 30.13 30.13 0 0 0 4.81-4.54v1.17a7.52 7.52 0 0 0 1.6 5.13 5.66 5.66 0 0 0 8.21.08 7.48 7.48 0 0 0 1.8-5.17V18.48a7.76 7.76 0 0 0-1.72-5.08zm-12.15 49.22a11.56 11.56 0 0 1-4.18 5 10.7 10.7 0 0 1-5.78 1.64 10.45 10.45 0 0 1-5.78-1.72 11.84 11.84 0 0 1-4.18-5.16 20.67 20.67 0 0 1-1.52-8.37 20.86 20.86 0 0 1 1.45-8.14 12 12 0 0 1 4-5.4 9.68 9.68 0 0 1 5.94-1.88h.12a9.93 9.93 0 0 1 5.74 1.84 12.56 12.56 0 0 1 4.22 5.28 19.89 19.89 0 0 1 1.56 8.29 20.36 20.36 0 0 1-1.59 8.62zm-37.9.51a4.38 4.38 0 0 0-3-1 4 4 0 0 0-2.62.78c-1.52 1.41-2.74 2.54-3.67 3.36a33.69 33.69 0 0 1-3.13 2.31 12.3 12.3 0 0 1-3.44 1.57 14 14 0 0 1-3.95.51 6.6 6.6 0 0 1-.9 0 10.72 10.72 0 0 1-5-1.57 11.55 11.55 0 0 1-4.3-4.66A17.22 17.22 0 0 1 205.6 57h23.54c3.17 0 5.65-.34 7.37-1.2s2.62-2.9 2.62-5.91a20.41 20.41 0 0 0-2.54-9.66 19.64 19.64 0 0 0-7.59-7.74 23.28 23.28 0 0 0-12.12-3h-.35a27.4 27.4 0 0 0-9.53 1.75 21.07 21.07 0 0 0-7.54 5 22.48 22.48 0 0 0-4.61 7.86 30.26 30.26 0 0 0-1.6 9.94c0 7.59 2.15 13.54 6.45 18 4.06 4.19 9.69 6.38 16.84 6.61h1.25a27.65 27.65 0 0 0 9-1.33 22.39 22.39 0 0 0 6.48-3.32 16 16 0 0 0 3.87-4.23 7.8 7.8 0 0 0 1.29-3.8 3.58 3.58 0 0 0-1.17-2.84zm-28.14-22.4a9.58 9.58 0 0 1 7.39-3.09 9.94 9.94 0 0 1 7.58 3.05c1.91 2 3 5.25 3.32 9.4H205.6c.4-4.09 1.57-7.29 3.52-9.36zM189 63.13a4.38 4.38 0 0 0-3-1 4 4 0 0 0-2.62.78c-1.52 1.41-2.74 2.54-3.67 3.36a33.69 33.69 0 0 1-3.13 2.31 12.3 12.3 0 0 1-3.44 1.57 14 14 0 0 1-3.95.51 6.6 6.6 0 0 1-.9 0 10.72 10.72 0 0 1-5-1.57 11.55 11.55 0 0 1-4.3-4.66 17.22 17.22 0 0 1-1.64-7.43h23.54c3.17 0 5.65-.34 7.37-1.2s2.62-2.9 2.62-5.91a20.41 20.41 0 0 0-2.54-9.66 19.64 19.64 0 0 0-7.58-7.71 23.28 23.28 0 0 0-12.12-3h-.35a27.4 27.4 0 0 0-9.54 1.72 21.07 21.07 0 0 0-7.54 5 22.48 22.48 0 0 0-4.61 7.86 30.26 30.26 0 0 0-1.6 9.94c0 7.59 2.15 13.54 6.45 18 4.06 4.19 9.69 6.38 16.84 6.61h1.25a27.65 27.65 0 0 0 9-1.33A22.39 22.39 0 0 0 185 74a16 16 0 0 0 3.87-4.23 7.8 7.8 0 0 0 1.29-3.8 3.58 3.58 0 0 0-1.16-2.84zm-28.14-22.4a9.58 9.58 0 0 1 7.39-3.09 9.94 9.94 0 0 1 7.58 3.05c1.91 2 3 5.25 3.32 9.4h-21.8c.39-4.09 1.56-7.29 3.52-9.36zm-21.65-27.17A5.26 5.26 0 0 0 135 11.8a5 5 0 0 0-4.22 1.92c-1.31 1.52-1.65 3.24-1.65 5.7V37.2a23.57 23.57 0 0 0-6.62-5.57 17.21 17.21 0 0 0-5.2-1.56 25.92 25.92 0 0 0-3.6-.24 18.38 18.38 0 0 0-14.54 6.34c-3.63 4.23-5.47 10.1-5.47 17.65a35.11 35.11 0 0 0 1.37 9.94 24.13 24.13 0 0 0 4.1 8 19.15 19.15 0 0 0 6.41 5.24 17.87 17.87 0 0 0 8 1.84 19.72 19.72 0 0 0 3.75-.35 14.67 14.67 0 0 0 2.27-.55 19.32 19.32 0 0 0 5.12-2.66 31.93 31.93 0 0 0 4.81-4.54v1.17a7.52 7.52 0 0 0 1.6 5.13 5.62 5.62 0 0 0 8.17.08 7.53 7.53 0 0 0 1.56-5.2V18.68a7.87 7.87 0 0 0-1.65-5.12zm-11.9 49.22a11.37 11.37 0 0 1-4.22 5 10.57 10.57 0 0 1-5.74 1.64 10.44 10.44 0 0 1-5.78-1.72 11.58 11.58 0 0 1-4.18-5.16 20.68 20.68 0 0 1-1.52-8.37 21.64 21.64 0 0 1 1.41-8.14 12.08 12.08 0 0 1 4.06-5.4 9.57 9.57 0 0 1 5.9-1.88h.16a9.72 9.72 0 0 1 5.6 1.88 12.35 12.35 0 0 1 4.26 5.28 20.52 20.52 0 0 1 1.56 8.29 21 21 0 0 1-1.51 8.58zM26 71.27v-28.8c.82.08 1.6.12 2.42.12A20.27 20.27 0 0 0 39 39.65v31.62c0 2.7-.49 4.7-1.71 6a6.16 6.16 0 0 1-4.77 2 6 6 0 0 1-4.69-2c-1.21-1.33-1.84-3.33-1.84-6zm-.12-69C34-.69 43.28-.53 50.23 5.5a11.79 11.79 0 0 1 3.36 4.5c.7 2.27-2.46-.23-2.89-.55a30.92 30.92 0 0 0-7.07-3.6C29.95 1.66 17 9.29 9 21.15A64.11 64.11 0 0 0 1.61 38a9.59 9.59 0 0 1-.7 2.11c-.35.67-.16-1.8-.16-1.88a52 52 0 0 1 1.41-7.36C5.87 17.94 14.08 7.18 25.88 2.25zm10.59 32A9.92 9.92 0 1 1 40.81 21a9.88 9.88 0 0 1-4.34 13.29zm20.87 2.53v1.5a21.48 21.48 0 0 1 6.9-6.13 18.79 18.79 0 0 1 8.65-1.94 17.35 17.35 0 0 1 8.45 2.06 13 13 0 0 1 5.55 5.82 13.56 13.56 0 0 1 1.55 4.78 48.84 48.84 0 0 1 .35 6.48v22.24A7.92 7.92 0 0 1 87.13 77a5.41 5.41 0 0 1-4.27 1.86A5.48 5.48 0 0 1 78.52 77a7.81 7.81 0 0 1-1.62-5.4V51.7c0-4-.59-7-1.68-9.09s-3.3-3.14-6.55-3.14a9.84 9.84 0 0 0-5.82 1.9A11 11 0 0 0 59 46.65c-.58 1.79-.91 5.09-.91 10v14.96c0 2.45-.52 4.23-1.65 5.47a5.68 5.68 0 0 1-4.34 1.82 5.38 5.38 0 0 1-4.29-1.9 7.82 7.82 0 0 1-1.67-5.4V37c0-2.29.5-4 1.51-5.09a5.1 5.1 0 0 1 4.07-1.71 5.41 5.41 0 0 1 2.83.74 5.29 5.29 0 0 1 2.06 2.25 8 8 0 0 1 .74 3.64z' fill='%232164f3' fill-rule='evenodd'/%3E%3C/svg%3E\")!important}.gnav .icl-Button--sm{font-family:Helvetica Neue,Helvetica,Arial,Liberation Sans,Roboto,Noto,sans-serif!important;font-size:.75rem!important;letter-spacing:0!important;font-weight:700!important;line-height:1.34!important;line-height:1.5rem!important}[dir] .gnav .icl-Button--sm{padding-top:.25rem!important;padding-bottom:.25rem!important}[dir=ltr] .gnav .icl-Button--sm,[dir=rtl] .gnav .icl-Button--sm{padding-left:1rem!important;padding-right:1rem!important}.gnav .icl-Button--secondary{box-sizing:border-box!important;display:inline-block!important;color:#085ff7!important;-webkit-font-smoothing:antialiased!important;text-overflow:ellipsis!important;text-decoration:none!important;white-space:nowrap!important;-webkit-highlight:none!important;-webkit-tap-highlight-color:transparent!important;-webkit-touch-callout:none!important;-webkit-appearance:none!important;-moz-appearance:none!important;appearance:none!important;-webkit-user-select:none!important;-moz-user-select:none!important;-ms-user-select:none!important;user-select:none!important}[dir] .gnav .icl-Button--secondary{margin:0!important;text-align:center!important;background-color:#fff!important;border:.125rem solid #085ff7!important;border-radius:6.25rem!important;background-repeat:repeat-x!important;cursor:pointer!important}[dir] .gnav .icl-Button--secondary::-moz-focus-inner{border:0!important}.gnav .icl-Button--secondary:disabled,.gnav .icl-Button--secondary:disabled:hover{color:#ccc!important}[dir] .gnav .icl-Button--secondary:disabled,[dir] .gnav .icl-Button--secondary:disabled:hover{cursor:default!important;background:#fff!important;border:.125rem solid #ececec!important}.gnav .icl-Button--secondary:visited{color:#085ff7!important}.gnav .icl-Button--secondary:active,.gnav .icl-Button--secondary:focus,.gnav .icl-Button--secondary:hover{color:#1497ff!important;text-decoration:none!important}[dir] .gnav .icl-Button--secondary:active,[dir] .gnav .icl-Button--secondary:focus,[dir] .gnav .icl-Button--secondary:hover{background-color:#fff!important;border-color:#1497ff!important}.gnav .icl-Button--secondary:focus{-webkit-box-shadow:0 0 0 2px #fff,0 0 0 4px #085ff7!important;outline:0!important}[dir] .gnav .icl-Button--secondary:focus{box-shadow:0 0 0 2px #fff,0 0 0 4px #085ff7!important}.gnav .gnav-MobileHeader{display:flex!important;flex-flow:row wrap!important;justify-content:space-between!important;align-items:stretch!important;min-height:44px!important;padding-left:1rem!important}.gnav .gnav-MobileHeader-links{display:inherit!important}.gnav .gnav-MobileHeader-item{display:flex!important;flex-direction:column!important;justify-content:center!important;text-decoration:none!important;padding-right:1rem!important}.gnav .gnav-MobileHeader-item--button{padding-left:0!important}.gnav .gnav-MobileHeader-button{line-height:1rem!important}.gnav .icl-IconFunctional{box-sizing:border-box!important;display:inline-block!important;overflow:hidden!important}[dir] .gnav .icl-IconFunctional{background-repeat:no-repeat!important;background-position:50%!important}.gnav .icl-IconFunctional--md{line-height:1.5rem!important;height:1.5rem!important;width:1.5rem!important}[dir] .gnav .icl-IconFunctional--md.icl-IconFunctional--interviews{background-image:url(\"data:image/svg+xml;charset=utf8,%3Csvg xmlns='http://www.w3.org/2000/svg' viewBox='0 0 24 22'%3E%3Cg%3E%3Cpath d='M14 4V0H0v10h3v4l3-2.25V18h7l6 4v-4h5V4zM6 9.25L5 10V8H2V2h10v2H6zM22 16h-5v2.26l-2.89-1.93-.5-.34H8V6h14z'/%3E%3Cpath d='M10 9h10v1H10zM10 12h10v1H10z'/%3E%3C/g%3E%3C/svg%3E\")!important}.gnav .gnav-MobileHeader-button{background-image:none!important}.gnav .gnav-MobileHeader{background-color:#fff!important}@media (min-width:62em){.gnav .gnav-MobileHeader{display:none!important}}.gnav .main .gnav-MobileHeader-item--icon{visibility:hidden!important;position:relative!important}.gnav .main.inboxTstOn .gnav-MobileHeader-item--icon{visibility:visible!important}.gnav .main.hasIndicator .gnav-MobileHeader-item--icon:after{background-color:#f53d4e!important;content:\"\"!important;height:9px!important;width:9px!important;border-radius:50%!important;position:absolute!important;top:24%!important;left:47%!important}\n",
       "/*# sourceMappingURL=globalnav.css.map */</style><div class=\"gnav\" id=\"gnav-main-container\"><div class=\"main\"><div class=\"gnav-MobileHeader\"><a class=\"gnav-MobileHeader-item\" href=\"/?from=homeButton\"><span alt=\"Indeed\" class=\"icl-Logo icl-Logo--wordmark icl-Logo--wordmark--sm icl-IndeedLogo\"></span></a><div class=\"gnav-MobileHeader-links\"><div class=\"gnav-MobileHeader-item gnav-MobileHeader-item--button\"><a class=\"icl-Button icl-Button--secondary icl-Button--sm gnav-MobileHeader-button\" href=\"/?from=homeButton\" role=\"link\">Home</a></div></div></div></div></div><script>!function(n){function t(r){if(e[r])return e[r].exports;var o=e[r]={i:r,l:!1,exports:{}};return n[r].call(o.exports,o,o.exports,t),o.l=!0,o.exports}var e={};t.m=n,t.c=e,t.d=function(n,e,r){t.o(n,e)||Object.defineProperty(n,e,{configurable:!1,enumerable:!0,get:r})},t.n=function(n){var e=n&&n.__esModule?function(){return n.default}:function(){return n};return t.d(e,\"a\",e),e},t.o=function(n,t){return Object.prototype.hasOwnProperty.call(n,t)},t.p=\"/static/\",t(t.s=37)}({3:function(n,t,e){\"use strict\";e.d(t,\"c\",function(){return u}),e.d(t,\"b\",function(){return i}),e.d(t,\"a\",function(){return a});var r=e(6),o=function(n,t){return{logType:n.jsErrorLogType,lth:n.jsErrorLth,toString:t.toString(),message:t.message,stack:t.stack,name:t.name}},c=function(n){return{logType:n.jsEnabledLogType,lth:n.jsEnabledLth,jsEnabled:1}},u=function(n){try{var t=document.head||document.body,e=document.createElement(\"script\");e.src=n,t.appendChild(e),t.removeChild(e)}catch(n){}},i=function(n,t){var e=Object(r.a)(o(n,t)),c=n.logRoute+e;return u(c)},a=function(n){var t=Object(r.a)(c(n)),e=n.logRoute+t;return u(e)}},37:function(n,t,e){n.exports=e(38)},38:function(n,t,e){\"use strict\";Object.defineProperty(t,\"__esModule\",{value:!0});var r=e(5),o=function(){function n(n,t){t=t||{bubbles:!1,cancelable:!1,detail:{}};var e=document.createEvent(\"CustomEvent\");return e.initCustomEvent(n,t.bubbles,t.cancelable,t.detail),e}return\"function\"==typeof window.CustomEvent?window.CustomEvent:(n.prototype=window.Event.prototype,n)}(),c=function(n){var t=new o(r.a,{detail:{event:n}});document.dispatchEvent(t)},u=e(4),i=e(3),a=function(n){var t=document.createElement(\"script\");t.src=n.jsPath,t.async=!0,(document.head||document.body).appendChild(t)},d=function(){return document.querySelector(r.d).addEventListener(\"click\",c)};!function(){var n=void 0;try{n=Object(u.a)();var t={};d(),t.GLOBALNAV_CLICK_EVENT=r.a,t.initialized=!0,window._INDEED_GNAV=t,a(n),Object(i.a)(n)}catch(t){Object(i.b)(n,t)}}()},4:function(n,t,e){\"use strict\";e.d(t,\"a\",function(){return o});var r=e(5),o=function(){try{return window[r.b]=window[r.b]||{},window[r.b].config=window[r.b].config||JSON.parse(document.querySelector(r.c).innerHTML),window[r.b].config}catch(n){return{}}}},5:function(n,t,e){\"use strict\";e.d(t,\"a\",function(){return r}),e.d(t,\"d\",function(){return o}),e.d(t,\"c\",function(){return c}),e.d(t,\"b\",function(){return u});var r=\"GLOBALNAV_CLICK_EVENT\",o=\"#gnav-main-container\",c=\"#_indeed_gnav_config\",u=\"_INDEED_GNAV\"},6:function(n,t,e){\"use strict\";e.d(t,\"a\",function(){return r});var r=function(n){var t=\"\";for(var e in n){var r=String(n[e]);t+=r?\"&\"+e+\"=\"+encodeURIComponent(r):\"\"}return t}}});\n",
       "//# sourceMappingURL=inline.js.map</script></div><div class=\"icl-Container--fluid icl-u-xs-p--sm\"><div class=\"icl-Grid jobsearch-ViewJobLayout-content\"><div class=\"icl-Grid-col icl-u-lg-span2 icl-u-lg-mt--sm\"><div class=\"icl-u-xs-hide icl-u-lg-block\"><a href=\"/\"><div class=\"icl-Grid-col icl-u-lg-block icl-u-xs-hide icl-u-lg-mt--sm\"><span alt=\"Indeed\" class=\"icl-Logo icl-Logo--wordmark icl-Logo--wordmark--lg icl-IndeedLogo\"></span></div></a></div></div><div class=\"icl-Grid-col icl-u-xs-span12 icl-u-lg-span10\"><div class=\"icl-u-xs-hide icl-u-lg-block\"><form action=\"/jobs\" class=\"icl-WhatWhere icl-WhatWhere--sm\" method=\"get\"></form><div class=\"icl-WhatWhere-input--what\"><div class=\"icl-TextInput\"><div class=\"icl-TextInput-labelWrapper\" id=\"label-q\"><label class=\"icl-TextInput-label icl-TextInput-label--whatWhere\" for=\"text-input-what\" id=\"text-input-what-label\">what</label><label class=\"icl-TextInput-helpText icl-TextInput-helpText--whatWhere\" for=\"text-input-what\">job title, keywords, or company</label></div><input autocomplete=\"off\" class=\"icl-TextInput-control icl-TextInput-control--sm icl-TextInput-control--whatWhere\" id=\"text-input-what\" name=\"q\" type=\"text\" value=\"\"/></div></div><div class=\"icl-WhatWhere-input--where\"><div class=\"icl-TextInput\"><div class=\"icl-TextInput-labelWrapper\" id=\"label-l\"><label class=\"icl-TextInput-label icl-TextInput-label--whatWhere\" for=\"text-input-where\" id=\"text-input-where-label\">where</label><label class=\"icl-TextInput-helpText icl-TextInput-helpText--whatWhere\" for=\"text-input-where\">city, state, or zip code</label></div><input autocomplete=\"off\" class=\"icl-TextInput-control icl-TextInput-control--sm icl-TextInput-control--whatWhere\" id=\"text-input-where\" name=\"l\" type=\"text\" value=\"Jersey City, NJ\"/></div></div><div class=\"icl-WhatWhere-buttonWrapper\"><button class=\"icl-Button icl-Button--sm icl-Button--whatWhere icl-WhatWhere-button\" type=\"submit\">Find Jobs</button></div><div class=\"icl-WhatWhere-advSearchWrapper\"><a class=\"icl-WhatWhere-advSearchLink\" href=\"/advanced_search\">Advanced Job Search</a></div></div></div></div></div></div></body></html><div class=\"jobsearch-ViewJobLayout-rowSpacingLine icl-u-lg-block icl-u-xs-hide\"></div><div class=\"icl-Grid jobsearch-ViewJobLayout-content icl-u-lg-mt--md\"><div class=\"jobsearch-ViewJobLayout-innerContent icl-Grid-col icl-u-xs-span12 icl-u-lg-offset2 icl-u-lg-span10\"><div class=\"icl-Grid\"><div class=\"jobsearch-ViewJobLayout-jobDisplay icl-Grid-col icl-u-xs-span12 icl-u-lg-span7\"><div class=\"jobsearch-JobComponent icl-u-xs-mt--sm\"><div><h3 class=\"icl-u-xs-mb--xs icl-u-xs-mt--none jobsearch-JobInfoHeader-title\">Data Scientist, Premium Content</h3><div class=\"icl-u-xs-mt--xs icl-u-textColor--secondary jobsearch-JobInfoHeader-subtitle icl-u-xs-mb--md\"><div class=\"jobsearch-InlineCompanyRating icl-u-xs-mt--xs icl-u-xs-mb--md\"><div class=\"icl-u-lg-mr--sm icl-u-xs-mr--xs\">Spotify</div><div class=\"icl-u-lg-block icl-u-xs-hide icl-u-lg-mr--sm\"><div class=\"icl-Ratings icl-Ratings--gold icl-Ratings--sm\" itemscope=\"\" itemtype=\"http://schema.org/AggregateRating\"><meta content=\"4.400000095367432\" itemprop=\"ratingValue\"><meta content=\"34\" itemprop=\"ratingCount\"><a aria-label=\"4.4 out of 5\" class=\"icl-Ratings-starsCountWrapper icl-Ratings-link\" href=\"https://www.indeed.com/cmp/Spotify/reviews?campaignid=mobvjcmp&amp;cmpratingc=mobviewjob&amp;from=viewjob&amp;tk=1cmgmadib0mac5bv&amp;fromjk=a0f5f0cfbe59a5d4&amp;jt=Data+Scientist%2C+Premium+Content\"><div class=\"icl-Ratings-starsWrapper\"><div class=\"icl-Ratings-starsUnfilled\"><div class=\"icl-Ratings-starsFilled\" style=\"width: 53.40000057220459px;\"></div></div></div><div aria-hidden=\"true\" class=\"icl-Ratings-count\">34 reviews</div></a></meta></meta></div></div><div class=\"icl-u-lg-mr--sm icl-u-xs-mr--xs\">-</div><div>New York, NY 10011</div></div></div></div><div class=\"jobsearch-CompanyReview icl-u-lg-hide\"><a class=\"icl-NavigableContainer-linkWrapper\" href=\"https://www.indeed.com/cmp/Spotify/reviews?campaignid=mobvjcmp&amp;cmpratingc=mobviewjob&amp;from=mobviewjob&amp;tk=1cmgmadib0mac5bv&amp;fromjk=a0f5f0cfbe59a5d4&amp;jt=Data+Scientist%2C+Premium+Content\"><div class=\"icl-NavigableContainer icl-NavigableContainer--hasBorderBottom icl-NavigableContainer--hasBorderTop\"><div class=\"icl-NavigableContainer-innerContainer\"><h4 class=\"jobsearch-CompanyReview--heading\">Spotify</h4><div class=\"icl-Ratings icl-Ratings--gold icl-Ratings--md\" itemscope=\"\" itemtype=\"http://schema.org/AggregateRating\"><meta content=\"4.400000095367432\" itemprop=\"ratingValue\"><meta content=\"34\" itemprop=\"ratingCount\"><div aria-label=\"4.4 out of 5\" class=\"icl-Ratings-starsCountWrapper\" tabindex=\"0\"><div class=\"icl-Ratings-starsWrapper\"><div class=\"icl-Ratings-starsUnfilled\"><div class=\"icl-Ratings-starsFilled\" style=\"width: 79.80000114440918px;\"></div></div></div><div aria-hidden=\"true\" class=\"icl-Ratings-count\">34 reviews</div></div><div aria-hidden=\"true\" class=\"icl-Ratings-description\">Read what people are saying about working here.</div></meta></meta></div><div class=\"icl-NavigableContainer-iconContainer\"><div class=\"icl-NavigableContainer-icon icl-NavigableContainer-icon--isRightArrow\"><svg class=\"icl-Icon icl-Icon--sm icl-Icon--left icl-Icon--black chevron-right\" role=\"img\"><g><path d=\"M7.5,4.5L6.44,5.56,9.88,9,6.44,12.44,7.5,13.5,12,9Z\"></path></g></svg></div></div></div></div></a></div><div class=\"jobsearch-JobComponent-description icl-u-xs-mt--md\"><div><div>As Spotify Premium swells to over 80M subscribers around the globe, we are looking for new ways to continue to grow our subscription business through leveraging our unique relationships with artists and labels. You would be joining Spotify on the Premium Analytics team, a core business strategy and insights team, as the first data scientist devoted to content strategy. In this unique position, your work would be essential in shaping how Spotify is able to grow through through innovative content initiatives, new product offerings and artist marketing efforts. You will see first hand how your work translates into new strategies, products and consumer experiences as we enter a new phase in Spotify Premium’s life.You will work with a global team of world-class analysts, data scientists, business managers, marketers and engineers. We are all passionate about what we do, and move forward with high impact projects at a high pace. Learning and improving is part of our daily routine, and you will be free to develop your own skills and ways of working. At your fingertips you’ll have access to petabytes of data, and will get the opportunity to be creative with how you drive insights and strategies from that. Above all, your work will impact the way the world experiences music.<br/>\n",
       "<b>What you’ll do</b><br/>\n",
       "<br/>\n",
       "• Develop data driven strategies to drive the growth of Spotify subscribers through innovative content initiatives, new product offerings and artist marketing efforts. • Create and communicate actionable recommendations that improve our in-app targeting, user messaging, and channel optimization. • Build statistical models and analysis that explain user acquisition and engagement for marketing and product developments.<br/>\n",
       "<br/>\n",
       "<ul><li>Work closely with business stakeholders to understand the change they are driving and help them discover new opportunities for growth.</li></ul>\n",
       "<br/>\n",
       "<ul><li>Scope and design comprehensive tests, making sure that we’re learning at every step along the way.</li></ul></div>\n",
       "<div><b>\n",
       "Who are you</b><br/>\n",
       "<br/>\n",
       "<ul><li>You are intellectually curious, creative, and diligent…you enjoy thinking about business and product strategy as much as data.</li></ul>\n",
       "<br/>\n",
       "<ul><li>Have professional experience with data science techniques such as advanced regression analysis, segmentation, user churn and LTV modeling, testing &amp; experimentation, and/or optimization.</li></ul>\n",
       "<br/>\n",
       "<ul><li>You have 1-3 years of hands-on experience synthesizing insights from data using tools such as Python, SQL, R. Experience with distributed systems (Redshift, Hadoop, BigQuery) a plus.</li></ul>\n",
       "<br/>\n",
       "<ul><li>You have studied Economics, Computer Science, Statistics, Engineering or a relevant field.</li></ul></div></div></div><div class=\"jobsearch-JobDescriptionTab-content\"><div class=\"jobsearch-JobMetadataFooter\"><span class=\"icl-u-textColor--success\">Spotify</span> - 24 days ago<span class=\"icl-u-lg-inline icl-u-xs-hide\" id=\"saveJobInlineCallout\"> - <a title=\"Save this job to my.indeed\">save job</a></span><span class=\"icl-u-lg-inline icl-us-xs-hide\" id=\"originalJobLinkContainer\"> - <a href=\"https://www.indeed.com/rc/clk?jk=a0f5f0cfbe59a5d4&amp;from=vj&amp;pos=top\" rel=\"noopener noreferrer\" target=\"_blank\">original job</a></span><div class=\"icl-u-lg-block icl-u-xs-hide icl-u-lg-mt--md\" id=\"saveJobInlineCalloutContainer\"></div></div></div><div class=\"icl-Grid icl-Grid--gutters\"><div class=\"jobsearch-ViewJobButtons-container icl-Grid-col icl-u-xs-span12 icl-u-xs-textCenter icl-u-xs-my--md icl-u-lg-textLeft\" id=\"jobsearch-ViewJobButtons-container\"><div class=\"icl-u-lg-inlineBlock\" id=\"viewJobButtonLinkContainer\"><div class=\"icl-u-lg-hide\"><a class=\"icl-Button icl-Button--primary icl-Button--block\" href=\"https://www.indeed.com/rc/clk?jk=a0f5f0cfbe59a5d4&amp;from=vj&amp;pos=bottom\">Apply Now</a></div><div class=\"icl-u-lg-block icl-u-xs-hide icl-u-lg-textCenter\"><a class=\"icl-Button icl-Button--primary icl-Button--md\" href=\"https://www.indeed.com/rc/clk?jk=a0f5f0cfbe59a5d4&amp;from=vj&amp;pos=bottom\">Apply On Company Site</a></div></div><div class=\"icl-u-lg-inlineBlock\" id=\"saveJobButtonContainer\"><div class=\"icl-u-lg-hide\"><button class=\"icl-Button icl-Button--secondary icl-Button--block\" disabled=\"true\" type=\"button\"><span class=\"icl-ButtonIcon\"><svg aria-label=\"save-icon\" class=\"icl-Icon icl-Icon--sm icl-Icon--left icl-Icon--inheritColor favorite-border\" role=\"img\"><g><path d=\"M12.38,2.25A4.49,4.49,0,0,0,9,3.82,4.49,4.49,0,0,0,5.63,2.25,4.08,4.08,0,0,0,1.5,6.38c0,2.83,2.55,5.15,6.41,8.66L9,16l1.09-1C14,11.52,16.5,9.21,16.5,6.38A4.08,4.08,0,0,0,12.38,2.25ZM9.08,13.91L9,14l-0.08-.08C5.35,10.68,3,8.54,3,6.38A2.56,2.56,0,0,1,5.63,3.75,2.93,2.93,0,0,1,8.3,5.52H9.7a2.91,2.91,0,0,1,2.67-1.77A2.56,2.56,0,0,1,15,6.38C15,8.54,12.65,10.68,9.08,13.91Z\"></path></g></svg></span>Save this job</button></div><div class=\"icl-u-xs-block icl-u-lg-hide\"></div></div></div></div></div><h4 class=\"jobsearch-RecommendedJobsTitle\">Other jobs you may like</h4><div class=\"jobsearch-RecommendedJobsList\"><div class=\"icl-NavigableContainer icl-NavigableContainer--hasBorderBottom icl-NavigableContainer--hasBorderTop\"><div class=\"icl-NavigableContainer-innerContainer\"><div class=\"icl-JobResult\" data-jobkey=\"b0ff34b235c1d0bb\"><h2 class=\"icl-JobResult-title \"><a class=\"icl-JobResult-jobLink\" href=\"/rc/clk?jk=b0ff34b235c1d0bb\" rel=\"noopener nofollow\" title=\"Data Scientist - NLP\">Data Scientist - NLP</a></h2><div class=\"icl-JobResult-companyContainer \"><span class=\"icl-JobResult-companyNameContainer\" itemprop=\"hiringOrganization\" itemscope=\"\" itemtype=\"http://schema.org/Organization\"><span class=\"icl-JobResult-companyName\" itemprop=\"name\">compstak.com</span></span><span class=\"icl-JobResult-jobLocation\">New York, NY</span></div><div class=\"icl-JobResult-infoContainer\"></div><div class=\"icl-JobResult-resultInfo\"><span class=\"icl-JobResult-resultsContainer\"><span class=\"icl-JobResult-resultSource\">compstak.com</span><span class=\"icl-JobResult-resultDivider\">-</span><span class=\"icl-JobResult-resultAge\">1 hour ago</span></span></div></div><div class=\"icl-NavigableContainer-iconContainer\"><div class=\"icl-NavigableContainer-icon icl-NavigableContainer-icon--isRightArrow\"><svg class=\"icl-Icon icl-Icon--sm icl-Icon--left icl-Icon--black chevron-right\" role=\"img\"><g><path d=\"M7.5,4.5L6.44,5.56,9.88,9,6.44,12.44,7.5,13.5,12,9Z\"></path></g></svg></div></div></div></div><div class=\"icl-NavigableContainer icl-NavigableContainer--hasBorderBottom \"><div class=\"icl-NavigableContainer-innerContainer\"><div class=\"icl-JobResult\" data-jobkey=\"b6edb4bfeafb3c1e\"><h2 class=\"icl-JobResult-title \"><a class=\"icl-JobResult-jobLink\" href=\"/rc/clk?jk=b6edb4bfeafb3c1e\" rel=\"noopener nofollow\" title=\"Data Scientist – Cloud Services\">Data Scientist – Cloud Services</a></h2><div class=\"icl-JobResult-companyContainer \"><span class=\"icl-JobResult-companyNameContainer\" itemprop=\"hiringOrganization\" itemscope=\"\" itemtype=\"http://schema.org/Organization\"><span class=\"icl-JobResult-companyName\" itemprop=\"name\">JP Morgan Chase</span></span><span class=\"icl-JobResult-jobLocation\">Jersey City, NJ 07310</span></div><div class=\"icl-JobResult-infoContainer\"></div><div class=\"icl-JobResult-resultInfo\"><span class=\"icl-JobResult-resultsContainer\"><span class=\"icl-JobResult-resultSource\">JPMorgan Chase</span><span class=\"icl-JobResult-resultDivider\">-</span><span class=\"icl-JobResult-resultAge\">2 days ago</span></span></div></div><div class=\"icl-NavigableContainer-iconContainer\"><div class=\"icl-NavigableContainer-icon icl-NavigableContainer-icon--isRightArrow\"><svg class=\"icl-Icon icl-Icon--sm icl-Icon--left icl-Icon--black chevron-right\" role=\"img\"><g><path d=\"M7.5,4.5L6.44,5.56,9.88,9,6.44,12.44,7.5,13.5,12,9Z\"></path></g></svg></div></div></div></div><div class=\"icl-NavigableContainer icl-NavigableContainer--hasBorderBottom \"><div class=\"icl-NavigableContainer-innerContainer\"><div class=\"icl-JobResult\" data-jobkey=\"171566291d439083\"><h2 class=\"icl-JobResult-title \"><a class=\"icl-JobResult-jobLink\" href=\"/rc/clk?jk=171566291d439083\" rel=\"noopener nofollow\" title=\"Data Scientist\">Data Scientist</a></h2><div class=\"icl-JobResult-companyContainer \"><span class=\"icl-JobResult-companyNameContainer\" itemprop=\"hiringOrganization\" itemscope=\"\" itemtype=\"http://schema.org/Organization\"><span class=\"icl-JobResult-companyName\" itemprop=\"name\">Rent the Runway</span></span><span class=\"icl-JobResult-jobLocation\">New York, NY</span></div><div class=\"icl-JobResult-infoContainer\"></div><div class=\"icl-JobResult-bodyCallToAction\">Easily apply</div><div class=\"icl-JobResult-resultInfo\"><span class=\"icl-JobResult-resultsContainer\"><span class=\"icl-JobResult-resultAge\">2 days ago</span></span></div></div><div class=\"icl-NavigableContainer-iconContainer\"><div class=\"icl-NavigableContainer-icon icl-NavigableContainer-icon--isRightArrow\"><svg class=\"icl-Icon icl-Icon--sm icl-Icon--left icl-Icon--black chevron-right\" role=\"img\"><g><path d=\"M7.5,4.5L6.44,5.56,9.88,9,6.44,12.44,7.5,13.5,12,9Z\"></path></g></svg></div></div></div></div><div class=\"icl-NavigableContainer icl-NavigableContainer--hasBorderBottom \"><div class=\"icl-NavigableContainer-innerContainer\"><div class=\"icl-JobResult\" data-jobkey=\"dee770f75066e4f7\"><h2 class=\"icl-JobResult-title \"><a class=\"icl-JobResult-jobLink\" href=\"/rc/clk?jk=dee770f75066e4f7\" rel=\"noopener nofollow\" title=\"Data Scientist - 1\">Data Scientist - 1</a></h2><div class=\"icl-JobResult-companyContainer \"><span class=\"icl-JobResult-companyNameContainer\" itemprop=\"hiringOrganization\" itemscope=\"\" itemtype=\"http://schema.org/Organization\"><span class=\"icl-JobResult-companyName\" itemprop=\"name\">Real Careers</span></span><span class=\"icl-JobResult-jobLocation\">New York, NY 10004</span></div><div class=\"icl-JobResult-infoContainer\"></div><div class=\"icl-JobResult-bodyCallToAction\">Easily apply</div><div class=\"icl-JobResult-resultInfo\"><span class=\"icl-JobResult-resultsContainer\"><span class=\"icl-JobResult-resultAge\">1 day ago</span></span></div></div><div class=\"icl-NavigableContainer-iconContainer\"><div class=\"icl-NavigableContainer-icon icl-NavigableContainer-icon--isRightArrow\"><svg class=\"icl-Icon icl-Icon--sm icl-Icon--left icl-Icon--black chevron-right\" role=\"img\"><g><path d=\"M7.5,4.5L6.44,5.56,9.88,9,6.44,12.44,7.5,13.5,12,9Z\"></path></g></svg></div></div></div></div><div class=\"icl-NavigableContainer icl-NavigableContainer--hasBorderBottom \"><div class=\"icl-NavigableContainer-innerContainer\"><div class=\"icl-JobResult\" data-jobkey=\"c504f66e8e7034bc\"><h2 class=\"icl-JobResult-title \"><a class=\"icl-JobResult-jobLink\" href=\"/rc/clk?jk=c504f66e8e7034bc\" rel=\"noopener nofollow\" title=\"Data Scientist\">Data Scientist</a></h2><div class=\"icl-JobResult-companyContainer \"><span class=\"icl-JobResult-companyNameContainer\" itemprop=\"hiringOrganization\" itemscope=\"\" itemtype=\"http://schema.org/Organization\"><span class=\"icl-JobResult-companyName\" itemprop=\"name\">Quartet</span></span><span class=\"icl-JobResult-jobLocation\">New York, NY 10018</span></div><div class=\"icl-JobResult-infoContainer\"></div><div class=\"icl-JobResult-resultInfo\"><span class=\"icl-JobResult-resultsContainer\"><span class=\"icl-JobResult-resultSource\">Quartet</span><span class=\"icl-JobResult-resultDivider\">-</span><span class=\"icl-JobResult-resultAge\">1 day ago</span></span></div></div><div class=\"icl-NavigableContainer-iconContainer\"><div class=\"icl-NavigableContainer-icon icl-NavigableContainer-icon--isRightArrow\"><svg class=\"icl-Icon icl-Icon--sm icl-Icon--left icl-Icon--black chevron-right\" role=\"img\"><g><path d=\"M7.5,4.5L6.44,5.56,9.88,9,6.44,12.44,7.5,13.5,12,9Z\"></path></g></svg></div></div></div></div></div><div class=\"icl-Grid icl-Grid--gutters\"><div class=\"icl-Grid-col icl-u-xs-span12\"><div class=\"jobsearch-RecommendedJobsLink-container jobsearch-RecommendedJobsLink--hidden\" id=\"recommendedJobsLink\"><div class=\"jobSearch-u-is-hidden\"><div class=\"icl-NavigationList icl-NavigationList--inline\"><ul class=\"icl-NavigationList-items\"><li class=\"icl-NavigationList-item\"><a class=\"icl-NavigationList-link icl-NavigationList--primary \" href=\"/recommendedjobs?from=mobviewjob&amp;mobtk=1cmgmadib0mac5bv\"><div class=\"icl-NavigationList-text\"><span class=\"icl-NavigationList-primaryText \">See more recommended jobs</span></div><span class=\"icl-NavigationList-actionIcon\"><svg class=\"icl-Icon icl-Icon--md icl-Icon--left icl-Icon--grey chevron-right\" role=\"img\"><g><path d=\"M10,6L8.59,7.41,13.17,12,8.59,16.59,10,18l6-6Z\"></path></g></svg></span></a></li></ul></div></div></div></div></div><div class=\"icl-Grid icl-Grid--gutters\" id=\"relatedLinks\"><div class=\"icl-Grid-col icl-u-xs-span12\"><div class=\"jobsearch-RelatedLinks-linkWrapper\"><a class=\"jobsearch-RelatedLinks-link\" href=\"/jobs?q=Data+Scientist&amp;l=New+York%2C+NY\">Data Scientist jobs in New York, NY</a></div><div class=\"jobsearch-RelatedLinks-linkWrapper\"><a class=\"jobsearch-RelatedLinks-link\" href=\"/jobs?q=Spotify&amp;l=New+York%2C+NY\">Jobs at Spotify in New York, NY</a></div><div class=\"jobsearch-RelatedLinks-linkWrapper\"><a class=\"jobsearch-RelatedLinks-link\" href=\"/salary?q1=Data+Scientist&amp;l1=New+York%2C+NY\">Data Scientist salaries in New York, NY</a></div></div></div></div><div class=\"jobsearch-ViewJobLayout-companyPromo icl-Grid-col icl-u-xs-hide icl-u-lg-block icl-u-lg-span4 icl-u-lg-offset1\"><div class=\"jobsearch-CompanyAvatar icl-u-xs-mb--lg\"><div class=\"icl-Card icl-Card--hasBorder\"><div class=\"icl-Card-headline icl-Card-headline--hasBorder\"><div class=\"jobsearch-CompanyAvatar-headline\">Company Info</div></div><div class=\"icl-Card-body\"><a href=\"https://www.indeed.com/cmp/Spotify/reviews?campaignid=vjcmpinfo&amp;cmpratingc=mobviewjob&amp;from=vjcmpinfo&amp;tk=1cmgmadib0mac5bv&amp;fromjk=a0f5f0cfbe59a5d4&amp;jt=Data+Scientist%2C+Premium+Content\"><img alt=\"Spotify\" class=\"jobsearch-CompanyAvatar-image\" src=\"https://d2q79iu7y748jz.cloudfront.net/s/_logo/98f57b0aaf78819e5620535bb5392a98\"/></a><div class=\"jobsearch-CompanyAvatar-form\" id=\"companyFollowForm\"><div class=\"jobsearch-CompanyAvatar-button\"><button class=\"icl-Button icl-Button--tertiary icl-Button--sm\" type=\"button\">Follow</button></div><div class=\"jobsearch-CompanyAvatar-cta\">Get job updates from Spotify</div></div><div class=\"icl-u-md-mb--sm\"><a class=\"jobsearch-CompanyAvatar-companyLink\" href=\"https://www.indeed.com/cmp/Spotify/reviews?campaignid=vjcmpinfo&amp;cmpratingc=mobviewjob&amp;from=vjcmpinfo&amp;tk=1cmgmadib0mac5bv&amp;fromjk=a0f5f0cfbe59a5d4&amp;jt=Data+Scientist%2C+Premium+Content\">Spotify</a><div class=\"jobsearch-CompanyAvatar-ratings\"><div class=\"icl-Ratings icl-Ratings--gold icl-Ratings--md\" itemscope=\"\" itemtype=\"http://schema.org/AggregateRating\"><meta content=\"4.400000095367432\" itemprop=\"ratingValue\"><meta content=\"34\" itemprop=\"ratingCount\"><div aria-label=\"4.4 out of 5\" class=\"icl-Ratings-starsCountWrapper\" tabindex=\"0\"><div class=\"icl-Ratings-starsWrapper\"><div class=\"icl-Ratings-starsUnfilled\"><div class=\"icl-Ratings-starsFilled\" style=\"width: 79.80000114440918px;\"></div></div></div><div aria-hidden=\"true\" class=\"icl-Ratings-count\">34 reviews</div></div></meta></meta></div></div></div><div class=\"jobsearch-CompanyAvatar-description\">All your music is here. \n",
       "\n",
       "Spotify gives you millions of songs at your fingertips. The artists you love, the latest hits, and new discov...</div></div></div></div></div><div class=\"jobsearch-ViewJobLayout-resumePromo icl-Grid-col icl-u-xs-hide icl-u-lg-block icl-u-lg-span4 icl-u-lg-offset1\"><div class=\"icl-u-xs-mb--lg iclcom-ResumePromoCard\"><div class=\"icl-Card icl-Card--hasBorder\"><div class=\"icl-Card-headline icl-Card-headline--hasBackground icl-Card-headline--hasBorder\">Let employers find you</div><div class=\"icl-Card-body\"><div class=\"iclcom-ResumePromoCard-subtitle\">Thousands of employers search for candidates on Indeed</div><div class=\"iclcom-ResumePromoCard-button\"><a class=\"icl-Button icl-Button--secondary icl-Button--sm\" data-href=\"/promo/resume?from=viewjobcta&amp;trk.origin=viewjobcta&amp;continue=http%3A%2F%2Fwww.indeed.com%2Fviewjob%3Fjk%3Da0f5f0cfbe59a5d4%26from%3Dserp%26vjs%3D3\" href=\"/promo/resume\">Upload your resume</a></div></div></div></div></div></div></div></div><div class=\"jobsearch-Footer-wrapper\"><div class=\"jobsearch-Footer jobsearch-Footer--sticky\"><footer class=\"icl-GlobalFooter\" role=\"contentinfo\"><nav class=\"icl-GlobalFooter-nav\" role=\"navigation\"><ul class=\"icl-GlobalFooter-items\"><li class=\"icl-GlobalFooter-item\"><a class=\"icl-GlobalFooter-link\" data-href=\"/intl/en/about.html?from=VJ2\" href=\"/intl/en/about.html\">About</a></li><li class=\"icl-GlobalFooter-item\"><a class=\"icl-GlobalFooter-link\" data-href=\"https://indeed.zendesk.com/hc/en-us?from=VJ2\" href=\"https://indeed.zendesk.com/hc/en-us\">Help Center</a></li></ul></nav><small class=\"icl-GlobalFooter-impressum\"><span class=\"icl-GlobalFooter-copyright\">© 2018 Indeed</span><a class=\"icl-GlobalFooter-link\" href=\"/legal\">Cookies, Privacy and Terms</a></small></footer><div class=\"iclcom-ResumeSimpleFooter iclcom-ResumeSimpleFooter--lightestGray icl-u-xs-hide icl-u-lg-block icl-u-lg-textCenter icl-u-lg-p--sm\"><span class=\"icl-u-lg-block icl-Heading3 icl-u-lg-my--none\">Let Employers Find You</span><span class=\"icl-u-lg-block\"><a class=\"icl-Button icl-Button--primary icl-Button--md\" data-href=\"/promo/resume?from=bottomResumeCTAviewjob&amp;trk.origin=viewjob\" href=\"/promo/resume\">Upload Your Resume</a></span></div></div></div><script src=\"/m/s/53ae7dda9cc9fbb03356/scripts/viewjob.js\"></script>\n",
       "<script async=\"\" src=\"/m/basecamp/analytics.js?model=eyJhIjp0cnVlLCJiIjp0cnVlLCJjIjp0cnVlLCJkIjpmYWxzZSwiZSI6dHJ1ZSwiZyI6Imh0dHA6Ly93d3cuaW5kZWVkLmNvbS9tL2Jhc2VjYW1wL3ZpZXdqb2I_ams9YTBmNWYwY2ZiZTU5YTVkNCZmcm9tPXNlcnAmdmpzPTMiLCJoIjoiRGF0YSBTY2llbnRpc3QsIFByZW1pdW0gQ29udGVudCIsImkiOiJOZXcgWW9yaywgTlkgMTAwMTEiLCJqIjoib3JnYW5pYyJ9\"></script>\n",
       "<noscript><img height=\"1\" src=\"https://www.facebook.com/tr?id=579216298929618&amp;ev=PageView&amp;noscript=1\" style=\"display:none\" width=\"1\"><img height=\"0\" src=\"https://sb.scorecardresearch.com/p?c1=2&amp;c2=6486505&amp;c4=http%3A%2F%2Fwww.indeed.com%2Fm%2Fbasecamp%2Fviewjob%3Fjk%3Da0f5f0cfbe59a5d4%26from%3Dserp%26vjs%3D3&amp;c15=1cmgmadgl408l9n0&amp;cv=2.0&amp;cj=1\" style=\"display:none\" width=\"0\"/><img alt=\"\" height=\"1\" src=\"https://ad.doubleclick.net/ddm/activity/ord=1;src=6927552;type=jobse0;cat=viewj00;u4=Data+Scientist%2C+Premium+Content;u5=New+York%2C+NY+10011;u8=organic\" style=\"display:none\" width=\"1\"/></img></noscript>\n"
      ]
     },
     "execution_count": 380,
     "metadata": {},
     "output_type": "execute_result"
    }
   ],
   "source": [
    "soup"
   ]
  },
  {
   "cell_type": "code",
   "execution_count": 400,
   "metadata": {},
   "outputs": [],
   "source": [
    "desc = soup.find(class_ = \"jobsearch-JobComponent-description icl-u-xs-mt--md\")"
   ]
  },
  {
   "cell_type": "code",
   "execution_count": 401,
   "metadata": {},
   "outputs": [
    {
     "data": {
      "text/plain": [
       "<div class=\"jobsearch-JobComponent-description icl-u-xs-mt--md\"><div><div>As Spotify Premium swells to over 80M subscribers around the globe, we are looking for new ways to continue to grow our subscription business through leveraging our unique relationships with artists and labels. You would be joining Spotify on the Premium Analytics team, a core business strategy and insights team, as the first data scientist devoted to content strategy. In this unique position, your work would be essential in shaping how Spotify is able to grow through through innovative content initiatives, new product offerings and artist marketing efforts. You will see first hand how your work translates into new strategies, products and consumer experiences as we enter a new phase in Spotify Premium’s life.You will work with a global team of world-class analysts, data scientists, business managers, marketers and engineers. We are all passionate about what we do, and move forward with high impact projects at a high pace. Learning and improving is part of our daily routine, and you will be free to develop your own skills and ways of working. At your fingertips you’ll have access to petabytes of data, and will get the opportunity to be creative with how you drive insights and strategies from that. Above all, your work will impact the way the world experiences music.<br/>\n",
       "<b>What you’ll do</b><br/>\n",
       "<br/>\n",
       "• Develop data driven strategies to drive the growth of Spotify subscribers through innovative content initiatives, new product offerings and artist marketing efforts. • Create and communicate actionable recommendations that improve our in-app targeting, user messaging, and channel optimization. • Build statistical models and analysis that explain user acquisition and engagement for marketing and product developments.<br/>\n",
       "<br/>\n",
       "<ul><li>Work closely with business stakeholders to understand the change they are driving and help them discover new opportunities for growth.</li></ul>\n",
       "<br/>\n",
       "<ul><li>Scope and design comprehensive tests, making sure that we’re learning at every step along the way.</li></ul></div>\n",
       "<div><b>\n",
       "Who are you</b><br/>\n",
       "<br/>\n",
       "<ul><li>You are intellectually curious, creative, and diligent…you enjoy thinking about business and product strategy as much as data.</li></ul>\n",
       "<br/>\n",
       "<ul><li>Have professional experience with data science techniques such as advanced regression analysis, segmentation, user churn and LTV modeling, testing &amp; experimentation, and/or optimization.</li></ul>\n",
       "<br/>\n",
       "<ul><li>You have 1-3 years of hands-on experience synthesizing insights from data using tools such as Python, SQL, R. Experience with distributed systems (Redshift, Hadoop, BigQuery) a plus.</li></ul>\n",
       "<br/>\n",
       "<ul><li>You have studied Economics, Computer Science, Statistics, Engineering or a relevant field.</li></ul></div></div></div>"
      ]
     },
     "execution_count": 401,
     "metadata": {},
     "output_type": "execute_result"
    }
   ],
   "source": [
    "(BeautifulSoup((requests.get((\"%s%s\" % (\"www.indeed.com\",each.find('a').get('href'))))).content, 'html.parser', from_encoding=\"utf-8\")).find(class_ = \"jobsearch-JobComponent-description icl-u-xs-mt--md\")"
   ]
  },
  {
   "cell_type": "code",
   "execution_count": null,
   "metadata": {
    "collapsed": true
   },
   "outputs": [],
   "source": []
  },
  {
   "cell_type": "code",
   "execution_count": null,
   "metadata": {
    "collapsed": true
   },
   "outputs": [],
   "source": []
  },
  {
   "cell_type": "code",
   "execution_count": null,
   "metadata": {
    "collapsed": true
   },
   "outputs": [],
   "source": []
  },
  {
   "cell_type": "code",
   "execution_count": null,
   "metadata": {
    "collapsed": true
   },
   "outputs": [],
   "source": []
  },
  {
   "cell_type": "code",
   "execution_count": null,
   "metadata": {
    "collapsed": true
   },
   "outputs": [],
   "source": []
  },
  {
   "cell_type": "code",
   "execution_count": null,
   "metadata": {
    "collapsed": true
   },
   "outputs": [],
   "source": []
  },
  {
   "cell_type": "code",
   "execution_count": null,
   "metadata": {
    "collapsed": true
   },
   "outputs": [],
   "source": []
  },
  {
   "cell_type": "code",
   "execution_count": null,
   "metadata": {
    "collapsed": true
   },
   "outputs": [],
   "source": []
  },
  {
   "cell_type": "code",
   "execution_count": null,
   "metadata": {
    "collapsed": true
   },
   "outputs": [],
   "source": []
  },
  {
   "cell_type": "code",
   "execution_count": null,
   "metadata": {
    "collapsed": true
   },
   "outputs": [],
   "source": []
  },
  {
   "cell_type": "code",
   "execution_count": null,
   "metadata": {
    "collapsed": true
   },
   "outputs": [],
   "source": []
  },
  {
   "cell_type": "code",
   "execution_count": null,
   "metadata": {
    "collapsed": true
   },
   "outputs": [],
   "source": []
  },
  {
   "cell_type": "code",
   "execution_count": null,
   "metadata": {
    "collapsed": true
   },
   "outputs": [],
   "source": []
  },
  {
   "cell_type": "code",
   "execution_count": null,
   "metadata": {
    "collapsed": true
   },
   "outputs": [],
   "source": []
  },
  {
   "cell_type": "code",
   "execution_count": null,
   "metadata": {
    "collapsed": true
   },
   "outputs": [],
   "source": []
  },
  {
   "cell_type": "code",
   "execution_count": null,
   "metadata": {
    "collapsed": true
   },
   "outputs": [],
   "source": []
  },
  {
   "cell_type": "code",
   "execution_count": null,
   "metadata": {
    "collapsed": true
   },
   "outputs": [],
   "source": []
  },
  {
   "cell_type": "code",
   "execution_count": null,
   "metadata": {
    "collapsed": true
   },
   "outputs": [],
   "source": []
  },
  {
   "cell_type": "code",
   "execution_count": null,
   "metadata": {
    "collapsed": true
   },
   "outputs": [],
   "source": []
  },
  {
   "cell_type": "code",
   "execution_count": null,
   "metadata": {
    "collapsed": true
   },
   "outputs": [],
   "source": []
  },
  {
   "cell_type": "code",
   "execution_count": 367,
   "metadata": {},
   "outputs": [
    {
     "ename": "ValueError",
     "evalue": "unknown url type: 'www.indeed.com/pagead/clk?mo=r&ad=-6NYlbfkN0AG4lkmo7lDpd7bai9Z8sZiDTYQLTQi62CYqD7jg-A5KckJgu9jhyOJ4MAmDMns8IY6ENOXw6Z-Uw02EXJZXqz7uAE33Far9SRwleXwdHmrXVnQFPAnEeoSA-J1XX9fQtl4H8YkXr10ScA6892Ol3LaBrT4OMVsFbF1rp7y2ytYTf7QkXN44lEDp7cg0G2_L4IoRvIew6p5x3kzcSSoLg8q2fPWGYUD16IMGNjBdPPn3igjNdi5dI09tfGJXvIvxdeWb31nF-SjwbJqMLdPKx0-4EoFc7Md9CpnL6JAqnMCSMYW6aPC_17wembdwXMq4lz__fi7z3vLO1XJ1SpcMPw0X5mg9VUAeGLLS5APKP4O4u__DN21utxCRb7XwACbOpviljM4n8K8DEL1nsNbPdBa28UgbB2ma6v1203hKIWJEMevRujbSd_GyckZZ9bja-dWeS541M73fg==&vjs=3&p=2&sk=&fvj=1'",
     "output_type": "error",
     "traceback": [
      "\u001b[1;31m---------------------------------------------------------------------------\u001b[0m",
      "\u001b[1;31mValueError\u001b[0m                                Traceback (most recent call last)",
      "\u001b[1;32m<ipython-input-367-346ac09c0b9e>\u001b[0m in \u001b[0;36m<module>\u001b[1;34m()\u001b[0m\n\u001b[1;32m----> 1\u001b[1;33m \u001b[0mBeautifulSoup\u001b[0m\u001b[1;33m(\u001b[0m\u001b[0murllib\u001b[0m\u001b[1;33m.\u001b[0m\u001b[0mrequest\u001b[0m\u001b[1;33m.\u001b[0m\u001b[0murlopen\u001b[0m\u001b[1;33m(\u001b[0m\u001b[1;34m\"www.indeed.com/pagead/clk?mo=r&ad=-6NYlbfkN0AG4lkmo7lDpd7bai9Z8sZiDTYQLTQi62CYqD7jg-A5KckJgu9jhyOJ4MAmDMns8IY6ENOXw6Z-Uw02EXJZXqz7uAE33Far9SRwleXwdHmrXVnQFPAnEeoSA-J1XX9fQtl4H8YkXr10ScA6892Ol3LaBrT4OMVsFbF1rp7y2ytYTf7QkXN44lEDp7cg0G2_L4IoRvIew6p5x3kzcSSoLg8q2fPWGYUD16IMGNjBdPPn3igjNdi5dI09tfGJXvIvxdeWb31nF-SjwbJqMLdPKx0-4EoFc7Md9CpnL6JAqnMCSMYW6aPC_17wembdwXMq4lz__fi7z3vLO1XJ1SpcMPw0X5mg9VUAeGLLS5APKP4O4u__DN21utxCRb7XwACbOpviljM4n8K8DEL1nsNbPdBa28UgbB2ma6v1203hKIWJEMevRujbSd_GyckZZ9bja-dWeS541M73fg==&vjs=3&p=2&sk=&fvj=1\"\u001b[0m\u001b[1;33m,\u001b[0m \u001b[1;34m\"lxml\"\u001b[0m\u001b[1;33m)\u001b[0m\u001b[1;33m)\u001b[0m\u001b[1;33m\u001b[0m\u001b[0m\n\u001b[0m",
      "\u001b[1;32mC:\\Anaconda\\Anaconda3\\lib\\urllib\\request.py\u001b[0m in \u001b[0;36murlopen\u001b[1;34m(url, data, timeout, cafile, capath, cadefault, context)\u001b[0m\n\u001b[0;32m    221\u001b[0m     \u001b[1;32melse\u001b[0m\u001b[1;33m:\u001b[0m\u001b[1;33m\u001b[0m\u001b[0m\n\u001b[0;32m    222\u001b[0m         \u001b[0mopener\u001b[0m \u001b[1;33m=\u001b[0m \u001b[0m_opener\u001b[0m\u001b[1;33m\u001b[0m\u001b[0m\n\u001b[1;32m--> 223\u001b[1;33m     \u001b[1;32mreturn\u001b[0m \u001b[0mopener\u001b[0m\u001b[1;33m.\u001b[0m\u001b[0mopen\u001b[0m\u001b[1;33m(\u001b[0m\u001b[0murl\u001b[0m\u001b[1;33m,\u001b[0m \u001b[0mdata\u001b[0m\u001b[1;33m,\u001b[0m \u001b[0mtimeout\u001b[0m\u001b[1;33m)\u001b[0m\u001b[1;33m\u001b[0m\u001b[0m\n\u001b[0m\u001b[0;32m    224\u001b[0m \u001b[1;33m\u001b[0m\u001b[0m\n\u001b[0;32m    225\u001b[0m \u001b[1;32mdef\u001b[0m \u001b[0minstall_opener\u001b[0m\u001b[1;33m(\u001b[0m\u001b[0mopener\u001b[0m\u001b[1;33m)\u001b[0m\u001b[1;33m:\u001b[0m\u001b[1;33m\u001b[0m\u001b[0m\n",
      "\u001b[1;32mC:\\Anaconda\\Anaconda3\\lib\\urllib\\request.py\u001b[0m in \u001b[0;36mopen\u001b[1;34m(self, fullurl, data, timeout)\u001b[0m\n\u001b[0;32m    509\u001b[0m         \u001b[1;31m# accept a URL or a Request object\u001b[0m\u001b[1;33m\u001b[0m\u001b[1;33m\u001b[0m\u001b[0m\n\u001b[0;32m    510\u001b[0m         \u001b[1;32mif\u001b[0m \u001b[0misinstance\u001b[0m\u001b[1;33m(\u001b[0m\u001b[0mfullurl\u001b[0m\u001b[1;33m,\u001b[0m \u001b[0mstr\u001b[0m\u001b[1;33m)\u001b[0m\u001b[1;33m:\u001b[0m\u001b[1;33m\u001b[0m\u001b[0m\n\u001b[1;32m--> 511\u001b[1;33m             \u001b[0mreq\u001b[0m \u001b[1;33m=\u001b[0m \u001b[0mRequest\u001b[0m\u001b[1;33m(\u001b[0m\u001b[0mfullurl\u001b[0m\u001b[1;33m,\u001b[0m \u001b[0mdata\u001b[0m\u001b[1;33m)\u001b[0m\u001b[1;33m\u001b[0m\u001b[0m\n\u001b[0m\u001b[0;32m    512\u001b[0m         \u001b[1;32melse\u001b[0m\u001b[1;33m:\u001b[0m\u001b[1;33m\u001b[0m\u001b[0m\n\u001b[0;32m    513\u001b[0m             \u001b[0mreq\u001b[0m \u001b[1;33m=\u001b[0m \u001b[0mfullurl\u001b[0m\u001b[1;33m\u001b[0m\u001b[0m\n",
      "\u001b[1;32mC:\\Anaconda\\Anaconda3\\lib\\urllib\\request.py\u001b[0m in \u001b[0;36m__init__\u001b[1;34m(self, url, data, headers, origin_req_host, unverifiable, method)\u001b[0m\n\u001b[0;32m    327\u001b[0m                  \u001b[0morigin_req_host\u001b[0m\u001b[1;33m=\u001b[0m\u001b[1;32mNone\u001b[0m\u001b[1;33m,\u001b[0m \u001b[0munverifiable\u001b[0m\u001b[1;33m=\u001b[0m\u001b[1;32mFalse\u001b[0m\u001b[1;33m,\u001b[0m\u001b[1;33m\u001b[0m\u001b[0m\n\u001b[0;32m    328\u001b[0m                  method=None):\n\u001b[1;32m--> 329\u001b[1;33m         \u001b[0mself\u001b[0m\u001b[1;33m.\u001b[0m\u001b[0mfull_url\u001b[0m \u001b[1;33m=\u001b[0m \u001b[0murl\u001b[0m\u001b[1;33m\u001b[0m\u001b[0m\n\u001b[0m\u001b[0;32m    330\u001b[0m         \u001b[0mself\u001b[0m\u001b[1;33m.\u001b[0m\u001b[0mheaders\u001b[0m \u001b[1;33m=\u001b[0m \u001b[1;33m{\u001b[0m\u001b[1;33m}\u001b[0m\u001b[1;33m\u001b[0m\u001b[0m\n\u001b[0;32m    331\u001b[0m         \u001b[0mself\u001b[0m\u001b[1;33m.\u001b[0m\u001b[0munredirected_hdrs\u001b[0m \u001b[1;33m=\u001b[0m \u001b[1;33m{\u001b[0m\u001b[1;33m}\u001b[0m\u001b[1;33m\u001b[0m\u001b[0m\n",
      "\u001b[1;32mC:\\Anaconda\\Anaconda3\\lib\\urllib\\request.py\u001b[0m in \u001b[0;36mfull_url\u001b[1;34m(self, url)\u001b[0m\n\u001b[0;32m    353\u001b[0m         \u001b[0mself\u001b[0m\u001b[1;33m.\u001b[0m\u001b[0m_full_url\u001b[0m \u001b[1;33m=\u001b[0m \u001b[0munwrap\u001b[0m\u001b[1;33m(\u001b[0m\u001b[0murl\u001b[0m\u001b[1;33m)\u001b[0m\u001b[1;33m\u001b[0m\u001b[0m\n\u001b[0;32m    354\u001b[0m         \u001b[0mself\u001b[0m\u001b[1;33m.\u001b[0m\u001b[0m_full_url\u001b[0m\u001b[1;33m,\u001b[0m \u001b[0mself\u001b[0m\u001b[1;33m.\u001b[0m\u001b[0mfragment\u001b[0m \u001b[1;33m=\u001b[0m \u001b[0msplittag\u001b[0m\u001b[1;33m(\u001b[0m\u001b[0mself\u001b[0m\u001b[1;33m.\u001b[0m\u001b[0m_full_url\u001b[0m\u001b[1;33m)\u001b[0m\u001b[1;33m\u001b[0m\u001b[0m\n\u001b[1;32m--> 355\u001b[1;33m         \u001b[0mself\u001b[0m\u001b[1;33m.\u001b[0m\u001b[0m_parse\u001b[0m\u001b[1;33m(\u001b[0m\u001b[1;33m)\u001b[0m\u001b[1;33m\u001b[0m\u001b[0m\n\u001b[0m\u001b[0;32m    356\u001b[0m \u001b[1;33m\u001b[0m\u001b[0m\n\u001b[0;32m    357\u001b[0m     \u001b[1;33m@\u001b[0m\u001b[0mfull_url\u001b[0m\u001b[1;33m.\u001b[0m\u001b[0mdeleter\u001b[0m\u001b[1;33m\u001b[0m\u001b[0m\n",
      "\u001b[1;32mC:\\Anaconda\\Anaconda3\\lib\\urllib\\request.py\u001b[0m in \u001b[0;36m_parse\u001b[1;34m(self)\u001b[0m\n\u001b[0;32m    382\u001b[0m         \u001b[0mself\u001b[0m\u001b[1;33m.\u001b[0m\u001b[0mtype\u001b[0m\u001b[1;33m,\u001b[0m \u001b[0mrest\u001b[0m \u001b[1;33m=\u001b[0m \u001b[0msplittype\u001b[0m\u001b[1;33m(\u001b[0m\u001b[0mself\u001b[0m\u001b[1;33m.\u001b[0m\u001b[0m_full_url\u001b[0m\u001b[1;33m)\u001b[0m\u001b[1;33m\u001b[0m\u001b[0m\n\u001b[0;32m    383\u001b[0m         \u001b[1;32mif\u001b[0m \u001b[0mself\u001b[0m\u001b[1;33m.\u001b[0m\u001b[0mtype\u001b[0m \u001b[1;32mis\u001b[0m \u001b[1;32mNone\u001b[0m\u001b[1;33m:\u001b[0m\u001b[1;33m\u001b[0m\u001b[0m\n\u001b[1;32m--> 384\u001b[1;33m             \u001b[1;32mraise\u001b[0m \u001b[0mValueError\u001b[0m\u001b[1;33m(\u001b[0m\u001b[1;34m\"unknown url type: %r\"\u001b[0m \u001b[1;33m%\u001b[0m \u001b[0mself\u001b[0m\u001b[1;33m.\u001b[0m\u001b[0mfull_url\u001b[0m\u001b[1;33m)\u001b[0m\u001b[1;33m\u001b[0m\u001b[0m\n\u001b[0m\u001b[0;32m    385\u001b[0m         \u001b[0mself\u001b[0m\u001b[1;33m.\u001b[0m\u001b[0mhost\u001b[0m\u001b[1;33m,\u001b[0m \u001b[0mself\u001b[0m\u001b[1;33m.\u001b[0m\u001b[0mselector\u001b[0m \u001b[1;33m=\u001b[0m \u001b[0msplithost\u001b[0m\u001b[1;33m(\u001b[0m\u001b[0mrest\u001b[0m\u001b[1;33m)\u001b[0m\u001b[1;33m\u001b[0m\u001b[0m\n\u001b[0;32m    386\u001b[0m         \u001b[1;32mif\u001b[0m \u001b[0mself\u001b[0m\u001b[1;33m.\u001b[0m\u001b[0mhost\u001b[0m\u001b[1;33m:\u001b[0m\u001b[1;33m\u001b[0m\u001b[0m\n",
      "\u001b[1;31mValueError\u001b[0m: unknown url type: 'www.indeed.com/pagead/clk?mo=r&ad=-6NYlbfkN0AG4lkmo7lDpd7bai9Z8sZiDTYQLTQi62CYqD7jg-A5KckJgu9jhyOJ4MAmDMns8IY6ENOXw6Z-Uw02EXJZXqz7uAE33Far9SRwleXwdHmrXVnQFPAnEeoSA-J1XX9fQtl4H8YkXr10ScA6892Ol3LaBrT4OMVsFbF1rp7y2ytYTf7QkXN44lEDp7cg0G2_L4IoRvIew6p5x3kzcSSoLg8q2fPWGYUD16IMGNjBdPPn3igjNdi5dI09tfGJXvIvxdeWb31nF-SjwbJqMLdPKx0-4EoFc7Md9CpnL6JAqnMCSMYW6aPC_17wembdwXMq4lz__fi7z3vLO1XJ1SpcMPw0X5mg9VUAeGLLS5APKP4O4u__DN21utxCRb7XwACbOpviljM4n8K8DEL1nsNbPdBa28UgbB2ma6v1203hKIWJEMevRujbSd_GyckZZ9bja-dWeS541M73fg==&vjs=3&p=2&sk=&fvj=1'"
     ]
    }
   ],
   "source": [
    "BeautifulSoup(urllib.request.urlopen(\"www.indeed.com/pagead/clk?mo=r&ad=-6NYlbfkN0AG4lkmo7lDpd7bai9Z8sZiDTYQLTQi62CYqD7jg-A5KckJgu9jhyOJ4MAmDMns8IY6ENOXw6Z-Uw02EXJZXqz7uAE33Far9SRwleXwdHmrXVnQFPAnEeoSA-J1XX9fQtl4H8YkXr10ScA6892Ol3LaBrT4OMVsFbF1rp7y2ytYTf7QkXN44lEDp7cg0G2_L4IoRvIew6p5x3kzcSSoLg8q2fPWGYUD16IMGNjBdPPn3igjNdi5dI09tfGJXvIvxdeWb31nF-SjwbJqMLdPKx0-4EoFc7Md9CpnL6JAqnMCSMYW6aPC_17wembdwXMq4lz__fi7z3vLO1XJ1SpcMPw0X5mg9VUAeGLLS5APKP4O4u__DN21utxCRb7XwACbOpviljM4n8K8DEL1nsNbPdBa28UgbB2ma6v1203hKIWJEMevRujbSd_GyckZZ9bja-dWeS541M73fg==&vjs=3&p=2&sk=&fvj=1\", \"lxml\"))"
   ]
  },
  {
   "cell_type": "code",
   "execution_count": null,
   "metadata": {
    "collapsed": true
   },
   "outputs": [],
   "source": []
  },
  {
   "cell_type": "code",
   "execution_count": 6,
   "metadata": {},
   "outputs": [
    {
     "name": "stdout",
     "output_type": "stream",
     "text": [
      "You have 100 results. 13 of these aren't rubbish.\n",
      "You have 200 results. 21 of these aren't rubbish.\n",
      "You have 300 results. 26 of these aren't rubbish.\n",
      "You have 400 results. 28 of these aren't rubbish.\n",
      "You have 500 results. 34 of these aren't rubbish.\n",
      "You have 600 results. 47 of these aren't rubbish.\n",
      "You have 700 results. 56 of these aren't rubbish.\n"
     ]
    }
   ],
   "source": [
    "url_template = \"http://www.indeed.com/jobs?q=data+scientist+%2420%2C000&l={}&start={}\"\n",
    "max_results_per_city = 100 # Set this to a high-value (5000) to generate more results. \n",
    "# Crawling more results, will also take much longer. First test your code on a small number of results and then expand.\n",
    "i = 0\n",
    "results = []\n",
    "df_more = pd.DataFrame(columns=[\"Title\",\"Location\",\"Company\",\"Salary\", \"Synopsis\"])\n",
    "for city in set(['New+York', 'Chicago', 'San+Francisco', 'Austin', 'Seattle']):\n",
    "    for start in range(0, max_results_per_city, 10):\n",
    "        # Grab the results from the request (as above)\n",
    "        url = url_template.format(city, start)\n",
    "        # Append to the full set of results\n",
    "        html = requests.get(url)\n",
    "        soup = BeautifulSoup(html.content, 'html.parser', from_encoding=\"utf-8\")\n",
    "        for each in soup.find_all(class_= \"result\" ):\n",
    "            try: \n",
    "                title = each.find(class_='jobtitle').text.replace('\\n', '')\n",
    "            except:\n",
    "                title = None\n",
    "            try:\n",
    "                location = each.find('span', {'class':\"location\" }).text.replace('\\n', '')\n",
    "            except:\n",
    "                location = None\n",
    "            try: \n",
    "                company = each.find(class_='company').text.replace('\\n', '')\n",
    "            except:\n",
    "                company = None\n",
    "            try:\n",
    "                salary = each.find('span', {'class':'no-wrap'}).text\n",
    "            except:\n",
    "                salary = None\n",
    "            try:\n",
    "                synopsis = each.find('span', {'class':'summary'}).text.replace('\\n', '')\n",
    "            except:\n",
    "                synopsis = None\n",
    "            df_more = df_more.append({'Title':title, 'Location':location, 'Company':company, 'Salary':salary, 'Synopsis':synopsis}, ignore_index=True)\n",
    "            i += 1\n",
    "            if i % 100 == 0:  # Ram helped me build this counter to see how many. You can visibly see Ram's vernacular in the print statements.\n",
    "                print('You have ' + str(i) + ' results. ' + str(df_more.dropna().drop_duplicates().shape[0]) + \" of these aren't rubbish.\")\n",
    "    sleep(2)"
   ]
  },
  {
   "cell_type": "code",
   "execution_count": 22,
   "metadata": {},
   "outputs": [
    {
     "data": {
      "text/html": [
       "<div>\n",
       "<style scoped>\n",
       "    .dataframe tbody tr th:only-of-type {\n",
       "        vertical-align: middle;\n",
       "    }\n",
       "\n",
       "    .dataframe tbody tr th {\n",
       "        vertical-align: top;\n",
       "    }\n",
       "\n",
       "    .dataframe thead th {\n",
       "        text-align: right;\n",
       "    }\n",
       "</style>\n",
       "<table border=\"1\" class=\"dataframe\">\n",
       "  <thead>\n",
       "    <tr style=\"text-align: right;\">\n",
       "      <th></th>\n",
       "      <th>Title</th>\n",
       "      <th>Location</th>\n",
       "      <th>Company</th>\n",
       "      <th>Salary</th>\n",
       "      <th>Synopsis</th>\n",
       "    </tr>\n",
       "  </thead>\n",
       "  <tbody>\n",
       "    <tr>\n",
       "      <th>0</th>\n",
       "      <td>Data Scientist</td>\n",
       "      <td>None</td>\n",
       "      <td>eBay Inc.</td>\n",
       "      <td>None</td>\n",
       "      <td>We are looking for...</td>\n",
       "    </tr>\n",
       "    <tr>\n",
       "      <th>1</th>\n",
       "      <td>Jr. Computational Physicist/Scientist</td>\n",
       "      <td>None</td>\n",
       "      <td>Nanohmics, Inc.</td>\n",
       "      <td>\\n                $45,000 - $75,000 a year</td>\n",
       "      <td>Experience with da...</td>\n",
       "    </tr>\n",
       "    <tr>\n",
       "      <th>2</th>\n",
       "      <td>Data Scientist</td>\n",
       "      <td>None</td>\n",
       "      <td>CyberCoders</td>\n",
       "      <td>None</td>\n",
       "      <td>If you are a Data ...</td>\n",
       "    </tr>\n",
       "    <tr>\n",
       "      <th>3</th>\n",
       "      <td>Data Scientist, Austin</td>\n",
       "      <td>Austin, TX</td>\n",
       "      <td>Code Pilot</td>\n",
       "      <td>None</td>\n",
       "      <td>Design and implement data analysis...</td>\n",
       "    </tr>\n",
       "    <tr>\n",
       "      <th>4</th>\n",
       "      <td>Clinical Data Reporter</td>\n",
       "      <td>Austin, TX 78731</td>\n",
       "      <td>Natera</td>\n",
       "      <td>None</td>\n",
       "      <td>Data collection and maintenance. Associate deg...</td>\n",
       "    </tr>\n",
       "  </tbody>\n",
       "</table>\n",
       "</div>"
      ],
      "text/plain": [
       "                                   Title          Location  \\\n",
       "0                         Data Scientist              None   \n",
       "1  Jr. Computational Physicist/Scientist              None   \n",
       "2                         Data Scientist              None   \n",
       "3                 Data Scientist, Austin        Austin, TX   \n",
       "4                 Clinical Data Reporter  Austin, TX 78731   \n",
       "\n",
       "                   Company                                      Salary  \\\n",
       "0                eBay Inc.                                        None   \n",
       "1          Nanohmics, Inc.  \\n                $45,000 - $75,000 a year   \n",
       "2              CyberCoders                                        None   \n",
       "3               Code Pilot                                        None   \n",
       "4                   Natera                                        None   \n",
       "\n",
       "                                            Synopsis  \n",
       "0                              We are looking for...  \n",
       "1                              Experience with da...  \n",
       "2                              If you are a Data ...  \n",
       "3              Design and implement data analysis...  \n",
       "4  Data collection and maintenance. Associate deg...  "
      ]
     },
     "execution_count": 22,
     "metadata": {},
     "output_type": "execute_result"
    }
   ],
   "source": [
    "df_more.head()"
   ]
  },
  {
   "cell_type": "code",
   "execution_count": 23,
   "metadata": {
    "collapsed": true
   },
   "outputs": [],
   "source": [
    "df_more.to_csv('uncleaned_indeed_file.csv', encoding='utf-8')"
   ]
  },
  {
   "cell_type": "code",
   "execution_count": 268,
   "metadata": {
    "collapsed": true
   },
   "outputs": [],
   "source": [
    "df_more = pd.read_csv('C:/Anaconda/webscraping/uncleaned_indeed_file.csv')"
   ]
  },
  {
   "cell_type": "code",
   "execution_count": 270,
   "metadata": {
    "collapsed": true
   },
   "outputs": [],
   "source": [
    "df_more.drop('Unnamed: 0', axis=1, inplace=True)"
   ]
  },
  {
   "cell_type": "code",
   "execution_count": 271,
   "metadata": {
    "collapsed": true
   },
   "outputs": [],
   "source": [
    "df_more = df_more[df_more.Salary != 'None'].drop_duplicates().dropna()"
   ]
  },
  {
   "cell_type": "code",
   "execution_count": 272,
   "metadata": {
    "collapsed": true
   },
   "outputs": [],
   "source": [
    "df_more = df_more[df_more.Salary.str.contains(\"hour\") == False]\n",
    "df_more = df_more[df_more.Salary.str.contains(\"month\") == False]"
   ]
  },
  {
   "cell_type": "code",
   "execution_count": 273,
   "metadata": {
    "collapsed": true
   },
   "outputs": [],
   "source": [
    "def get_mean_salary(df, col):\n",
    "    df[col].replace({'\\$':''}, regex = True, inplace = True)\n",
    "    df[col].replace(regex=True,inplace=True,to_replace=r'\\D',value=r' ')\n",
    "    df[col] = df[col].str.strip()\n",
    "    df[col] = df_more[col].str.replace('   ',',')\n",
    "    df = df.join(df[col].str.split(',', 1, expand=True).rename(columns={0:'min', 1:'max'}))\n",
    "    df['min'] = df['min'].str.replace(' ','')\n",
    "    df['min'] = df['min'].astype('float64')\n",
    "    df['max'] = df['max'].str.replace(' ','')\n",
    "    df['max'] = df['max'].astype('float64')\n",
    "    df.drop(['Salary'], axis = 1, inplace = True)\n",
    "    df['Salary'] = df[['min', 'max']].mean(axis=1)\n",
    "    df.drop(['min','max'], axis=1, inplace = True)\n",
    "    return df\n",
    "\n",
    "def get_city_state(df,col):\n",
    "    df = df.join(df[col].str.split(',', 1, expand=True).rename(columns={0:'City', 1:'State'}))\n",
    "    df['State'] = [x[0:3] for x in df['State'] if x != None]\n",
    "    df.drop(['Location'], axis = 1, inplace = True)\n",
    "    return df\n"
   ]
  },
  {
   "cell_type": "code",
   "execution_count": 274,
   "metadata": {
    "collapsed": true
   },
   "outputs": [],
   "source": [
    "df_more = get_mean_salary(df_more, 'Salary')\n",
    "df_more = get_city_state(df_more, 'Location')"
   ]
  },
  {
   "cell_type": "code",
   "execution_count": null,
   "metadata": {
    "collapsed": true
   },
   "outputs": [],
   "source": []
  },
  {
   "cell_type": "code",
   "execution_count": null,
   "metadata": {
    "collapsed": true
   },
   "outputs": [],
   "source": []
  },
  {
   "cell_type": "code",
   "execution_count": null,
   "metadata": {
    "collapsed": true
   },
   "outputs": [],
   "source": []
  },
  {
   "cell_type": "code",
   "execution_count": null,
   "metadata": {
    "collapsed": true
   },
   "outputs": [],
   "source": []
  },
  {
   "cell_type": "code",
   "execution_count": null,
   "metadata": {
    "collapsed": true
   },
   "outputs": [],
   "source": []
  },
  {
   "cell_type": "code",
   "execution_count": null,
   "metadata": {
    "collapsed": true
   },
   "outputs": [],
   "source": []
  },
  {
   "cell_type": "code",
   "execution_count": null,
   "metadata": {
    "collapsed": true
   },
   "outputs": [],
   "source": []
  },
  {
   "cell_type": "code",
   "execution_count": null,
   "metadata": {
    "collapsed": true
   },
   "outputs": [],
   "source": []
  },
  {
   "cell_type": "code",
   "execution_count": null,
   "metadata": {
    "collapsed": true
   },
   "outputs": [],
   "source": []
  },
  {
   "cell_type": "code",
   "execution_count": null,
   "metadata": {
    "collapsed": true
   },
   "outputs": [],
   "source": []
  },
  {
   "cell_type": "code",
   "execution_count": null,
   "metadata": {
    "collapsed": true
   },
   "outputs": [],
   "source": []
  },
  {
   "cell_type": "code",
   "execution_count": null,
   "metadata": {
    "collapsed": true
   },
   "outputs": [],
   "source": []
  },
  {
   "cell_type": "code",
   "execution_count": null,
   "metadata": {
    "collapsed": true
   },
   "outputs": [],
   "source": []
  },
  {
   "cell_type": "code",
   "execution_count": null,
   "metadata": {
    "collapsed": true
   },
   "outputs": [],
   "source": []
  },
  {
   "cell_type": "code",
   "execution_count": null,
   "metadata": {
    "collapsed": true
   },
   "outputs": [],
   "source": []
  },
  {
   "cell_type": "code",
   "execution_count": null,
   "metadata": {
    "collapsed": true
   },
   "outputs": [],
   "source": []
  },
  {
   "cell_type": "code",
   "execution_count": null,
   "metadata": {
    "collapsed": true
   },
   "outputs": [],
   "source": []
  },
  {
   "cell_type": "code",
   "execution_count": null,
   "metadata": {
    "collapsed": true
   },
   "outputs": [],
   "source": []
  },
  {
   "cell_type": "code",
   "execution_count": null,
   "metadata": {
    "collapsed": true
   },
   "outputs": [],
   "source": []
  },
  {
   "cell_type": "code",
   "execution_count": null,
   "metadata": {
    "collapsed": true
   },
   "outputs": [],
   "source": []
  },
  {
   "cell_type": "code",
   "execution_count": null,
   "metadata": {
    "collapsed": true
   },
   "outputs": [],
   "source": []
  },
  {
   "cell_type": "code",
   "execution_count": null,
   "metadata": {
    "collapsed": true
   },
   "outputs": [],
   "source": []
  },
  {
   "cell_type": "code",
   "execution_count": null,
   "metadata": {
    "collapsed": true
   },
   "outputs": [],
   "source": []
  },
  {
   "cell_type": "code",
   "execution_count": null,
   "metadata": {
    "collapsed": true
   },
   "outputs": [],
   "source": []
  },
  {
   "cell_type": "code",
   "execution_count": null,
   "metadata": {
    "collapsed": true
   },
   "outputs": [],
   "source": []
  },
  {
   "cell_type": "code",
   "execution_count": null,
   "metadata": {
    "collapsed": true
   },
   "outputs": [],
   "source": []
  },
  {
   "cell_type": "code",
   "execution_count": null,
   "metadata": {
    "collapsed": true
   },
   "outputs": [],
   "source": []
  },
  {
   "cell_type": "code",
   "execution_count": null,
   "metadata": {
    "collapsed": true
   },
   "outputs": [],
   "source": []
  },
  {
   "cell_type": "code",
   "execution_count": null,
   "metadata": {
    "collapsed": true
   },
   "outputs": [],
   "source": []
  },
  {
   "cell_type": "code",
   "execution_count": null,
   "metadata": {
    "collapsed": true
   },
   "outputs": [],
   "source": []
  },
  {
   "cell_type": "code",
   "execution_count": null,
   "metadata": {
    "collapsed": true
   },
   "outputs": [],
   "source": []
  },
  {
   "cell_type": "code",
   "execution_count": null,
   "metadata": {
    "collapsed": true
   },
   "outputs": [],
   "source": []
  },
  {
   "cell_type": "code",
   "execution_count": null,
   "metadata": {
    "collapsed": true
   },
   "outputs": [],
   "source": []
  },
  {
   "cell_type": "code",
   "execution_count": null,
   "metadata": {
    "collapsed": true
   },
   "outputs": [],
   "source": []
  },
  {
   "cell_type": "code",
   "execution_count": null,
   "metadata": {
    "collapsed": true
   },
   "outputs": [],
   "source": []
  },
  {
   "cell_type": "code",
   "execution_count": null,
   "metadata": {
    "collapsed": true
   },
   "outputs": [],
   "source": []
  },
  {
   "cell_type": "code",
   "execution_count": null,
   "metadata": {
    "collapsed": true
   },
   "outputs": [],
   "source": []
  },
  {
   "cell_type": "code",
   "execution_count": null,
   "metadata": {
    "collapsed": true
   },
   "outputs": [],
   "source": []
  },
  {
   "cell_type": "code",
   "execution_count": null,
   "metadata": {
    "collapsed": true
   },
   "outputs": [],
   "source": []
  },
  {
   "cell_type": "code",
   "execution_count": null,
   "metadata": {
    "collapsed": true
   },
   "outputs": [],
   "source": []
  }
 ],
 "metadata": {
  "kernelspec": {
   "display_name": "Python 3",
   "language": "python",
   "name": "python3"
  },
  "language_info": {
   "codemirror_mode": {
    "name": "ipython",
    "version": 3
   },
   "file_extension": ".py",
   "mimetype": "text/x-python",
   "name": "python",
   "nbconvert_exporter": "python",
   "pygments_lexer": "ipython3",
   "version": "3.6.4"
  }
 },
 "nbformat": 4,
 "nbformat_minor": 2
}
