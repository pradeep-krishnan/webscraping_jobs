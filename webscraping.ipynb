{
 "cells": [
  {
   "cell_type": "code",
   "execution_count": 2,
   "metadata": {
    "collapsed": true
   },
   "outputs": [],
   "source": [
    "import urllib\n",
    "import requests\n",
    "import bs4\n",
    "from bs4 import BeautifulSoup\n",
    "import pandas as pd\n",
    "import re\n",
    "from time import sleep"
   ]
  },
  {
   "cell_type": "code",
   "execution_count": 3,
   "metadata": {
    "collapsed": true
   },
   "outputs": [],
   "source": [
    "#I like building\n",
    "#I like building \n",
    "#I like building \n",
    "\n",
    "URL = \"http://www.indeed.com/jobs?q=data+scientist+%2420%2C000&l=New+York&start=10\""
   ]
  },
  {
   "cell_type": "code",
   "execution_count": 4,
   "metadata": {
    "collapsed": true
   },
   "outputs": [],
   "source": [
    "def parse(url):\n",
    "    html = requests.get(url)\n",
    "    soup = BeautifulSoup(html.content, 'html.parser', from_encoding=\"utf-8\")\n",
    "    df = pd.DataFrame(columns=[\"Title\",\"Location\",\"Company\",\"Salary\", \"Synopsis\"])\n",
    "    for each in soup.find_all(class_= \"result\" ):\n",
    "        try: \n",
    "            title = each.find(class_='jobtitle').text.replace('\\n', '')\n",
    "        except:\n",
    "            title = 'None'\n",
    "        try:\n",
    "            location = each.find('span', {'class':\"location\" }).text.replace('\\n', '')\n",
    "        except:\n",
    "            location = 'None'\n",
    "        try: \n",
    "            company = each.find(class_='company').text.replace('\\n', '')\n",
    "        except:\n",
    "            company = 'None'\n",
    "        try:\n",
    "            salary = each.find('span', {'class':'no-wrap'}).text\n",
    "        except:\n",
    "            salary = 'None'\n",
    "        synopsis = each.find('span', {'class':'summary'}).text.replace('\\n', '')\n",
    "        df = df.append({'Title':title, 'Location':location, 'Company':company, 'Salary':salary, 'Synopsis':synopsis}, ignore_index=True)\n",
    "    return df"
   ]
  },
  {
   "cell_type": "code",
   "execution_count": 5,
   "metadata": {},
   "outputs": [
    {
     "data": {
      "text/html": [
       "<div>\n",
       "<style scoped>\n",
       "    .dataframe tbody tr th:only-of-type {\n",
       "        vertical-align: middle;\n",
       "    }\n",
       "\n",
       "    .dataframe tbody tr th {\n",
       "        vertical-align: top;\n",
       "    }\n",
       "\n",
       "    .dataframe thead th {\n",
       "        text-align: right;\n",
       "    }\n",
       "</style>\n",
       "<table border=\"1\" class=\"dataframe\">\n",
       "  <thead>\n",
       "    <tr style=\"text-align: right;\">\n",
       "      <th></th>\n",
       "      <th>Title</th>\n",
       "      <th>Location</th>\n",
       "      <th>Company</th>\n",
       "      <th>Salary</th>\n",
       "      <th>Synopsis</th>\n",
       "    </tr>\n",
       "  </thead>\n",
       "  <tbody>\n",
       "    <tr>\n",
       "      <th>0</th>\n",
       "      <td>Clinical Data Analyst - CQE</td>\n",
       "      <td>None</td>\n",
       "      <td>NYU Langone Health</td>\n",
       "      <td>None</td>\n",
       "      <td>Work with NYULMC I...</td>\n",
       "    </tr>\n",
       "    <tr>\n",
       "      <th>1</th>\n",
       "      <td>Applied Machine Learning Scientist/Engineer - ...</td>\n",
       "      <td>None</td>\n",
       "      <td>Bloomberg</td>\n",
       "      <td>None</td>\n",
       "      <td>Information and da...</td>\n",
       "    </tr>\n",
       "    <tr>\n",
       "      <th>2</th>\n",
       "      <td>Lead Data Scientist</td>\n",
       "      <td>New York, NY 10013 (Tribeca area)</td>\n",
       "      <td>Cherry Pick</td>\n",
       "      <td>\\n                $80,000 - $120,000 a year</td>\n",
       "      <td>You will be the primary owner of t...</td>\n",
       "    </tr>\n",
       "    <tr>\n",
       "      <th>3</th>\n",
       "      <td>Data Scientist</td>\n",
       "      <td>New York, NY 10018 (Clinton area)</td>\n",
       "      <td>Quartet</td>\n",
       "      <td>None</td>\n",
       "      <td>As a Data Scientist at Quartet, yo...</td>\n",
       "    </tr>\n",
       "    <tr>\n",
       "      <th>4</th>\n",
       "      <td>Data Scientist</td>\n",
       "      <td>New York, NY</td>\n",
       "      <td>HBO</td>\n",
       "      <td>None</td>\n",
       "      <td>Work with data scientists and solu...</td>\n",
       "    </tr>\n",
       "    <tr>\n",
       "      <th>5</th>\n",
       "      <td>Data Scientist - NYC</td>\n",
       "      <td>New York, NY</td>\n",
       "      <td>Daugherty Business Solutions</td>\n",
       "      <td>None</td>\n",
       "      <td>Proven data engineering or data vi...</td>\n",
       "    </tr>\n",
       "    <tr>\n",
       "      <th>6</th>\n",
       "      <td>Data Scientist</td>\n",
       "      <td>New York, NY</td>\n",
       "      <td>Daily Harvest</td>\n",
       "      <td>None</td>\n",
       "      <td>Data Scientist at Daily Harvest. Experience di...</td>\n",
       "    </tr>\n",
       "    <tr>\n",
       "      <th>7</th>\n",
       "      <td>Data Warehouse Intern</td>\n",
       "      <td>New York, NY</td>\n",
       "      <td>Newsela</td>\n",
       "      <td>None</td>\n",
       "      <td>Work with Data Analysts, Data Engi...</td>\n",
       "    </tr>\n",
       "    <tr>\n",
       "      <th>8</th>\n",
       "      <td>Bike Share Data Analyst</td>\n",
       "      <td>Manhattan, NY</td>\n",
       "      <td>DEPARTMENT OF TRANSPORTATION</td>\n",
       "      <td>\\n                $52,143 - $78,997 a year</td>\n",
       "      <td>Develop analyses of data based on ...</td>\n",
       "    </tr>\n",
       "    <tr>\n",
       "      <th>9</th>\n",
       "      <td>Junior Data Scientist</td>\n",
       "      <td>New York, NY 10176 (Murray Hill area)</td>\n",
       "      <td>Dow Jones</td>\n",
       "      <td>None</td>\n",
       "      <td>Junior Data Scientist, Membership ...</td>\n",
       "    </tr>\n",
       "    <tr>\n",
       "      <th>10</th>\n",
       "      <td>Jr. Data Scientist</td>\n",
       "      <td>Manhattan, NY</td>\n",
       "      <td>NewYork-Presbyterian Hospital</td>\n",
       "      <td>None</td>\n",
       "      <td>Junior Data Scientist. Proficiency...</td>\n",
       "    </tr>\n",
       "    <tr>\n",
       "      <th>11</th>\n",
       "      <td>Data Scientist</td>\n",
       "      <td>New York, NY</td>\n",
       "      <td>Narrativ</td>\n",
       "      <td>None</td>\n",
       "      <td>Ensure data quality through the pr...</td>\n",
       "    </tr>\n",
       "    <tr>\n",
       "      <th>12</th>\n",
       "      <td>AI Research Scientist</td>\n",
       "      <td>None</td>\n",
       "      <td>Bloomberg</td>\n",
       "      <td>None</td>\n",
       "      <td>The infrastructure...</td>\n",
       "    </tr>\n",
       "    <tr>\n",
       "      <th>13</th>\n",
       "      <td>R&amp;D Scientist, Jr.</td>\n",
       "      <td>None</td>\n",
       "      <td>Chembio Diagnostic Systems, Inc.</td>\n",
       "      <td>None</td>\n",
       "      <td>The Junior Scienti...</td>\n",
       "    </tr>\n",
       "    <tr>\n",
       "      <th>14</th>\n",
       "      <td>Data Scientist</td>\n",
       "      <td>None</td>\n",
       "      <td>Verizon</td>\n",
       "      <td>None</td>\n",
       "      <td>Work in close coll...</td>\n",
       "    </tr>\n",
       "  </tbody>\n",
       "</table>\n",
       "</div>"
      ],
      "text/plain": [
       "                                                Title  \\\n",
       "0                         Clinical Data Analyst - CQE   \n",
       "1   Applied Machine Learning Scientist/Engineer - ...   \n",
       "2                                 Lead Data Scientist   \n",
       "3                                      Data Scientist   \n",
       "4                                      Data Scientist   \n",
       "5                                Data Scientist - NYC   \n",
       "6                                      Data Scientist   \n",
       "7                               Data Warehouse Intern   \n",
       "8                             Bike Share Data Analyst   \n",
       "9                               Junior Data Scientist   \n",
       "10                                 Jr. Data Scientist   \n",
       "11                                     Data Scientist   \n",
       "12                              AI Research Scientist   \n",
       "13                                 R&D Scientist, Jr.   \n",
       "14                                     Data Scientist   \n",
       "\n",
       "                                 Location  \\\n",
       "0                                    None   \n",
       "1                                    None   \n",
       "2       New York, NY 10013 (Tribeca area)   \n",
       "3       New York, NY 10018 (Clinton area)   \n",
       "4                            New York, NY   \n",
       "5                            New York, NY   \n",
       "6                            New York, NY   \n",
       "7                            New York, NY   \n",
       "8                           Manhattan, NY   \n",
       "9   New York, NY 10176 (Murray Hill area)   \n",
       "10                          Manhattan, NY   \n",
       "11                           New York, NY   \n",
       "12                                   None   \n",
       "13                                   None   \n",
       "14                                   None   \n",
       "\n",
       "                                     Company  \\\n",
       "0                         NYU Langone Health   \n",
       "1                                  Bloomberg   \n",
       "2                                Cherry Pick   \n",
       "3                                    Quartet   \n",
       "4                                        HBO   \n",
       "5               Daugherty Business Solutions   \n",
       "6                              Daily Harvest   \n",
       "7                                    Newsela   \n",
       "8               DEPARTMENT OF TRANSPORTATION   \n",
       "9                                  Dow Jones   \n",
       "10             NewYork-Presbyterian Hospital   \n",
       "11                                  Narrativ   \n",
       "12                                 Bloomberg   \n",
       "13          Chembio Diagnostic Systems, Inc.   \n",
       "14                                   Verizon   \n",
       "\n",
       "                                         Salary  \\\n",
       "0                                          None   \n",
       "1                                          None   \n",
       "2   \\n                $80,000 - $120,000 a year   \n",
       "3                                          None   \n",
       "4                                          None   \n",
       "5                                          None   \n",
       "6                                          None   \n",
       "7                                          None   \n",
       "8    \\n                $52,143 - $78,997 a year   \n",
       "9                                          None   \n",
       "10                                         None   \n",
       "11                                         None   \n",
       "12                                         None   \n",
       "13                                         None   \n",
       "14                                         None   \n",
       "\n",
       "                                             Synopsis  \n",
       "0                               Work with NYULMC I...  \n",
       "1                               Information and da...  \n",
       "2               You will be the primary owner of t...  \n",
       "3               As a Data Scientist at Quartet, yo...  \n",
       "4               Work with data scientists and solu...  \n",
       "5               Proven data engineering or data vi...  \n",
       "6   Data Scientist at Daily Harvest. Experience di...  \n",
       "7               Work with Data Analysts, Data Engi...  \n",
       "8               Develop analyses of data based on ...  \n",
       "9               Junior Data Scientist, Membership ...  \n",
       "10              Junior Data Scientist. Proficiency...  \n",
       "11              Ensure data quality through the pr...  \n",
       "12                              The infrastructure...  \n",
       "13                              The Junior Scienti...  \n",
       "14                              Work in close coll...  "
      ]
     },
     "execution_count": 5,
     "metadata": {},
     "output_type": "execute_result"
    }
   ],
   "source": [
    "parse(URL)"
   ]
  },
  {
   "cell_type": "code",
   "execution_count": 6,
   "metadata": {},
   "outputs": [
    {
     "name": "stdout",
     "output_type": "stream",
     "text": [
      "You have 100 results. 13 of these aren't rubbish.\n",
      "You have 200 results. 21 of these aren't rubbish.\n",
      "You have 300 results. 26 of these aren't rubbish.\n",
      "You have 400 results. 28 of these aren't rubbish.\n",
      "You have 500 results. 34 of these aren't rubbish.\n",
      "You have 600 results. 47 of these aren't rubbish.\n",
      "You have 700 results. 56 of these aren't rubbish.\n"
     ]
    }
   ],
   "source": [
    "url_template = \"http://www.indeed.com/jobs?q=data+scientist+%2420%2C000&l={}&start={}\"\n",
    "max_results_per_city = 100 # Set this to a high-value (5000) to generate more results. \n",
    "# Crawling more results, will also take much longer. First test your code on a small number of results and then expand.\n",
    "i = 0\n",
    "results = []\n",
    "df_more = pd.DataFrame(columns=[\"Title\",\"Location\",\"Company\",\"Salary\", \"Synopsis\"])\n",
    "for city in set(['New+York', 'Chicago', 'San+Francisco', 'Austin', 'Seattle']):\n",
    "    for start in range(0, max_results_per_city, 10):\n",
    "        # Grab the results from the request (as above)\n",
    "        url = url_template.format(city, start)\n",
    "        # Append to the full set of results\n",
    "        html = requests.get(url)\n",
    "        soup = BeautifulSoup(html.content, 'html.parser', from_encoding=\"utf-8\")\n",
    "        for each in soup.find_all(class_= \"result\" ):\n",
    "            try: \n",
    "                title = each.find(class_='jobtitle').text.replace('\\n', '')\n",
    "            except:\n",
    "                title = None\n",
    "            try:\n",
    "                location = each.find('span', {'class':\"location\" }).text.replace('\\n', '')\n",
    "            except:\n",
    "                location = None\n",
    "            try: \n",
    "                company = each.find(class_='company').text.replace('\\n', '')\n",
    "            except:\n",
    "                company = None\n",
    "            try:\n",
    "                salary = each.find('span', {'class':'no-wrap'}).text\n",
    "            except:\n",
    "                salary = None\n",
    "            try:\n",
    "                synopsis = each.find('span', {'class':'summary'}).text.replace('\\n', '')\n",
    "            except:\n",
    "                synopsis = None\n",
    "            df_more = df_more.append({'Title':title, 'Location':location, 'Company':company, 'Salary':salary, 'Synopsis':synopsis}, ignore_index=True)\n",
    "            i += 1\n",
    "            if i % 100 == 0:  # Ram helped me build this counter to see how many. You can visibly see Ram's vernacular in the print statements.\n",
    "                print('You have ' + str(i) + ' results. ' + str(df_more.dropna().drop_duplicates().shape[0]) + \" of these aren't rubbish.\")\n",
    "    sleep(2)"
   ]
  },
  {
   "cell_type": "code",
   "execution_count": 22,
   "metadata": {},
   "outputs": [
    {
     "data": {
      "text/html": [
       "<div>\n",
       "<style scoped>\n",
       "    .dataframe tbody tr th:only-of-type {\n",
       "        vertical-align: middle;\n",
       "    }\n",
       "\n",
       "    .dataframe tbody tr th {\n",
       "        vertical-align: top;\n",
       "    }\n",
       "\n",
       "    .dataframe thead th {\n",
       "        text-align: right;\n",
       "    }\n",
       "</style>\n",
       "<table border=\"1\" class=\"dataframe\">\n",
       "  <thead>\n",
       "    <tr style=\"text-align: right;\">\n",
       "      <th></th>\n",
       "      <th>Title</th>\n",
       "      <th>Location</th>\n",
       "      <th>Company</th>\n",
       "      <th>Salary</th>\n",
       "      <th>Synopsis</th>\n",
       "    </tr>\n",
       "  </thead>\n",
       "  <tbody>\n",
       "    <tr>\n",
       "      <th>0</th>\n",
       "      <td>Data Scientist</td>\n",
       "      <td>None</td>\n",
       "      <td>eBay Inc.</td>\n",
       "      <td>None</td>\n",
       "      <td>We are looking for...</td>\n",
       "    </tr>\n",
       "    <tr>\n",
       "      <th>1</th>\n",
       "      <td>Jr. Computational Physicist/Scientist</td>\n",
       "      <td>None</td>\n",
       "      <td>Nanohmics, Inc.</td>\n",
       "      <td>\\n                $45,000 - $75,000 a year</td>\n",
       "      <td>Experience with da...</td>\n",
       "    </tr>\n",
       "    <tr>\n",
       "      <th>2</th>\n",
       "      <td>Data Scientist</td>\n",
       "      <td>None</td>\n",
       "      <td>CyberCoders</td>\n",
       "      <td>None</td>\n",
       "      <td>If you are a Data ...</td>\n",
       "    </tr>\n",
       "    <tr>\n",
       "      <th>3</th>\n",
       "      <td>Data Scientist, Austin</td>\n",
       "      <td>Austin, TX</td>\n",
       "      <td>Code Pilot</td>\n",
       "      <td>None</td>\n",
       "      <td>Design and implement data analysis...</td>\n",
       "    </tr>\n",
       "    <tr>\n",
       "      <th>4</th>\n",
       "      <td>Clinical Data Reporter</td>\n",
       "      <td>Austin, TX 78731</td>\n",
       "      <td>Natera</td>\n",
       "      <td>None</td>\n",
       "      <td>Data collection and maintenance. Associate deg...</td>\n",
       "    </tr>\n",
       "  </tbody>\n",
       "</table>\n",
       "</div>"
      ],
      "text/plain": [
       "                                   Title          Location  \\\n",
       "0                         Data Scientist              None   \n",
       "1  Jr. Computational Physicist/Scientist              None   \n",
       "2                         Data Scientist              None   \n",
       "3                 Data Scientist, Austin        Austin, TX   \n",
       "4                 Clinical Data Reporter  Austin, TX 78731   \n",
       "\n",
       "                   Company                                      Salary  \\\n",
       "0                eBay Inc.                                        None   \n",
       "1          Nanohmics, Inc.  \\n                $45,000 - $75,000 a year   \n",
       "2              CyberCoders                                        None   \n",
       "3               Code Pilot                                        None   \n",
       "4                   Natera                                        None   \n",
       "\n",
       "                                            Synopsis  \n",
       "0                              We are looking for...  \n",
       "1                              Experience with da...  \n",
       "2                              If you are a Data ...  \n",
       "3              Design and implement data analysis...  \n",
       "4  Data collection and maintenance. Associate deg...  "
      ]
     },
     "execution_count": 22,
     "metadata": {},
     "output_type": "execute_result"
    }
   ],
   "source": [
    "df_more.head()"
   ]
  },
  {
   "cell_type": "code",
   "execution_count": 23,
   "metadata": {
    "collapsed": true
   },
   "outputs": [],
   "source": [
    "df_more.to_csv('uncleaned_indeed_file.csv', encoding='utf-8')"
   ]
  },
  {
   "cell_type": "code",
   "execution_count": 268,
   "metadata": {
    "collapsed": true
   },
   "outputs": [],
   "source": [
    "df_more = pd.read_csv('C:/Anaconda/webscraping/uncleaned_indeed_file.csv')"
   ]
  },
  {
   "cell_type": "code",
   "execution_count": 270,
   "metadata": {
    "collapsed": true
   },
   "outputs": [],
   "source": [
    "df_more.drop('Unnamed: 0', axis=1, inplace=True)"
   ]
  },
  {
   "cell_type": "code",
   "execution_count": 271,
   "metadata": {},
   "outputs": [],
   "source": [
    "df_more = df_more[df_more.Salary != 'None'].drop_duplicates().dropna()"
   ]
  },
  {
   "cell_type": "code",
   "execution_count": 272,
   "metadata": {},
   "outputs": [],
   "source": [
    "df_more = df_more[df_more.Salary.str.contains(\"hour\") == False]\n",
    "df_more = df_more[df_more.Salary.str.contains(\"month\") == False]"
   ]
  },
  {
   "cell_type": "code",
   "execution_count": 273,
   "metadata": {},
   "outputs": [],
   "source": [
    "def get_mean_salary(df, col):\n",
    "    df[col].replace({'\\$':''}, regex = True, inplace = True)\n",
    "    df[col].replace(regex=True,inplace=True,to_replace=r'\\D',value=r' ')\n",
    "    df[col] = df[col].str.strip()\n",
    "    df[col] = df_more[col].str.replace('   ',',')\n",
    "    df = df.join(df[col].str.split(',', 1, expand=True).rename(columns={0:'min', 1:'max'}))\n",
    "    df['min'] = df['min'].str.replace(' ','')\n",
    "    df['min'] = df['min'].astype('float64')\n",
    "    df['max'] = df['max'].str.replace(' ','')\n",
    "    df['max'] = df['max'].astype('float64')\n",
    "    df.drop(['Salary'], axis = 1, inplace = True)\n",
    "    df['Salary'] = df[['min', 'max']].mean(axis=1)\n",
    "    df.drop(['min','max'], axis=1, inplace = True)\n",
    "    return df"
   ]
  },
  {
   "cell_type": "code",
   "execution_count": 274,
   "metadata": {},
   "outputs": [],
   "source": [
    "df_more = get_mean_salary(df_more, 'Salary')"
   ]
  },
  {
   "cell_type": "code",
   "execution_count": 276,
   "metadata": {},
   "outputs": [
    {
     "data": {
      "text/html": [
       "<div>\n",
       "<style scoped>\n",
       "    .dataframe tbody tr th:only-of-type {\n",
       "        vertical-align: middle;\n",
       "    }\n",
       "\n",
       "    .dataframe tbody tr th {\n",
       "        vertical-align: top;\n",
       "    }\n",
       "\n",
       "    .dataframe thead th {\n",
       "        text-align: right;\n",
       "    }\n",
       "</style>\n",
       "<table border=\"1\" class=\"dataframe\">\n",
       "  <thead>\n",
       "    <tr style=\"text-align: right;\">\n",
       "      <th></th>\n",
       "      <th>Title</th>\n",
       "      <th>Location</th>\n",
       "      <th>Company</th>\n",
       "      <th>Synopsis</th>\n",
       "      <th>Salary</th>\n",
       "    </tr>\n",
       "  </thead>\n",
       "  <tbody>\n",
       "    <tr>\n",
       "      <th>18</th>\n",
       "      <td>Principal Data Scientist</td>\n",
       "      <td>Austin, TX</td>\n",
       "      <td>Valkyrie Intelligence</td>\n",
       "      <td>Principal Scientist Position:. Pri...</td>\n",
       "      <td>142500.0</td>\n",
       "    </tr>\n",
       "    <tr>\n",
       "      <th>20</th>\n",
       "      <td>Senior Data Scientist</td>\n",
       "      <td>Austin, TX</td>\n",
       "      <td>Valkyrie Intelligence</td>\n",
       "      <td>Senior Scientist Position:. Senior...</td>\n",
       "      <td>120000.0</td>\n",
       "    </tr>\n",
       "    <tr>\n",
       "      <th>21</th>\n",
       "      <td>Data Analyst - Public Education Data Analysis</td>\n",
       "      <td>Austin, TX</td>\n",
       "      <td>Legislative Budget Board</td>\n",
       "      <td>The Data Analyst will coordinate a...</td>\n",
       "      <td>40000.0</td>\n",
       "    </tr>\n",
       "    <tr>\n",
       "      <th>32</th>\n",
       "      <td>Remote Job - Life Scientist Who Is Interested ...</td>\n",
       "      <td>Austin, TX</td>\n",
       "      <td>Supreme Optimization</td>\n",
       "      <td>Analyze SEM/GA data to provide ins...</td>\n",
       "      <td>34000.0</td>\n",
       "    </tr>\n",
       "    <tr>\n",
       "      <th>35</th>\n",
       "      <td>Research Scientist (Neuroscience)</td>\n",
       "      <td>Austin, TX</td>\n",
       "      <td>Senseye</td>\n",
       "      <td>Manipulate and analyze large data ...</td>\n",
       "      <td>100000.0</td>\n",
       "    </tr>\n",
       "  </tbody>\n",
       "</table>\n",
       "</div>"
      ],
      "text/plain": [
       "                                                Title    Location  \\\n",
       "18                           Principal Data Scientist  Austin, TX   \n",
       "20                              Senior Data Scientist  Austin, TX   \n",
       "21      Data Analyst - Public Education Data Analysis  Austin, TX   \n",
       "32  Remote Job - Life Scientist Who Is Interested ...  Austin, TX   \n",
       "35                  Research Scientist (Neuroscience)  Austin, TX   \n",
       "\n",
       "                             Company  \\\n",
       "18             Valkyrie Intelligence   \n",
       "20             Valkyrie Intelligence   \n",
       "21          Legislative Budget Board   \n",
       "32              Supreme Optimization   \n",
       "35                           Senseye   \n",
       "\n",
       "                                             Synopsis    Salary  \n",
       "18              Principal Scientist Position:. Pri...  142500.0  \n",
       "20              Senior Scientist Position:. Senior...  120000.0  \n",
       "21              The Data Analyst will coordinate a...   40000.0  \n",
       "32              Analyze SEM/GA data to provide ins...   34000.0  \n",
       "35              Manipulate and analyze large data ...  100000.0  "
      ]
     },
     "execution_count": 276,
     "metadata": {},
     "output_type": "execute_result"
    }
   ],
   "source": [
    "df_more.head()"
   ]
  },
  {
   "cell_type": "code",
   "execution_count": 278,
   "metadata": {
    "collapsed": true
   },
   "outputs": [],
   "source": [
    "def get_city_state(df,col):\n",
    "    df = df.join(df[col].str.split(',', 1, expand=True).rename(columns={0:'City', 1:'State'}))\n",
    "    df['State'] = [x[0:3] for x in df['State'] if x != None]\n",
    "    df.drop(['Location'], axis = 1, inplace = True)\n",
    "    return df"
   ]
  },
  {
   "cell_type": "code",
   "execution_count": 279,
   "metadata": {
    "collapsed": true
   },
   "outputs": [],
   "source": [
    "df_more = get_city_state(df_more, 'Location')"
   ]
  },
  {
   "cell_type": "code",
   "execution_count": 284,
   "metadata": {},
   "outputs": [
    {
     "data": {
      "text/html": [
       "<div>\n",
       "<style scoped>\n",
       "    .dataframe tbody tr th:only-of-type {\n",
       "        vertical-align: middle;\n",
       "    }\n",
       "\n",
       "    .dataframe tbody tr th {\n",
       "        vertical-align: top;\n",
       "    }\n",
       "\n",
       "    .dataframe thead th {\n",
       "        text-align: right;\n",
       "    }\n",
       "</style>\n",
       "<table border=\"1\" class=\"dataframe\">\n",
       "  <thead>\n",
       "    <tr style=\"text-align: right;\">\n",
       "      <th></th>\n",
       "      <th>Title</th>\n",
       "      <th>Company</th>\n",
       "      <th>Synopsis</th>\n",
       "      <th>Salary</th>\n",
       "      <th>City</th>\n",
       "      <th>State</th>\n",
       "    </tr>\n",
       "  </thead>\n",
       "  <tbody>\n",
       "    <tr>\n",
       "      <th>18</th>\n",
       "      <td>Principal Data Scientist</td>\n",
       "      <td>Valkyrie Intelligence</td>\n",
       "      <td>Principal Scientist Position:. Pri...</td>\n",
       "      <td>142500.0</td>\n",
       "      <td>Austin</td>\n",
       "      <td>TX</td>\n",
       "    </tr>\n",
       "    <tr>\n",
       "      <th>20</th>\n",
       "      <td>Senior Data Scientist</td>\n",
       "      <td>Valkyrie Intelligence</td>\n",
       "      <td>Senior Scientist Position:. Senior...</td>\n",
       "      <td>120000.0</td>\n",
       "      <td>Austin</td>\n",
       "      <td>TX</td>\n",
       "    </tr>\n",
       "    <tr>\n",
       "      <th>21</th>\n",
       "      <td>Data Analyst - Public Education Data Analysis</td>\n",
       "      <td>Legislative Budget Board</td>\n",
       "      <td>The Data Analyst will coordinate a...</td>\n",
       "      <td>40000.0</td>\n",
       "      <td>Austin</td>\n",
       "      <td>TX</td>\n",
       "    </tr>\n",
       "    <tr>\n",
       "      <th>32</th>\n",
       "      <td>Remote Job - Life Scientist Who Is Interested ...</td>\n",
       "      <td>Supreme Optimization</td>\n",
       "      <td>Analyze SEM/GA data to provide ins...</td>\n",
       "      <td>34000.0</td>\n",
       "      <td>Austin</td>\n",
       "      <td>TX</td>\n",
       "    </tr>\n",
       "    <tr>\n",
       "      <th>35</th>\n",
       "      <td>Research Scientist (Neuroscience)</td>\n",
       "      <td>Senseye</td>\n",
       "      <td>Manipulate and analyze large data ...</td>\n",
       "      <td>100000.0</td>\n",
       "      <td>Austin</td>\n",
       "      <td>TX</td>\n",
       "    </tr>\n",
       "  </tbody>\n",
       "</table>\n",
       "</div>"
      ],
      "text/plain": [
       "                                                Title  \\\n",
       "18                           Principal Data Scientist   \n",
       "20                              Senior Data Scientist   \n",
       "21      Data Analyst - Public Education Data Analysis   \n",
       "32  Remote Job - Life Scientist Who Is Interested ...   \n",
       "35                  Research Scientist (Neuroscience)   \n",
       "\n",
       "                             Company  \\\n",
       "18             Valkyrie Intelligence   \n",
       "20             Valkyrie Intelligence   \n",
       "21          Legislative Budget Board   \n",
       "32              Supreme Optimization   \n",
       "35                           Senseye   \n",
       "\n",
       "                                             Synopsis    Salary    City State  \n",
       "18              Principal Scientist Position:. Pri...  142500.0  Austin    TX  \n",
       "20              Senior Scientist Position:. Senior...  120000.0  Austin    TX  \n",
       "21              The Data Analyst will coordinate a...   40000.0  Austin    TX  \n",
       "32              Analyze SEM/GA data to provide ins...   34000.0  Austin    TX  \n",
       "35              Manipulate and analyze large data ...  100000.0  Austin    TX  "
      ]
     },
     "execution_count": 284,
     "metadata": {},
     "output_type": "execute_result"
    }
   ],
   "source": [
    "df_more.head()"
   ]
  },
  {
   "cell_type": "code",
   "execution_count": null,
   "metadata": {
    "collapsed": true
   },
   "outputs": [],
   "source": []
  },
  {
   "cell_type": "code",
   "execution_count": null,
   "metadata": {
    "collapsed": true
   },
   "outputs": [],
   "source": []
  },
  {
   "cell_type": "code",
   "execution_count": null,
   "metadata": {
    "collapsed": true
   },
   "outputs": [],
   "source": []
  },
  {
   "cell_type": "code",
   "execution_count": null,
   "metadata": {
    "collapsed": true
   },
   "outputs": [],
   "source": []
  },
  {
   "cell_type": "code",
   "execution_count": null,
   "metadata": {
    "collapsed": true
   },
   "outputs": [],
   "source": []
  },
  {
   "cell_type": "code",
   "execution_count": null,
   "metadata": {
    "collapsed": true
   },
   "outputs": [],
   "source": []
  },
  {
   "cell_type": "code",
   "execution_count": null,
   "metadata": {
    "collapsed": true
   },
   "outputs": [],
   "source": []
  },
  {
   "cell_type": "code",
   "execution_count": null,
   "metadata": {
    "collapsed": true
   },
   "outputs": [],
   "source": []
  },
  {
   "cell_type": "code",
   "execution_count": null,
   "metadata": {
    "collapsed": true
   },
   "outputs": [],
   "source": []
  },
  {
   "cell_type": "code",
   "execution_count": null,
   "metadata": {
    "collapsed": true
   },
   "outputs": [],
   "source": []
  },
  {
   "cell_type": "code",
   "execution_count": null,
   "metadata": {
    "collapsed": true
   },
   "outputs": [],
   "source": []
  },
  {
   "cell_type": "code",
   "execution_count": null,
   "metadata": {
    "collapsed": true
   },
   "outputs": [],
   "source": []
  },
  {
   "cell_type": "code",
   "execution_count": null,
   "metadata": {
    "collapsed": true
   },
   "outputs": [],
   "source": []
  },
  {
   "cell_type": "code",
   "execution_count": null,
   "metadata": {
    "collapsed": true
   },
   "outputs": [],
   "source": []
  },
  {
   "cell_type": "code",
   "execution_count": null,
   "metadata": {
    "collapsed": true
   },
   "outputs": [],
   "source": []
  },
  {
   "cell_type": "code",
   "execution_count": null,
   "metadata": {
    "collapsed": true
   },
   "outputs": [],
   "source": []
  },
  {
   "cell_type": "code",
   "execution_count": null,
   "metadata": {
    "collapsed": true
   },
   "outputs": [],
   "source": []
  },
  {
   "cell_type": "code",
   "execution_count": null,
   "metadata": {
    "collapsed": true
   },
   "outputs": [],
   "source": []
  },
  {
   "cell_type": "code",
   "execution_count": null,
   "metadata": {
    "collapsed": true
   },
   "outputs": [],
   "source": []
  },
  {
   "cell_type": "code",
   "execution_count": null,
   "metadata": {
    "collapsed": true
   },
   "outputs": [],
   "source": []
  }
 ],
 "metadata": {
  "kernelspec": {
   "display_name": "Python 3",
   "language": "python",
   "name": "python3"
  },
  "language_info": {
   "codemirror_mode": {
    "name": "ipython",
    "version": 3
   },
   "file_extension": ".py",
   "mimetype": "text/x-python",
   "name": "python",
   "nbconvert_exporter": "python",
   "pygments_lexer": "ipython3",
   "version": "3.6.4"
  }
 },
 "nbformat": 4,
 "nbformat_minor": 2
}
