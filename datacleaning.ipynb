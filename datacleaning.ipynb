{
 "cells": [
  {
   "cell_type": "code",
   "execution_count": 254,
   "metadata": {},
   "outputs": [
    {
     "data": {
      "text/html": [
       "<script>requirejs.config({paths: { 'plotly': ['https://cdn.plot.ly/plotly-latest.min']},});if(!window.Plotly) {{require(['plotly'],function(plotly) {window.Plotly=plotly;});}}</script>"
      ],
      "text/vnd.plotly.v1+html": [
       "<script>requirejs.config({paths: { 'plotly': ['https://cdn.plot.ly/plotly-latest.min']},});if(!window.Plotly) {{require(['plotly'],function(plotly) {window.Plotly=plotly;});}}</script>"
      ]
     },
     "metadata": {},
     "output_type": "display_data"
    }
   ],
   "source": [
    "import numpy as np\n",
    "import pandas as pd\n",
    "import os\n",
    "import re\n",
    "\n",
    "import matplotlib.pyplot as plt\n",
    "%matplotlib inline\n",
    "plt.style.use('ggplot')\n",
    "\n",
    "import seaborn as sns\n",
    "from plotly.offline import download_plotlyjs, init_notebook_mode, plot, iplot\n",
    "import plotly as py\n",
    "import plotly.graph_objs as go\n",
    "from plotly.graph_objs import *\n",
    "init_notebook_mode(connected = True)\n",
    "\n",
    "from nltk.corpus import stopwords\n",
    "from wordcloud import WordCloud\n",
    "from nltk.stem import PorterStemmer\n",
    "from nltk import WordNetLemmatizer"
   ]
  },
  {
   "cell_type": "code",
   "execution_count": 61,
   "metadata": {
    "collapsed": true
   },
   "outputs": [],
   "source": [
    "from plotly import __version__"
   ]
  },
  {
   "cell_type": "code",
   "execution_count": 255,
   "metadata": {
    "collapsed": true
   },
   "outputs": [],
   "source": [
    "#Get all csv files in current directory\n",
    "get_filelist = [f for f in os.listdir(os.curdir) if f.endswith(\".csv\")]"
   ]
  },
  {
   "cell_type": "code",
   "execution_count": 256,
   "metadata": {
    "collapsed": true
   },
   "outputs": [],
   "source": [
    "files = get_filelist[:-2]"
   ]
  },
  {
   "cell_type": "code",
   "execution_count": 257,
   "metadata": {},
   "outputs": [
    {
     "data": {
      "text/plain": [
       "['0_999.csv',\n",
       " '1000_2999.csv',\n",
       " '12000_13999.csv',\n",
       " '14000_15999.csv',\n",
       " '16000_17999.csv',\n",
       " '18000_19999.csv',\n",
       " '20000_22999.csv',\n",
       " '23000_25999.csv',\n",
       " '26000_28999.csv',\n",
       " '29000_31999.csv',\n",
       " '3000_5999.csv',\n",
       " '32000_34999.csv',\n",
       " '6000_8999.csv',\n",
       " '9000_11999.csv']"
      ]
     },
     "execution_count": 257,
     "metadata": {},
     "output_type": "execute_result"
    }
   ],
   "source": [
    "files"
   ]
  },
  {
   "cell_type": "code",
   "execution_count": 258,
   "metadata": {
    "collapsed": true
   },
   "outputs": [],
   "source": [
    "df = pd.concat([pd.read_csv(f) for f in files])"
   ]
  },
  {
   "cell_type": "code",
   "execution_count": 150,
   "metadata": {},
   "outputs": [
    {
     "name": "stdout",
     "output_type": "stream",
     "text": [
      "Title \n",
      " uniques: 5437 \n",
      " ****************************************\n",
      "Location \n",
      " uniques: 788 \n",
      " ****************************************\n",
      "Company \n",
      " uniques: 2613 \n",
      " ****************************************\n",
      "Salary \n",
      " uniques: 421 \n",
      " ****************************************\n",
      "Summary \n",
      " uniques: 6568 \n",
      " ****************************************\n",
      "Description \n",
      " uniques: 13712 \n",
      " ****************************************\n",
      "Review \n",
      " uniques: 1498 \n",
      " ****************************************\n",
      "benefit_rating \n",
      " uniques: 62 \n",
      " ****************************************\n",
      "comp_rating_overall \n",
      " uniques: 33 \n",
      " ****************************************\n",
      "culture_rating \n",
      " uniques: 68 \n",
      " ****************************************\n",
      "job_description \n",
      " uniques: 3357 \n",
      " ****************************************\n",
      "jsecurity_rating \n",
      " uniques: 69 \n",
      " ****************************************\n",
      "mgmt_rating \n",
      " uniques: 70 \n",
      " ****************************************\n",
      "wl_bal_rating \n",
      " uniques: 64 \n",
      " ****************************************\n"
     ]
    }
   ],
   "source": [
    "for c in df:\n",
    "    print(c, '\\n', 'uniques:', df[c].nunique(), '\\n', ('*'*40))"
   ]
  },
  {
   "cell_type": "code",
   "execution_count": 259,
   "metadata": {
    "collapsed": true
   },
   "outputs": [],
   "source": [
    "df.reset_index(inplace=True, drop=True)"
   ]
  },
  {
   "cell_type": "code",
   "execution_count": 260,
   "metadata": {},
   "outputs": [
    {
     "data": {
      "text/html": [
       "<div>\n",
       "<style scoped>\n",
       "    .dataframe tbody tr th:only-of-type {\n",
       "        vertical-align: middle;\n",
       "    }\n",
       "\n",
       "    .dataframe tbody tr th {\n",
       "        vertical-align: top;\n",
       "    }\n",
       "\n",
       "    .dataframe thead th {\n",
       "        text-align: right;\n",
       "    }\n",
       "</style>\n",
       "<table border=\"1\" class=\"dataframe\">\n",
       "  <thead>\n",
       "    <tr style=\"text-align: right;\">\n",
       "      <th></th>\n",
       "      <th>Title</th>\n",
       "      <th>Location</th>\n",
       "      <th>Company</th>\n",
       "      <th>Salary</th>\n",
       "      <th>Summary</th>\n",
       "      <th>Description</th>\n",
       "      <th>Review</th>\n",
       "      <th>benefit_rating</th>\n",
       "      <th>comp_rating_overall</th>\n",
       "      <th>culture_rating</th>\n",
       "      <th>job_description</th>\n",
       "      <th>jsecurity_rating</th>\n",
       "      <th>mgmt_rating</th>\n",
       "      <th>wl_bal_rating</th>\n",
       "    </tr>\n",
       "  </thead>\n",
       "  <tbody>\n",
       "    <tr>\n",
       "      <th>0</th>\n",
       "      <td>External Research Coordinator</td>\n",
       "      <td>NaN</td>\n",
       "      <td>Moffitt Cancer Center</td>\n",
       "      <td>NaN</td>\n",
       "      <td>Conducts monthly q...</td>\n",
       "      <td>https://www.indeed.com/pagead/clk?mo=r&amp;ad=-6NY...</td>\n",
       "      <td>https://www.indeed.com/cmp/Moffitt-Cancer-Center</td>\n",
       "      <td>3.8</td>\n",
       "      <td>4.0</td>\n",
       "      <td>3.8</td>\n",
       "      <td>Moffitt Cancer Center is internationally recog...</td>\n",
       "      <td>3.6</td>\n",
       "      <td>3.5</td>\n",
       "      <td>3.9</td>\n",
       "    </tr>\n",
       "    <tr>\n",
       "      <th>1</th>\n",
       "      <td>Information Security Lead Data Scientist - VP ...</td>\n",
       "      <td>NaN</td>\n",
       "      <td>Citi</td>\n",
       "      <td>NaN</td>\n",
       "      <td>Serve as a Lead Da...</td>\n",
       "      <td>https://www.indeed.com/pagead/clk?mo=r&amp;ad=-6NY...</td>\n",
       "      <td>https://www.indeed.com/cmp/Citi</td>\n",
       "      <td>3.9</td>\n",
       "      <td>3.9</td>\n",
       "      <td>3.8</td>\n",
       "      <td>Primary Location: United States,Florida,Tampa ...</td>\n",
       "      <td>3.5</td>\n",
       "      <td>3.6</td>\n",
       "      <td>3.8</td>\n",
       "    </tr>\n",
       "    <tr>\n",
       "      <th>2</th>\n",
       "      <td>Process Engineer</td>\n",
       "      <td>NaN</td>\n",
       "      <td>James Hardie</td>\n",
       "      <td>NaN</td>\n",
       "      <td>Your decision-maki...</td>\n",
       "      <td>https://www.indeed.com/pagead/clk?mo=r&amp;ad=-6NY...</td>\n",
       "      <td>https://www.indeed.com/cmp/James-Hardie-Buildi...</td>\n",
       "      <td>3.9</td>\n",
       "      <td>3.5</td>\n",
       "      <td>3.2</td>\n",
       "      <td>The Process Engineer manages the on-boarding a...</td>\n",
       "      <td>3.2</td>\n",
       "      <td>3.0</td>\n",
       "      <td>3.1</td>\n",
       "    </tr>\n",
       "  </tbody>\n",
       "</table>\n",
       "</div>"
      ],
      "text/plain": [
       "                                               Title Location  \\\n",
       "0                      External Research Coordinator      NaN   \n",
       "1  Information Security Lead Data Scientist - VP ...      NaN   \n",
       "2                                   Process Engineer      NaN   \n",
       "\n",
       "                         Company Salary  \\\n",
       "0          Moffitt Cancer Center    NaN   \n",
       "1                           Citi    NaN   \n",
       "2                   James Hardie    NaN   \n",
       "\n",
       "                                             Summary  \\\n",
       "0                              Conducts monthly q...   \n",
       "1                              Serve as a Lead Da...   \n",
       "2                              Your decision-maki...   \n",
       "\n",
       "                                         Description  \\\n",
       "0  https://www.indeed.com/pagead/clk?mo=r&ad=-6NY...   \n",
       "1  https://www.indeed.com/pagead/clk?mo=r&ad=-6NY...   \n",
       "2  https://www.indeed.com/pagead/clk?mo=r&ad=-6NY...   \n",
       "\n",
       "                                              Review benefit_rating  \\\n",
       "0   https://www.indeed.com/cmp/Moffitt-Cancer-Center            3.8   \n",
       "1                    https://www.indeed.com/cmp/Citi            3.9   \n",
       "2  https://www.indeed.com/cmp/James-Hardie-Buildi...            3.9   \n",
       "\n",
       "   comp_rating_overall culture_rating  \\\n",
       "0                  4.0            3.8   \n",
       "1                  3.9            3.8   \n",
       "2                  3.5            3.2   \n",
       "\n",
       "                                     job_description jsecurity_rating  \\\n",
       "0  Moffitt Cancer Center is internationally recog...              3.6   \n",
       "1  Primary Location: United States,Florida,Tampa ...              3.5   \n",
       "2  The Process Engineer manages the on-boarding a...              3.2   \n",
       "\n",
       "  mgmt_rating wl_bal_rating  \n",
       "0         3.5           3.9  \n",
       "1         3.6           3.8  \n",
       "2         3.0           3.1  "
      ]
     },
     "execution_count": 260,
     "metadata": {},
     "output_type": "execute_result"
    }
   ],
   "source": [
    "df.head(3)"
   ]
  },
  {
   "cell_type": "code",
   "execution_count": 261,
   "metadata": {
    "collapsed": true
   },
   "outputs": [],
   "source": [
    "df.loc[df['Title'] == 'None', col] = None\n",
    "df.loc[df['Company'] == 'None', col] = None\n",
    "df.loc[df['Description'] == 'None', col] = None\n",
    "df.loc[df['Review'] == 'None', col] = None\n",
    "df.loc[df['job_description'] == 'None', col] = None"
   ]
  },
  {
   "cell_type": "code",
   "execution_count": null,
   "metadata": {
    "collapsed": true
   },
   "outputs": [],
   "source": []
  },
  {
   "cell_type": "code",
   "execution_count": 262,
   "metadata": {},
   "outputs": [
    {
     "data": {
      "text/plain": [
       "Title                      0\n",
       "Location                9709\n",
       "Company                    0\n",
       "Salary                 32253\n",
       "Summary                    1\n",
       "Description                0\n",
       "Review                     0\n",
       "benefit_rating          7820\n",
       "comp_rating_overall     7914\n",
       "culture_rating          7820\n",
       "job_description            0\n",
       "jsecurity_rating        7820\n",
       "mgmt_rating             7820\n",
       "wl_bal_rating           7820\n",
       "dtype: int64"
      ]
     },
     "execution_count": 262,
     "metadata": {},
     "output_type": "execute_result"
    }
   ],
   "source": [
    "#find empty values\n",
    "np.sum(df.isnull())"
   ]
  },
  {
   "cell_type": "code",
   "execution_count": 263,
   "metadata": {
    "collapsed": true
   },
   "outputs": [],
   "source": [
    "df = df.loc[df['Location'].notnull()]"
   ]
  },
  {
   "cell_type": "code",
   "execution_count": 264,
   "metadata": {},
   "outputs": [
    {
     "data": {
      "text/plain": [
       "(25292, 14)"
      ]
     },
     "execution_count": 264,
     "metadata": {},
     "output_type": "execute_result"
    }
   ],
   "source": [
    "df.shape"
   ]
  },
  {
   "cell_type": "code",
   "execution_count": 157,
   "metadata": {
    "collapsed": true
   },
   "outputs": [],
   "source": [
    "#replace all empty spaces by one empty space\n",
    "df['job_description'] = df['job_description'].apply(lambda x: re.sub('\\s+', ' ', x))"
   ]
  },
  {
   "cell_type": "code",
   "execution_count": 133,
   "metadata": {},
   "outputs": [
    {
     "name": "stderr",
     "output_type": "stream",
     "text": [
      "C:\\Anaconda\\Anaconda3\\lib\\site-packages\\ipykernel_launcher.py:24: UserWarning:\n",
      "\n",
      "This pattern has match groups. To actually get the groups, use str.extract.\n",
      "\n"
     ]
    }
   ],
   "source": [
    "languages_re={'R':'(?<=[\\W])R(?=[\\W])', 'python':'python', 'Java': 'java', 'Ruby':'ruby','Bash':'bash',\\\n",
    "              'vba':'vba', 'css':'css', 'Javascript':\"JAVA-?\\s?SCRIPT\", 'Scala': 'scala','C':'(?<=[\\W])C(?=[\\W])',\\\n",
    "             'HTML':'html', 'Perl':'perl', 'SQL':'sql'}\n",
    "\n",
    "databases_re={ 'Oracle':'oracle', 'MongoDB':'mongodb', 'MySQL':'mysql', 'PostgreSQL':'postgresql', \\\n",
    "             'SQL Server':'sql server', 'Cassandra':'cassandra'}\n",
    "\n",
    "\n",
    "infrastructures_re={'Hadoop': 'hadoop', 'Spark':'spark', 'AWS':'AWS|[Aa]mazon [Ww]eb [Ss]ervice', 'Hive':'hive',\\\n",
    "                    'Pig':'pig'}\n",
    "\n",
    "data_science_packages_re={'SAS':'SAS','Matlab':'matlab', 'Tableau':'tableau','TensorFlow':'tensor( ?)flow',\\\n",
    "                          'Excel':'(?<=[\\W])Excel(?=[\\W])','Stata': 'stata','H2O':'h2o', 'BI':'BI',\\\n",
    "                          'Scikit Learn':'scikit'}\n",
    "\n",
    "os_re={'Linux': 'linux','windows':'windows', 'mac':'mac '}\n",
    "\n",
    "\n",
    "skill_re = {'Machine Learning':'ML|[Mm]achine [lL]earning', 'Data Visualization':'visualization',\\\n",
    "            'Deep Learning':'[Dd]eep [Ll]earning','AI':'AI|[Aa]rtificial [Ii]nteligence',\\\n",
    "            'Neural Network':'[Nn]eural ?[Nn]','NLP':'[Nn]atural [Ll]anguage [Pp]rocessing|NLP',\\\n",
    "            'Predictive Modeling':'[Pp]redictive [Mm]odel', 'Web Scraping':'([Ww]eb )?[Ss]crap',\\\n",
    "            'Descision Tree':'[Tt]ree', 'Clustering':'[[Cc]luster' }\n",
    "\n",
    "tool_re_case_sensitive=['R','SAS', 'C', 'SPSS', 'BI', 'C/C++','Data Visualization','Web Scraping']\n",
    "\n",
    "\n",
    "all_tools_re = {'Languages':languages_re, 'Databases': databases_re, 'Data Science Tools':data_science_packages_re,\\\n",
    "                'OSes':os_re, 'Infrastructure':infrastructures_re, 'Data Science Methods':skill_re }\n",
    "\n",
    "skill_groups_df={}\n",
    "\n",
    "for tool_name, my_df in all_tools_re.items():\n",
    "    for tool in my_df:\n",
    "        df[tool]= df.job_description.str.contains(my_df[tool], case = (tool in tool_re_case_sensitive or tool_name=='Data Science Methods' ))\n",
    "    \n",
    "    skill_groups_df[tool_name] = (pd.DataFrame(df.loc[:,my_df.keys()].apply(pd.value_counts).loc[True].sort_values(ascending=False)))"
   ]
  },
  {
   "cell_type": "code",
   "execution_count": 180,
   "metadata": {},
   "outputs": [],
   "source": [
    "#skill_groups_df"
   ]
  },
  {
   "cell_type": "code",
   "execution_count": 183,
   "metadata": {
    "collapsed": true
   },
   "outputs": [],
   "source": [
    "l = ['Atlanta', 'Austin', 'Baltimore', 'Boston', 'Charlotte', 'Chicago', 'Cincinnati', 'Columbus', \n",
    "          'Dallas', 'Denver', 'Houston', 'Indianapolis', 'Jacksonville', 'Kansas+City', 'Los+AngelesNew+York', \n",
    "          'Miami', 'Minneapolis', 'Nashville', 'Oakland', 'Philadelphia', 'Phoenix', 'Pittsburgh', 'Portland', \n",
    "          'San+Diego', 'San+Francisco', 'San+Jose', 'Seattle', 'St.+Louis', 'Tampa', 'Washington%2C+DC']"
   ]
  },
  {
   "cell_type": "code",
   "execution_count": 199,
   "metadata": {
    "collapsed": true
   },
   "outputs": [],
   "source": [
    "l_dict = {'cities': ['Atlanta', 'Austin', 'Baltimore', 'Boston', 'Charlotte', 'Chicago', 'Cincinnati', 'Columbus', \n",
    "          'Dallas', 'Denver', 'Houston', 'Indianapolis', 'Jacksonville', 'Kansas+City', 'Los+AngelesNew+York', \n",
    "          'Miami', 'Minneapolis', 'Nashville', 'Oakland', 'Philadelphia', 'Phoenix', 'Pittsburgh', 'Portland', \n",
    "          'San+Diego', 'San+Francisco', 'San+Jose', 'Seattle', 'St.+Louis', 'Tampa', 'Washington%2C+DC']}"
   ]
  },
  {
   "cell_type": "code",
   "execution_count": 265,
   "metadata": {
    "collapsed": true
   },
   "outputs": [],
   "source": [
    "df1 = df.copy()"
   ]
  },
  {
   "cell_type": "code",
   "execution_count": 266,
   "metadata": {},
   "outputs": [
    {
     "data": {
      "text/plain": [
       "(25292, 14)"
      ]
     },
     "execution_count": 266,
     "metadata": {},
     "output_type": "execute_result"
    }
   ],
   "source": [
    "df1.shape"
   ]
  },
  {
   "cell_type": "code",
   "execution_count": 201,
   "metadata": {},
   "outputs": [
    {
     "ename": "TypeError",
     "evalue": "list indices must be integers or slices, not str",
     "output_type": "error",
     "traceback": [
      "\u001b[1;31m---------------------------------------------------------------------------\u001b[0m",
      "\u001b[1;31mTypeError\u001b[0m                                 Traceback (most recent call last)",
      "\u001b[1;32m<ipython-input-201-e11507fab079>\u001b[0m in \u001b[0;36m<module>\u001b[1;34m()\u001b[0m\n\u001b[0;32m      1\u001b[0m \u001b[1;32mfor\u001b[0m \u001b[0ma\u001b[0m\u001b[1;33m,\u001b[0m\u001b[0mb\u001b[0m \u001b[1;32min\u001b[0m \u001b[0ml_dict\u001b[0m\u001b[1;33m.\u001b[0m\u001b[0mitems\u001b[0m\u001b[1;33m(\u001b[0m\u001b[1;33m)\u001b[0m\u001b[1;33m:\u001b[0m\u001b[1;33m\u001b[0m\u001b[0m\n\u001b[0;32m      2\u001b[0m     \u001b[1;32mfor\u001b[0m \u001b[0mloc\u001b[0m \u001b[1;32min\u001b[0m \u001b[0mb\u001b[0m\u001b[1;33m:\u001b[0m\u001b[1;33m\u001b[0m\u001b[0m\n\u001b[1;32m----> 3\u001b[1;33m         \u001b[0mdf\u001b[0m\u001b[1;33m[\u001b[0m\u001b[0mloc\u001b[0m\u001b[1;33m]\u001b[0m \u001b[1;33m=\u001b[0m \u001b[0mdf\u001b[0m\u001b[1;33m.\u001b[0m\u001b[0mLocation\u001b[0m\u001b[1;33m.\u001b[0m\u001b[0mstr\u001b[0m\u001b[1;33m.\u001b[0m\u001b[0mcontains\u001b[0m\u001b[1;33m(\u001b[0m\u001b[0mb\u001b[0m\u001b[1;33m[\u001b[0m\u001b[0mloc\u001b[0m\u001b[1;33m]\u001b[0m\u001b[1;33m)\u001b[0m\u001b[1;33m\u001b[0m\u001b[0m\n\u001b[0m\u001b[0;32m      4\u001b[0m \u001b[1;33m\u001b[0m\u001b[0m\n\u001b[0;32m      5\u001b[0m \u001b[1;31m#df1.Location.str.contains(any(l))\u001b[0m\u001b[1;33m\u001b[0m\u001b[1;33m\u001b[0m\u001b[0m\n",
      "\u001b[1;31mTypeError\u001b[0m: list indices must be integers or slices, not str"
     ]
    }
   ],
   "source": [
    "for a,b in l_dict.items():\n",
    "    for loc in b: \n",
    "        df[loc] = df.Location.str.contains(b[loc])\n",
    "\n",
    "#df1.Location.str.contains(any(l))"
   ]
  },
  {
   "cell_type": "code",
   "execution_count": 214,
   "metadata": {},
   "outputs": [
    {
     "name": "stdout",
     "output_type": "stream",
     "text": [
      "yeah\n",
      "yeah\n",
      "yeah\n",
      "yeah\n",
      "yeah\n",
      "yeah\n",
      "yeah\n",
      "yeah\n",
      "yeah\n",
      "yeah\n",
      "yeah\n",
      "yeah\n",
      "yeah\n",
      "yeah\n",
      "yeah\n",
      "yeah\n",
      "yeah\n",
      "yeah\n",
      "yeah\n",
      "yeah\n",
      "yeah\n",
      "yeah\n",
      "yeah\n",
      "yeah\n",
      "yeah\n",
      "yeah\n",
      "yeah\n",
      "yeah\n",
      "yeah\n",
      "yeah\n",
      "yeah\n",
      "yeah\n",
      "yeah\n",
      "yeah\n",
      "yeah\n",
      "yeah\n",
      "yeah\n",
      "yeah\n",
      "yeah\n",
      "yeah\n",
      "yeah\n",
      "yeah\n",
      "yeah\n",
      "yeah\n",
      "yeah\n",
      "yeah\n",
      "yeah\n",
      "yeah\n",
      "yeah\n",
      "yeah\n",
      "yeah\n",
      "yeah\n",
      "yeah\n",
      "yeah\n",
      "yeah\n",
      "yeah\n",
      "yeah\n",
      "yeah\n",
      "yeah\n",
      "yeah\n",
      "yeah\n",
      "yeah\n",
      "yeah\n",
      "yeah\n",
      "yeah\n",
      "yeah\n",
      "yeah\n",
      "yeah\n",
      "yeah\n",
      "yeah\n",
      "yeah\n",
      "yeah\n",
      "yeah\n",
      "yeah\n",
      "yeah\n",
      "yeah\n",
      "yeah\n",
      "yeah\n",
      "yeah\n",
      "yeah\n",
      "yeah\n",
      "yeah\n",
      "yeah\n",
      "yeah\n",
      "yeah\n",
      "yeah\n",
      "yeah\n",
      "yeah\n",
      "yeah\n",
      "yeah\n",
      "yeah\n",
      "yeah\n",
      "yeah\n",
      "yeah\n",
      "yeah\n",
      "yeah\n",
      "yeah\n",
      "yeah\n",
      "yeah\n",
      "yeah\n",
      "yeah\n",
      "yeah\n",
      "yeah\n",
      "yeah\n",
      "yeah\n",
      "yeah\n",
      "yeah\n",
      "yeah\n",
      "yeah\n",
      "yeah\n",
      "yeah\n",
      "yeah\n",
      "yeah\n",
      "yeah\n",
      "yeah\n",
      "yeah\n",
      "yeah\n",
      "yeah\n",
      "yeah\n",
      "yeah\n",
      "yeah\n",
      "yeah\n",
      "yeah\n",
      "yeah\n",
      "yeah\n",
      "yeah\n",
      "yeah\n",
      "yeah\n",
      "yeah\n",
      "yeah\n",
      "yeah\n",
      "yeah\n",
      "yeah\n",
      "yeah\n",
      "yeah\n",
      "yeah\n",
      "yeah\n",
      "yeah\n",
      "yeah\n",
      "yeah\n",
      "yeah\n",
      "yeah\n",
      "yeah\n",
      "yeah\n",
      "yeah\n",
      "yeah\n",
      "yeah\n",
      "yeah\n",
      "yeah\n",
      "yeah\n",
      "yeah\n",
      "yeah\n",
      "yeah\n",
      "yeah\n",
      "yeah\n",
      "yeah\n",
      "yeah\n",
      "yeah\n",
      "yeah\n",
      "yeah\n",
      "yeah\n",
      "yeah\n",
      "yeah\n",
      "yeah\n",
      "yeah\n",
      "yeah\n",
      "yeah\n",
      "yeah\n",
      "yeah\n",
      "yeah\n",
      "yeah\n",
      "yeah\n",
      "yeah\n",
      "yeah\n",
      "yeah\n",
      "yeah\n",
      "yeah\n",
      "yeah\n",
      "yeah\n",
      "yeah\n",
      "yeah\n",
      "yeah\n",
      "yeah\n",
      "yeah\n",
      "yeah\n",
      "yeah\n",
      "yeah\n",
      "yeah\n",
      "yeah\n",
      "yeah\n",
      "yeah\n",
      "yeah\n",
      "yeah\n",
      "yeah\n",
      "yeah\n",
      "yeah\n",
      "yeah\n",
      "yeah\n",
      "yeah\n",
      "yeah\n",
      "yeah\n",
      "yeah\n",
      "yeah\n",
      "yeah\n",
      "yeah\n",
      "yeah\n",
      "yeah\n",
      "yeah\n",
      "yeah\n",
      "yeah\n",
      "yeah\n",
      "yeah\n",
      "yeah\n",
      "yeah\n",
      "yeah\n",
      "yeah\n",
      "yeah\n",
      "yeah\n",
      "yeah\n",
      "yeah\n",
      "yeah\n",
      "yeah\n",
      "yeah\n",
      "yeah\n",
      "yeah\n",
      "yeah\n",
      "yeah\n",
      "yeah\n",
      "yeah\n",
      "yeah\n",
      "yeah\n",
      "yeah\n",
      "yeah\n",
      "yeah\n",
      "yeah\n",
      "yeah\n",
      "yeah\n",
      "yeah\n",
      "yeah\n",
      "yeah\n",
      "yeah\n",
      "yeah\n",
      "yeah\n",
      "yeah\n",
      "yeah\n",
      "yeah\n",
      "yeah\n",
      "yeah\n",
      "yeah\n",
      "yeah\n",
      "yeah\n",
      "yeah\n",
      "yeah\n",
      "yeah\n",
      "yeah\n",
      "yeah\n",
      "yeah\n",
      "yeah\n",
      "yeah\n",
      "yeah\n",
      "yeah\n",
      "yeah\n",
      "yeah\n",
      "yeah\n",
      "yeah\n",
      "yeah\n",
      "yeah\n",
      "yeah\n",
      "yeah\n",
      "yeah\n",
      "yeah\n",
      "yeah\n",
      "yeah\n",
      "yeah\n",
      "yeah\n",
      "yeah\n",
      "yeah\n",
      "yeah\n",
      "yeah\n",
      "yeah\n",
      "yeah\n",
      "yeah\n",
      "yeah\n",
      "yeah\n",
      "yeah\n",
      "yeah\n",
      "yeah\n",
      "yeah\n",
      "yeah\n",
      "yeah\n",
      "yeah\n",
      "yeah\n",
      "yeah\n",
      "yeah\n",
      "yeah\n",
      "yeah\n"
     ]
    }
   ],
   "source": [
    "for a in df1['Company']:\n",
    "    if any(s in a for s in l):\n",
    "        print('yeah')"
   ]
  },
  {
   "cell_type": "code",
   "execution_count": 227,
   "metadata": {},
   "outputs": [
    {
     "ename": "NameError",
     "evalue": "name 's' is not defined",
     "output_type": "error",
     "traceback": [
      "\u001b[1;31m---------------------------------------------------------------------------\u001b[0m",
      "\u001b[1;31mNameError\u001b[0m                                 Traceback (most recent call last)",
      "\u001b[1;32m<ipython-input-227-8152b21f1552>\u001b[0m in \u001b[0;36m<module>\u001b[1;34m()\u001b[0m\n\u001b[0;32m      1\u001b[0m \u001b[1;32mif\u001b[0m \u001b[0many\u001b[0m\u001b[1;33m(\u001b[0m\u001b[0ms\u001b[0m \u001b[1;32min\u001b[0m \u001b[0mn\u001b[0m \u001b[1;32mfor\u001b[0m \u001b[0ms\u001b[0m \u001b[1;32min\u001b[0m \u001b[0ml\u001b[0m\u001b[1;33m)\u001b[0m\u001b[1;33m:\u001b[0m\u001b[1;33m\u001b[0m\u001b[0m\n\u001b[1;32m----> 2\u001b[1;33m     \u001b[0mprint\u001b[0m\u001b[1;33m(\u001b[0m\u001b[0ml\u001b[0m\u001b[1;33m[\u001b[0m\u001b[0ms\u001b[0m\u001b[1;33m]\u001b[0m\u001b[1;33m)\u001b[0m\u001b[1;33m\u001b[0m\u001b[0m\n\u001b[0m",
      "\u001b[1;31mNameError\u001b[0m: name 's' is not defined"
     ]
    }
   ],
   "source": [
    "if any(s in n for s in l):\n",
    "    print(l[s])"
   ]
  },
  {
   "cell_type": "code",
   "execution_count": 244,
   "metadata": {},
   "outputs": [],
   "source": [
    "(re.search('Atlanta', 'Altantava'))"
   ]
  },
  {
   "cell_type": "code",
   "execution_count": 247,
   "metadata": {},
   "outputs": [],
   "source": [
    "b = ['xxx', 'yyy']\n",
    "for a in b:\n",
    "    for c in df1['Location']:\n",
    "        if(bool(re.search(a,c))):\n",
    "                print('y')"
   ]
  },
  {
   "cell_type": "code",
   "execution_count": 268,
   "metadata": {},
   "outputs": [],
   "source": [
    "for a in l:\n",
    "    for i in range(len(df1)):\n",
    "        for c in df1.iloc[i]['Location']:\n",
    "            if(bool(re.search(a,c))):\n",
    "                df1.iloc[i]['location'] = a"
   ]
  },
  {
   "cell_type": "code",
   "execution_count": 277,
   "metadata": {},
   "outputs": [
    {
     "ename": "KeyError",
     "evalue": "'location'",
     "output_type": "error",
     "traceback": [
      "\u001b[1;31m---------------------------------------------------------------------------\u001b[0m",
      "\u001b[1;31mKeyError\u001b[0m                                  Traceback (most recent call last)",
      "\u001b[1;32mC:\\Anaconda\\Anaconda3\\lib\\site-packages\\pandas\\core\\indexes\\base.py\u001b[0m in \u001b[0;36mget_loc\u001b[1;34m(self, key, method, tolerance)\u001b[0m\n\u001b[0;32m   2524\u001b[0m             \u001b[1;32mtry\u001b[0m\u001b[1;33m:\u001b[0m\u001b[1;33m\u001b[0m\u001b[0m\n\u001b[1;32m-> 2525\u001b[1;33m                 \u001b[1;32mreturn\u001b[0m \u001b[0mself\u001b[0m\u001b[1;33m.\u001b[0m\u001b[0m_engine\u001b[0m\u001b[1;33m.\u001b[0m\u001b[0mget_loc\u001b[0m\u001b[1;33m(\u001b[0m\u001b[0mkey\u001b[0m\u001b[1;33m)\u001b[0m\u001b[1;33m\u001b[0m\u001b[0m\n\u001b[0m\u001b[0;32m   2526\u001b[0m             \u001b[1;32mexcept\u001b[0m \u001b[0mKeyError\u001b[0m\u001b[1;33m:\u001b[0m\u001b[1;33m\u001b[0m\u001b[0m\n",
      "\u001b[1;32mpandas/_libs/index.pyx\u001b[0m in \u001b[0;36mpandas._libs.index.IndexEngine.get_loc\u001b[1;34m()\u001b[0m\n",
      "\u001b[1;32mpandas/_libs/index.pyx\u001b[0m in \u001b[0;36mpandas._libs.index.IndexEngine.get_loc\u001b[1;34m()\u001b[0m\n",
      "\u001b[1;32mpandas/_libs/hashtable_class_helper.pxi\u001b[0m in \u001b[0;36mpandas._libs.hashtable.PyObjectHashTable.get_item\u001b[1;34m()\u001b[0m\n",
      "\u001b[1;32mpandas/_libs/hashtable_class_helper.pxi\u001b[0m in \u001b[0;36mpandas._libs.hashtable.PyObjectHashTable.get_item\u001b[1;34m()\u001b[0m\n",
      "\u001b[1;31mKeyError\u001b[0m: 'location'",
      "\nDuring handling of the above exception, another exception occurred:\n",
      "\u001b[1;31mKeyError\u001b[0m                                  Traceback (most recent call last)",
      "\u001b[1;32m<ipython-input-277-b75396a7576c>\u001b[0m in \u001b[0;36m<module>\u001b[1;34m()\u001b[0m\n\u001b[1;32m----> 1\u001b[1;33m \u001b[0mdf1\u001b[0m\u001b[1;33m[\u001b[0m\u001b[1;34m'location'\u001b[0m\u001b[1;33m]\u001b[0m\u001b[1;33m\u001b[0m\u001b[0m\n\u001b[0m",
      "\u001b[1;32mC:\\Anaconda\\Anaconda3\\lib\\site-packages\\pandas\\core\\frame.py\u001b[0m in \u001b[0;36m__getitem__\u001b[1;34m(self, key)\u001b[0m\n\u001b[0;32m   2137\u001b[0m             \u001b[1;32mreturn\u001b[0m \u001b[0mself\u001b[0m\u001b[1;33m.\u001b[0m\u001b[0m_getitem_multilevel\u001b[0m\u001b[1;33m(\u001b[0m\u001b[0mkey\u001b[0m\u001b[1;33m)\u001b[0m\u001b[1;33m\u001b[0m\u001b[0m\n\u001b[0;32m   2138\u001b[0m         \u001b[1;32melse\u001b[0m\u001b[1;33m:\u001b[0m\u001b[1;33m\u001b[0m\u001b[0m\n\u001b[1;32m-> 2139\u001b[1;33m             \u001b[1;32mreturn\u001b[0m \u001b[0mself\u001b[0m\u001b[1;33m.\u001b[0m\u001b[0m_getitem_column\u001b[0m\u001b[1;33m(\u001b[0m\u001b[0mkey\u001b[0m\u001b[1;33m)\u001b[0m\u001b[1;33m\u001b[0m\u001b[0m\n\u001b[0m\u001b[0;32m   2140\u001b[0m \u001b[1;33m\u001b[0m\u001b[0m\n\u001b[0;32m   2141\u001b[0m     \u001b[1;32mdef\u001b[0m \u001b[0m_getitem_column\u001b[0m\u001b[1;33m(\u001b[0m\u001b[0mself\u001b[0m\u001b[1;33m,\u001b[0m \u001b[0mkey\u001b[0m\u001b[1;33m)\u001b[0m\u001b[1;33m:\u001b[0m\u001b[1;33m\u001b[0m\u001b[0m\n",
      "\u001b[1;32mC:\\Anaconda\\Anaconda3\\lib\\site-packages\\pandas\\core\\frame.py\u001b[0m in \u001b[0;36m_getitem_column\u001b[1;34m(self, key)\u001b[0m\n\u001b[0;32m   2144\u001b[0m         \u001b[1;31m# get column\u001b[0m\u001b[1;33m\u001b[0m\u001b[1;33m\u001b[0m\u001b[0m\n\u001b[0;32m   2145\u001b[0m         \u001b[1;32mif\u001b[0m \u001b[0mself\u001b[0m\u001b[1;33m.\u001b[0m\u001b[0mcolumns\u001b[0m\u001b[1;33m.\u001b[0m\u001b[0mis_unique\u001b[0m\u001b[1;33m:\u001b[0m\u001b[1;33m\u001b[0m\u001b[0m\n\u001b[1;32m-> 2146\u001b[1;33m             \u001b[1;32mreturn\u001b[0m \u001b[0mself\u001b[0m\u001b[1;33m.\u001b[0m\u001b[0m_get_item_cache\u001b[0m\u001b[1;33m(\u001b[0m\u001b[0mkey\u001b[0m\u001b[1;33m)\u001b[0m\u001b[1;33m\u001b[0m\u001b[0m\n\u001b[0m\u001b[0;32m   2147\u001b[0m \u001b[1;33m\u001b[0m\u001b[0m\n\u001b[0;32m   2148\u001b[0m         \u001b[1;31m# duplicate columns & possible reduce dimensionality\u001b[0m\u001b[1;33m\u001b[0m\u001b[1;33m\u001b[0m\u001b[0m\n",
      "\u001b[1;32mC:\\Anaconda\\Anaconda3\\lib\\site-packages\\pandas\\core\\generic.py\u001b[0m in \u001b[0;36m_get_item_cache\u001b[1;34m(self, item)\u001b[0m\n\u001b[0;32m   1840\u001b[0m         \u001b[0mres\u001b[0m \u001b[1;33m=\u001b[0m \u001b[0mcache\u001b[0m\u001b[1;33m.\u001b[0m\u001b[0mget\u001b[0m\u001b[1;33m(\u001b[0m\u001b[0mitem\u001b[0m\u001b[1;33m)\u001b[0m\u001b[1;33m\u001b[0m\u001b[0m\n\u001b[0;32m   1841\u001b[0m         \u001b[1;32mif\u001b[0m \u001b[0mres\u001b[0m \u001b[1;32mis\u001b[0m \u001b[1;32mNone\u001b[0m\u001b[1;33m:\u001b[0m\u001b[1;33m\u001b[0m\u001b[0m\n\u001b[1;32m-> 1842\u001b[1;33m             \u001b[0mvalues\u001b[0m \u001b[1;33m=\u001b[0m \u001b[0mself\u001b[0m\u001b[1;33m.\u001b[0m\u001b[0m_data\u001b[0m\u001b[1;33m.\u001b[0m\u001b[0mget\u001b[0m\u001b[1;33m(\u001b[0m\u001b[0mitem\u001b[0m\u001b[1;33m)\u001b[0m\u001b[1;33m\u001b[0m\u001b[0m\n\u001b[0m\u001b[0;32m   1843\u001b[0m             \u001b[0mres\u001b[0m \u001b[1;33m=\u001b[0m \u001b[0mself\u001b[0m\u001b[1;33m.\u001b[0m\u001b[0m_box_item_values\u001b[0m\u001b[1;33m(\u001b[0m\u001b[0mitem\u001b[0m\u001b[1;33m,\u001b[0m \u001b[0mvalues\u001b[0m\u001b[1;33m)\u001b[0m\u001b[1;33m\u001b[0m\u001b[0m\n\u001b[0;32m   1844\u001b[0m             \u001b[0mcache\u001b[0m\u001b[1;33m[\u001b[0m\u001b[0mitem\u001b[0m\u001b[1;33m]\u001b[0m \u001b[1;33m=\u001b[0m \u001b[0mres\u001b[0m\u001b[1;33m\u001b[0m\u001b[0m\n",
      "\u001b[1;32mC:\\Anaconda\\Anaconda3\\lib\\site-packages\\pandas\\core\\internals.py\u001b[0m in \u001b[0;36mget\u001b[1;34m(self, item, fastpath)\u001b[0m\n\u001b[0;32m   3841\u001b[0m \u001b[1;33m\u001b[0m\u001b[0m\n\u001b[0;32m   3842\u001b[0m             \u001b[1;32mif\u001b[0m \u001b[1;32mnot\u001b[0m \u001b[0misna\u001b[0m\u001b[1;33m(\u001b[0m\u001b[0mitem\u001b[0m\u001b[1;33m)\u001b[0m\u001b[1;33m:\u001b[0m\u001b[1;33m\u001b[0m\u001b[0m\n\u001b[1;32m-> 3843\u001b[1;33m                 \u001b[0mloc\u001b[0m \u001b[1;33m=\u001b[0m \u001b[0mself\u001b[0m\u001b[1;33m.\u001b[0m\u001b[0mitems\u001b[0m\u001b[1;33m.\u001b[0m\u001b[0mget_loc\u001b[0m\u001b[1;33m(\u001b[0m\u001b[0mitem\u001b[0m\u001b[1;33m)\u001b[0m\u001b[1;33m\u001b[0m\u001b[0m\n\u001b[0m\u001b[0;32m   3844\u001b[0m             \u001b[1;32melse\u001b[0m\u001b[1;33m:\u001b[0m\u001b[1;33m\u001b[0m\u001b[0m\n\u001b[0;32m   3845\u001b[0m                 \u001b[0mindexer\u001b[0m \u001b[1;33m=\u001b[0m \u001b[0mnp\u001b[0m\u001b[1;33m.\u001b[0m\u001b[0marange\u001b[0m\u001b[1;33m(\u001b[0m\u001b[0mlen\u001b[0m\u001b[1;33m(\u001b[0m\u001b[0mself\u001b[0m\u001b[1;33m.\u001b[0m\u001b[0mitems\u001b[0m\u001b[1;33m)\u001b[0m\u001b[1;33m)\u001b[0m\u001b[1;33m[\u001b[0m\u001b[0misna\u001b[0m\u001b[1;33m(\u001b[0m\u001b[0mself\u001b[0m\u001b[1;33m.\u001b[0m\u001b[0mitems\u001b[0m\u001b[1;33m)\u001b[0m\u001b[1;33m]\u001b[0m\u001b[1;33m\u001b[0m\u001b[0m\n",
      "\u001b[1;32mC:\\Anaconda\\Anaconda3\\lib\\site-packages\\pandas\\core\\indexes\\base.py\u001b[0m in \u001b[0;36mget_loc\u001b[1;34m(self, key, method, tolerance)\u001b[0m\n\u001b[0;32m   2525\u001b[0m                 \u001b[1;32mreturn\u001b[0m \u001b[0mself\u001b[0m\u001b[1;33m.\u001b[0m\u001b[0m_engine\u001b[0m\u001b[1;33m.\u001b[0m\u001b[0mget_loc\u001b[0m\u001b[1;33m(\u001b[0m\u001b[0mkey\u001b[0m\u001b[1;33m)\u001b[0m\u001b[1;33m\u001b[0m\u001b[0m\n\u001b[0;32m   2526\u001b[0m             \u001b[1;32mexcept\u001b[0m \u001b[0mKeyError\u001b[0m\u001b[1;33m:\u001b[0m\u001b[1;33m\u001b[0m\u001b[0m\n\u001b[1;32m-> 2527\u001b[1;33m                 \u001b[1;32mreturn\u001b[0m \u001b[0mself\u001b[0m\u001b[1;33m.\u001b[0m\u001b[0m_engine\u001b[0m\u001b[1;33m.\u001b[0m\u001b[0mget_loc\u001b[0m\u001b[1;33m(\u001b[0m\u001b[0mself\u001b[0m\u001b[1;33m.\u001b[0m\u001b[0m_maybe_cast_indexer\u001b[0m\u001b[1;33m(\u001b[0m\u001b[0mkey\u001b[0m\u001b[1;33m)\u001b[0m\u001b[1;33m)\u001b[0m\u001b[1;33m\u001b[0m\u001b[0m\n\u001b[0m\u001b[0;32m   2528\u001b[0m \u001b[1;33m\u001b[0m\u001b[0m\n\u001b[0;32m   2529\u001b[0m         \u001b[0mindexer\u001b[0m \u001b[1;33m=\u001b[0m \u001b[0mself\u001b[0m\u001b[1;33m.\u001b[0m\u001b[0mget_indexer\u001b[0m\u001b[1;33m(\u001b[0m\u001b[1;33m[\u001b[0m\u001b[0mkey\u001b[0m\u001b[1;33m]\u001b[0m\u001b[1;33m,\u001b[0m \u001b[0mmethod\u001b[0m\u001b[1;33m=\u001b[0m\u001b[0mmethod\u001b[0m\u001b[1;33m,\u001b[0m \u001b[0mtolerance\u001b[0m\u001b[1;33m=\u001b[0m\u001b[0mtolerance\u001b[0m\u001b[1;33m)\u001b[0m\u001b[1;33m\u001b[0m\u001b[0m\n",
      "\u001b[1;32mpandas/_libs/index.pyx\u001b[0m in \u001b[0;36mpandas._libs.index.IndexEngine.get_loc\u001b[1;34m()\u001b[0m\n",
      "\u001b[1;32mpandas/_libs/index.pyx\u001b[0m in \u001b[0;36mpandas._libs.index.IndexEngine.get_loc\u001b[1;34m()\u001b[0m\n",
      "\u001b[1;32mpandas/_libs/hashtable_class_helper.pxi\u001b[0m in \u001b[0;36mpandas._libs.hashtable.PyObjectHashTable.get_item\u001b[1;34m()\u001b[0m\n",
      "\u001b[1;32mpandas/_libs/hashtable_class_helper.pxi\u001b[0m in \u001b[0;36mpandas._libs.hashtable.PyObjectHashTable.get_item\u001b[1;34m()\u001b[0m\n",
      "\u001b[1;31mKeyError\u001b[0m: 'location'"
     ]
    }
   ],
   "source": []
  },
  {
   "cell_type": "code",
   "execution_count": 276,
   "metadata": {},
   "outputs": [
    {
     "name": "stdout",
     "output_type": "stream",
     "text": [
      "0\n",
      "1\n",
      "2\n",
      "3\n",
      "4\n"
     ]
    }
   ],
   "source": []
  },
  {
   "cell_type": "code",
   "execution_count": null,
   "metadata": {
    "collapsed": true
   },
   "outputs": [],
   "source": []
  },
  {
   "cell_type": "code",
   "execution_count": null,
   "metadata": {
    "collapsed": true
   },
   "outputs": [],
   "source": []
  },
  {
   "cell_type": "code",
   "execution_count": null,
   "metadata": {
    "collapsed": true
   },
   "outputs": [],
   "source": []
  },
  {
   "cell_type": "code",
   "execution_count": null,
   "metadata": {
    "collapsed": true
   },
   "outputs": [],
   "source": []
  },
  {
   "cell_type": "code",
   "execution_count": 253,
   "metadata": {},
   "outputs": [
    {
     "data": {
      "text/plain": [
       "3       Atlanta\n",
       "4       Atlanta\n",
       "5       Atlanta\n",
       "6       Atlanta\n",
       "7       Atlanta\n",
       "8       Atlanta\n",
       "9       Atlanta\n",
       "10      Atlanta\n",
       "11      Atlanta\n",
       "12      Atlanta\n",
       "17      Atlanta\n",
       "18      Atlanta\n",
       "19      Atlanta\n",
       "20      Atlanta\n",
       "21      Atlanta\n",
       "22      Atlanta\n",
       "23      Atlanta\n",
       "24      Atlanta\n",
       "25      Atlanta\n",
       "26      Atlanta\n",
       "32      Atlanta\n",
       "33      Atlanta\n",
       "34      Atlanta\n",
       "35      Atlanta\n",
       "36      Atlanta\n",
       "37      Atlanta\n",
       "38      Atlanta\n",
       "39      Atlanta\n",
       "40      Atlanta\n",
       "41      Atlanta\n",
       "         ...   \n",
       "2961    Atlanta\n",
       "2965    Atlanta\n",
       "2966    Atlanta\n",
       "2967    Atlanta\n",
       "2968    Atlanta\n",
       "2969    Atlanta\n",
       "2970    Atlanta\n",
       "2971    Atlanta\n",
       "2972    Atlanta\n",
       "2973    Atlanta\n",
       "2974    Atlanta\n",
       "2978    Atlanta\n",
       "2979    Atlanta\n",
       "2980    Atlanta\n",
       "2981    Atlanta\n",
       "2982    Atlanta\n",
       "2983    Atlanta\n",
       "2984    Atlanta\n",
       "2985    Atlanta\n",
       "2986    Atlanta\n",
       "2987    Atlanta\n",
       "2991    Atlanta\n",
       "2992    Atlanta\n",
       "2993    Atlanta\n",
       "2994    Atlanta\n",
       "2995    Atlanta\n",
       "2996    Atlanta\n",
       "2997    Atlanta\n",
       "2998    Atlanta\n",
       "2999    Atlanta\n",
       "Name: Location, Length: 16445, dtype: object"
      ]
     },
     "execution_count": 253,
     "metadata": {},
     "output_type": "execute_result"
    }
   ],
   "source": [
    "df1['Location']"
   ]
  },
  {
   "cell_type": "code",
   "execution_count": null,
   "metadata": {
    "collapsed": true
   },
   "outputs": [],
   "source": []
  },
  {
   "cell_type": "code",
   "execution_count": null,
   "metadata": {
    "collapsed": true
   },
   "outputs": [],
   "source": []
  },
  {
   "cell_type": "code",
   "execution_count": 250,
   "metadata": {},
   "outputs": [
    {
     "data": {
      "text/plain": [
       "3       Atlanta\n",
       "4       Atlanta\n",
       "5       Atlanta\n",
       "6       Atlanta\n",
       "7       Atlanta\n",
       "8       Atlanta\n",
       "9       Atlanta\n",
       "10      Atlanta\n",
       "11      Atlanta\n",
       "12      Atlanta\n",
       "17      Atlanta\n",
       "18      Atlanta\n",
       "19      Atlanta\n",
       "20      Atlanta\n",
       "21      Atlanta\n",
       "22      Atlanta\n",
       "23      Atlanta\n",
       "24      Atlanta\n",
       "25      Atlanta\n",
       "26      Atlanta\n",
       "32      Atlanta\n",
       "33      Atlanta\n",
       "34      Atlanta\n",
       "35      Atlanta\n",
       "36      Atlanta\n",
       "37      Atlanta\n",
       "38      Atlanta\n",
       "39      Atlanta\n",
       "40      Atlanta\n",
       "41      Atlanta\n",
       "         ...   \n",
       "2961    Atlanta\n",
       "2965    Atlanta\n",
       "2966    Atlanta\n",
       "2967    Atlanta\n",
       "2968    Atlanta\n",
       "2969    Atlanta\n",
       "2970    Atlanta\n",
       "2971    Atlanta\n",
       "2972    Atlanta\n",
       "2973    Atlanta\n",
       "2974    Atlanta\n",
       "2978    Atlanta\n",
       "2979    Atlanta\n",
       "2980    Atlanta\n",
       "2981    Atlanta\n",
       "2982    Atlanta\n",
       "2983    Atlanta\n",
       "2984    Atlanta\n",
       "2985    Atlanta\n",
       "2986    Atlanta\n",
       "2987    Atlanta\n",
       "2991    Atlanta\n",
       "2992    Atlanta\n",
       "2993    Atlanta\n",
       "2994    Atlanta\n",
       "2995    Atlanta\n",
       "2996    Atlanta\n",
       "2997    Atlanta\n",
       "2998    Atlanta\n",
       "2999    Atlanta\n",
       "Name: Location, Length: 16445, dtype: object"
      ]
     },
     "execution_count": 250,
     "metadata": {},
     "output_type": "execute_result"
    }
   ],
   "source": [
    "df1['Location']"
   ]
  },
  {
   "cell_type": "code",
   "execution_count": 186,
   "metadata": {},
   "outputs": [
    {
     "data": {
      "text/plain": [
       "0         NaN\n",
       "1         NaN\n",
       "2         NaN\n",
       "3       False\n",
       "4       False\n",
       "5       False\n",
       "6       False\n",
       "7       False\n",
       "8       False\n",
       "9       False\n",
       "10      False\n",
       "11      False\n",
       "12      False\n",
       "13        NaN\n",
       "14        NaN\n",
       "15        NaN\n",
       "16        NaN\n",
       "17      False\n",
       "18      False\n",
       "19      False\n",
       "20      False\n",
       "21      False\n",
       "22      False\n",
       "23      False\n",
       "24      False\n",
       "25      False\n",
       "26      False\n",
       "27        NaN\n",
       "28        NaN\n",
       "29        NaN\n",
       "        ...  \n",
       "2970    False\n",
       "2971    False\n",
       "2972    False\n",
       "2973    False\n",
       "2974    False\n",
       "2975      NaN\n",
       "2976      NaN\n",
       "2977      NaN\n",
       "2978    False\n",
       "2979    False\n",
       "2980    False\n",
       "2981    False\n",
       "2982    False\n",
       "2983    False\n",
       "2984    False\n",
       "2985    False\n",
       "2986    False\n",
       "2987    False\n",
       "2988      NaN\n",
       "2989      NaN\n",
       "2990      NaN\n",
       "2991    False\n",
       "2992    False\n",
       "2993    False\n",
       "2994    False\n",
       "2995    False\n",
       "2996    False\n",
       "2997    False\n",
       "2998    False\n",
       "2999    False\n",
       "Name: Location, Length: 23001, dtype: object"
      ]
     },
     "execution_count": 186,
     "metadata": {},
     "output_type": "execute_result"
    }
   ],
   "source": [
    "df.Location.str.contains('Atlanta')"
   ]
  },
  {
   "cell_type": "code",
   "execution_count": 170,
   "metadata": {
    "collapsed": true
   },
   "outputs": [],
   "source": []
  },
  {
   "cell_type": "code",
   "execution_count": 167,
   "metadata": {},
   "outputs": [
    {
     "data": {
      "text/plain": [
       "0                                                     NaN\n",
       "1                                                     NaN\n",
       "2                                                     NaN\n",
       "3                                               Tampa, FL\n",
       "4                                               Tampa, FL\n",
       "5                                               Tampa, FL\n",
       "6                                               Tampa, FL\n",
       "7                                               Tampa, FL\n",
       "8                                         Tampa, FL 33612\n",
       "9                                         Tampa, FL 33625\n",
       "10                                              Tampa, FL\n",
       "11                                              Tampa, FL\n",
       "12                                              Tampa, FL\n",
       "13                                                    NaN\n",
       "14                                                    NaN\n",
       "15                                                    NaN\n",
       "16                                                    NaN\n",
       "17                                        Tampa, FL 33614\n",
       "18                                        Tampa, FL 33618\n",
       "19                                        Tampa, FL 33612\n",
       "20                                   Clearwater, FL 33760\n",
       "21                                              Tampa, FL\n",
       "22                                              Tampa, FL\n",
       "23                                              Tampa, FL\n",
       "24                                        Tampa, FL 33612\n",
       "25                     Tampa, FL 33607 (Carver City area)\n",
       "26                                              Tampa, FL\n",
       "27                                                    NaN\n",
       "28                                                    NaN\n",
       "29                                                    NaN\n",
       "                              ...                        \n",
       "2970    San Francisco, CA 94105 (Financial District area)\n",
       "2971                                    San Francisco, CA\n",
       "2972       San Francisco, CA 94103 (South Of Market area)\n",
       "2973                                       Pleasanton, CA\n",
       "2974                                       San Carlos, CA\n",
       "2975                                                  NaN\n",
       "2976                                                  NaN\n",
       "2977                                                  NaN\n",
       "2978    San Francisco, CA 94114 (Castro-Upper Market a...\n",
       "2979                                    San Francisco, CA\n",
       "2980                                    San Francisco, CA\n",
       "2981       San Francisco, CA 94107 (South Of Market area)\n",
       "2982                                    San Francisco, CA\n",
       "2983                   Oakland, CA 94612 (Northgate area)\n",
       "2984                                          Fremont, CA\n",
       "2985                                    Belmont, CA 94002\n",
       "2986                                 Pleasanton, CA 94566\n",
       "2987      Oakland, CA 94607 (Acorn-Acorn Industrial area)\n",
       "2988                                                  NaN\n",
       "2989                                                  NaN\n",
       "2990                                                  NaN\n",
       "2991                                     Newark, CA 94560\n",
       "2992                                    San Francisco, CA\n",
       "2993                               Redwood City, CA 94063\n",
       "2994                                    San Francisco, CA\n",
       "2995                                       San Rafael, CA\n",
       "2996                                          Alameda, CA\n",
       "2997                                         Berkeley, CA\n",
       "2998                                    San Francisco, CA\n",
       "2999                                    San Francisco, CA\n",
       "Name: Location, Length: 23001, dtype: object"
      ]
     },
     "execution_count": 167,
     "metadata": {},
     "output_type": "execute_result"
    }
   ],
   "source": [
    "df['Location']"
   ]
  },
  {
   "cell_type": "code",
   "execution_count": null,
   "metadata": {
    "collapsed": true
   },
   "outputs": [],
   "source": []
  },
  {
   "cell_type": "code",
   "execution_count": null,
   "metadata": {
    "collapsed": true
   },
   "outputs": [],
   "source": [
    "df_more = df_more[df_more.Salary != 'None'].drop_duplicates().dropna()"
   ]
  },
  {
   "cell_type": "code",
   "execution_count": null,
   "metadata": {
    "collapsed": true
   },
   "outputs": [],
   "source": [
    "df_more = df_more[df_more.Salary.str.contains(\"hour\") == False]\n",
    "df_more = df_more[df_more.Salary.str.contains(\"month\") == False]"
   ]
  },
  {
   "cell_type": "code",
   "execution_count": null,
   "metadata": {
    "collapsed": true
   },
   "outputs": [],
   "source": [
    "def get_mean_salary(df, col):\n",
    "    df[col].replace({'\\$':''}, regex = True, inplace = True)\n",
    "    df[col].replace(regex=True,inplace=True,to_replace=r'\\D',value=r' ')\n",
    "    df[col] = df[col].str.strip()\n",
    "    df[col] = df_more[col].str.replace('   ',',')\n",
    "    df = df.join(df[col].str.split(',', 1, expand=True).rename(columns={0:'min', 1:'max'}))\n",
    "    df['min'] = df['min'].str.replace(' ','')\n",
    "    df['min'] = df['min'].astype('float64')\n",
    "    df['max'] = df['max'].str.replace(' ','')\n",
    "    df['max'] = df['max'].astype('float64')\n",
    "    df.drop(['Salary'], axis = 1, inplace = True)\n",
    "    df['Salary'] = df[['min', 'max']].mean(axis=1)\n",
    "    df.drop(['min','max'], axis=1, inplace = True)\n",
    "    return df\n",
    "\n",
    "def get_city_state(df,col):\n",
    "    df = df.join(df[col].str.split(',', 1, expand=True).rename(columns={0:'City', 1:'State'}))\n",
    "    df['State'] = [x[0:3] for x in df['State'] if x != None]\n",
    "    df.drop(['Location'], axis = 1, inplace = True)\n",
    "    return df\n"
   ]
  },
  {
   "cell_type": "code",
   "execution_count": null,
   "metadata": {
    "collapsed": true
   },
   "outputs": [],
   "source": [
    "df_more = get_mean_salary(df_more, 'Salary')\n",
    "df_more = get_city_state(df_more, 'Location')"
   ]
  },
  {
   "cell_type": "code",
   "execution_count": null,
   "metadata": {
    "collapsed": true
   },
   "outputs": [],
   "source": []
  },
  {
   "cell_type": "code",
   "execution_count": null,
   "metadata": {
    "collapsed": true
   },
   "outputs": [],
   "source": []
  },
  {
   "cell_type": "code",
   "execution_count": null,
   "metadata": {
    "collapsed": true
   },
   "outputs": [],
   "source": []
  },
  {
   "cell_type": "code",
   "execution_count": null,
   "metadata": {
    "collapsed": true
   },
   "outputs": [],
   "source": []
  },
  {
   "cell_type": "code",
   "execution_count": null,
   "metadata": {
    "collapsed": true
   },
   "outputs": [],
   "source": []
  },
  {
   "cell_type": "code",
   "execution_count": null,
   "metadata": {
    "collapsed": true
   },
   "outputs": [],
   "source": []
  },
  {
   "cell_type": "code",
   "execution_count": null,
   "metadata": {
    "collapsed": true
   },
   "outputs": [],
   "source": []
  },
  {
   "cell_type": "code",
   "execution_count": null,
   "metadata": {
    "collapsed": true
   },
   "outputs": [],
   "source": []
  }
 ],
 "metadata": {
  "kernelspec": {
   "display_name": "Python 3",
   "language": "python",
   "name": "python3"
  },
  "language_info": {
   "codemirror_mode": {
    "name": "ipython",
    "version": 3
   },
   "file_extension": ".py",
   "mimetype": "text/x-python",
   "name": "python",
   "nbconvert_exporter": "python",
   "pygments_lexer": "ipython3",
   "version": "3.6.4"
  }
 },
 "nbformat": 4,
 "nbformat_minor": 2
}
